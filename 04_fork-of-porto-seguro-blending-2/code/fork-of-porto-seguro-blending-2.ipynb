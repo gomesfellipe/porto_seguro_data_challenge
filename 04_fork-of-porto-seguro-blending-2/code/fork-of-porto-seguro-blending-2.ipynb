{
 "cells": [
  {
   "cell_type": "code",
   "execution_count": 1,
   "metadata": {
    "_cell_guid": "b1076dfc-b9ad-4769-8c92-a6c4dae69d19",
    "_uuid": "8f2839f25d086af736a60e9eeb907d3b93b6e0e5",
    "execution": {
     "iopub.execute_input": "2021-10-01T01:26:43.858747Z",
     "iopub.status.busy": "2021-10-01T01:26:43.853121Z",
     "iopub.status.idle": "2021-10-01T01:26:47.977072Z",
     "shell.execute_reply": "2021-10-01T01:26:47.976211Z",
     "shell.execute_reply.started": "2021-09-28T01:03:45.373034Z"
    },
    "papermill": {
     "duration": 4.16153,
     "end_time": "2021-10-01T01:26:47.977278",
     "exception": false,
     "start_time": "2021-10-01T01:26:43.815748",
     "status": "completed"
    },
    "tags": []
   },
   "outputs": [],
   "source": [
    "import numpy as np \n",
    "import pandas as pd\n",
    "import seaborn as sns\n",
    "import time\n",
    "from tqdm import tqdm\n",
    "\n",
    "from sklearn.metrics import f1_score, roc_auc_score, log_loss\n",
    "from sklearn.model_selection import KFold\n",
    "from sklearn.calibration import CalibratedClassifierCV\n",
    "from scipy.optimize import minimize\n",
    "\n",
    "import matplotlib.pyplot as plt\n",
    "import plotly.figure_factory as ff\n",
    "import plotly.express as px\n",
    "\n",
    "%matplotlib inline"
   ]
  },
  {
   "cell_type": "code",
   "execution_count": 2,
   "metadata": {
    "execution": {
     "iopub.execute_input": "2021-10-01T01:26:48.040257Z",
     "iopub.status.busy": "2021-10-01T01:26:48.039542Z",
     "iopub.status.idle": "2021-10-01T01:26:48.041733Z",
     "shell.execute_reply": "2021-10-01T01:26:48.042256Z",
     "shell.execute_reply.started": "2021-09-28T01:03:45.385139Z"
    },
    "papermill": {
     "duration": 0.036704,
     "end_time": "2021-10-01T01:26:48.042439",
     "exception": false,
     "start_time": "2021-10-01T01:26:48.005735",
     "status": "completed"
    },
    "tags": []
   },
   "outputs": [],
   "source": [
    "def get_threshold(y_true, y_pred):\n",
    "    # Moving threshold\n",
    "    thresholds = np.arange(0.0, 1.0, 0.01)\n",
    "    f1_scores = []\n",
    "    for thresh in thresholds:\n",
    "        f1_scores.append(\n",
    "            f1_score(y_true, [1 if m>thresh else 0 for m in y_pred]))\n",
    "    f1s = np.array(f1_scores)\n",
    "    return thresholds[f1s.argmax()]\n",
    "    \n",
    "    \n",
    "def custom_f1(y_true, y_pred):\n",
    "     \n",
    "    max_f1_threshold =  get_threshold(y_true, y_pred)\n",
    "\n",
    "    y_pred = np.where(y_pred>max_f1_threshold, 1, 0)\n",
    "    f1_after = f1_score(y_true, y_pred) \n",
    "    \n",
    "    return f1_after"
   ]
  },
  {
   "cell_type": "code",
   "execution_count": 3,
   "metadata": {
    "execution": {
     "iopub.execute_input": "2021-10-01T01:26:48.101249Z",
     "iopub.status.busy": "2021-10-01T01:26:48.100453Z",
     "iopub.status.idle": "2021-10-01T01:26:48.114341Z",
     "shell.execute_reply": "2021-10-01T01:26:48.113533Z",
     "shell.execute_reply.started": "2021-09-28T01:03:45.400279Z"
    },
    "papermill": {
     "duration": 0.044421,
     "end_time": "2021-10-01T01:26:48.114494",
     "exception": false,
     "start_time": "2021-10-01T01:26:48.070073",
     "status": "completed"
    },
    "tags": []
   },
   "outputs": [],
   "source": [
    "def ensembling(main, support, coeff): \n",
    "    \n",
    "    suba  = main.copy() \n",
    "    subav = suba.values\n",
    "       \n",
    "    subb  = support.copy()\n",
    "    subbv = subb.values    \n",
    "           \n",
    "    ense  = main.copy()    \n",
    "    ensev = ense.values  \n",
    " \n",
    "    for i in range (len(main)):\n",
    "        \n",
    "        pera = subav[i, 1]\n",
    "        perb = subbv[i, 1]\n",
    "        per = (pera * coeff) + (perb * (1.0 - coeff))   \n",
    "        ensev[i, 1] = per\n",
    "        \n",
    "    ense.iloc[:, 1] = ensev[:, 1]  \n",
    "    \n",
    "    ###############################    \n",
    "    X  = suba.iloc[:, 1]\n",
    "    Y1 = subb.iloc[:, 1]\n",
    "    Y2 = ense.iloc[:, 1]\n",
    "    \n",
    "    plt.style.use('seaborn-whitegrid') \n",
    "    plt.figure(figsize=(9, 9), facecolor='lightgray')\n",
    "    plt.title(f'\\nE N S E M B L I N G\\n')   \n",
    "      \n",
    "    plt.scatter(X, Y1, s=1.5, label='Support')    \n",
    "    plt.scatter(X, Y2, s=1.5, label='Generated')\n",
    "    plt.scatter(X, X , s=0.1, label='Main(X=Y)')\n",
    "    \n",
    "    plt.legend(fontsize=12, loc=2)\n",
    "    #plt.savefig('Ensembling_1.png')\n",
    "    plt.show()     \n",
    "    ###############################   \n",
    "    ense.iloc[:, 1] = ense.iloc[:, 1].astype(float)\n",
    "    hist_data = [subb.iloc[:, 1], ense.iloc[:, 1], suba.iloc[:, 1]] \n",
    "    group_labels = ['Support', 'Ensembling', 'Main']\n",
    "    \n",
    "    fig = ff.create_distplot(hist_data, group_labels, bin_size=.2, show_hist=False, show_rug=False)\n",
    "    fig.show()   \n",
    "    ###############################       \n",
    "    \n",
    "    return ense   "
   ]
  },
  {
   "cell_type": "code",
   "execution_count": 4,
   "metadata": {
    "execution": {
     "iopub.execute_input": "2021-10-01T01:26:48.174764Z",
     "iopub.status.busy": "2021-10-01T01:26:48.174127Z",
     "iopub.status.idle": "2021-10-01T01:26:48.177207Z",
     "shell.execute_reply": "2021-10-01T01:26:48.176658Z",
     "shell.execute_reply.started": "2021-09-28T01:03:45.416257Z"
    },
    "papermill": {
     "duration": 0.035712,
     "end_time": "2021-10-01T01:26:48.177348",
     "exception": false,
     "start_time": "2021-10-01T01:26:48.141636",
     "status": "completed"
    },
    "tags": []
   },
   "outputs": [],
   "source": [
    "def vote(r, columns):\n",
    "    \"\"\"https://www.kaggle.com/belov38/catboost-lb/\"\"\"\n",
    "    ones = 0\n",
    "    zeros = 0\n",
    "    for i in columns:\n",
    "        if r[i]==0:\n",
    "            zeros+=1\n",
    "        else:\n",
    "            ones+=1\n",
    "    if ones>zeros:\n",
    "        return 1\n",
    "    else:\n",
    "        return 0"
   ]
  },
  {
   "cell_type": "code",
   "execution_count": 5,
   "metadata": {
    "execution": {
     "iopub.execute_input": "2021-10-01T01:26:48.237668Z",
     "iopub.status.busy": "2021-10-01T01:26:48.236851Z",
     "iopub.status.idle": "2021-10-01T01:26:48.699257Z",
     "shell.execute_reply": "2021-10-01T01:26:48.698623Z",
     "shell.execute_reply.started": "2021-09-28T01:03:45.43301Z"
    },
    "papermill": {
     "duration": 0.494774,
     "end_time": "2021-10-01T01:26:48.699418",
     "exception": false,
     "start_time": "2021-10-01T01:26:48.204644",
     "status": "completed"
    },
    "tags": []
   },
   "outputs": [],
   "source": [
    "train = pd.read_csv('../input/porto-seguro-data-challenge/train.csv')\n",
    "test = pd.read_csv('../input/porto-seguro-data-challenge/test.csv')\n",
    "sample_submission = pd.read_csv('../input/porto-seguro-data-challenge/submission_sample.csv')\n",
    "meta = pd.read_csv('../input/porto-seguro-data-challenge/metadata.csv')"
   ]
  },
  {
   "cell_type": "code",
   "execution_count": 6,
   "metadata": {
    "execution": {
     "iopub.execute_input": "2021-10-01T01:26:48.761484Z",
     "iopub.status.busy": "2021-10-01T01:26:48.760758Z",
     "iopub.status.idle": "2021-10-01T01:26:48.773831Z",
     "shell.execute_reply": "2021-10-01T01:26:48.774353Z",
     "shell.execute_reply.started": "2021-09-28T01:03:45.747719Z"
    },
    "papermill": {
     "duration": 0.048633,
     "end_time": "2021-10-01T01:26:48.774527",
     "exception": false,
     "start_time": "2021-10-01T01:26:48.725894",
     "status": "completed"
    },
    "tags": []
   },
   "outputs": [],
   "source": [
    "cat_nom = [x for x in meta.iloc[1:-1, :].loc[(meta.iloc[:,1]==\"Qualitativo nominal\")].iloc[:,0]] # 0.66 / 0.56\n",
    "cat_ord = [x for x in meta.iloc[1:-1, :].loc[(meta.iloc[:,1]==\"Qualitativo ordinal\")].iloc[:,0]] # 0.36 / 0.36\n",
    "num_dis = [x for x in meta.iloc[1:-1, :].loc[(meta.iloc[:,1]==\"Quantitativo discreto\")].iloc[:,0]] # 0.40\n",
    "num_con = [x for x in meta.iloc[1:-1, :].loc[(meta.iloc[:,1]==\"Quantitativo continua\")].iloc[:,0]] # 0.38"
   ]
  },
  {
   "cell_type": "code",
   "execution_count": 7,
   "metadata": {
    "execution": {
     "iopub.execute_input": "2021-10-01T01:26:48.829957Z",
     "iopub.status.busy": "2021-10-01T01:26:48.829342Z",
     "iopub.status.idle": "2021-10-01T01:26:48.850480Z",
     "shell.execute_reply": "2021-10-01T01:26:48.851001Z",
     "shell.execute_reply.started": "2021-09-28T01:03:45.764925Z"
    },
    "papermill": {
     "duration": 0.050599,
     "end_time": "2021-10-01T01:26:48.851192",
     "exception": false,
     "start_time": "2021-10-01T01:26:48.800593",
     "status": "completed"
    },
    "tags": []
   },
   "outputs": [],
   "source": [
    "X_test = test[cat_nom+cat_ord+num_dis+num_con]\n",
    "X = train[cat_nom+cat_ord+num_dis+num_con]\n",
    "y = train.y\n",
    "\n",
    "K=10\n",
    "SEED=314\n",
    "kf = KFold(n_splits=K, shuffle=True, random_state=SEED)"
   ]
  },
  {
   "cell_type": "code",
   "execution_count": 8,
   "metadata": {
    "execution": {
     "iopub.execute_input": "2021-10-01T01:26:48.907958Z",
     "iopub.status.busy": "2021-10-01T01:26:48.907304Z",
     "iopub.status.idle": "2021-10-01T01:26:48.911576Z",
     "shell.execute_reply": "2021-10-01T01:26:48.912062Z",
     "shell.execute_reply.started": "2021-09-28T01:03:45.793738Z"
    },
    "papermill": {
     "duration": 0.034734,
     "end_time": "2021-10-01T01:26:48.912234",
     "exception": false,
     "start_time": "2021-10-01T01:26:48.877500",
     "status": "completed"
    },
    "tags": []
   },
   "outputs": [],
   "source": [
    "#to_stack = pd.concat([\n",
    "#    pd.read_csv('../input/porto-seguro-lightautoml-knn-pseudolabel/lightautoml_pseudo_oof.csv', index_col='id').reset_index(drop=True),\n",
    "#    pd.read_csv('../input/porto-seguro-lightautoml-pseudolabel/lightautoml_pseudo_oof.csv', index_col='id').reset_index(drop=True),\n",
    "#    pd.read_csv('../input/fork-of-porto-seguro-knn-autogluon-pseudolabel/autogluon_pseudo_oof.csv', index_col='id').reset_index(drop=True)\n",
    "#], axis=1)\n",
    "#\n",
    "#to_pred = pd.concat([\n",
    "#    pd.read_csv('../input/porto-seguro-lightautoml-knn-pseudolabel/lightautoml_pseudo_sub_probs.csv', index_col='id').reset_index(drop=True),\n",
    "#    pd.read_csv('../input/porto-seguro-lightautoml-pseudolabel/lightautoml_pseudo_sub_probs.csv', index_col='id').reset_index(drop=True),\n",
    "#    pd.read_csv('../input/fork-of-porto-seguro-knn-autogluon-pseudolabel/autogluon_pseudo_sub_probs.csv', index_col='id').reset_index(drop=True)\n",
    "#], axis=1)"
   ]
  },
  {
   "cell_type": "code",
   "execution_count": 9,
   "metadata": {
    "execution": {
     "iopub.execute_input": "2021-10-01T01:26:48.969905Z",
     "iopub.status.busy": "2021-10-01T01:26:48.969277Z",
     "iopub.status.idle": "2021-10-01T01:26:48.972101Z",
     "shell.execute_reply": "2021-10-01T01:26:48.971598Z",
     "shell.execute_reply.started": "2021-09-28T01:03:45.803656Z"
    },
    "papermill": {
     "duration": 0.032988,
     "end_time": "2021-10-01T01:26:48.972238",
     "exception": false,
     "start_time": "2021-10-01T01:26:48.939250",
     "status": "completed"
    },
    "tags": []
   },
   "outputs": [],
   "source": [
    "#to_pred = pd.concat([\n",
    "#    pd.read_csv('../input/porto-seguro-lightgbm-shap-sequencial-tun/lgb_seq_sub.csv', index_col='id').reset_index(drop=True),\n",
    "#    pd.read_csv('../input/porto-seguro-catboost-knn-shap/cat_shap_sub.csv', index_col='id').reset_index(drop=True),\n",
    "#    pd.read_csv('../input/porto-seguro-catboost-shap/cat_shap_sub.csv', index_col='id').reset_index(drop=True)\n",
    "#], axis=1)"
   ]
  },
  {
   "cell_type": "code",
   "execution_count": 10,
   "metadata": {
    "execution": {
     "iopub.execute_input": "2021-10-01T01:26:49.030076Z",
     "iopub.status.busy": "2021-10-01T01:26:49.029387Z",
     "iopub.status.idle": "2021-10-01T01:26:49.031486Z",
     "shell.execute_reply": "2021-10-01T01:26:49.031928Z",
     "shell.execute_reply.started": "2021-09-28T01:03:45.817425Z"
    },
    "papermill": {
     "duration": 0.032595,
     "end_time": "2021-10-01T01:26:49.032126",
     "exception": false,
     "start_time": "2021-10-01T01:26:48.999531",
     "status": "completed"
    },
    "tags": []
   },
   "outputs": [],
   "source": [
    "#def simplex(w, *args):\n",
    "#    yp_stacked = np.sum(to_stack * [w[0], w[1], w[2]], 1) / np.sum(w)\n",
    "#    return -custom_f1(y, yp_stacked)"
   ]
  },
  {
   "cell_type": "code",
   "execution_count": 11,
   "metadata": {
    "execution": {
     "iopub.execute_input": "2021-10-01T01:26:49.087968Z",
     "iopub.status.busy": "2021-10-01T01:26:49.087344Z",
     "iopub.status.idle": "2021-10-01T01:26:49.090407Z",
     "shell.execute_reply": "2021-10-01T01:26:49.090998Z",
     "shell.execute_reply.started": "2021-09-28T01:03:45.968555Z"
    },
    "papermill": {
     "duration": 0.032599,
     "end_time": "2021-10-01T01:26:49.091190",
     "exception": false,
     "start_time": "2021-10-01T01:26:49.058591",
     "status": "completed"
    },
    "tags": []
   },
   "outputs": [],
   "source": [
    "#w0 =  [1, 1, 1]\n",
    "#res1 = minimize(simplex, w0, method='nelder-mead')\n",
    "#res1"
   ]
  },
  {
   "cell_type": "code",
   "execution_count": 12,
   "metadata": {
    "execution": {
     "iopub.execute_input": "2021-10-01T01:26:49.148123Z",
     "iopub.status.busy": "2021-10-01T01:26:49.147462Z",
     "iopub.status.idle": "2021-10-01T01:26:49.151557Z",
     "shell.execute_reply": "2021-10-01T01:26:49.151010Z",
     "shell.execute_reply.started": "2021-09-28T01:03:45.974902Z"
    },
    "papermill": {
     "duration": 0.033951,
     "end_time": "2021-10-01T01:26:49.151715",
     "exception": false,
     "start_time": "2021-10-01T01:26:49.117764",
     "status": "completed"
    },
    "tags": []
   },
   "outputs": [],
   "source": [
    "#y_stacked = np.sum(to_stack * res1.x, 1) / np.sum(res1.x)\n",
    "#y_pred = np.sum(to_pred * res1.x, 1) / np.sum(res1.x)"
   ]
  },
  {
   "cell_type": "code",
   "execution_count": 13,
   "metadata": {
    "execution": {
     "iopub.execute_input": "2021-10-01T01:26:49.208761Z",
     "iopub.status.busy": "2021-10-01T01:26:49.207746Z",
     "iopub.status.idle": "2021-10-01T01:26:49.371346Z",
     "shell.execute_reply": "2021-10-01T01:26:49.371821Z",
     "shell.execute_reply.started": "2021-09-28T01:03:45.989783Z"
    },
    "papermill": {
     "duration": 0.193851,
     "end_time": "2021-10-01T01:26:49.372014",
     "exception": false,
     "start_time": "2021-10-01T01:26:49.178163",
     "status": "completed"
    },
    "tags": []
   },
   "outputs": [],
   "source": [
    "#oof1 = pd.read_csv('../input/porto-seguro-lightautoml-knn-pseudolabel/lightautoml_pseudo_oof.csv')\n",
    "#oof2 = pd.read_csv('../input/porto-seguro-lightautoml-pseudolabel/lightautoml_pseudo_oof.csv')\n",
    "#oof3 = pd.read_csv('../input/fork-of-porto-seguro-knn-autogluon-pseudolabel/autogluon_pseudo_oof.csv') \n",
    "\n",
    "# sub1 = pd.read_csv('../input/porto-seguro-lightautoml-knn-pseudolabel/lightautoml_pseudo_sub_probs.csv')\n",
    "# sub2 = pd.read_csv('../input/porto-seguro-lightautoml-pseudolabel/lightautoml_pseudo_sub_probs.csv')\n",
    "# sub3 = pd.read_csv('../input/fork-of-porto-seguro-knn-autogluon-pseudolabel/autogluon_pseudo_sub_probs.csv') \n",
    "\n",
    "\n",
    "sub2 = pd.read_csv('../input/porto-seguro-lightautoml-pseudolabel/lightautoml_pseudo_sub.csv').predicted\n",
    "sub4 = pd.read_csv('../input/porto-seguro-autogluon-pseudolabel/autogluon_pseudo_sub.csv').predicted\n",
    "#sub5 = pd.read_csv('../input/porto-seguro-catboost-pseudolabel/cat_pseudo_sub.csv').predicted\n",
    "\n",
    "sub1 = pd.read_csv('../input/porto-seguro-lightautoml-knn-pseudolabel/lightautoml_pseudo_sub.csv').predicted\n",
    "sub3 = pd.read_csv('../input/fork-of-porto-seguro-knn-autogluon-pseudolabel/autogluon_pseudo_sub.csv').predicted\n",
    "sub6 = pd.read_csv('../input/porto-seguro-fork-of-lightautoml-pseudolabel/lightautoml_pseudo_sub.csv').predicted"
   ]
  },
  {
   "cell_type": "code",
   "execution_count": 14,
   "metadata": {
    "execution": {
     "iopub.execute_input": "2021-10-01T01:26:49.429098Z",
     "iopub.status.busy": "2021-10-01T01:26:49.428435Z",
     "iopub.status.idle": "2021-10-01T01:26:49.433761Z",
     "shell.execute_reply": "2021-10-01T01:26:49.434275Z",
     "shell.execute_reply.started": "2021-09-28T01:03:46.11988Z"
    },
    "papermill": {
     "duration": 0.035914,
     "end_time": "2021-10-01T01:26:49.434456",
     "exception": false,
     "start_time": "2021-10-01T01:26:49.398542",
     "status": "completed"
    },
    "tags": []
   },
   "outputs": [],
   "source": [
    "#to_ens = pd.concat([sub1.predicted, sub2.predicted, sub3.predicted, sub4.predicted, sub5.predicted], axis=1)\n",
    "to_ens = pd.concat([sub1, sub2, sub3, sub4, sub6], axis=1)"
   ]
  },
  {
   "cell_type": "code",
   "execution_count": 15,
   "metadata": {
    "execution": {
     "iopub.execute_input": "2021-10-01T01:26:49.490968Z",
     "iopub.status.busy": "2021-10-01T01:26:49.490306Z",
     "iopub.status.idle": "2021-10-01T01:26:49.494213Z",
     "shell.execute_reply": "2021-10-01T01:26:49.494704Z",
     "shell.execute_reply.started": "2021-09-28T01:03:46.126598Z"
    },
    "papermill": {
     "duration": 0.033368,
     "end_time": "2021-10-01T01:26:49.494868",
     "exception": false,
     "start_time": "2021-10-01T01:26:49.461500",
     "status": "completed"
    },
    "tags": []
   },
   "outputs": [],
   "source": [
    "to_ens.columns = ['sub1', 'sub2', 'sub3', 'sub4','sub6']"
   ]
  },
  {
   "cell_type": "code",
   "execution_count": 16,
   "metadata": {
    "execution": {
     "iopub.execute_input": "2021-10-01T01:26:49.550684Z",
     "iopub.status.busy": "2021-10-01T01:26:49.550004Z",
     "iopub.status.idle": "2021-10-01T01:26:49.553101Z",
     "shell.execute_reply": "2021-10-01T01:26:49.553645Z",
     "shell.execute_reply.started": "2021-09-28T01:03:46.142928Z"
    },
    "papermill": {
     "duration": 0.032718,
     "end_time": "2021-10-01T01:26:49.553830",
     "exception": false,
     "start_time": "2021-10-01T01:26:49.521112",
     "status": "completed"
    },
    "tags": []
   },
   "outputs": [],
   "source": [
    "#to_ens.groupby(['sub1', 'sub2', 'sub3', 'sub4', 'sub5']).size()"
   ]
  },
  {
   "cell_type": "code",
   "execution_count": 17,
   "metadata": {
    "execution": {
     "iopub.execute_input": "2021-10-01T01:26:49.609974Z",
     "iopub.status.busy": "2021-10-01T01:26:49.609345Z",
     "iopub.status.idle": "2021-10-01T01:26:49.612367Z",
     "shell.execute_reply": "2021-10-01T01:26:49.612855Z",
     "shell.execute_reply.started": "2021-09-28T01:03:46.157686Z"
    },
    "papermill": {
     "duration": 0.032857,
     "end_time": "2021-10-01T01:26:49.613045",
     "exception": false,
     "start_time": "2021-10-01T01:26:49.580188",
     "status": "completed"
    },
    "tags": []
   },
   "outputs": [],
   "source": [
    "#pd.crosstab(to_ens.sub1, to_ens.sub2)"
   ]
  },
  {
   "cell_type": "code",
   "execution_count": 18,
   "metadata": {
    "execution": {
     "iopub.execute_input": "2021-10-01T01:26:49.670214Z",
     "iopub.status.busy": "2021-10-01T01:26:49.669539Z",
     "iopub.status.idle": "2021-10-01T01:26:49.673074Z",
     "shell.execute_reply": "2021-10-01T01:26:49.673587Z",
     "shell.execute_reply.started": "2021-09-28T01:03:46.173633Z"
    },
    "papermill": {
     "duration": 0.033196,
     "end_time": "2021-10-01T01:26:49.673757",
     "exception": false,
     "start_time": "2021-10-01T01:26:49.640561",
     "status": "completed"
    },
    "tags": []
   },
   "outputs": [],
   "source": [
    "#pd.crosstab(to_ens.sub1, to_ens.sub3)"
   ]
  },
  {
   "cell_type": "code",
   "execution_count": 19,
   "metadata": {
    "execution": {
     "iopub.execute_input": "2021-10-01T01:26:49.731151Z",
     "iopub.status.busy": "2021-10-01T01:26:49.730362Z",
     "iopub.status.idle": "2021-10-01T01:26:49.733230Z",
     "shell.execute_reply": "2021-10-01T01:26:49.732713Z",
     "shell.execute_reply.started": "2021-09-28T01:03:46.184389Z"
    },
    "papermill": {
     "duration": 0.033153,
     "end_time": "2021-10-01T01:26:49.733375",
     "exception": false,
     "start_time": "2021-10-01T01:26:49.700222",
     "status": "completed"
    },
    "tags": []
   },
   "outputs": [],
   "source": [
    "#pd.crosstab(to_ens.sub2, to_ens.sub3)"
   ]
  },
  {
   "cell_type": "code",
   "execution_count": 20,
   "metadata": {
    "execution": {
     "iopub.execute_input": "2021-10-01T01:26:49.791595Z",
     "iopub.status.busy": "2021-10-01T01:26:49.790761Z",
     "iopub.status.idle": "2021-10-01T01:26:49.793889Z",
     "shell.execute_reply": "2021-10-01T01:26:49.793185Z",
     "shell.execute_reply.started": "2021-09-28T01:03:46.197465Z"
    },
    "papermill": {
     "duration": 0.034187,
     "end_time": "2021-10-01T01:26:49.794052",
     "exception": false,
     "start_time": "2021-10-01T01:26:49.759865",
     "status": "completed"
    },
    "tags": []
   },
   "outputs": [],
   "source": [
    "## numero de instancias que tera desempate\n",
    "#n = to_ens[((to_ens.sub1==0)&(to_ens.sub2==1))|((to_ens.sub1==1)&(to_ens.sub2==0))].shape[0]\n",
    "#prop = to_ens[((to_ens.sub1==0)&(to_ens.sub2==1))|((to_ens.sub1==1)&(to_ens.sub2==0))].shape[0] / to_ens.shape[0]\n",
    "#\n",
    "#print(f\"{n} ({np.round(prop*100, 2)}%) instancias onde os dois melhores scores precisarao de um desempate\")"
   ]
  },
  {
   "cell_type": "code",
   "execution_count": 21,
   "metadata": {
    "execution": {
     "iopub.execute_input": "2021-10-01T01:26:49.851922Z",
     "iopub.status.busy": "2021-10-01T01:26:49.851300Z",
     "iopub.status.idle": "2021-10-01T01:26:49.854053Z",
     "shell.execute_reply": "2021-10-01T01:26:49.853434Z",
     "shell.execute_reply.started": "2021-09-28T01:03:46.20978Z"
    },
    "papermill": {
     "duration": 0.032834,
     "end_time": "2021-10-01T01:26:49.854197",
     "exception": false,
     "start_time": "2021-10-01T01:26:49.821363",
     "status": "completed"
    },
    "tags": []
   },
   "outputs": [],
   "source": [
    "# ----------------------"
   ]
  },
  {
   "cell_type": "code",
   "execution_count": 22,
   "metadata": {
    "execution": {
     "iopub.execute_input": "2021-10-01T01:26:49.910075Z",
     "iopub.status.busy": "2021-10-01T01:26:49.909431Z",
     "iopub.status.idle": "2021-10-01T01:26:49.912650Z",
     "shell.execute_reply": "2021-10-01T01:26:49.913176Z",
     "shell.execute_reply.started": "2021-09-28T01:03:46.226942Z"
    },
    "papermill": {
     "duration": 0.032558,
     "end_time": "2021-10-01T01:26:49.913347",
     "exception": false,
     "start_time": "2021-10-01T01:26:49.880789",
     "status": "completed"
    },
    "tags": []
   },
   "outputs": [],
   "source": [
    "#ens_oof1 = ensembling(oof1, oof3, 0.80)\n",
    "#ens1 = ensembling(sub1, sub3, 0.80)"
   ]
  },
  {
   "cell_type": "code",
   "execution_count": 23,
   "metadata": {
    "execution": {
     "iopub.execute_input": "2021-10-01T01:26:49.969429Z",
     "iopub.status.busy": "2021-10-01T01:26:49.968796Z",
     "iopub.status.idle": "2021-10-01T01:26:49.971979Z",
     "shell.execute_reply": "2021-10-01T01:26:49.972516Z",
     "shell.execute_reply.started": "2021-09-28T01:03:46.239509Z"
    },
    "papermill": {
     "duration": 0.032678,
     "end_time": "2021-10-01T01:26:49.972686",
     "exception": false,
     "start_time": "2021-10-01T01:26:49.940008",
     "status": "completed"
    },
    "tags": []
   },
   "outputs": [],
   "source": [
    "#ens_oof2 = ensembling(ens_oof1, oof3, 0.80)\n",
    "#ens2 = ensembling(ens1, sub3, 0.80)"
   ]
  },
  {
   "cell_type": "code",
   "execution_count": 24,
   "metadata": {
    "execution": {
     "iopub.execute_input": "2021-10-01T01:26:50.029342Z",
     "iopub.status.busy": "2021-10-01T01:26:50.028691Z",
     "iopub.status.idle": "2021-10-01T01:26:50.032053Z",
     "shell.execute_reply": "2021-10-01T01:26:50.032577Z",
     "shell.execute_reply.started": "2021-09-28T01:03:46.251887Z"
    },
    "papermill": {
     "duration": 0.033081,
     "end_time": "2021-10-01T01:26:50.032757",
     "exception": false,
     "start_time": "2021-10-01T01:26:49.999676",
     "status": "completed"
    },
    "tags": []
   },
   "outputs": [],
   "source": [
    "# -------------------"
   ]
  },
  {
   "cell_type": "code",
   "execution_count": 25,
   "metadata": {
    "execution": {
     "iopub.execute_input": "2021-10-01T01:26:50.088656Z",
     "iopub.status.busy": "2021-10-01T01:26:50.087801Z",
     "iopub.status.idle": "2021-10-01T01:26:50.090979Z",
     "shell.execute_reply": "2021-10-01T01:26:50.091511Z",
     "shell.execute_reply.started": "2021-09-28T01:03:46.263858Z"
    },
    "papermill": {
     "duration": 0.032321,
     "end_time": "2021-10-01T01:26:50.091698",
     "exception": false,
     "start_time": "2021-10-01T01:26:50.059377",
     "status": "completed"
    },
    "tags": []
   },
   "outputs": [],
   "source": [
    "#w1=0.8\n",
    "#w2=0.2\n",
    "#y_stacked = (w1*to_stack.iloc[:, 0]) + (w2*to_stack.iloc[:, 1]) / (w1+w2)\n",
    "#y_pred = (w1*to_pred.iloc[:, 0]) + (w2*to_pred.iloc[:, 1]) / (w1+w2)"
   ]
  },
  {
   "cell_type": "code",
   "execution_count": 26,
   "metadata": {
    "execution": {
     "iopub.execute_input": "2021-10-01T01:26:50.146961Z",
     "iopub.status.busy": "2021-10-01T01:26:50.146330Z",
     "iopub.status.idle": "2021-10-01T01:26:50.149324Z",
     "shell.execute_reply": "2021-10-01T01:26:50.149878Z",
     "shell.execute_reply.started": "2021-09-28T01:03:46.277741Z"
    },
    "papermill": {
     "duration": 0.032276,
     "end_time": "2021-10-01T01:26:50.150060",
     "exception": false,
     "start_time": "2021-10-01T01:26:50.117784",
     "status": "completed"
    },
    "tags": []
   },
   "outputs": [],
   "source": [
    "#y_stacked = np.mean(to_stack, axis=1)\n",
    "#y_pred = np.mean(to_pred, axis=1)"
   ]
  },
  {
   "cell_type": "code",
   "execution_count": 27,
   "metadata": {
    "execution": {
     "iopub.execute_input": "2021-10-01T01:26:50.206413Z",
     "iopub.status.busy": "2021-10-01T01:26:50.205766Z",
     "iopub.status.idle": "2021-10-01T01:26:50.209731Z",
     "shell.execute_reply": "2021-10-01T01:26:50.209236Z",
     "shell.execute_reply.started": "2021-09-28T01:03:46.290421Z"
    },
    "papermill": {
     "duration": 0.033436,
     "end_time": "2021-10-01T01:26:50.209871",
     "exception": false,
     "start_time": "2021-10-01T01:26:50.176435",
     "status": "completed"
    },
    "tags": []
   },
   "outputs": [],
   "source": [
    "#y_stacked = ens_oof1.lightautoml_pseudo_oof\n",
    "#y_pred = ens1.predicted"
   ]
  },
  {
   "cell_type": "code",
   "execution_count": 28,
   "metadata": {
    "execution": {
     "iopub.execute_input": "2021-10-01T01:26:50.266634Z",
     "iopub.status.busy": "2021-10-01T01:26:50.265926Z",
     "iopub.status.idle": "2021-10-01T01:26:50.267753Z",
     "shell.execute_reply": "2021-10-01T01:26:50.268256Z",
     "shell.execute_reply.started": "2021-09-28T01:03:46.301208Z"
    },
    "papermill": {
     "duration": 0.032221,
     "end_time": "2021-10-01T01:26:50.268426",
     "exception": false,
     "start_time": "2021-10-01T01:26:50.236205",
     "status": "completed"
    },
    "tags": []
   },
   "outputs": [],
   "source": [
    "#final_threshold = get_threshold(y, y_stacked)\n",
    "#final_threshold"
   ]
  },
  {
   "cell_type": "code",
   "execution_count": 29,
   "metadata": {
    "execution": {
     "iopub.execute_input": "2021-10-01T01:26:50.325188Z",
     "iopub.status.busy": "2021-10-01T01:26:50.324525Z",
     "iopub.status.idle": "2021-10-01T01:26:50.327651Z",
     "shell.execute_reply": "2021-10-01T01:26:50.328161Z",
     "shell.execute_reply.started": "2021-09-28T01:03:46.312949Z"
    },
    "papermill": {
     "duration": 0.032887,
     "end_time": "2021-10-01T01:26:50.328329",
     "exception": false,
     "start_time": "2021-10-01T01:26:50.295442",
     "status": "completed"
    },
    "tags": []
   },
   "outputs": [],
   "source": [
    "#print(\"Final F1     :\", custom_f1(y, y_stacked))\n",
    "#print(\"Final AUC    :\", roc_auc_score(y, y_stacked))\n",
    "#print(\"Final LogLoss:\", log_loss(y, y_stacked))"
   ]
  },
  {
   "cell_type": "code",
   "execution_count": 30,
   "metadata": {
    "execution": {
     "iopub.execute_input": "2021-10-01T01:26:50.383828Z",
     "iopub.status.busy": "2021-10-01T01:26:50.383208Z",
     "iopub.status.idle": "2021-10-01T01:26:50.387566Z",
     "shell.execute_reply": "2021-10-01T01:26:50.387081Z",
     "shell.execute_reply.started": "2021-09-28T01:03:46.323751Z"
    },
    "papermill": {
     "duration": 0.033159,
     "end_time": "2021-10-01T01:26:50.387715",
     "exception": false,
     "start_time": "2021-10-01T01:26:50.354556",
     "status": "completed"
    },
    "tags": []
   },
   "outputs": [],
   "source": [
    "## Get predictions\n",
    "#sample_submission['predicted'] = np.where(y_pred>final_threshold, 1, 0).astype('int64')\n",
    "#sample_submission.to_csv('stck2_sub.csv',index=False)\n",
    "#\n",
    "#sample_submission['predicted'] = y_pred\n",
    "#sample_submission.to_csv('stck2_sub_probs.csv',index=False)\n",
    "#\n",
    "#pd.DataFrame({'id':train.id, 'stck2_oof':y_stacked}).to_csv('stck2_oof.csv',index=False)"
   ]
  },
  {
   "cell_type": "code",
   "execution_count": 31,
   "metadata": {
    "execution": {
     "iopub.execute_input": "2021-10-01T01:26:50.445716Z",
     "iopub.status.busy": "2021-10-01T01:26:50.445088Z",
     "iopub.status.idle": "2021-10-01T01:26:51.273176Z",
     "shell.execute_reply": "2021-10-01T01:26:51.273668Z",
     "shell.execute_reply.started": "2021-09-28T01:03:46.33551Z"
    },
    "papermill": {
     "duration": 0.859601,
     "end_time": "2021-10-01T01:26:51.273858",
     "exception": false,
     "start_time": "2021-10-01T01:26:50.414257",
     "status": "completed"
    },
    "tags": []
   },
   "outputs": [],
   "source": [
    "ens = to_ens.apply(lambda x:vote(x, to_ens.columns.tolist()),axis=1)"
   ]
  },
  {
   "cell_type": "code",
   "execution_count": 32,
   "metadata": {
    "execution": {
     "iopub.execute_input": "2021-10-01T01:26:51.329357Z",
     "iopub.status.busy": "2021-10-01T01:26:51.328711Z",
     "iopub.status.idle": "2021-10-01T01:26:51.376019Z",
     "shell.execute_reply": "2021-10-01T01:26:51.376666Z",
     "shell.execute_reply.started": "2021-09-28T01:03:46.920701Z"
    },
    "papermill": {
     "duration": 0.076706,
     "end_time": "2021-10-01T01:26:51.376848",
     "exception": false,
     "start_time": "2021-10-01T01:26:51.300142",
     "status": "completed"
    },
    "tags": []
   },
   "outputs": [],
   "source": [
    "#sample_submission['predicted'] = np.where(y_pred>final_threshold, 1, 0).astype('int64')\n",
    "sample_submission['predicted'] = ens.astype('int64')\n",
    "sample_submission.to_csv('stck2_sub.csv',index=False)"
   ]
  }
 ],
 "metadata": {
  "kernelspec": {
   "display_name": "Python 3 (ipykernel)",
   "language": "python",
   "name": "python3"
  },
  "language_info": {
   "codemirror_mode": {
    "name": "ipython",
    "version": 3
   },
   "file_extension": ".py",
   "mimetype": "text/x-python",
   "name": "python",
   "nbconvert_exporter": "python",
   "pygments_lexer": "ipython3",
   "version": "3.8.5"
  },
  "papermill": {
   "default_parameters": {},
   "duration": 17.845944,
   "end_time": "2021-10-01T01:26:53.205943",
   "environment_variables": {},
   "exception": null,
   "input_path": "__notebook__.ipynb",
   "output_path": "__notebook__.ipynb",
   "parameters": {},
   "start_time": "2021-10-01T01:26:35.359999",
   "version": "2.3.3"
  }
 },
 "nbformat": 4,
 "nbformat_minor": 5
}
