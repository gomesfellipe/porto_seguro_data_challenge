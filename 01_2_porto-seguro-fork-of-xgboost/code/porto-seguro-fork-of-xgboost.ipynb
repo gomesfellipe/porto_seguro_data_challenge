{
 "cells": [
  {
   "cell_type": "markdown",
   "id": "46a25a3a",
   "metadata": {
    "papermill": {
     "duration": 0.017619,
     "end_time": "2021-09-03T13:23:26.933866",
     "exception": false,
     "start_time": "2021-09-03T13:23:26.916247",
     "status": "completed"
    },
    "tags": []
   },
   "source": [
    "# Load dependencies\n",
    "---"
   ]
  },
  {
   "cell_type": "code",
   "execution_count": 1,
   "id": "dbd8d2b6",
   "metadata": {
    "_cell_guid": "b1076dfc-b9ad-4769-8c92-a6c4dae69d19",
    "_uuid": "8f2839f25d086af736a60e9eeb907d3b93b6e0e5",
    "execution": {
     "iopub.execute_input": "2021-09-03T13:23:26.974102Z",
     "iopub.status.busy": "2021-09-03T13:23:26.972966Z",
     "iopub.status.idle": "2021-09-03T13:23:29.145687Z",
     "shell.execute_reply": "2021-09-03T13:23:29.145016Z",
     "shell.execute_reply.started": "2021-09-03T04:26:44.379374Z"
    },
    "papermill": {
     "duration": 2.19289,
     "end_time": "2021-09-03T13:23:29.145850",
     "exception": false,
     "start_time": "2021-09-03T13:23:26.952960",
     "status": "completed"
    },
    "tags": []
   },
   "outputs": [],
   "source": [
    "import pandas as pd\n",
    "import numpy as np\n",
    "import time\n",
    "from tqdm import tqdm\n",
    "\n",
    "from sklearn.metrics import f1_score, roc_auc_score, log_loss\n",
    "from sklearn.model_selection import StratifiedKFold, RepeatedStratifiedKFold, KFold\n",
    "from sklearn.calibration import CalibratedClassifierCV\n",
    "\n",
    "from xgboost import XGBClassifier\n",
    "\n",
    "# imbalanced\n",
    "from imblearn.pipeline import Pipeline\n",
    "from imblearn.over_sampling import ADASYN, SMOTE\n",
    "from imblearn.under_sampling import OneSidedSelection, NeighbourhoodCleaningRule, TomekLinks\n",
    "\n",
    "import optuna\n",
    "from optuna.visualization import plot_optimization_history, plot_param_importances"
   ]
  },
  {
   "cell_type": "code",
   "execution_count": 2,
   "id": "5d4a8c32",
   "metadata": {
    "execution": {
     "iopub.execute_input": "2021-09-03T13:23:29.189401Z",
     "iopub.status.busy": "2021-09-03T13:23:29.188734Z",
     "iopub.status.idle": "2021-09-03T13:23:29.688877Z",
     "shell.execute_reply": "2021-09-03T13:23:29.687820Z",
     "shell.execute_reply.started": "2021-09-03T04:26:45.284171Z"
    },
    "papermill": {
     "duration": 0.526763,
     "end_time": "2021-09-03T13:23:29.689036",
     "exception": false,
     "start_time": "2021-09-03T13:23:29.162273",
     "status": "completed"
    },
    "tags": []
   },
   "outputs": [],
   "source": [
    "train = pd.read_csv('../input/porto-seguro-data-challenge/train.csv', index_col='id').reset_index(drop=True)\n",
    "test = pd.read_csv('../input/porto-seguro-data-challenge/test.csv', index_col='id').reset_index(drop=True)\n",
    "sample_submission = pd.read_csv('../input/porto-seguro-data-challenge/submission_sample.csv')\n",
    "meta = pd.read_csv('../input/porto-seguro-data-challenge/metadata.csv')\n",
    "\n",
    "cat_nom = [x for x in meta.iloc[1:-1, :].loc[(meta.iloc[:,1]==\"Qualitativo nominal\")].iloc[:,0]] \n",
    "cat_ord = [x for x in meta.iloc[1:-1, :].loc[(meta.iloc[:,1]==\"Qualitativo ordinal\")].iloc[:,0]] \n",
    "num_dis = [x for x in meta.iloc[1:-1, :].loc[(meta.iloc[:,1]==\"Quantitativo discreto\")].iloc[:,0]] \n",
    "num_con = [x for x in meta.iloc[1:-1, :].loc[(meta.iloc[:,1]==\"Quantitativo continua\")].iloc[:,0]] "
   ]
  },
  {
   "cell_type": "code",
   "execution_count": 3,
   "id": "7b76d7d6",
   "metadata": {
    "execution": {
     "iopub.execute_input": "2021-09-03T13:23:29.737897Z",
     "iopub.status.busy": "2021-09-03T13:23:29.737205Z",
     "iopub.status.idle": "2021-09-03T13:23:29.740290Z",
     "shell.execute_reply": "2021-09-03T13:23:29.739778Z",
     "shell.execute_reply.started": "2021-09-03T04:26:45.634726Z"
    },
    "papermill": {
     "duration": 0.034676,
     "end_time": "2021-09-03T13:23:29.740435",
     "exception": false,
     "start_time": "2021-09-03T13:23:29.705759",
     "status": "completed"
    },
    "tags": []
   },
   "outputs": [],
   "source": [
    "X_test = test[cat_nom+cat_ord+num_dis+num_con]\n",
    "X = train[cat_nom+cat_ord+num_dis+num_con]\n",
    "y = train.y\n",
    "\n",
    "K=10\n",
    "SEED=314\n",
    "kf = KFold(n_splits=K, random_state=SEED, shuffle=True)"
   ]
  },
  {
   "cell_type": "code",
   "execution_count": 4,
   "id": "d7ce789f",
   "metadata": {
    "execution": {
     "iopub.execute_input": "2021-09-03T13:23:29.781309Z",
     "iopub.status.busy": "2021-09-03T13:23:29.780609Z",
     "iopub.status.idle": "2021-09-03T13:23:29.783628Z",
     "shell.execute_reply": "2021-09-03T13:23:29.783004Z",
     "shell.execute_reply.started": "2021-09-03T04:26:45.652872Z"
    },
    "papermill": {
     "duration": 0.026712,
     "end_time": "2021-09-03T13:23:29.783763",
     "exception": false,
     "start_time": "2021-09-03T13:23:29.757051",
     "status": "completed"
    },
    "tags": []
   },
   "outputs": [],
   "source": [
    "def get_threshold(y_true, y_pred):\n",
    "    # Moving threshold\n",
    "    thresholds = np.arange(0.0, 1.0, 0.01)\n",
    "    f1_scores = []\n",
    "    for thresh in thresholds:\n",
    "        f1_scores.append(\n",
    "            f1_score(y_true, [1 if m>thresh else 0 for m in y_pred]))\n",
    "    f1s = np.array(f1_scores)\n",
    "    return thresholds[f1s.argmax()]\n",
    "    \n",
    "    \n",
    "def custom_f1(y_true, y_pred):\n",
    "     \n",
    "    max_f1_threshold =  get_threshold(y_true, y_pred)\n",
    "\n",
    "    y_pred = np.where(y_pred>max_f1_threshold, 1, 0)\n",
    "    f1_after = f1_score(y_true, y_pred) \n",
    "    \n",
    "    return f1_after"
   ]
  },
  {
   "cell_type": "markdown",
   "id": "09d3be3d",
   "metadata": {
    "papermill": {
     "duration": 0.016147,
     "end_time": "2021-09-03T13:23:29.816744",
     "exception": false,
     "start_time": "2021-09-03T13:23:29.800597",
     "status": "completed"
    },
    "tags": []
   },
   "source": [
    "# Baseline\n",
    "---"
   ]
  },
  {
   "cell_type": "code",
   "execution_count": 5,
   "id": "37c902a9",
   "metadata": {
    "execution": {
     "iopub.execute_input": "2021-09-03T13:23:29.859702Z",
     "iopub.status.busy": "2021-09-03T13:23:29.858627Z",
     "iopub.status.idle": "2021-09-03T13:24:29.231469Z",
     "shell.execute_reply": "2021-09-03T13:24:29.230875Z",
     "shell.execute_reply.started": "2021-09-03T04:26:45.665706Z"
    },
    "papermill": {
     "duration": 59.39838,
     "end_time": "2021-09-03T13:24:29.231608",
     "exception": false,
     "start_time": "2021-09-03T13:23:29.833228",
     "status": "completed"
    },
    "tags": []
   },
   "outputs": [
    {
     "name": "stdout",
     "output_type": "stream",
     "text": [
      "➜ FOLD :0\n",
      "Score: 0.6896551724137931\n",
      "➜ FOLD :1\n",
      "Score: 0.6613672496025437\n",
      "➜ FOLD :2\n",
      "Score: 0.6887417218543047\n",
      "➜ FOLD :3\n",
      "Score: 0.6558558558558558\n",
      "➜ FOLD :4\n",
      "Score: 0.6388308977035491\n",
      "➜ FOLD :5\n",
      "Score: 0.6731141199226306\n",
      "➜ FOLD :6\n",
      "Score: 0.6315789473684211\n",
      "➜ FOLD :7\n",
      "Score: 0.6579925650557622\n",
      "➜ FOLD :8\n",
      "Score: 0.6843033509700176\n",
      "➜ FOLD :9\n",
      "Score: 0.7110389610389611\n",
      "Final F1     : 0.6657367044463819\n",
      "Final AUC    : 0.8804950502753824\n",
      "Final LogLoss: 0.31791299894403696\n",
      "CPU times: user 3min 33s, sys: 307 ms, total: 3min 33s\n",
      "Wall time: 59.4 s\n"
     ]
    }
   ],
   "source": [
    "%%time\n",
    "\n",
    "xgb_oof = np.zeros(X.shape[0])\n",
    "xgb_pred = np.zeros(X_test.shape[0])\n",
    "trs = []\n",
    "f1_trs = []\n",
    "\n",
    "for fold, (train_idx, val_idx) in enumerate(kf.split(X=X, y=y)):\n",
    "    print(f\"➜ FOLD :{fold}\")\n",
    "    X_train = X.iloc[train_idx]\n",
    "    y_train = y.iloc[train_idx]\n",
    "    X_val = X.iloc[val_idx]\n",
    "    y_val = y.iloc[val_idx]\n",
    "    \n",
    "    start = time.time()\n",
    "    \n",
    "    model = XGBClassifier(random_state=SEED,\n",
    "                          objective=\"binary:logistic\",\n",
    "                          use_label_encoder=False,\n",
    "                          n_estimators=10000)\n",
    "    \n",
    "    model.fit(X_train, y_train, \n",
    "              eval_set=[(X_val, y_val)],\n",
    "              eval_metric='logloss',\n",
    "              early_stopping_rounds=150,\n",
    "              verbose=False)\n",
    "    \n",
    "    xgb_oof[val_idx] = model.predict_proba(X_val)[:,1]\n",
    "    \n",
    "    print(\"Score:\", custom_f1(y_val, xgb_oof[val_idx]))\n",
    "        \n",
    "    xgb_pred += model.predict_proba(X_test)[:, 1] / K\n",
    "    \n",
    "    del model\n",
    "    \n",
    "print(\"Final F1     :\", custom_f1(y, xgb_oof))\n",
    "print(\"Final AUC    :\", roc_auc_score(y, xgb_oof))\n",
    "print(\"Final LogLoss:\", log_loss(y, xgb_oof))"
   ]
  },
  {
   "cell_type": "markdown",
   "id": "270d0a6a",
   "metadata": {
    "papermill": {
     "duration": 0.019831,
     "end_time": "2021-09-03T13:24:29.272715",
     "exception": false,
     "start_time": "2021-09-03T13:24:29.252884",
     "status": "completed"
    },
    "tags": []
   },
   "source": [
    "# Optuna\n",
    "---"
   ]
  },
  {
   "cell_type": "code",
   "execution_count": 6,
   "id": "b0362786",
   "metadata": {
    "execution": {
     "iopub.execute_input": "2021-09-03T13:24:29.315711Z",
     "iopub.status.busy": "2021-09-03T13:24:29.315061Z",
     "iopub.status.idle": "2021-09-03T13:24:29.331622Z",
     "shell.execute_reply": "2021-09-03T13:24:29.332151Z",
     "shell.execute_reply.started": "2021-09-03T04:35:37.481042Z"
    },
    "papermill": {
     "duration": 0.039766,
     "end_time": "2021-09-03T13:24:29.332345",
     "exception": false,
     "start_time": "2021-09-03T13:24:29.292579",
     "status": "completed"
    },
    "tags": []
   },
   "outputs": [],
   "source": [
    "fixed_params = {\n",
    "    'random_state': SEED,\n",
    "    \"objective\": \"binary:logistic\",\n",
    "    \"eval_metric\": 'logloss',\n",
    "    'use_label_encoder':False,\n",
    "    'n_estimators':10000,\n",
    "}\n",
    "\n",
    "def objective(trial):\n",
    "    \n",
    "    hyperparams = {\n",
    "        'clf':{\n",
    "        \"booster\": trial.suggest_categorical(\"booster\", [\"gbtree\"]),\n",
    "        \"lambda\": trial.suggest_float(\"lambda\", 1e-8, 5.0, log=True),\n",
    "        \"alpha\": trial.suggest_float(\"alpha\", 1e-8, 5.0, log=True)\n",
    "        }\n",
    "    }\n",
    "    \n",
    "    if hyperparams['clf'][\"booster\"] == \"gbtree\" or hyperparams['clf'][\"booster\"] == \"dart\":\n",
    "        hyperparams['clf'][\"max_depth\"] = trial.suggest_int(\"max_depth\", 1, 9)\n",
    "        hyperparams['clf'][\"eta\"] = trial.suggest_float(\"eta\", 0.01, 0.1, log=True)\n",
    "        hyperparams['clf'][\"gamma\"] = trial.suggest_float(\"gamma\", 1e-8, 1.0, log=True)\n",
    "        hyperparams['clf'][\"grow_policy\"] = trial.suggest_categorical(\"grow_policy\", [\"depthwise\", \"lossguide\"])\n",
    "        hyperparams['clf']['min_child_weight'] = trial.suggest_int('min_child_weight', 5, 20)\n",
    "        hyperparams['clf'][\"subsample\"] = trial.suggest_float(\"subsample\", 0.03, 1)\n",
    "        hyperparams['clf'][\"colsample_bytree\"] = trial.suggest_float(\"colsample_bytree\", 0.03, 1)\n",
    "        hyperparams['clf']['max_delta_step'] = trial.suggest_float('max_delta_step', 0, 10)\n",
    "        \n",
    "    if hyperparams['clf'][\"booster\"] == \"dart\":\n",
    "        hyperparams['clf'][\"sample_type\"] = trial.suggest_categorical(\"sample_type\", [\"uniform\", \"weighted\"])\n",
    "        hyperparams['clf'][\"normalize_type\"] = trial.suggest_categorical(\"normalize_type\", [\"tree\", \"forest\"])\n",
    "        hyperparams['clf'][\"rate_drop\"] = trial.suggest_float(\"rate_drop\", 1e-8, 1.0, log=True)\n",
    "        hyperparams['clf'][\"skip_drop\"] = trial.suggest_float(\"skip_drop\", 1e-8, 1.0, log=True)\n",
    "    \n",
    "    params = dict(**fixed_params, **hyperparams['clf'])\n",
    "    \n",
    "    xgb_oof = np.zeros(X.shape[0])\n",
    "    xgb_pred = pd.DataFrame()\n",
    "    trs = []\n",
    "    f1_trs = []\n",
    "\n",
    "    for fold, (train_idx, val_idx) in enumerate(kf.split(X=X, y=y)):\n",
    "        X_train = X.iloc[train_idx]\n",
    "        y_train = y.iloc[train_idx]\n",
    "        X_val = X.iloc[val_idx]\n",
    "        y_val = y.iloc[val_idx]\n",
    "\n",
    "        start = time.time()\n",
    "        \n",
    "        model = XGBClassifier(**params)\n",
    "        \n",
    "        model.fit(X_train, y_train,\n",
    "                  eval_set=[(X_val, y_val)],\n",
    "                  early_stopping_rounds=150,\n",
    "                  verbose=False)\n",
    "    \n",
    "        xgb_oof[val_idx] = model.predict_proba(X_val)[:,1]\n",
    "\n",
    "        del model\n",
    "\n",
    "    return log_loss(y, xgb_oof)"
   ]
  },
  {
   "cell_type": "code",
   "execution_count": 7,
   "id": "5f425377",
   "metadata": {
    "_kg_hide-output": true,
    "execution": {
     "iopub.execute_input": "2021-09-03T13:24:29.375398Z",
     "iopub.status.busy": "2021-09-03T13:24:29.374802Z",
     "iopub.status.idle": "2021-09-03T20:54:58.099491Z",
     "shell.execute_reply": "2021-09-03T20:54:58.098783Z",
     "shell.execute_reply.started": "2021-09-03T04:35:37.678539Z"
    },
    "papermill": {
     "duration": 27028.74713,
     "end_time": "2021-09-03T20:54:58.099643",
     "exception": false,
     "start_time": "2021-09-03T13:24:29.352513",
     "status": "completed"
    },
    "scrolled": true,
    "tags": []
   },
   "outputs": [
    {
     "name": "stderr",
     "output_type": "stream",
     "text": [
      "\u001b[32m[I 2021-09-03 13:24:29,375]\u001b[0m A new study created in memory with name: no-name-453d63ae-7874-4bc7-902b-13b963f41a01\u001b[0m\n",
      "\u001b[32m[I 2021-09-03 13:26:33,167]\u001b[0m Trial 0 finished with value: 0.30639619074861996 and parameters: {'booster': 'gbtree', 'lambda': 1.4915964227623835, 'alpha': 1.7117391103777633, 'max_depth': 4, 'eta': 0.02639361428514467, 'gamma': 0.001380013726938189, 'grow_policy': 'lossguide', 'min_child_weight': 11, 'subsample': 0.7482524094975311, 'colsample_bytree': 0.5785893036478263, 'max_delta_step': 5.201244493734658}. Best is trial 0 with value: 0.30639619074861996.\u001b[0m\n",
      "\u001b[32m[I 2021-09-03 13:28:09,415]\u001b[0m Trial 1 finished with value: 0.30726920277296815 and parameters: {'booster': 'gbtree', 'lambda': 6.084292031657082e-08, 'alpha': 4.350850696990789, 'max_depth': 6, 'eta': 0.049908386772628925, 'gamma': 0.05888542508034778, 'grow_policy': 'depthwise', 'min_child_weight': 15, 'subsample': 0.7831652794826226, 'colsample_bytree': 0.6749724342215936, 'max_delta_step': 9.786535356256891}. Best is trial 0 with value: 0.30639619074861996.\u001b[0m\n",
      "\u001b[32m[I 2021-09-03 13:29:24,327]\u001b[0m Trial 2 finished with value: 0.3069470212335395 and parameters: {'booster': 'gbtree', 'lambda': 0.00012543183698022705, 'alpha': 1.3219413164481126, 'max_depth': 7, 'eta': 0.03827323579892541, 'gamma': 0.8654273404473056, 'grow_policy': 'lossguide', 'min_child_weight': 13, 'subsample': 0.7371596870510511, 'colsample_bytree': 0.30940759075056734, 'max_delta_step': 1.2272477359648204}. Best is trial 0 with value: 0.30639619074861996.\u001b[0m\n",
      "\u001b[32m[I 2021-09-03 13:31:01,808]\u001b[0m Trial 3 finished with value: 0.3089779787419432 and parameters: {'booster': 'gbtree', 'lambda': 0.06462032592353333, 'alpha': 1.6101002988748326e-06, 'max_depth': 6, 'eta': 0.03670428193174441, 'gamma': 0.00011535761464177092, 'grow_policy': 'depthwise', 'min_child_weight': 16, 'subsample': 0.4586529708876419, 'colsample_bytree': 0.810014184404164, 'max_delta_step': 6.590266797393706}. Best is trial 0 with value: 0.30639619074861996.\u001b[0m\n",
      "\u001b[32m[I 2021-09-03 13:32:04,721]\u001b[0m Trial 4 finished with value: 0.30987458712626587 and parameters: {'booster': 'gbtree', 'lambda': 0.10922570957195361, 'alpha': 1.2446540261078424e-05, 'max_depth': 8, 'eta': 0.06875600674528841, 'gamma': 1.2470842881144284e-07, 'grow_policy': 'lossguide', 'min_child_weight': 9, 'subsample': 0.7250898150798208, 'colsample_bytree': 0.46717551558597104, 'max_delta_step': 9.173970470383782}. Best is trial 0 with value: 0.30639619074861996.\u001b[0m\n",
      "\u001b[32m[I 2021-09-03 13:33:44,216]\u001b[0m Trial 5 finished with value: 0.31390321392698034 and parameters: {'booster': 'gbtree', 'lambda': 1.999181107363932e-07, 'alpha': 3.498594056002147e-06, 'max_depth': 1, 'eta': 0.029264285608184087, 'gamma': 0.004175533558000813, 'grow_policy': 'depthwise', 'min_child_weight': 9, 'subsample': 0.3837134487045375, 'colsample_bytree': 0.429720263680621, 'max_delta_step': 3.5120300641338242}. Best is trial 0 with value: 0.30639619074861996.\u001b[0m\n",
      "\u001b[32m[I 2021-09-03 13:34:54,597]\u001b[0m Trial 6 finished with value: 0.313457568820454 and parameters: {'booster': 'gbtree', 'lambda': 5.309585483755e-07, 'alpha': 7.543433904133417e-05, 'max_depth': 4, 'eta': 0.09624549917668436, 'gamma': 7.153774536921412e-08, 'grow_policy': 'depthwise', 'min_child_weight': 19, 'subsample': 0.4107302523093588, 'colsample_bytree': 0.7984099604994433, 'max_delta_step': 0.29033599520472686}. Best is trial 0 with value: 0.30639619074861996.\u001b[0m\n",
      "\u001b[32m[I 2021-09-03 13:35:53,130]\u001b[0m Trial 7 finished with value: 0.31052181247621036 and parameters: {'booster': 'gbtree', 'lambda': 3.262069504659282e-05, 'alpha': 0.003170776559713988, 'max_depth': 2, 'eta': 0.05242081672990667, 'gamma': 1.8501082831875861e-07, 'grow_policy': 'lossguide', 'min_child_weight': 20, 'subsample': 0.32653474543562133, 'colsample_bytree': 0.6894584362865643, 'max_delta_step': 4.502289035918272}. Best is trial 0 with value: 0.30639619074861996.\u001b[0m\n",
      "\u001b[32m[I 2021-09-03 13:38:33,111]\u001b[0m Trial 8 finished with value: 0.314000170399444 and parameters: {'booster': 'gbtree', 'lambda': 8.60384475472856e-05, 'alpha': 7.728589557319419e-07, 'max_depth': 9, 'eta': 0.014302310169571755, 'gamma': 2.336686416154254e-06, 'grow_policy': 'depthwise', 'min_child_weight': 16, 'subsample': 0.2102633937725682, 'colsample_bytree': 0.9429527767114211, 'max_delta_step': 9.263693811411917}. Best is trial 0 with value: 0.30639619074861996.\u001b[0m\n",
      "\u001b[32m[I 2021-09-03 13:38:56,914]\u001b[0m Trial 9 finished with value: 0.3220439733671023 and parameters: {'booster': 'gbtree', 'lambda': 4.680064188493561e-08, 'alpha': 0.010868704649038415, 'max_depth': 8, 'eta': 0.08376465610643385, 'gamma': 3.192757406729112e-08, 'grow_policy': 'lossguide', 'min_child_weight': 7, 'subsample': 0.1788002581986925, 'colsample_bytree': 0.2690443326813108, 'max_delta_step': 5.762327347659525}. Best is trial 0 with value: 0.30639619074861996.\u001b[0m\n",
      "\u001b[32m[I 2021-09-03 13:41:02,528]\u001b[0m Trial 10 finished with value: 0.30720058056895133 and parameters: {'booster': 'gbtree', 'lambda': 0.006348035470107226, 'alpha': 0.03659414445601084, 'max_depth': 3, 'eta': 0.01801122508746726, 'gamma': 0.000276176771898136, 'grow_policy': 'lossguide', 'min_child_weight': 5, 'subsample': 0.9466577858874784, 'colsample_bytree': 0.07398085442176083, 'max_delta_step': 7.358792394305549}. Best is trial 0 with value: 0.30639619074861996.\u001b[0m\n",
      "\u001b[32m[I 2021-09-03 13:42:50,883]\u001b[0m Trial 11 finished with value: 0.30608879226333885 and parameters: {'booster': 'gbtree', 'lambda': 2.560938070030492, 'alpha': 4.623478597248611, 'max_depth': 5, 'eta': 0.023925880959624606, 'gamma': 0.24826560257961733, 'grow_policy': 'lossguide', 'min_child_weight': 12, 'subsample': 0.7109064752738625, 'colsample_bytree': 0.2720334680009521, 'max_delta_step': 2.094633240649407}. Best is trial 11 with value: 0.30608879226333885.\u001b[0m\n",
      "\u001b[32m[I 2021-09-03 13:44:16,367]\u001b[0m Trial 12 finished with value: 0.3069010085883522 and parameters: {'booster': 'gbtree', 'lambda': 2.3785589570468995, 'alpha': 0.3481360737761717, 'max_depth': 4, 'eta': 0.02330070497015073, 'gamma': 0.6839059164454159, 'grow_policy': 'lossguide', 'min_child_weight': 11, 'subsample': 0.6189570425715114, 'colsample_bytree': 0.15368453979700347, 'max_delta_step': 2.5332917973031}. Best is trial 11 with value: 0.30608879226333885.\u001b[0m\n",
      "\u001b[32m[I 2021-09-03 13:48:39,754]\u001b[0m Trial 13 finished with value: 0.30481704790949093 and parameters: {'booster': 'gbtree', 'lambda': 1.3392677772902528, 'alpha': 1.12446359255302e-08, 'max_depth': 5, 'eta': 0.01139315784649757, 'gamma': 0.010859506884270644, 'grow_policy': 'lossguide', 'min_child_weight': 12, 'subsample': 0.9575110278561264, 'colsample_bytree': 0.5720921598520219, 'max_delta_step': 2.625624774915028}. Best is trial 13 with value: 0.30481704790949093.\u001b[0m\n",
      "\u001b[32m[I 2021-09-03 13:51:59,499]\u001b[0m Trial 14 finished with value: 0.3050234856893582 and parameters: {'booster': 'gbtree', 'lambda': 4.843745567794954, 'alpha': 2.059906898986857e-08, 'max_depth': 5, 'eta': 0.011121570539292115, 'gamma': 0.024329047036539965, 'grow_policy': 'lossguide', 'min_child_weight': 14, 'subsample': 0.9964053195819806, 'colsample_bytree': 0.350642378377235, 'max_delta_step': 2.169133702917845}. Best is trial 13 with value: 0.30481704790949093.\u001b[0m\n",
      "\u001b[32m[I 2021-09-03 13:57:20,164]\u001b[0m Trial 15 finished with value: 0.3066601053752009 and parameters: {'booster': 'gbtree', 'lambda': 0.0041896076504112185, 'alpha': 1.3276183332902564e-08, 'max_depth': 6, 'eta': 0.01008010415893005, 'gamma': 0.015253387059410033, 'grow_policy': 'lossguide', 'min_child_weight': 18, 'subsample': 0.9993964908566707, 'colsample_bytree': 0.39305698989413795, 'max_delta_step': 0.3783511633360237}. Best is trial 13 with value: 0.30481704790949093.\u001b[0m\n",
      "\u001b[32m[I 2021-09-03 14:02:15,710]\u001b[0m Trial 16 finished with value: 0.30821902169839005 and parameters: {'booster': 'gbtree', 'lambda': 0.23869359043075658, 'alpha': 1.62284796489003e-08, 'max_depth': 2, 'eta': 0.010951168053608708, 'gamma': 7.031867897768776e-06, 'grow_policy': 'lossguide', 'min_child_weight': 14, 'subsample': 0.9320087723991749, 'colsample_bytree': 0.5738388543572805, 'max_delta_step': 3.338965343211994}. Best is trial 13 with value: 0.30481704790949093.\u001b[0m\n",
      "\u001b[32m[I 2021-09-03 14:04:48,076]\u001b[0m Trial 17 finished with value: 0.30697706827492116 and parameters: {'booster': 'gbtree', 'lambda': 0.0050862297815553546, 'alpha': 1.0369752794387384e-07, 'max_depth': 5, 'eta': 0.014354966570654321, 'gamma': 0.01555796077379827, 'grow_policy': 'lossguide', 'min_child_weight': 17, 'subsample': 0.8709991776293504, 'colsample_bytree': 0.1303984455527858, 'max_delta_step': 1.6190283858869545}. Best is trial 13 with value: 0.30481704790949093.\u001b[0m\n",
      "\u001b[32m[I 2021-09-03 14:08:24,456]\u001b[0m Trial 18 finished with value: 0.3058790591137603 and parameters: {'booster': 'gbtree', 'lambda': 0.6201280579194649, 'alpha': 1.1319077851164614e-07, 'max_depth': 3, 'eta': 0.012998403836738776, 'gamma': 0.0008915343071982392, 'grow_policy': 'lossguide', 'min_child_weight': 10, 'subsample': 0.8648273717559654, 'colsample_bytree': 0.5338889567224838, 'max_delta_step': 3.7572478926798554}. Best is trial 13 with value: 0.30481704790949093.\u001b[0m\n",
      "\u001b[32m[I 2021-09-03 14:09:17,019]\u001b[0m Trial 19 finished with value: 0.33042928239767994 and parameters: {'booster': 'gbtree', 'lambda': 5.456192798902476e-06, 'alpha': 1.0935661662089036e-07, 'max_depth': 7, 'eta': 0.018524432833468215, 'gamma': 0.09960844374694805, 'grow_policy': 'lossguide', 'min_child_weight': 13, 'subsample': 0.058319968935047095, 'colsample_bytree': 0.35187947561872834, 'max_delta_step': 2.8150959029806097}. Best is trial 13 with value: 0.30481704790949093.\u001b[0m\n",
      "\u001b[32m[I 2021-09-03 14:13:16,835]\u001b[0m Trial 20 finished with value: 0.3063238112122801 and parameters: {'booster': 'gbtree', 'lambda': 0.0248506889593168, 'alpha': 1.0309740716332035e-08, 'max_depth': 5, 'eta': 0.010718121961302415, 'gamma': 1.8325659516207537e-05, 'grow_policy': 'lossguide', 'min_child_weight': 7, 'subsample': 0.5974679012774412, 'colsample_bytree': 0.6668432270217654, 'max_delta_step': 1.2578056985607333}. Best is trial 13 with value: 0.30481704790949093.\u001b[0m\n",
      "\u001b[32m[I 2021-09-03 14:16:37,498]\u001b[0m Trial 21 finished with value: 0.30582482200323835 and parameters: {'booster': 'gbtree', 'lambda': 0.6085499367740358, 'alpha': 7.168301143756477e-08, 'max_depth': 3, 'eta': 0.013704910884249953, 'gamma': 0.0007462768606109147, 'grow_policy': 'lossguide', 'min_child_weight': 10, 'subsample': 0.8562919035162602, 'colsample_bytree': 0.5325980995535861, 'max_delta_step': 4.136478485504122}. Best is trial 13 with value: 0.30481704790949093.\u001b[0m\n",
      "\u001b[32m[I 2021-09-03 14:19:23,020]\u001b[0m Trial 22 finished with value: 0.3063468439957962 and parameters: {'booster': 'gbtree', 'lambda': 3.6697807744483693, 'alpha': 3.0908736503802494e-07, 'max_depth': 3, 'eta': 0.017411802913597643, 'gamma': 0.006827319320269304, 'grow_policy': 'lossguide', 'min_child_weight': 14, 'subsample': 0.970444103714967, 'colsample_bytree': 0.5048084221046786, 'max_delta_step': 4.401573642486544}. Best is trial 13 with value: 0.30481704790949093.\u001b[0m\n",
      "\u001b[32m[I 2021-09-03 14:22:05,138]\u001b[0m Trial 23 finished with value: 0.3037824422485444 and parameters: {'booster': 'gbtree', 'lambda': 0.0008208528026965676, 'alpha': 1.1789050741168258e-08, 'max_depth': 4, 'eta': 0.01222207023465747, 'gamma': 0.0014108810635694653, 'grow_policy': 'lossguide', 'min_child_weight': 8, 'subsample': 0.8767493196210803, 'colsample_bytree': 0.20523058518938436, 'max_delta_step': 2.599863563735983}. Best is trial 23 with value: 0.3037824422485444.\u001b[0m\n",
      "\u001b[32m[I 2021-09-03 14:25:18,897]\u001b[0m Trial 24 finished with value: 0.30371422419196314 and parameters: {'booster': 'gbtree', 'lambda': 0.0018707410309671366, 'alpha': 2.1516235528904758e-05, 'max_depth': 4, 'eta': 0.010026697419517736, 'gamma': 0.04060401589321836, 'grow_policy': 'lossguide', 'min_child_weight': 5, 'subsample': 0.9852374095220622, 'colsample_bytree': 0.20592867321832706, 'max_delta_step': 2.6272628929549877}. Best is trial 24 with value: 0.30371422419196314.\u001b[0m\n",
      "\u001b[32m[I 2021-09-03 14:28:38,248]\u001b[0m Trial 25 finished with value: 0.3047322285521438 and parameters: {'booster': 'gbtree', 'lambda': 0.001201897992344326, 'alpha': 0.00017628784624939262, 'max_depth': 4, 'eta': 0.010187247724618556, 'gamma': 0.003815402018811902, 'grow_policy': 'lossguide', 'min_child_weight': 7, 'subsample': 0.8450394415707472, 'colsample_bytree': 0.20551658399918082, 'max_delta_step': 0.6787957867980579}. Best is trial 24 with value: 0.30371422419196314.\u001b[0m\n",
      "\u001b[32m[I 2021-09-03 14:32:33,035]\u001b[0m Trial 26 finished with value: 0.30868724653992474 and parameters: {'booster': 'gbtree', 'lambda': 0.0004117067051143423, 'alpha': 0.00013739724012281262, 'max_depth': 4, 'eta': 0.016576971613910193, 'gamma': 0.0024241250406954623, 'grow_policy': 'lossguide', 'min_child_weight': 5, 'subsample': 0.5968162612861645, 'colsample_bytree': 0.17518415220043032, 'max_delta_step': 0.19325073946878701}. Best is trial 24 with value: 0.30371422419196314.\u001b[0m\n",
      "\u001b[32m[I 2021-09-03 14:36:33,270]\u001b[0m Trial 27 finished with value: 0.3104406502939459 and parameters: {'booster': 'gbtree', 'lambda': 0.0008240209634962159, 'alpha': 0.001185042419985322, 'max_depth': 2, 'eta': 0.01021103668770414, 'gamma': 4.03252908907633e-05, 'grow_policy': 'lossguide', 'min_child_weight': 7, 'subsample': 0.8171510178042743, 'colsample_bytree': 0.0611282594549398, 'max_delta_step': 0.9825085993706608}. Best is trial 24 with value: 0.30371422419196314.\u001b[0m\n",
      "\u001b[32m[I 2021-09-03 14:41:01,594]\u001b[0m Trial 28 finished with value: 0.31238643980414715 and parameters: {'booster': 'gbtree', 'lambda': 5.470632307824755e-06, 'alpha': 1.4441964747312224e-05, 'max_depth': 1, 'eta': 0.012719572596789255, 'gamma': 0.00028908168157472115, 'grow_policy': 'lossguide', 'min_child_weight': 6, 'subsample': 0.6696231846233046, 'colsample_bytree': 0.20776961653639525, 'max_delta_step': 0.8230326446264185}. Best is trial 24 with value: 0.30371422419196314.\u001b[0m\n",
      "\u001b[32m[I 2021-09-03 14:42:45,412]\u001b[0m Trial 29 finished with value: 0.3041425477416762 and parameters: {'booster': 'gbtree', 'lambda': 0.0013666034979663833, 'alpha': 0.0012843875472743362, 'max_depth': 4, 'eta': 0.022485513586934888, 'gamma': 0.2255051756755986, 'grow_policy': 'lossguide', 'min_child_weight': 8, 'subsample': 0.905750256731665, 'colsample_bytree': 0.22417847569843996, 'max_delta_step': 5.50113693646219}. Best is trial 24 with value: 0.30371422419196314.\u001b[0m\n",
      "\u001b[32m[I 2021-09-03 14:44:49,020]\u001b[0m Trial 30 finished with value: 0.31409801095637374 and parameters: {'booster': 'gbtree', 'lambda': 0.020424833603367002, 'alpha': 0.0007527828553069316, 'max_depth': 4, 'eta': 0.024296872891413683, 'gamma': 0.07942304559705585, 'grow_policy': 'lossguide', 'min_child_weight': 8, 'subsample': 0.9149060988714997, 'colsample_bytree': 0.03670723180483282, 'max_delta_step': 5.421082490405777}. Best is trial 24 with value: 0.30371422419196314.\u001b[0m\n",
      "\u001b[32m[I 2021-09-03 14:46:33,412]\u001b[0m Trial 31 finished with value: 0.3040566826886027 and parameters: {'booster': 'gbtree', 'lambda': 0.0011522611692631423, 'alpha': 3.224713209690615e-05, 'max_depth': 4, 'eta': 0.020013499139420396, 'gamma': 0.23642358995717366, 'grow_policy': 'lossguide', 'min_child_weight': 6, 'subsample': 0.7909593103674801, 'colsample_bytree': 0.2299853747847411, 'max_delta_step': 6.354793943371522}. Best is trial 24 with value: 0.30371422419196314.\u001b[0m\n",
      "\u001b[32m[I 2021-09-03 14:47:50,551]\u001b[0m Trial 32 finished with value: 0.3067547475608347 and parameters: {'booster': 'gbtree', 'lambda': 0.0014135971503056362, 'alpha': 2.732699928012528e-05, 'max_depth': 3, 'eta': 0.028706130947641073, 'gamma': 0.2668022393588426, 'grow_policy': 'lossguide', 'min_child_weight': 6, 'subsample': 0.7748571398961543, 'colsample_bytree': 0.10234227452654834, 'max_delta_step': 7.705973993762605}. Best is trial 24 with value: 0.30371422419196314.\u001b[0m\n",
      "\u001b[32m[I 2021-09-03 14:49:37,223]\u001b[0m Trial 33 finished with value: 0.30409218345180866 and parameters: {'booster': 'gbtree', 'lambda': 3.5025867251319e-05, 'alpha': 0.03197956426333531, 'max_depth': 4, 'eta': 0.021044683295494932, 'gamma': 0.9433660823292578, 'grow_policy': 'lossguide', 'min_child_weight': 5, 'subsample': 0.8971285309730188, 'colsample_bytree': 0.27307379774647117, 'max_delta_step': 6.37637320150275}. Best is trial 24 with value: 0.30371422419196314.\u001b[0m\n",
      "\u001b[32m[I 2021-09-03 14:50:52,790]\u001b[0m Trial 34 finished with value: 0.3054395764660157 and parameters: {'booster': 'gbtree', 'lambda': 2.8017449678832697e-05, 'alpha': 0.08004033025706503, 'max_depth': 6, 'eta': 0.033916824062912895, 'gamma': 0.6467632975105697, 'grow_policy': 'lossguide', 'min_child_weight': 5, 'subsample': 0.8103655921459181, 'colsample_bytree': 0.2810926704565687, 'max_delta_step': 6.138633089626894}. Best is trial 24 with value: 0.30371422419196314.\u001b[0m\n",
      "\u001b[32m[I 2021-09-03 14:52:49,180]\u001b[0m Trial 35 finished with value: 0.3044934343191466 and parameters: {'booster': 'gbtree', 'lambda': 0.00014673141902594652, 'alpha': 4.4634548933738844e-05, 'max_depth': 6, 'eta': 0.021002098461220343, 'gamma': 0.06926921129537357, 'grow_policy': 'depthwise', 'min_child_weight': 6, 'subsample': 0.9982526278224242, 'colsample_bytree': 0.3438410163106127, 'max_delta_step': 7.035438507607527}. Best is trial 24 with value: 0.30371422419196314.\u001b[0m\n",
      "\u001b[32m[I 2021-09-03 14:55:03,516]\u001b[0m Trial 36 finished with value: 0.30725499622815017 and parameters: {'booster': 'gbtree', 'lambda': 4.891967830428426e-06, 'alpha': 6.745778975844215e-06, 'max_depth': 2, 'eta': 0.015408530677079616, 'gamma': 0.02502300962299383, 'grow_policy': 'lossguide', 'min_child_weight': 5, 'subsample': 0.7687389777528937, 'colsample_bytree': 0.2351281331351579, 'max_delta_step': 8.091662695564013}. Best is trial 24 with value: 0.30371422419196314.\u001b[0m\n",
      "\u001b[32m[I 2021-09-03 14:56:21,043]\u001b[0m Trial 37 finished with value: 0.30542628608192857 and parameters: {'booster': 'gbtree', 'lambda': 3.0650387474452696e-05, 'alpha': 0.7180604959016105, 'max_depth': 4, 'eta': 0.0401942238527248, 'gamma': 0.24597551294522088, 'grow_policy': 'lossguide', 'min_child_weight': 8, 'subsample': 0.6656038037253811, 'colsample_bytree': 0.43746747878678927, 'max_delta_step': 6.5543922518969815}. Best is trial 24 with value: 0.30371422419196314.\u001b[0m\n",
      "\u001b[32m[I 2021-09-03 14:58:05,424]\u001b[0m Trial 38 finished with value: 0.30577327150291345 and parameters: {'booster': 'gbtree', 'lambda': 0.00036954918272057754, 'alpha': 2.3160325026372588e-06, 'max_depth': 3, 'eta': 0.01968323277564923, 'gamma': 0.9425675353625762, 'grow_policy': 'depthwise', 'min_child_weight': 6, 'subsample': 0.9074058438847998, 'colsample_bytree': 0.12680782351751868, 'max_delta_step': 4.610956844632655}. Best is trial 24 with value: 0.30371422419196314.\u001b[0m\n",
      "\u001b[32m[I 2021-09-03 14:59:31,086]\u001b[0m Trial 39 finished with value: 0.3058441839975229 and parameters: {'booster': 'gbtree', 'lambda': 1.2625457663739208e-06, 'alpha': 0.007373945493143904, 'max_depth': 4, 'eta': 0.026448139521044297, 'gamma': 0.03970993692981091, 'grow_policy': 'lossguide', 'min_child_weight': 9, 'subsample': 0.5006633137803305, 'colsample_bytree': 0.31446765033669066, 'max_delta_step': 4.848265647367548}. Best is trial 24 with value: 0.30371422419196314.\u001b[0m\n",
      "\u001b[32m[I 2021-09-03 15:01:56,030]\u001b[0m Trial 40 finished with value: 0.3045511773904084 and parameters: {'booster': 'gbtree', 'lambda': 1.2651166566311967e-08, 'alpha': 0.0005227009596170018, 'max_depth': 5, 'eta': 0.015843893193320083, 'gamma': 0.0016233885058020148, 'grow_policy': 'depthwise', 'min_child_weight': 5, 'subsample': 0.7490723048611436, 'colsample_bytree': 0.40510965893820994, 'max_delta_step': 8.59480024783899}. Best is trial 24 with value: 0.30371422419196314.\u001b[0m\n",
      "\u001b[32m[I 2021-09-03 15:03:09,281]\u001b[0m Trial 41 finished with value: 0.30444303073525836 and parameters: {'booster': 'gbtree', 'lambda': 0.002791815956824025, 'alpha': 0.003148434311087901, 'max_depth': 4, 'eta': 0.03125196659065587, 'gamma': 0.1821599061849266, 'grow_policy': 'lossguide', 'min_child_weight': 8, 'subsample': 0.8964046996481884, 'colsample_bytree': 0.22988887674916633, 'max_delta_step': 5.330460297702357}. Best is trial 24 with value: 0.30371422419196314.\u001b[0m\n",
      "\u001b[32m[I 2021-09-03 15:04:39,240]\u001b[0m Trial 42 finished with value: 0.30516585640259536 and parameters: {'booster': 'gbtree', 'lambda': 0.00010215613361133535, 'alpha': 0.04201900181770143, 'max_depth': 4, 'eta': 0.02102558994342436, 'gamma': 0.5053683732391201, 'grow_policy': 'lossguide', 'min_child_weight': 9, 'subsample': 0.8068224004166916, 'colsample_bytree': 0.18436412589160117, 'max_delta_step': 6.268210699087047}. Best is trial 24 with value: 0.30371422419196314.\u001b[0m\n",
      "\u001b[32m[I 2021-09-03 15:06:23,496]\u001b[0m Trial 43 finished with value: 0.30518660469893244 and parameters: {'booster': 'gbtree', 'lambda': 0.01550789730204923, 'alpha': 0.21671473889385162, 'max_depth': 3, 'eta': 0.02071821344757331, 'gamma': 0.08687902468995354, 'grow_policy': 'lossguide', 'min_child_weight': 6, 'subsample': 0.9483812384847208, 'colsample_bytree': 0.24995334464821928, 'max_delta_step': 6.777060345364268}. Best is trial 24 with value: 0.30371422419196314.\u001b[0m\n",
      "\u001b[32m[I 2021-09-03 15:07:48,989]\u001b[0m Trial 44 finished with value: 0.3057118355150911 and parameters: {'booster': 'gbtree', 'lambda': 0.0004399037527858252, 'alpha': 0.0030267891456695244, 'max_depth': 5, 'eta': 0.025988695480457246, 'gamma': 0.39868797273376405, 'grow_policy': 'lossguide', 'min_child_weight': 8, 'subsample': 0.7056332502356825, 'colsample_bytree': 0.2949061188499686, 'max_delta_step': 5.817813843866301}. Best is trial 24 with value: 0.30371422419196314.\u001b[0m\n",
      "\u001b[32m[I 2021-09-03 15:08:43,696]\u001b[0m Trial 45 finished with value: 0.3048127873344592 and parameters: {'booster': 'gbtree', 'lambda': 5.7320835081468595e-05, 'alpha': 0.01312104659191801, 'max_depth': 4, 'eta': 0.04192314040591963, 'gamma': 0.12782697334591528, 'grow_policy': 'lossguide', 'min_child_weight': 7, 'subsample': 0.8783092079885635, 'colsample_bytree': 0.15784473284775724, 'max_delta_step': 3.1041012827228864}. Best is trial 24 with value: 0.30371422419196314.\u001b[0m\n",
      "\u001b[32m[I 2021-09-03 15:11:56,008]\u001b[0m Trial 46 finished with value: 0.30758910111599397 and parameters: {'booster': 'gbtree', 'lambda': 0.07621027346533377, 'alpha': 7.316304037008372e-05, 'max_depth': 2, 'eta': 0.01243991212659078, 'gamma': 0.8929423445073904, 'grow_policy': 'lossguide', 'min_child_weight': 10, 'subsample': 0.9955728261304158, 'colsample_bytree': 0.0936600496756945, 'max_delta_step': 5.04727045965004}. Best is trial 24 with value: 0.30371422419196314.\u001b[0m\n",
      "\u001b[32m[I 2021-09-03 15:13:41,048]\u001b[0m Trial 47 finished with value: 0.30549806460328016 and parameters: {'booster': 'gbtree', 'lambda': 1.5007082552274096e-05, 'alpha': 0.00034062872819540664, 'max_depth': 3, 'eta': 0.023051567906392553, 'gamma': 0.04489257336405788, 'grow_policy': 'lossguide', 'min_child_weight': 5, 'subsample': 0.8134711231133995, 'colsample_bytree': 0.3220174797493467, 'max_delta_step': 3.8797597373777797}. Best is trial 24 with value: 0.30371422419196314.\u001b[0m\n",
      "\u001b[32m[I 2021-09-03 15:14:38,454]\u001b[0m Trial 48 finished with value: 0.30485806470353977 and parameters: {'booster': 'gbtree', 'lambda': 0.01025545593737395, 'alpha': 0.001406586176170737, 'max_depth': 6, 'eta': 0.047145017200450154, 'gamma': 0.007206746907907977, 'grow_policy': 'lossguide', 'min_child_weight': 9, 'subsample': 0.9273594489274347, 'colsample_bytree': 0.2485478162882287, 'max_delta_step': 7.34489975924116}. Best is trial 24 with value: 0.30371422419196314.\u001b[0m\n",
      "\u001b[32m[I 2021-09-03 15:16:33,256]\u001b[0m Trial 49 finished with value: 0.30514721739361567 and parameters: {'booster': 'gbtree', 'lambda': 0.002528321898928694, 'alpha': 1.239073246993492e-06, 'max_depth': 5, 'eta': 0.018699375808420522, 'gamma': 4.67762261916241e-07, 'grow_policy': 'lossguide', 'min_child_weight': 6, 'subsample': 0.9634853192697151, 'colsample_bytree': 0.1442119873623011, 'max_delta_step': 5.798892552288525}. Best is trial 24 with value: 0.30371422419196314.\u001b[0m\n",
      "\u001b[32m[I 2021-09-03 15:18:11,495]\u001b[0m Trial 50 finished with value: 0.3110563220500391 and parameters: {'booster': 'gbtree', 'lambda': 0.00022411533782006185, 'alpha': 7.734543995863798e-06, 'max_depth': 4, 'eta': 0.028149800837659212, 'gamma': 0.00031578315663313824, 'grow_policy': 'depthwise', 'min_child_weight': 11, 'subsample': 0.8412201442651276, 'colsample_bytree': 0.04472899712627021, 'max_delta_step': 1.795557592564525}. Best is trial 24 with value: 0.30371422419196314.\u001b[0m\n",
      "\u001b[32m[I 2021-09-03 15:19:24,805]\u001b[0m Trial 51 finished with value: 0.3044662114347105 and parameters: {'booster': 'gbtree', 'lambda': 0.0025108508647519326, 'alpha': 0.023118196725312592, 'max_depth': 4, 'eta': 0.03319680813078094, 'gamma': 0.17819016397631035, 'grow_policy': 'lossguide', 'min_child_weight': 8, 'subsample': 0.9163346795592369, 'colsample_bytree': 0.2236755914176816, 'max_delta_step': 5.197955160483092}. Best is trial 24 with value: 0.30371422419196314.\u001b[0m\n",
      "\u001b[32m[I 2021-09-03 15:20:07,003]\u001b[0m Trial 52 finished with value: 0.3049013684537224 and parameters: {'booster': 'gbtree', 'lambda': 0.0006758537239118191, 'alpha': 0.002384943450487301, 'max_depth': 4, 'eta': 0.06476575463110447, 'gamma': 0.9741329601598517, 'grow_policy': 'lossguide', 'min_child_weight': 7, 'subsample': 0.9111512286363607, 'colsample_bytree': 0.19236873183061778, 'max_delta_step': 5.653435556389647}. Best is trial 24 with value: 0.30371422419196314.\u001b[0m\n",
      "\u001b[32m[I 2021-09-03 15:21:23,475]\u001b[0m Trial 53 finished with value: 0.30432136486611283 and parameters: {'booster': 'gbtree', 'lambda': 0.0017757469996415392, 'alpha': 0.0001606798742464716, 'max_depth': 5, 'eta': 0.032204348179188234, 'gamma': 0.2650977098887078, 'grow_policy': 'lossguide', 'min_child_weight': 8, 'subsample': 0.8941716325948976, 'colsample_bytree': 0.2743173110814852, 'max_delta_step': 6.3839261792257345}. Best is trial 24 with value: 0.30371422419196314.\u001b[0m\n",
      "\u001b[32m[I 2021-09-03 15:22:39,183]\u001b[0m Trial 54 finished with value: 0.305038262922267 and parameters: {'booster': 'gbtree', 'lambda': 0.00021484998776480344, 'alpha': 2.917775052260859e-05, 'max_depth': 5, 'eta': 0.03669047980557838, 'gamma': 0.3979723805213827, 'grow_policy': 'lossguide', 'min_child_weight': 9, 'subsample': 0.9799158962746505, 'colsample_bytree': 0.36481197586527825, 'max_delta_step': 6.098216916463743}. Best is trial 24 with value: 0.30371422419196314.\u001b[0m\n",
      "\u001b[32m[I 2021-09-03 15:24:21,875]\u001b[0m Trial 55 finished with value: 0.30595539009791417 and parameters: {'booster': 'gbtree', 'lambda': 0.0009551671907773882, 'alpha': 2.3256674984295524, 'max_depth': 7, 'eta': 0.03055396339461443, 'gamma': 0.020796876560920347, 'grow_policy': 'lossguide', 'min_child_weight': 10, 'subsample': 0.8751913527561651, 'colsample_bytree': 0.2698218850574031, 'max_delta_step': 6.597100389819896}. Best is trial 24 with value: 0.30371422419196314.\u001b[0m\n",
      "\u001b[32m[I 2021-09-03 15:25:32,112]\u001b[0m Trial 56 finished with value: 0.3089271539432762 and parameters: {'booster': 'gbtree', 'lambda': 0.009456360209988444, 'alpha': 0.000225713264808474, 'max_depth': 5, 'eta': 0.02269746896808209, 'gamma': 0.041223449575253805, 'grow_policy': 'lossguide', 'min_child_weight': 6, 'subsample': 0.30148187644419977, 'colsample_bytree': 0.3018306613904704, 'max_delta_step': 7.08295317456243}. Best is trial 24 with value: 0.30371422419196314.\u001b[0m\n",
      "\u001b[32m[I 2021-09-03 15:28:49,355]\u001b[0m Trial 57 finished with value: 0.30514812817320236 and parameters: {'booster': 'gbtree', 'lambda': 0.03575212050552301, 'alpha': 0.00010063115210159429, 'max_depth': 3, 'eta': 0.011886393975183821, 'gamma': 0.00746090273578177, 'grow_policy': 'lossguide', 'min_child_weight': 7, 'subsample': 0.8320076451581522, 'colsample_bytree': 0.38775302235369735, 'max_delta_step': 7.855042525302242}. Best is trial 24 with value: 0.30371422419196314.\u001b[0m\n",
      "\u001b[32m[I 2021-09-03 15:31:32,964]\u001b[0m Trial 58 finished with value: 0.3053378571942753 and parameters: {'booster': 'gbtree', 'lambda': 0.0018455240044134582, 'alpha': 0.006156320566985908, 'max_depth': 6, 'eta': 0.01495159996652224, 'gamma': 8.054937590766131e-05, 'grow_policy': 'lossguide', 'min_child_weight': 8, 'subsample': 0.7371032459696717, 'colsample_bytree': 0.458703855668739, 'max_delta_step': 6.313835304467061}. Best is trial 24 with value: 0.30371422419196314.\u001b[0m\n",
      "\u001b[32m[I 2021-09-03 15:33:05,959]\u001b[0m Trial 59 finished with value: 0.3076245295714558 and parameters: {'booster': 'gbtree', 'lambda': 0.006073492133932119, 'alpha': 0.09562686243219917, 'max_depth': 5, 'eta': 0.026050207812755317, 'gamma': 0.13699888993714512, 'grow_policy': 'lossguide', 'min_child_weight': 11, 'subsample': 0.7853156084195929, 'colsample_bytree': 0.10561029164516422, 'max_delta_step': 3.4085405182859376}. Best is trial 24 with value: 0.30371422419196314.\u001b[0m\n",
      "\u001b[32m[I 2021-09-03 15:35:00,668]\u001b[0m Trial 60 finished with value: 0.3047993005898879 and parameters: {'booster': 'gbtree', 'lambda': 7.34519357040946e-05, 'alpha': 4.351158176552513e-06, 'max_depth': 3, 'eta': 0.017149506192963675, 'gamma': 0.3624089487631372, 'grow_policy': 'lossguide', 'min_child_weight': 5, 'subsample': 0.8794241052373593, 'colsample_bytree': 0.16682817083169585, 'max_delta_step': 2.4900746173355026}. Best is trial 24 with value: 0.30371422419196314.\u001b[0m\n",
      "\u001b[32m[I 2021-09-03 15:36:13,360]\u001b[0m Trial 61 finished with value: 0.30411194456082935 and parameters: {'booster': 'gbtree', 'lambda': 0.0032669967919785607, 'alpha': 0.0006339539782285363, 'max_depth': 4, 'eta': 0.03170252974238084, 'gamma': 0.18160869595362084, 'grow_policy': 'lossguide', 'min_child_weight': 8, 'subsample': 0.8862388173824919, 'colsample_bytree': 0.22365711386459391, 'max_delta_step': 5.530681374889693}. Best is trial 24 with value: 0.30371422419196314.\u001b[0m\n",
      "\u001b[32m[I 2021-09-03 15:37:17,364]\u001b[0m Trial 62 finished with value: 0.3047496981453246 and parameters: {'booster': 'gbtree', 'lambda': 0.004000900920560306, 'alpha': 0.0005512881102332205, 'max_depth': 4, 'eta': 0.034736550001913856, 'gamma': 0.06216413934195027, 'grow_policy': 'lossguide', 'min_child_weight': 9, 'subsample': 0.9507174650371008, 'colsample_bytree': 0.2089230607572636, 'max_delta_step': 5.549109453955933}. Best is trial 24 with value: 0.30371422419196314.\u001b[0m\n",
      "\u001b[32m[I 2021-09-03 15:38:27,859]\u001b[0m Trial 63 finished with value: 0.3048656874471277 and parameters: {'booster': 'gbtree', 'lambda': 0.0006737975925042244, 'alpha': 0.00026483539173543716, 'max_depth': 5, 'eta': 0.03795460081661117, 'gamma': 0.5464485580696269, 'grow_policy': 'lossguide', 'min_child_weight': 7, 'subsample': 0.8517108084165848, 'colsample_bytree': 0.252532177919458, 'max_delta_step': 4.899333939072588}. Best is trial 24 with value: 0.30371422419196314.\u001b[0m\n",
      "\u001b[32m[I 2021-09-03 15:39:59,124]\u001b[0m Trial 64 finished with value: 0.3046874937275342 and parameters: {'booster': 'gbtree', 'lambda': 0.0002723166228627142, 'alpha': 1.606213026736293e-05, 'max_depth': 4, 'eta': 0.028134447013085515, 'gamma': 0.15426471178117226, 'grow_policy': 'lossguide', 'min_child_weight': 8, 'subsample': 0.9983714959189725, 'colsample_bytree': 0.3265191409921595, 'max_delta_step': 6.029487935902361}. Best is trial 24 with value: 0.30371422419196314.\u001b[0m\n",
      "\u001b[32m[I 2021-09-03 15:42:56,256]\u001b[0m Trial 65 finished with value: 0.3054000064670061 and parameters: {'booster': 'gbtree', 'lambda': 0.039623035797463096, 'alpha': 4.4507377177745017e-07, 'max_depth': 4, 'eta': 0.025286039299436812, 'gamma': 0.036434858454988193, 'grow_policy': 'lossguide', 'min_child_weight': 6, 'subsample': 0.9499008039030794, 'colsample_bytree': 0.9139200918862237, 'max_delta_step': 6.883758016407324}. Best is trial 24 with value: 0.30371422419196314.\u001b[0m\n",
      "\u001b[32m[I 2021-09-03 15:43:55,100]\u001b[0m Trial 66 finished with value: 0.3055031612048883 and parameters: {'booster': 'gbtree', 'lambda': 0.18858756155588757, 'alpha': 4.740613512989618e-05, 'max_depth': 3, 'eta': 0.044204913662359235, 'gamma': 0.9677714178671273, 'grow_policy': 'lossguide', 'min_child_weight': 10, 'subsample': 0.8925769195531847, 'colsample_bytree': 0.2838160251302063, 'max_delta_step': 4.4454904153833255}. Best is trial 24 with value: 0.30371422419196314.\u001b[0m\n",
      "\u001b[32m[I 2021-09-03 15:46:24,612]\u001b[0m Trial 67 finished with value: 0.3060543137464597 and parameters: {'booster': 'gbtree', 'lambda': 0.0014645145822763553, 'alpha': 0.0013624792507461057, 'max_depth': 5, 'eta': 0.013880651843815775, 'gamma': 0.012054978883253195, 'grow_policy': 'lossguide', 'min_child_weight': 7, 'subsample': 0.7910684951758358, 'colsample_bytree': 0.12001051357941199, 'max_delta_step': 3.968258391766912}. Best is trial 24 with value: 0.30371422419196314.\u001b[0m\n",
      "\u001b[32m[I 2021-09-03 15:47:38,061]\u001b[0m Trial 68 finished with value: 0.30893716433925034 and parameters: {'booster': 'gbtree', 'lambda': 1.319364215800216e-05, 'alpha': 0.00012609834687225198, 'max_depth': 4, 'eta': 0.030318160082874995, 'gamma': 0.26591178533618565, 'grow_policy': 'lossguide', 'min_child_weight': 5, 'subsample': 0.6946104373882656, 'colsample_bytree': 0.0764081689450502, 'max_delta_step': 6.508086951185839}. Best is trial 24 with value: 0.30371422419196314.\u001b[0m\n",
      "\u001b[32m[I 2021-09-03 15:48:24,018]\u001b[0m Trial 69 finished with value: 0.30495525134023754 and parameters: {'booster': 'gbtree', 'lambda': 0.008650535851591165, 'alpha': 0.0003983160745658518, 'max_depth': 4, 'eta': 0.05585342827709994, 'gamma': 0.0005305056174753805, 'grow_policy': 'lossguide', 'min_child_weight': 7, 'subsample': 0.8400202057353029, 'colsample_bytree': 0.17934467966499043, 'max_delta_step': 7.509600250949677}. Best is trial 24 with value: 0.30371422419196314.\u001b[0m\n",
      "\u001b[32m[I 2021-09-03 15:50:22,278]\u001b[0m Trial 70 finished with value: 0.30487640379684544 and parameters: {'booster': 'gbtree', 'lambda': 0.0040445992182836735, 'alpha': 2.733838044398864e-05, 'max_depth': 6, 'eta': 0.02208397879831498, 'gamma': 0.004514130483079558, 'grow_policy': 'lossguide', 'min_child_weight': 9, 'subsample': 0.7594977205166502, 'colsample_bytree': 0.3711095968841464, 'max_delta_step': 2.1922580839405628}. Best is trial 24 with value: 0.30371422419196314.\u001b[0m\n",
      "\u001b[32m[I 2021-09-03 15:51:27,890]\u001b[0m Trial 71 finished with value: 0.30466010898397705 and parameters: {'booster': 'gbtree', 'lambda': 0.002407847607678934, 'alpha': 0.001893651556088753, 'max_depth': 4, 'eta': 0.03466134239800356, 'gamma': 0.20286713619304847, 'grow_policy': 'lossguide', 'min_child_weight': 8, 'subsample': 0.8949288059685466, 'colsample_bytree': 0.22059140906189606, 'max_delta_step': 5.342074846159653}. Best is trial 24 with value: 0.30371422419196314.\u001b[0m\n",
      "\u001b[32m[I 2021-09-03 15:52:40,606]\u001b[0m Trial 72 finished with value: 0.3049822875694416 and parameters: {'booster': 'gbtree', 'lambda': 0.0004976978629585586, 'alpha': 0.0008617661833051313, 'max_depth': 3, 'eta': 0.0327862217980645, 'gamma': 0.08101329832382155, 'grow_policy': 'lossguide', 'min_child_weight': 8, 'subsample': 0.9301797051866183, 'colsample_bytree': 0.24398435258482132, 'max_delta_step': 5.865836525338891}. Best is trial 24 with value: 0.30371422419196314.\u001b[0m\n",
      "\u001b[32m[I 2021-09-03 15:54:30,923]\u001b[0m Trial 73 finished with value: 0.30416164563771403 and parameters: {'booster': 'gbtree', 'lambda': 0.001060162153464135, 'alpha': 0.009773532445743888, 'max_depth': 5, 'eta': 0.019471759408977947, 'gamma': 0.13368215377781312, 'grow_policy': 'lossguide', 'min_child_weight': 6, 'subsample': 0.9752368948708081, 'colsample_bytree': 0.19594968984196756, 'max_delta_step': 4.783785485330315}. Best is trial 24 with value: 0.30371422419196314.\u001b[0m\n",
      "\u001b[32m[I 2021-09-03 15:56:30,691]\u001b[0m Trial 74 finished with value: 0.30480145999180186 and parameters: {'booster': 'gbtree', 'lambda': 0.00013150996587795726, 'alpha': 0.028476465781004916, 'max_depth': 5, 'eta': 0.018007005528021168, 'gamma': 0.03005149434605372, 'grow_policy': 'lossguide', 'min_child_weight': 6, 'subsample': 0.9743026344220977, 'colsample_bytree': 0.16167803764482513, 'max_delta_step': 3.0266722612391783}. Best is trial 24 with value: 0.30371422419196314.\u001b[0m\n",
      "\u001b[32m[I 2021-09-03 15:58:20,203]\u001b[0m Trial 75 finished with value: 0.30364407333889826 and parameters: {'booster': 'gbtree', 'lambda': 0.0013752408255905814, 'alpha': 0.005658806095229325, 'max_depth': 5, 'eta': 0.019671125446592577, 'gamma': 0.10844931283449748, 'grow_policy': 'lossguide', 'min_child_weight': 5, 'subsample': 0.8623908800380825, 'colsample_bytree': 0.19529949063351953, 'max_delta_step': 4.760071783601788}. Best is trial 75 with value: 0.30364407333889826.\u001b[0m\n",
      "\u001b[32m[I 2021-09-03 16:00:04,032]\u001b[0m Trial 76 finished with value: 0.3037293374549371 and parameters: {'booster': 'gbtree', 'lambda': 0.0008001963171420808, 'alpha': 0.005104262006547647, 'max_depth': 5, 'eta': 0.020016412321507575, 'gamma': 0.09886375903205977, 'grow_policy': 'lossguide', 'min_child_weight': 5, 'subsample': 0.8582124744207351, 'colsample_bytree': 0.1966104821039414, 'max_delta_step': 4.2444383008295175}. Best is trial 75 with value: 0.30364407333889826.\u001b[0m\n",
      "\u001b[32m[I 2021-09-03 16:02:09,907]\u001b[0m Trial 77 finished with value: 0.30496330133229865 and parameters: {'booster': 'gbtree', 'lambda': 4.961953753188633e-05, 'alpha': 0.015841892254900916, 'max_depth': 4, 'eta': 0.016011583262846296, 'gamma': 0.06588838314170575, 'grow_policy': 'depthwise', 'min_child_weight': 5, 'subsample': 0.8526177508877535, 'colsample_bytree': 0.13095803216324192, 'max_delta_step': 4.260558252174065}. Best is trial 75 with value: 0.30364407333889826.\u001b[0m\n",
      "\u001b[32m[I 2021-09-03 16:03:56,352]\u001b[0m Trial 78 finished with value: 0.30433229318504035 and parameters: {'booster': 'gbtree', 'lambda': 0.014561666284250714, 'alpha': 0.004643761159175854, 'max_depth': 4, 'eta': 0.019970231919322998, 'gamma': 0.01869782789322307, 'grow_policy': 'lossguide', 'min_child_weight': 5, 'subsample': 0.7975314337011356, 'colsample_bytree': 0.15159835488081574, 'max_delta_step': 5.166738343144786}. Best is trial 75 with value: 0.30364407333889826.\u001b[0m\n",
      "\u001b[32m[I 2021-09-03 16:05:39,797]\u001b[0m Trial 79 finished with value: 0.3050403231057453 and parameters: {'booster': 'gbtree', 'lambda': 0.00018224207164253858, 'alpha': 0.048347617219809055, 'max_depth': 6, 'eta': 0.02199253693163759, 'gamma': 0.6097803175143245, 'grow_policy': 'lossguide', 'min_child_weight': 5, 'subsample': 0.8304042452212369, 'colsample_bytree': 0.2018078765981252, 'max_delta_step': 3.6680535658780573}. Best is trial 75 with value: 0.30364407333889826.\u001b[0m\n",
      "\u001b[32m[I 2021-09-03 16:07:17,099]\u001b[0m Trial 80 finished with value: 0.30506416955584525 and parameters: {'booster': 'gbtree', 'lambda': 0.0004327598413263146, 'alpha': 0.004302317218182805, 'max_depth': 3, 'eta': 0.02414305791269922, 'gamma': 0.001961719671201437, 'grow_policy': 'lossguide', 'min_child_weight': 6, 'subsample': 0.9252373898838194, 'colsample_bytree': 0.3348822531744888, 'max_delta_step': 1.6962942508181649}. Best is trial 75 with value: 0.30364407333889826.\u001b[0m\n",
      "\u001b[32m[I 2021-09-03 16:09:09,056]\u001b[0m Trial 81 finished with value: 0.3037895363245819 and parameters: {'booster': 'gbtree', 'lambda': 0.000989094848662152, 'alpha': 0.010097295288877593, 'max_depth': 5, 'eta': 0.019159911670809597, 'gamma': 0.10859251893078896, 'grow_policy': 'lossguide', 'min_child_weight': 6, 'subsample': 0.8666420475409814, 'colsample_bytree': 0.1856899927005808, 'max_delta_step': 4.2388715740678}. Best is trial 75 with value: 0.30364407333889826.\u001b[0m\n",
      "\u001b[32m[I 2021-09-03 16:11:18,329]\u001b[0m Trial 82 finished with value: 0.30352159438410475 and parameters: {'booster': 'gbtree', 'lambda': 0.001060075040917546, 'alpha': 0.09535235243177408, 'max_depth': 5, 'eta': 0.017085920999148997, 'gamma': 0.10613091429977482, 'grow_policy': 'lossguide', 'min_child_weight': 5, 'subsample': 0.8703600704101064, 'colsample_bytree': 0.2233115413593441, 'max_delta_step': 4.709670927684653}. Best is trial 82 with value: 0.30352159438410475.\u001b[0m\n",
      "\u001b[32m[I 2021-09-03 16:13:28,544]\u001b[0m Trial 83 finished with value: 0.3041655932640643 and parameters: {'booster': 'gbtree', 'lambda': 0.0007321306457293217, 'alpha': 0.2682337690953381, 'max_depth': 5, 'eta': 0.016796370825215866, 'gamma': 0.10531282692383016, 'grow_policy': 'lossguide', 'min_child_weight': 5, 'subsample': 0.8745469331163226, 'colsample_bytree': 0.18271362657563178, 'max_delta_step': 4.089074828244051}. Best is trial 82 with value: 0.30352159438410475.\u001b[0m\n",
      "\u001b[32m[I 2021-09-03 16:15:33,839]\u001b[0m Trial 84 finished with value: 0.304127068531025 and parameters: {'booster': 'gbtree', 'lambda': 0.004358893717140297, 'alpha': 0.07261030232356341, 'max_depth': 6, 'eta': 0.01870543396755984, 'gamma': 0.35256486527142616, 'grow_policy': 'lossguide', 'min_child_weight': 6, 'subsample': 0.8668060431009863, 'colsample_bytree': 0.2587103348401908, 'max_delta_step': 4.497490714567509}. Best is trial 82 with value: 0.30352159438410475.\u001b[0m\n",
      "\u001b[32m[I 2021-09-03 16:18:57,705]\u001b[0m Trial 85 finished with value: 0.3050106676271279 and parameters: {'booster': 'gbtree', 'lambda': 0.0003032742918012386, 'alpha': 0.017885885227129583, 'max_depth': 5, 'eta': 0.014436616804986124, 'gamma': 0.050876162862139425, 'grow_policy': 'lossguide', 'min_child_weight': 5, 'subsample': 0.819636088021561, 'colsample_bytree': 0.6406251345847734, 'max_delta_step': 3.1951328956318763}. Best is trial 82 with value: 0.30352159438410475.\u001b[0m\n",
      "\u001b[32m[I 2021-09-03 16:22:21,516]\u001b[0m Trial 86 finished with value: 0.30875986277259243 and parameters: {'booster': 'gbtree', 'lambda': 0.0008752098349903011, 'alpha': 0.7395329641350933, 'max_depth': 5, 'eta': 0.010526557418213596, 'gamma': 0.013341258672327985, 'grow_policy': 'lossguide', 'min_child_weight': 5, 'subsample': 0.7695572170777074, 'colsample_bytree': 0.07739511410632521, 'max_delta_step': 3.6139414494250985}. Best is trial 82 with value: 0.30352159438410475.\u001b[0m\n",
      "\u001b[32m[I 2021-09-03 16:24:50,939]\u001b[0m Trial 87 finished with value: 0.30575541656734784 and parameters: {'booster': 'gbtree', 'lambda': 0.006155013671985723, 'alpha': 0.17808952510235873, 'max_depth': 5, 'eta': 0.013426757137499813, 'gamma': 0.026834090469824462, 'grow_policy': 'lossguide', 'min_child_weight': 6, 'subsample': 0.7264946480082948, 'colsample_bytree': 0.13986991872891613, 'max_delta_step': 4.805448507898271}. Best is trial 82 with value: 0.30352159438410475.\u001b[0m\n",
      "\u001b[32m[I 2021-09-03 16:27:43,609]\u001b[0m Trial 88 finished with value: 0.3045812696665532 and parameters: {'booster': 'gbtree', 'lambda': 0.00011704708695074831, 'alpha': 0.00957348602963322, 'max_depth': 4, 'eta': 0.0115026717863858, 'gamma': 0.09494823368817462, 'grow_policy': 'lossguide', 'min_child_weight': 12, 'subsample': 0.9372378029842287, 'colsample_bytree': 0.30616618021589537, 'max_delta_step': 2.553711425733385}. Best is trial 82 with value: 0.30352159438410475.\u001b[0m\n",
      "\u001b[32m[I 2021-09-03 16:28:40,867]\u001b[0m Trial 89 finished with value: 0.3313188883525335 and parameters: {'booster': 'gbtree', 'lambda': 0.003276635300736147, 'alpha': 0.1298985969362782, 'max_depth': 5, 'eta': 0.01787594758192589, 'gamma': 0.6443162011392053, 'grow_policy': 'lossguide', 'min_child_weight': 20, 'subsample': 0.074420874669831, 'colsample_bytree': 0.21442593248007863, 'max_delta_step': 4.6729315501400555}. Best is trial 82 with value: 0.30352159438410475.\u001b[0m\n",
      "\u001b[32m[I 2021-09-03 16:30:31,645]\u001b[0m Trial 90 finished with value: 0.30643753959083236 and parameters: {'booster': 'gbtree', 'lambda': 0.0015119435427787696, 'alpha': 3.9868502699007684e-08, 'max_depth': 4, 'eta': 0.020715258256856665, 'gamma': 0.003232961155720023, 'grow_policy': 'lossguide', 'min_child_weight': 6, 'subsample': 0.8600266350785217, 'colsample_bytree': 0.10157592663376225, 'max_delta_step': 2.8739701578630097}. Best is trial 82 with value: 0.30352159438410475.\u001b[0m\n",
      "\u001b[32m[I 2021-09-03 16:32:32,571]\u001b[0m Trial 91 finished with value: 0.3039950014513125 and parameters: {'booster': 'gbtree', 'lambda': 0.0045731709715591436, 'alpha': 0.05481224310103449, 'max_depth': 6, 'eta': 0.019035855392198188, 'gamma': 0.39589283675090703, 'grow_policy': 'lossguide', 'min_child_weight': 6, 'subsample': 0.8696034850795574, 'colsample_bytree': 0.2537016665582187, 'max_delta_step': 4.383438489141099}. Best is trial 82 with value: 0.30352159438410475.\u001b[0m\n",
      "\u001b[32m[I 2021-09-03 16:34:42,753]\u001b[0m Trial 92 finished with value: 0.30543437386255007 and parameters: {'booster': 'gbtree', 'lambda': 0.0005599545973089204, 'alpha': 0.058461517460751976, 'max_depth': 7, 'eta': 0.018896848606631586, 'gamma': 0.3135776197291208, 'grow_policy': 'lossguide', 'min_child_weight': 5, 'subsample': 0.8225575867357442, 'colsample_bytree': 0.2315240678443069, 'max_delta_step': 4.298828327864484}. Best is trial 82 with value: 0.30352159438410475.\u001b[0m\n",
      "\u001b[32m[I 2021-09-03 16:36:38,884]\u001b[0m Trial 93 finished with value: 0.30493955333525163 and parameters: {'booster': 'gbtree', 'lambda': 0.0021144323249929113, 'alpha': 0.46969838590833557, 'max_depth': 6, 'eta': 0.021051141307010014, 'gamma': 0.18662681970128273, 'grow_policy': 'lossguide', 'min_child_weight': 7, 'subsample': 0.8943967790252684, 'colsample_bytree': 0.26873182148371033, 'max_delta_step': 3.9616037093701415}. Best is trial 82 with value: 0.30352159438410475.\u001b[0m\n",
      "\u001b[32m[I 2021-09-03 16:38:57,490]\u001b[0m Trial 94 finished with value: 0.3047245756905245 and parameters: {'booster': 'gbtree', 'lambda': 0.0013049849953136487, 'alpha': 0.032909726103419516, 'max_depth': 6, 'eta': 0.016368924811807697, 'gamma': 0.05645611326041447, 'grow_policy': 'lossguide', 'min_child_weight': 6, 'subsample': 0.7984274141141667, 'colsample_bytree': 0.28962667708788253, 'max_delta_step': 9.971992857693174}. Best is trial 82 with value: 0.30352159438410475.\u001b[0m\n",
      "\u001b[32m[I 2021-09-03 16:41:26,264]\u001b[0m Trial 95 finished with value: 0.30559297828905646 and parameters: {'booster': 'gbtree', 'lambda': 0.012512854057763811, 'alpha': 0.02109288939438011, 'max_depth': 6, 'eta': 0.0152457138636434, 'gamma': 0.3971485348950635, 'grow_policy': 'lossguide', 'min_child_weight': 5, 'subsample': 0.9142017897107894, 'colsample_bytree': 0.17585771926431734, 'max_delta_step': 5.078769495403995}. Best is trial 82 with value: 0.30352159438410475.\u001b[0m\n",
      "\u001b[32m[I 2021-09-03 16:43:30,802]\u001b[0m Trial 96 finished with value: 0.30648683674121757 and parameters: {'booster': 'gbtree', 'lambda': 0.00752400118958987, 'alpha': 0.005565740327486972, 'max_depth': 7, 'eta': 0.01985147317634493, 'gamma': 0.09643395659199161, 'grow_policy': 'lossguide', 'min_child_weight': 7, 'subsample': 0.8443132531522083, 'colsample_bytree': 0.19883998521749327, 'max_delta_step': 1.333410790348064}. Best is trial 82 with value: 0.30352159438410475.\u001b[0m\n",
      "\u001b[32m[I 2021-09-03 16:45:35,125]\u001b[0m Trial 97 finished with value: 0.30364374972519365 and parameters: {'booster': 'gbtree', 'lambda': 0.00033081793701956406, 'alpha': 0.008387869472582118, 'max_depth': 5, 'eta': 0.017492907210781138, 'gamma': 0.00012640960403945237, 'grow_policy': 'lossguide', 'min_child_weight': 6, 'subsample': 0.8784884555808784, 'colsample_bytree': 0.23984248090696775, 'max_delta_step': 3.4072277845456225}. Best is trial 82 with value: 0.30352159438410475.\u001b[0m\n",
      "\u001b[32m[I 2021-09-03 16:47:31,120]\u001b[0m Trial 98 finished with value: 0.3045688309691815 and parameters: {'booster': 'gbtree', 'lambda': 0.0003228829265302779, 'alpha': 0.12309193619751978, 'max_depth': 5, 'eta': 0.017544131849594427, 'gamma': 2.6949517090858842e-05, 'grow_policy': 'depthwise', 'min_child_weight': 15, 'subsample': 0.9459056021927593, 'colsample_bytree': 0.24721860717071997, 'max_delta_step': 3.520850241283633}. Best is trial 82 with value: 0.30352159438410475.\u001b[0m\n",
      "\u001b[32m[I 2021-09-03 16:49:05,992]\u001b[0m Trial 99 finished with value: 0.3051514994983422 and parameters: {'booster': 'gbtree', 'lambda': 4.224641391955517e-05, 'alpha': 0.012591994249442804, 'max_depth': 5, 'eta': 0.021556398647727754, 'gamma': 0.00016384918878165603, 'grow_policy': 'lossguide', 'min_child_weight': 6, 'subsample': 0.7773760509139817, 'colsample_bytree': 0.1626326159507942, 'max_delta_step': 2.023949853635994}. Best is trial 82 with value: 0.30352159438410475.\u001b[0m\n",
      "\u001b[32m[I 2021-09-03 16:51:54,956]\u001b[0m Trial 100 finished with value: 0.306594501470289 and parameters: {'booster': 'gbtree', 'lambda': 2.0696438688970143e-05, 'alpha': 0.04150796499937187, 'max_depth': 5, 'eta': 0.012047399666376487, 'gamma': 0.0010748581218373264, 'grow_policy': 'lossguide', 'min_child_weight': 5, 'subsample': 0.5585319504533108, 'colsample_bytree': 0.12682889367325995, 'max_delta_step': 2.801101330314972}. Best is trial 82 with value: 0.30352159438410475.\u001b[0m\n",
      "\u001b[32m[I 2021-09-03 16:53:24,965]\u001b[0m Trial 101 finished with value: 0.30406674908497305 and parameters: {'booster': 'gbtree', 'lambda': 0.0009295336628567486, 'alpha': 0.002185121105135177, 'max_depth': 4, 'eta': 0.02447781247938993, 'gamma': 1.146637075460207e-05, 'grow_policy': 'lossguide', 'min_child_weight': 6, 'subsample': 0.8804098167880833, 'colsample_bytree': 0.22917479022705425, 'max_delta_step': 3.7942333185427968}. Best is trial 82 with value: 0.30352159438410475.\u001b[0m\n",
      "\u001b[32m[I 2021-09-03 16:54:51,126]\u001b[0m Trial 102 finished with value: 0.30404715706794294 and parameters: {'booster': 'gbtree', 'lambda': 0.000951580561454487, 'alpha': 0.003206814517161417, 'max_depth': 4, 'eta': 0.024775137243921535, 'gamma': 5.296901009347262e-06, 'grow_policy': 'lossguide', 'min_child_weight': 6, 'subsample': 0.8637140459257047, 'colsample_bytree': 0.23478277164585976, 'max_delta_step': 3.846076127414553}. Best is trial 82 with value: 0.30352159438410475.\u001b[0m\n",
      "\u001b[32m[I 2021-09-03 16:56:55,209]\u001b[0m Trial 103 finished with value: 0.30904975666189183 and parameters: {'booster': 'gbtree', 'lambda': 0.0010301724782456926, 'alpha': 0.002530060063616569, 'max_depth': 9, 'eta': 0.02376932509876602, 'gamma': 4.1985553717297036e-06, 'grow_policy': 'lossguide', 'min_child_weight': 6, 'subsample': 0.8700203743752211, 'colsample_bytree': 0.23313812811079385, 'max_delta_step': 3.2834587059694353}. Best is trial 82 with value: 0.30352159438410475.\u001b[0m\n",
      "\u001b[32m[I 2021-09-03 16:58:17,199]\u001b[0m Trial 104 finished with value: 0.30418631590093564 and parameters: {'booster': 'gbtree', 'lambda': 0.0005637393411838999, 'alpha': 0.003687377721737072, 'max_depth': 4, 'eta': 0.025307225699450545, 'gamma': 1.6375827806427184e-06, 'grow_policy': 'lossguide', 'min_child_weight': 7, 'subsample': 0.8165710254183723, 'colsample_bytree': 0.188933670525979, 'max_delta_step': 3.885210460614185}. Best is trial 82 with value: 0.30352159438410475.\u001b[0m\n",
      "\u001b[32m[I 2021-09-03 17:00:12,508]\u001b[0m Trial 105 finished with value: 0.3037766308412247 and parameters: {'booster': 'gbtree', 'lambda': 0.0018648740686987568, 'alpha': 0.0081253188911776, 'max_depth': 5, 'eta': 0.019353819216107487, 'gamma': 1.0895439400698664e-05, 'grow_policy': 'lossguide', 'min_child_weight': 6, 'subsample': 0.8556538959308673, 'colsample_bytree': 0.25808615623809983, 'max_delta_step': 4.1597523305927995}. Best is trial 82 with value: 0.30352159438410475.\u001b[0m\n",
      "\u001b[32m[I 2021-09-03 17:02:07,199]\u001b[0m Trial 106 finished with value: 0.3040064603744419 and parameters: {'booster': 'gbtree', 'lambda': 0.00023033309998294203, 'alpha': 0.009687890574694508, 'max_depth': 5, 'eta': 0.019425964741716466, 'gamma': 1.5684835703117287e-06, 'grow_policy': 'lossguide', 'min_child_weight': 7, 'subsample': 0.8576516612073513, 'colsample_bytree': 0.31180713135899063, 'max_delta_step': 4.219485528294633}. Best is trial 82 with value: 0.30352159438410475.\u001b[0m\n",
      "\u001b[32m[I 2021-09-03 17:03:59,496]\u001b[0m Trial 107 finished with value: 0.30461978511748655 and parameters: {'booster': 'gbtree', 'lambda': 0.00028820436855401654, 'alpha': 0.007723043191699159, 'max_depth': 5, 'eta': 0.018928387037631833, 'gamma': 1.2700072629511646e-06, 'grow_policy': 'lossguide', 'min_child_weight': 7, 'subsample': 0.7482884171841381, 'colsample_bytree': 0.3086751221672199, 'max_delta_step': 4.1633621656094455}. Best is trial 82 with value: 0.30352159438410475.\u001b[0m\n",
      "\u001b[32m[I 2021-09-03 17:06:19,705]\u001b[0m Trial 108 finished with value: 0.30639440936382434 and parameters: {'booster': 'gbtree', 'lambda': 0.00015102126710099943, 'alpha': 0.007016960541781205, 'max_depth': 8, 'eta': 0.017188087404675697, 'gamma': 6.184131099396532e-07, 'grow_policy': 'lossguide', 'min_child_weight': 6, 'subsample': 0.8567771107370011, 'colsample_bytree': 0.2800287079505819, 'max_delta_step': 3.479277185430579}. Best is trial 82 with value: 0.30352159438410475.\u001b[0m\n",
      "\u001b[32m[I 2021-09-03 17:08:40,695]\u001b[0m Trial 109 finished with value: 0.30350597144371216 and parameters: {'booster': 'gbtree', 'lambda': 8.159990127671778e-05, 'alpha': 0.013558725075410793, 'max_depth': 6, 'eta': 0.016057331370556007, 'gamma': 4.818087718566861e-06, 'grow_policy': 'lossguide', 'min_child_weight': 5, 'subsample': 0.8364027813815409, 'colsample_bytree': 0.26285359066430025, 'max_delta_step': 2.372776035199697}. Best is trial 109 with value: 0.30350597144371216.\u001b[0m\n",
      "\u001b[32m[I 2021-09-03 17:11:19,165]\u001b[0m Trial 110 finished with value: 0.30484894964116144 and parameters: {'booster': 'gbtree', 'lambda': 7.508789507454342e-05, 'alpha': 0.014840924790479482, 'max_depth': 6, 'eta': 0.014632803122318022, 'gamma': 3.1379637130680682e-06, 'grow_policy': 'lossguide', 'min_child_weight': 5, 'subsample': 0.8368606351675646, 'colsample_bytree': 0.34213058472964764, 'max_delta_step': 2.305122904907536}. Best is trial 109 with value: 0.30350597144371216.\u001b[0m\n",
      "\u001b[32m[I 2021-09-03 17:13:17,796]\u001b[0m Trial 111 finished with value: 0.30346899498579694 and parameters: {'booster': 'gbtree', 'lambda': 0.0003961619847430148, 'alpha': 0.028084964124176354, 'max_depth': 5, 'eta': 0.018270467908215342, 'gamma': 5.560235715442363e-06, 'grow_policy': 'lossguide', 'min_child_weight': 5, 'subsample': 0.9042162942608186, 'colsample_bytree': 0.25812730524048144, 'max_delta_step': 4.539395823537233}. Best is trial 111 with value: 0.30346899498579694.\u001b[0m\n",
      "\u001b[32m[I 2021-09-03 17:15:39,142]\u001b[0m Trial 112 finished with value: 0.3037273303727304 and parameters: {'booster': 'gbtree', 'lambda': 0.00019857427536404756, 'alpha': 0.024988824289914224, 'max_depth': 6, 'eta': 0.015921278793202695, 'gamma': 8.844924307812742e-06, 'grow_policy': 'lossguide', 'min_child_weight': 5, 'subsample': 0.9085671894244918, 'colsample_bytree': 0.264242721538525, 'max_delta_step': 4.639702015195388}. Best is trial 111 with value: 0.30346899498579694.\u001b[0m\n",
      "\u001b[32m[I 2021-09-03 17:18:08,255]\u001b[0m Trial 113 finished with value: 0.3040195077321606 and parameters: {'booster': 'gbtree', 'lambda': 0.0019125385241265884, 'alpha': 0.022366654158363752, 'max_depth': 6, 'eta': 0.015552077100743383, 'gamma': 1.1351946466619119e-05, 'grow_policy': 'lossguide', 'min_child_weight': 5, 'subsample': 0.9129593412050019, 'colsample_bytree': 0.25868497333194657, 'max_delta_step': 4.5973726996657565}. Best is trial 111 with value: 0.30346899498579694.\u001b[0m\n",
      "\u001b[32m[I 2021-09-03 17:20:30,603]\u001b[0m Trial 114 finished with value: 0.30577789123370835 and parameters: {'booster': 'gbtree', 'lambda': 0.0004226373273770655, 'alpha': 0.05639402109775364, 'max_depth': 7, 'eta': 0.01663165374755443, 'gamma': 7.3770877711096246e-06, 'grow_policy': 'lossguide', 'min_child_weight': 5, 'subsample': 0.9618833290796097, 'colsample_bytree': 0.20100082220070864, 'max_delta_step': 4.411986330011556}. Best is trial 111 with value: 0.30346899498579694.\u001b[0m\n",
      "\u001b[32m[I 2021-09-03 17:23:17,127]\u001b[0m Trial 115 finished with value: 0.30484885110679655 and parameters: {'booster': 'gbtree', 'lambda': 0.00018406126702799033, 'alpha': 0.031413310524367036, 'max_depth': 6, 'eta': 0.012939649262397858, 'gamma': 1.3512279516811366e-05, 'grow_policy': 'lossguide', 'min_child_weight': 5, 'subsample': 0.988651894004424, 'colsample_bytree': 0.287942458915512, 'max_delta_step': 3.0036308537354355}. Best is trial 111 with value: 0.30346899498579694.\u001b[0m\n",
      "\u001b[32m[I 2021-09-03 17:25:26,042]\u001b[0m Trial 116 finished with value: 0.30401283940231816 and parameters: {'booster': 'gbtree', 'lambda': 9.707386466626925e-05, 'alpha': 0.1027057699579781, 'max_depth': 6, 'eta': 0.018109758957808617, 'gamma': 5.551536081068723e-05, 'grow_policy': 'lossguide', 'min_child_weight': 5, 'subsample': 0.9327533898974195, 'colsample_bytree': 0.25506133736804537, 'max_delta_step': 4.956833722852847}. Best is trial 111 with value: 0.30346899498579694.\u001b[0m\n",
      "\u001b[32m[I 2021-09-03 17:28:20,132]\u001b[0m Trial 117 finished with value: 0.3056090611116048 and parameters: {'booster': 'gbtree', 'lambda': 0.000639499039581137, 'alpha': 0.014237379655042662, 'max_depth': 7, 'eta': 0.013826005269946134, 'gamma': 2.9208076912883718e-05, 'grow_policy': 'lossguide', 'min_child_weight': 6, 'subsample': 0.9107742867986888, 'colsample_bytree': 0.21219312643467098, 'max_delta_step': 2.71124188710923}. Best is trial 111 with value: 0.30346899498579694.\u001b[0m\n",
      "\u001b[32m[I 2021-09-03 17:30:34,960]\u001b[0m Trial 118 finished with value: 0.30624916172648053 and parameters: {'booster': 'gbtree', 'lambda': 0.00037826746359759293, 'alpha': 0.17280851895055033, 'max_depth': 5, 'eta': 0.016144899501515042, 'gamma': 0.00010703438467919507, 'grow_policy': 'lossguide', 'min_child_weight': 19, 'subsample': 0.8943066960389765, 'colsample_bytree': 0.15021265284593244, 'max_delta_step': 4.660885738761869}. Best is trial 111 with value: 0.30346899498579694.\u001b[0m\n",
      "\u001b[32m[I 2021-09-03 17:32:36,045]\u001b[0m Trial 119 finished with value: 0.30449243564124345 and parameters: {'booster': 'gbtree', 'lambda': 0.002551821438541402, 'alpha': 0.02200506282345546, 'max_depth': 5, 'eta': 0.017171462484600976, 'gamma': 6.3901876420595745e-06, 'grow_policy': 'lossguide', 'min_child_weight': 5, 'subsample': 0.8057505489240344, 'colsample_bytree': 0.17772030384189375, 'max_delta_step': 2.4281637507241367}. Best is trial 111 with value: 0.30346899498579694.\u001b[0m\n",
      "\u001b[32m[I 2021-09-03 17:34:32,464]\u001b[0m Trial 120 finished with value: 0.30481806823242963 and parameters: {'booster': 'gbtree', 'lambda': 0.0054571497521084195, 'alpha': 0.07033089820949923, 'max_depth': 6, 'eta': 0.020450603462015743, 'gamma': 2.7320437349790677e-05, 'grow_policy': 'lossguide', 'min_child_weight': 6, 'subsample': 0.8393697348659682, 'colsample_bytree': 0.20640106096481717, 'max_delta_step': 1.9763733103503893}. Best is trial 111 with value: 0.30346899498579694.\u001b[0m\n",
      "\u001b[32m[I 2021-09-03 17:36:27,006]\u001b[0m Trial 121 finished with value: 0.30424396787878305 and parameters: {'booster': 'gbtree', 'lambda': 0.00022371031361721676, 'alpha': 0.008560997224682555, 'max_depth': 5, 'eta': 0.019234788574622658, 'gamma': 2.4081358632985864e-06, 'grow_policy': 'lossguide', 'min_child_weight': 7, 'subsample': 0.8775799078087566, 'colsample_bytree': 0.3169250287782708, 'max_delta_step': 4.159341004986881}. Best is trial 111 with value: 0.30346899498579694.\u001b[0m\n",
      "\u001b[32m[I 2021-09-03 17:38:07,221]\u001b[0m Trial 122 finished with value: 0.307159066243906 and parameters: {'booster': 'gbtree', 'lambda': 0.00022800225785153417, 'alpha': 0.010793844116171089, 'max_depth': 5, 'eta': 0.01833838928025774, 'gamma': 1.145563068879582e-06, 'grow_policy': 'lossguide', 'min_child_weight': 6, 'subsample': 0.40125692289383125, 'colsample_bytree': 0.2682803086231285, 'max_delta_step': 4.364743712805441}. Best is trial 111 with value: 0.30346899498579694.\u001b[0m\n",
      "\u001b[32m[I 2021-09-03 17:40:31,415]\u001b[0m Trial 123 finished with value: 0.303805529944264 and parameters: {'booster': 'gbtree', 'lambda': 6.850296868258283e-05, 'alpha': 0.0056962144463698116, 'max_depth': 5, 'eta': 0.015272158057245232, 'gamma': 2.4151706053191163e-07, 'grow_policy': 'lossguide', 'min_child_weight': 5, 'subsample': 0.84646859049455, 'colsample_bytree': 0.29031856456277644, 'max_delta_step': 4.075541160107544}. Best is trial 111 with value: 0.30346899498579694.\u001b[0m\n",
      "\u001b[32m[I 2021-09-03 17:42:58,892]\u001b[0m Trial 124 finished with value: 0.30385581833051384 and parameters: {'booster': 'gbtree', 'lambda': 7.812269561077812e-05, 'alpha': 0.005106160317724092, 'max_depth': 6, 'eta': 0.015240560748278216, 'gamma': 2.3433960716605805e-08, 'grow_policy': 'lossguide', 'min_child_weight': 5, 'subsample': 0.9014819390726864, 'colsample_bytree': 0.24700881782142708, 'max_delta_step': 4.015370124365521}. Best is trial 111 with value: 0.30346899498579694.\u001b[0m\n",
      "\u001b[32m[I 2021-09-03 17:45:26,665]\u001b[0m Trial 125 finished with value: 0.30392730377772265 and parameters: {'booster': 'gbtree', 'lambda': 2.252993143628218e-05, 'alpha': 0.004962554720126147, 'max_depth': 5, 'eta': 0.014896150114164362, 'gamma': 1.0330292418641453e-08, 'grow_policy': 'lossguide', 'min_child_weight': 5, 'subsample': 0.9309834943787665, 'colsample_bytree': 0.29906103887818947, 'max_delta_step': 3.676821404054647}. Best is trial 111 with value: 0.30346899498579694.\u001b[0m\n",
      "\u001b[32m[I 2021-09-03 17:48:25,969]\u001b[0m Trial 126 finished with value: 0.3044532040194634 and parameters: {'booster': 'gbtree', 'lambda': 4.989035407666533e-05, 'alpha': 0.0013830235626433565, 'max_depth': 6, 'eta': 0.013325362296999484, 'gamma': 6.35488544315813e-08, 'grow_policy': 'lossguide', 'min_child_weight': 5, 'subsample': 0.9635451073774972, 'colsample_bytree': 0.36035226104561247, 'max_delta_step': 3.294556481380653}. Best is trial 111 with value: 0.30346899498579694.\u001b[0m\n",
      "\u001b[32m[I 2021-09-03 17:50:37,852]\u001b[0m Trial 127 finished with value: 0.30351236448933966 and parameters: {'booster': 'gbtree', 'lambda': 7.26833750573018e-05, 'alpha': 0.005120198919555256, 'max_depth': 5, 'eta': 0.01565147953993028, 'gamma': 5.618476193490568e-07, 'grow_policy': 'lossguide', 'min_child_weight': 5, 'subsample': 0.8937702852654763, 'colsample_bytree': 0.21427115318139822, 'max_delta_step': 4.02801525584685}. Best is trial 111 with value: 0.30346899498579694.\u001b[0m\n",
      "\u001b[32m[I 2021-09-03 17:52:47,397]\u001b[0m Trial 128 finished with value: 0.3038713761436052 and parameters: {'booster': 'gbtree', 'lambda': 0.0001484764748506986, 'alpha': 0.0009278464523399344, 'max_depth': 5, 'eta': 0.016066181043020957, 'gamma': 1.954910360191715e-07, 'grow_policy': 'lossguide', 'min_child_weight': 5, 'subsample': 0.8272227422039027, 'colsample_bytree': 0.2161466219237162, 'max_delta_step': 4.765859493897037}. Best is trial 111 with value: 0.30346899498579694.\u001b[0m\n",
      "\u001b[32m[I 2021-09-03 17:55:21,677]\u001b[0m Trial 129 finished with value: 0.30419966465343123 and parameters: {'booster': 'gbtree', 'lambda': 1.4834050256726004e-05, 'alpha': 0.0018043479004711954, 'max_depth': 5, 'eta': 0.012366387351828805, 'gamma': 4.371530149014534e-07, 'grow_policy': 'depthwise', 'min_child_weight': 5, 'subsample': 0.9212419348567775, 'colsample_bytree': 0.17703712535041602, 'max_delta_step': 4.551058190379521}. Best is trial 111 with value: 0.30346899498579694.\u001b[0m\n",
      "\u001b[32m[I 2021-09-03 17:58:37,168]\u001b[0m Trial 130 finished with value: 0.30493566954438994 and parameters: {'booster': 'gbtree', 'lambda': 0.00011147109899081341, 'alpha': 0.0035104475028040964, 'max_depth': 5, 'eta': 0.01008851551089897, 'gamma': 1.4265545311067796e-07, 'grow_policy': 'lossguide', 'min_child_weight': 5, 'subsample': 0.8498134883480001, 'colsample_bytree': 0.1587150835821703, 'max_delta_step': 5.018623723272162}. Best is trial 111 with value: 0.30346899498579694.\u001b[0m\n",
      "\u001b[32m[I 2021-09-03 18:00:58,338]\u001b[0m Trial 131 finished with value: 0.30356896008882106 and parameters: {'booster': 'gbtree', 'lambda': 6.721056154530674e-05, 'alpha': 0.005865840061468985, 'max_depth': 5, 'eta': 0.01555701315611111, 'gamma': 1.9905733439465833e-08, 'grow_policy': 'lossguide', 'min_child_weight': 5, 'subsample': 0.8919412160918092, 'colsample_bytree': 0.23992418664575263, 'max_delta_step': 4.137418224152842}. Best is trial 111 with value: 0.30346899498579694.\u001b[0m\n",
      "\u001b[32m[I 2021-09-03 18:03:21,552]\u001b[0m Trial 132 finished with value: 0.30410631534839655 and parameters: {'booster': 'gbtree', 'lambda': 6.746575180776978e-05, 'alpha': 0.015509577123367606, 'max_depth': 5, 'eta': 0.014082640339737992, 'gamma': 1.008548743160005e-08, 'grow_policy': 'lossguide', 'min_child_weight': 5, 'subsample': 0.892434709208812, 'colsample_bytree': 0.19123332987410063, 'max_delta_step': 3.6781232181224395}. Best is trial 111 with value: 0.30346899498579694.\u001b[0m\n",
      "\u001b[32m[I 2021-09-03 18:05:32,425]\u001b[0m Trial 133 finished with value: 0.30395805310632384 and parameters: {'booster': 'gbtree', 'lambda': 2.750307864594369e-05, 'alpha': 0.021857632680963017, 'max_depth': 5, 'eta': 0.017092047506454173, 'gamma': 6.694728091274572e-08, 'grow_policy': 'lossguide', 'min_child_weight': 6, 'subsample': 0.9389618897565382, 'colsample_bytree': 0.2766269466258185, 'max_delta_step': 4.19396130464373}. Best is trial 111 with value: 0.30346899498579694.\u001b[0m\n",
      "\u001b[32m[I 2021-09-03 18:07:48,627]\u001b[0m Trial 134 finished with value: 0.3035953860819363 and parameters: {'booster': 'gbtree', 'lambda': 0.0005896686354262922, 'alpha': 0.03914589242726733, 'max_depth': 5, 'eta': 0.015688045107557835, 'gamma': 2.752277117521461e-08, 'grow_policy': 'lossguide', 'min_child_weight': 5, 'subsample': 0.8815054533822787, 'colsample_bytree': 0.24084039979100386, 'max_delta_step': 3.4112525545741113}. Best is trial 111 with value: 0.30346899498579694.\u001b[0m\n",
      "\u001b[32m[I 2021-09-03 18:10:54,929]\u001b[0m Trial 135 finished with value: 0.3036538678884038 and parameters: {'booster': 'gbtree', 'lambda': 0.0006019815413319595, 'alpha': 0.031116143045172334, 'max_depth': 5, 'eta': 0.011148588402856941, 'gamma': 2.5184836768395743e-08, 'grow_policy': 'lossguide', 'min_child_weight': 6, 'subsample': 0.913211569534708, 'colsample_bytree': 0.2364797158211634, 'max_delta_step': 5.295816484772278}. Best is trial 111 with value: 0.30346899498579694.\u001b[0m\n",
      "\u001b[32m[I 2021-09-03 18:13:40,164]\u001b[0m Trial 136 finished with value: 0.3036350466642065 and parameters: {'booster': 'gbtree', 'lambda': 0.000529214572569313, 'alpha': 0.04317726952405237, 'max_depth': 5, 'eta': 0.01184766006918118, 'gamma': 2.1005317440114462e-08, 'grow_policy': 'lossguide', 'min_child_weight': 5, 'subsample': 0.8874151764573528, 'colsample_bytree': 0.2367184169984108, 'max_delta_step': 5.229681590819599}. Best is trial 111 with value: 0.30346899498579694.\u001b[0m\n",
      "\u001b[32m[I 2021-09-03 18:15:56,445]\u001b[0m Trial 137 finished with value: 0.30356441757836206 and parameters: {'booster': 'gbtree', 'lambda': 7.511959126884785e-06, 'alpha': 0.04610897691349516, 'max_depth': 5, 'eta': 0.015958187767533213, 'gamma': 2.1130129248661344e-08, 'grow_policy': 'lossguide', 'min_child_weight': 5, 'subsample': 0.9082660000293665, 'colsample_bytree': 0.23108418011803955, 'max_delta_step': 5.321874064505041}. Best is trial 111 with value: 0.30346899498579694.\u001b[0m\n",
      "\u001b[32m[I 2021-09-03 18:18:55,814]\u001b[0m Trial 138 finished with value: 0.30358650891977856 and parameters: {'booster': 'gbtree', 'lambda': 3.302906451423782e-06, 'alpha': 0.03346421140301673, 'max_depth': 5, 'eta': 0.010769912764568889, 'gamma': 1.9960050857662642e-08, 'grow_policy': 'lossguide', 'min_child_weight': 5, 'subsample': 0.9549281177610361, 'colsample_bytree': 0.22612026650826297, 'max_delta_step': 5.347185926862438}. Best is trial 111 with value: 0.30346899498579694.\u001b[0m\n",
      "\u001b[32m[I 2021-09-03 18:22:05,105]\u001b[0m Trial 139 finished with value: 0.30367040817604457 and parameters: {'booster': 'gbtree', 'lambda': 2.238997380975244e-06, 'alpha': 0.039750894723279626, 'max_depth': 5, 'eta': 0.010413907925488512, 'gamma': 2.4703364115798777e-08, 'grow_policy': 'lossguide', 'min_child_weight': 5, 'subsample': 0.955864104765972, 'colsample_bytree': 0.23801445126094764, 'max_delta_step': 5.397091445681157}. Best is trial 111 with value: 0.30346899498579694.\u001b[0m\n",
      "\u001b[32m[I 2021-09-03 18:25:05,007]\u001b[0m Trial 140 finished with value: 0.30382914808983164 and parameters: {'booster': 'gbtree', 'lambda': 1.909923453364266e-06, 'alpha': 0.03890263480116924, 'max_depth': 5, 'eta': 0.01116486129249265, 'gamma': 2.1759420470029688e-08, 'grow_policy': 'lossguide', 'min_child_weight': 5, 'subsample': 0.9961164584124479, 'colsample_bytree': 0.23566785617031055, 'max_delta_step': 5.303700507098143}. Best is trial 111 with value: 0.30346899498579694.\u001b[0m\n",
      "\u001b[32m[I 2021-09-03 18:27:55,348]\u001b[0m Trial 141 finished with value: 0.30397543404473615 and parameters: {'booster': 'gbtree', 'lambda': 6.317465015014119e-07, 'alpha': 0.07519714095618424, 'max_depth': 5, 'eta': 0.011671529312624407, 'gamma': 4.710855237008874e-08, 'grow_policy': 'lossguide', 'min_child_weight': 5, 'subsample': 0.9498994294035127, 'colsample_bytree': 0.2164473633952927, 'max_delta_step': 5.678388500193369}. Best is trial 111 with value: 0.30346899498579694.\u001b[0m\n",
      "\u001b[32m[I 2021-09-03 18:31:00,715]\u001b[0m Trial 142 finished with value: 0.30384547683617513 and parameters: {'booster': 'gbtree', 'lambda': 2.6015164811728934e-06, 'alpha': 0.030559452978477643, 'max_depth': 5, 'eta': 0.010889171432324042, 'gamma': 1.4671235282359523e-08, 'grow_policy': 'lossguide', 'min_child_weight': 5, 'subsample': 0.9793949495199004, 'colsample_bytree': 0.23568839670853514, 'max_delta_step': 5.507289253114301}. Best is trial 111 with value: 0.30346899498579694.\u001b[0m\n",
      "\u001b[32m[I 2021-09-03 18:34:10,440]\u001b[0m Trial 143 finished with value: 0.3038129792561534 and parameters: {'booster': 'gbtree', 'lambda': 3.0440068898967016e-06, 'alpha': 0.13441822628539468, 'max_depth': 5, 'eta': 0.01048976332971033, 'gamma': 3.773220197097277e-08, 'grow_policy': 'lossguide', 'min_child_weight': 5, 'subsample': 0.959298967891879, 'colsample_bytree': 0.26653608379257104, 'max_delta_step': 5.304568562762988}. Best is trial 111 with value: 0.30346899498579694.\u001b[0m\n",
      "\u001b[32m[I 2021-09-03 18:39:30,617]\u001b[0m Trial 144 finished with value: 0.3049984049737871 and parameters: {'booster': 'gbtree', 'lambda': 3.951731311641992e-06, 'alpha': 0.04572045403609007, 'max_depth': 5, 'eta': 0.010003789437185669, 'gamma': 1.787600911995152e-08, 'grow_policy': 'lossguide', 'min_child_weight': 5, 'subsample': 0.9176661245758002, 'colsample_bytree': 0.7573717357414671, 'max_delta_step': 5.1639314824014235}. Best is trial 111 with value: 0.30346899498579694.\u001b[0m\n",
      "\u001b[32m[I 2021-09-03 18:41:58,522]\u001b[0m Trial 145 finished with value: 0.303335536964366 and parameters: {'booster': 'gbtree', 'lambda': 9.661877683519715e-06, 'alpha': 0.330776180490875, 'max_depth': 5, 'eta': 0.014495218881832516, 'gamma': 3.0775739658020645e-08, 'grow_policy': 'lossguide', 'min_child_weight': 5, 'subsample': 0.9377476377950548, 'colsample_bytree': 0.22407051965941185, 'max_delta_step': 4.89571314116307}. Best is trial 145 with value: 0.303335536964366.\u001b[0m\n",
      "\u001b[32m[I 2021-09-03 18:44:43,018]\u001b[0m Trial 146 finished with value: 0.30358452632285504 and parameters: {'booster': 'gbtree', 'lambda': 8.813311356959678e-06, 'alpha': 0.44122636937006804, 'max_depth': 5, 'eta': 0.012729229931358253, 'gamma': 2.9713954642228992e-08, 'grow_policy': 'lossguide', 'min_child_weight': 6, 'subsample': 0.9709286753156051, 'colsample_bytree': 0.22172431314601973, 'max_delta_step': 4.9498732594626915}. Best is trial 145 with value: 0.303335536964366.\u001b[0m\n",
      "\u001b[32m[I 2021-09-03 18:47:32,812]\u001b[0m Trial 147 finished with value: 0.3037054976544454 and parameters: {'booster': 'gbtree', 'lambda': 9.389024568020542e-06, 'alpha': 1.4214351335183917, 'max_depth': 5, 'eta': 0.013055577229938406, 'gamma': 3.051023665468478e-08, 'grow_policy': 'lossguide', 'min_child_weight': 6, 'subsample': 0.9395585791982703, 'colsample_bytree': 0.2403481702368937, 'max_delta_step': 5.868165954278105}. Best is trial 145 with value: 0.303335536964366.\u001b[0m\n",
      "\u001b[32m[I 2021-09-03 18:49:53,801]\u001b[0m Trial 148 finished with value: 0.3040163353336057 and parameters: {'booster': 'gbtree', 'lambda': 7.697860474398072e-06, 'alpha': 0.037558092967376076, 'max_depth': 5, 'eta': 0.014215023221203518, 'gamma': 1.3237756199501289e-08, 'grow_policy': 'lossguide', 'min_child_weight': 6, 'subsample': 0.9777457807348131, 'colsample_bytree': 0.21982004769491367, 'max_delta_step': 4.915338166479025}. Best is trial 145 with value: 0.303335536964366.\u001b[0m\n",
      "\u001b[32m[I 2021-09-03 18:53:03,357]\u001b[0m Trial 149 finished with value: 0.3039334516714045 and parameters: {'booster': 'gbtree', 'lambda': 7.392968742786172e-06, 'alpha': 0.3329342273952634, 'max_depth': 5, 'eta': 0.011309162059116477, 'gamma': 3.091560897049029e-08, 'grow_policy': 'lossguide', 'min_child_weight': 5, 'subsample': 0.9589829526410676, 'colsample_bytree': 0.21340492602239478, 'max_delta_step': 5.093670984614279}. Best is trial 145 with value: 0.303335536964366.\u001b[0m\n",
      "\u001b[32m[I 2021-09-03 18:55:40,952]\u001b[0m Trial 150 finished with value: 0.3038521215494067 and parameters: {'booster': 'gbtree', 'lambda': 8.510661324134512e-07, 'alpha': 0.5980247451712541, 'max_depth': 5, 'eta': 0.012477980119392362, 'gamma': 1.1225769400365233e-07, 'grow_policy': 'lossguide', 'min_child_weight': 6, 'subsample': 0.8826209766739488, 'colsample_bytree': 0.23676243122154375, 'max_delta_step': 5.490165981618345}. Best is trial 145 with value: 0.303335536964366.\u001b[0m\n",
      "\u001b[32m[I 2021-09-03 18:58:33,686]\u001b[0m Trial 151 finished with value: 0.30351373235321816 and parameters: {'booster': 'gbtree', 'lambda': 5.849543440406996e-06, 'alpha': 1.2160328973160088, 'max_depth': 5, 'eta': 0.01331327389286709, 'gamma': 2.88597980171907e-08, 'grow_policy': 'lossguide', 'min_child_weight': 6, 'subsample': 0.936558837945237, 'colsample_bytree': 0.24679398329966873, 'max_delta_step': 5.843045614578063}. Best is trial 145 with value: 0.303335536964366.\u001b[0m\n",
      "\u001b[32m[I 2021-09-03 19:01:28,436]\u001b[0m Trial 152 finished with value: 0.3038516460065322 and parameters: {'booster': 'gbtree', 'lambda': 1.5373985646458332e-06, 'alpha': 0.23678874406923733, 'max_depth': 5, 'eta': 0.011951401888078073, 'gamma': 4.823091522038987e-08, 'grow_policy': 'lossguide', 'min_child_weight': 6, 'subsample': 0.9258146596609906, 'colsample_bytree': 0.2815736560214121, 'max_delta_step': 5.329855839331627}. Best is trial 145 with value: 0.303335536964366.\u001b[0m\n",
      "\u001b[32m[I 2021-09-03 19:04:23,998]\u001b[0m Trial 153 finished with value: 0.30356975086847376 and parameters: {'booster': 'gbtree', 'lambda': 4.7777396666802756e-06, 'alpha': 2.4281938905273006, 'max_depth': 5, 'eta': 0.01357926121520468, 'gamma': 9.200603298765163e-08, 'grow_policy': 'lossguide', 'min_child_weight': 5, 'subsample': 0.9018429401846426, 'colsample_bytree': 0.24726057536957752, 'max_delta_step': 5.930393007424181}. Best is trial 145 with value: 0.303335536964366.\u001b[0m\n",
      "\u001b[32m[I 2021-09-03 19:07:19,170]\u001b[0m Trial 154 finished with value: 0.3040007798041667 and parameters: {'booster': 'gbtree', 'lambda': 4.9923869243142436e-06, 'alpha': 2.371307082174573, 'max_depth': 5, 'eta': 0.012791732817992453, 'gamma': 1.0290064268414613e-07, 'grow_policy': 'lossguide', 'min_child_weight': 6, 'subsample': 0.9033725620602361, 'colsample_bytree': 0.25382535965800024, 'max_delta_step': 6.062429752514346}. Best is trial 145 with value: 0.303335536964366.\u001b[0m\n",
      "\u001b[32m[I 2021-09-03 19:09:58,667]\u001b[0m Trial 155 finished with value: 0.30387175784656645 and parameters: {'booster': 'gbtree', 'lambda': 1.080428426243518e-05, 'alpha': 0.9244143324216345, 'max_depth': 5, 'eta': 0.014617917581323275, 'gamma': 1.749608524890653e-08, 'grow_policy': 'lossguide', 'min_child_weight': 5, 'subsample': 0.8918750858845633, 'colsample_bytree': 0.1963759553001482, 'max_delta_step': 5.772350129484991}. Best is trial 145 with value: 0.303335536964366.\u001b[0m\n",
      "\u001b[32m[I 2021-09-03 19:12:56,903]\u001b[0m Trial 156 finished with value: 0.3043849959689511 and parameters: {'booster': 'gbtree', 'lambda': 7.659890503725251e-06, 'alpha': 1.9937568594573498, 'max_depth': 5, 'eta': 0.013545791091780255, 'gamma': 4.736325873472548e-08, 'grow_policy': 'lossguide', 'min_child_weight': 6, 'subsample': 0.9302363006705457, 'colsample_bytree': 0.16820141945424993, 'max_delta_step': 4.750092823863793}. Best is trial 145 with value: 0.303335536964366.\u001b[0m\n",
      "\u001b[32m[I 2021-09-03 19:15:50,587]\u001b[0m Trial 157 finished with value: 0.30421054459000735 and parameters: {'booster': 'gbtree', 'lambda': 3.6391663346149466e-06, 'alpha': 3.053450444663222, 'max_depth': 5, 'eta': 0.01375367100397295, 'gamma': 1.0093474222167528e-08, 'grow_policy': 'lossguide', 'min_child_weight': 5, 'subsample': 0.9097084257636294, 'colsample_bytree': 0.21287271065754776, 'max_delta_step': 5.938426894297505}. Best is trial 145 with value: 0.303335536964366.\u001b[0m\n",
      "\u001b[32m[I 2021-09-03 19:18:40,796]\u001b[0m Trial 158 finished with value: 0.3043603697865352 and parameters: {'booster': 'gbtree', 'lambda': 1.7410568225027077e-05, 'alpha': 4.407239277671784, 'max_depth': 5, 'eta': 0.015718741008857937, 'gamma': 8.73056696941357e-08, 'grow_policy': 'lossguide', 'min_child_weight': 6, 'subsample': 0.8807118597968657, 'colsample_bytree': 0.2898491857697701, 'max_delta_step': 5.652891009710323}. Best is trial 145 with value: 0.303335536964366.\u001b[0m\n",
      "\u001b[32m[I 2021-09-03 19:20:57,491]\u001b[0m Trial 159 finished with value: 0.30355334543228535 and parameters: {'booster': 'gbtree', 'lambda': 3.269886776816668e-07, 'alpha': 1.3642947402130234, 'max_depth': 5, 'eta': 0.016577900886384875, 'gamma': 3.740121834717e-08, 'grow_policy': 'lossguide', 'min_child_weight': 5, 'subsample': 0.942534475907497, 'colsample_bytree': 0.22628493275550637, 'max_delta_step': 5.061476722651989}. Best is trial 145 with value: 0.303335536964366.\u001b[0m\n",
      "\u001b[32m[I 2021-09-03 19:23:09,394]\u001b[0m Trial 160 finished with value: 0.3044994990524612 and parameters: {'booster': 'gbtree', 'lambda': 1.7757153650228702e-07, 'alpha': 1.0105083694586625, 'max_depth': 5, 'eta': 0.01646821239406883, 'gamma': 3.9029002531714813e-08, 'grow_policy': 'lossguide', 'min_child_weight': 5, 'subsample': 0.9429472690791274, 'colsample_bytree': 0.18872484786378269, 'max_delta_step': 4.90739703165716}. Best is trial 145 with value: 0.303335536964366.\u001b[0m\n",
      "\u001b[32m[I 2021-09-03 19:25:38,340]\u001b[0m Trial 161 finished with value: 0.30341860765476936 and parameters: {'booster': 'gbtree', 'lambda': 3.6040553601728275e-05, 'alpha': 0.4582666238747415, 'max_depth': 5, 'eta': 0.014657231817832853, 'gamma': 2.7642867626677642e-08, 'grow_policy': 'lossguide', 'min_child_weight': 5, 'subsample': 0.9201676147697084, 'colsample_bytree': 0.22731915314630372, 'max_delta_step': 5.122774388928573}. Best is trial 145 with value: 0.303335536964366.\u001b[0m\n",
      "\u001b[32m[I 2021-09-03 19:28:08,502]\u001b[0m Trial 162 finished with value: 0.3038986458171671 and parameters: {'booster': 'gbtree', 'lambda': 6.505976314785907e-08, 'alpha': 1.3129599202127462, 'max_depth': 5, 'eta': 0.014493539926339975, 'gamma': 1.3738217712632646e-08, 'grow_policy': 'lossguide', 'min_child_weight': 5, 'subsample': 0.994967001011557, 'colsample_bytree': 0.21891867687759717, 'max_delta_step': 5.156296563038041}. Best is trial 145 with value: 0.303335536964366.\u001b[0m\n",
      "\u001b[32m[I 2021-09-03 19:30:32,619]\u001b[0m Trial 163 finished with value: 0.3038070923130141 and parameters: {'booster': 'gbtree', 'lambda': 3.0543564874762426e-05, 'alpha': 0.6036732951623359, 'max_depth': 5, 'eta': 0.015241325616087481, 'gamma': 5.879644964854915e-08, 'grow_policy': 'lossguide', 'min_child_weight': 5, 'subsample': 0.970825342993502, 'colsample_bytree': 0.26559894237355586, 'max_delta_step': 4.799561927576475}. Best is trial 145 with value: 0.303335536964366.\u001b[0m\n",
      "\u001b[32m[I 2021-09-03 19:32:51,181]\u001b[0m Trial 164 finished with value: 0.30387688293281506 and parameters: {'booster': 'gbtree', 'lambda': 1.9597371775601953e-07, 'alpha': 0.5484691290784649, 'max_depth': 5, 'eta': 0.01657551361385886, 'gamma': 3.263703415341775e-08, 'grow_policy': 'lossguide', 'min_child_weight': 5, 'subsample': 0.8868662312457469, 'colsample_bytree': 0.25359218098465425, 'max_delta_step': 4.551029978077477}. Best is trial 145 with value: 0.303335536964366.\u001b[0m\n",
      "\u001b[32m[I 2021-09-03 19:35:12,350]\u001b[0m Trial 165 finished with value: 0.30327264430377127 and parameters: {'booster': 'gbtree', 'lambda': 4.382800949826147e-05, 'alpha': 0.3857410581319403, 'max_depth': 5, 'eta': 0.014708998732654186, 'gamma': 2.0628020645808208e-08, 'grow_policy': 'lossguide', 'min_child_weight': 5, 'subsample': 0.9297843852719968, 'colsample_bytree': 0.22424350467814022, 'max_delta_step': 5.080318268790381}. Best is trial 165 with value: 0.30327264430377127.\u001b[0m\n",
      "\u001b[32m[I 2021-09-03 19:37:40,834]\u001b[0m Trial 166 finished with value: 0.3037398508148733 and parameters: {'booster': 'gbtree', 'lambda': 1.2063573282450631e-05, 'alpha': 0.4377118364262228, 'max_depth': 5, 'eta': 0.014288663985683533, 'gamma': 1.9126836257714086e-08, 'grow_policy': 'lossguide', 'min_child_weight': 5, 'subsample': 0.9413689880794863, 'colsample_bytree': 0.22287785087075837, 'max_delta_step': 5.059174544077429}. Best is trial 165 with value: 0.30327264430377127.\u001b[0m\n",
      "\u001b[32m[I 2021-09-03 19:40:18,884]\u001b[0m Trial 167 finished with value: 0.3037798082609825 and parameters: {'booster': 'gbtree', 'lambda': 3.1414853233457135e-05, 'alpha': 0.2999524722827125, 'max_depth': 5, 'eta': 0.013280004258503076, 'gamma': 2.954449705023503e-07, 'grow_policy': 'lossguide', 'min_child_weight': 5, 'subsample': 0.9327055385719816, 'colsample_bytree': 0.279544353631589, 'max_delta_step': 5.609910988673573}. Best is trial 165 with value: 0.30327264430377127.\u001b[0m\n",
      "\u001b[32m[I 2021-09-03 19:42:48,939]\u001b[0m Trial 168 finished with value: 0.30356800017503016 and parameters: {'booster': 'gbtree', 'lambda': 3.4773423852621374e-07, 'alpha': 0.9704254446663922, 'max_depth': 5, 'eta': 0.015554355293964236, 'gamma': 7.803600515252586e-08, 'grow_policy': 'lossguide', 'min_child_weight': 5, 'subsample': 0.9088584134686827, 'colsample_bytree': 0.24197818308844504, 'max_delta_step': 6.231517424948009}. Best is trial 165 with value: 0.30327264430377127.\u001b[0m\n",
      "\u001b[32m[I 2021-09-03 19:45:28,234]\u001b[0m Trial 169 finished with value: 0.30381411358814225 and parameters: {'booster': 'gbtree', 'lambda': 1.25397241358045e-07, 'alpha': 0.9269441439073021, 'max_depth': 5, 'eta': 0.014797488937658138, 'gamma': 7.982913199809039e-08, 'grow_policy': 'lossguide', 'min_child_weight': 5, 'subsample': 0.9060228572875031, 'colsample_bytree': 0.3244929401126453, 'max_delta_step': 6.227571160417357}. Best is trial 165 with value: 0.30327264430377127.\u001b[0m\n",
      "\u001b[32m[I 2021-09-03 19:48:09,830]\u001b[0m Trial 170 finished with value: 0.3043569533007807 and parameters: {'booster': 'gbtree', 'lambda': 4.186752253139386e-05, 'alpha': 3.7008773333603715, 'max_depth': 5, 'eta': 0.015517250891852331, 'gamma': 1.2800873735015362e-07, 'grow_policy': 'lossguide', 'min_child_weight': 5, 'subsample': 0.9759490406853383, 'colsample_bytree': 0.20366809244523493, 'max_delta_step': 6.131863799005283}. Best is trial 165 with value: 0.30327264430377127.\u001b[0m\n",
      "\u001b[32m[I 2021-09-03 19:50:27,315]\u001b[0m Trial 171 finished with value: 0.3032834491768863 and parameters: {'booster': 'gbtree', 'lambda': 3.7292534174131543e-07, 'alpha': 1.420680763052598, 'max_depth': 5, 'eta': 0.017402332926891927, 'gamma': 1.3007856881313535e-08, 'grow_policy': 'lossguide', 'min_child_weight': 5, 'subsample': 0.9193669837205826, 'colsample_bytree': 0.24316684251099782, 'max_delta_step': 5.013168072155929}. Best is trial 165 with value: 0.30327264430377127.\u001b[0m\n",
      "\u001b[32m[I 2021-09-03 19:53:11,187]\u001b[0m Trial 172 finished with value: 0.3032182891051738 and parameters: {'booster': 'gbtree', 'lambda': 2.789351059290745e-07, 'alpha': 1.1512950844910708, 'max_depth': 5, 'eta': 0.013887024749123128, 'gamma': 1.0160658502600104e-08, 'grow_policy': 'lossguide', 'min_child_weight': 5, 'subsample': 0.9242113647830497, 'colsample_bytree': 0.25657575569506336, 'max_delta_step': 4.977324702555719}. Best is trial 172 with value: 0.3032182891051738.\u001b[0m\n",
      "\u001b[32m[I 2021-09-03 19:56:02,146]\u001b[0m Trial 173 finished with value: 0.30356040698573483 and parameters: {'booster': 'gbtree', 'lambda': 5.382343340605979e-07, 'alpha': 1.2338368379355467, 'max_depth': 5, 'eta': 0.01393378169537887, 'gamma': 3.6314259967280415e-08, 'grow_policy': 'lossguide', 'min_child_weight': 5, 'subsample': 0.922568917674905, 'colsample_bytree': 0.26756080658337095, 'max_delta_step': 5.568239958459335}. Best is trial 172 with value: 0.3032182891051738.\u001b[0m\n",
      "\u001b[32m[I 2021-09-03 19:58:50,833]\u001b[0m Trial 174 finished with value: 0.3036928214721525 and parameters: {'booster': 'gbtree', 'lambda': 4.889448744513223e-07, 'alpha': 1.6078426474304954, 'max_depth': 5, 'eta': 0.01402593562919061, 'gamma': 1.3115439252598623e-08, 'grow_policy': 'lossguide', 'min_child_weight': 5, 'subsample': 0.9477390397495882, 'colsample_bytree': 0.2725573931209023, 'max_delta_step': 5.007365752025372}. Best is trial 172 with value: 0.3032182891051738.\u001b[0m\n",
      "\u001b[32m[I 2021-09-03 20:01:23,823]\u001b[0m Trial 175 finished with value: 0.3033027502689307 and parameters: {'booster': 'gbtree', 'lambda': 2.6460386640111523e-07, 'alpha': 0.9593070756610932, 'max_depth': 5, 'eta': 0.014882780441391491, 'gamma': 4.484897700066297e-08, 'grow_policy': 'lossguide', 'min_child_weight': 5, 'subsample': 0.9219041450314291, 'colsample_bytree': 0.257631104105413, 'max_delta_step': 5.51384143289364}. Best is trial 172 with value: 0.3032182891051738.\u001b[0m\n",
      "\u001b[32m[I 2021-09-03 20:03:58,818]\u001b[0m Trial 176 finished with value: 0.30393555151617685 and parameters: {'booster': 'gbtree', 'lambda': 3.405454359553574e-07, 'alpha': 1.1874850080601993, 'max_depth': 5, 'eta': 0.01472223207730823, 'gamma': 5.3947489193259296e-08, 'grow_policy': 'lossguide', 'min_child_weight': 5, 'subsample': 0.9224687153031574, 'colsample_bytree': 0.3003482175453061, 'max_delta_step': 5.8349205288692145}. Best is trial 172 with value: 0.3032182891051738.\u001b[0m\n",
      "\u001b[32m[I 2021-09-03 20:07:06,068]\u001b[0m Trial 177 finished with value: 0.304160807494574 and parameters: {'booster': 'gbtree', 'lambda': 2.6838404663182394e-07, 'alpha': 1.9275321733542483, 'max_depth': 6, 'eta': 0.01339282650494184, 'gamma': 7.160448128114468e-08, 'grow_policy': 'depthwise', 'min_child_weight': 5, 'subsample': 0.9232473926086384, 'colsample_bytree': 0.2555564673021359, 'max_delta_step': 5.530481144964936}. Best is trial 172 with value: 0.3032182891051738.\u001b[0m\n",
      "\u001b[32m[I 2021-09-03 20:09:26,609]\u001b[0m Trial 178 finished with value: 0.3038850632583543 and parameters: {'booster': 'gbtree', 'lambda': 4.740450871586522e-07, 'alpha': 0.3874307436382354, 'max_depth': 5, 'eta': 0.016389700335142688, 'gamma': 3.952787258550044e-08, 'grow_policy': 'lossguide', 'min_child_weight': 6, 'subsample': 0.999992716889708, 'colsample_bytree': 0.29918576368328387, 'max_delta_step': 6.533876866753178}. Best is trial 172 with value: 0.3032182891051738.\u001b[0m\n",
      "\u001b[32m[I 2021-09-03 20:12:33,599]\u001b[0m Trial 179 finished with value: 0.3039047303779851 and parameters: {'booster': 'gbtree', 'lambda': 1.0645931981386973e-07, 'alpha': 3.024934938276686, 'max_depth': 5, 'eta': 0.01377826521421036, 'gamma': 1.506387461557843e-07, 'grow_policy': 'lossguide', 'min_child_weight': 5, 'subsample': 0.905510701464956, 'colsample_bytree': 0.26734034568935844, 'max_delta_step': 4.930146339533689}. Best is trial 172 with value: 0.3032182891051738.\u001b[0m\n",
      "\u001b[32m[I 2021-09-03 20:15:09,359]\u001b[0m Trial 180 finished with value: 0.30319201070264895 and parameters: {'booster': 'gbtree', 'lambda': 1.03195867105797e-06, 'alpha': 0.8778432802470578, 'max_depth': 5, 'eta': 0.015013550643741064, 'gamma': 1.2092575142181286e-08, 'grow_policy': 'lossguide', 'min_child_weight': 5, 'subsample': 0.9667381619759073, 'colsample_bytree': 0.2517967899369916, 'max_delta_step': 5.697640052328737}. Best is trial 180 with value: 0.30319201070264895.\u001b[0m\n",
      "\u001b[32m[I 2021-09-03 20:17:34,994]\u001b[0m Trial 181 finished with value: 0.3035026807822158 and parameters: {'booster': 'gbtree', 'lambda': 9.578179336760836e-07, 'alpha': 0.7562379429064021, 'max_depth': 5, 'eta': 0.015159979873959607, 'gamma': 1.0695950685689912e-08, 'grow_policy': 'lossguide', 'min_child_weight': 5, 'subsample': 0.9663613086363291, 'colsample_bytree': 0.25572728660072347, 'max_delta_step': 5.584801580080741}. Best is trial 180 with value: 0.30319201070264895.\u001b[0m\n",
      "\u001b[32m[I 2021-09-03 20:20:15,377]\u001b[0m Trial 182 finished with value: 0.3028443879614926 and parameters: {'booster': 'gbtree', 'lambda': 9.012384508756378e-07, 'alpha': 0.7472040331088792, 'max_depth': 5, 'eta': 0.01507605562231303, 'gamma': 1.0214961302342215e-08, 'grow_policy': 'lossguide', 'min_child_weight': 5, 'subsample': 0.9331005225916879, 'colsample_bytree': 0.25392142363325004, 'max_delta_step': 5.685109389498008}. Best is trial 182 with value: 0.3028443879614926.\u001b[0m\n",
      "\u001b[32m[I 2021-09-03 20:22:46,807]\u001b[0m Trial 183 finished with value: 0.3035663072266237 and parameters: {'booster': 'gbtree', 'lambda': 1.207373336377829e-06, 'alpha': 0.8648732102224057, 'max_depth': 5, 'eta': 0.015592917825653906, 'gamma': 1.0884330436733039e-08, 'grow_policy': 'lossguide', 'min_child_weight': 5, 'subsample': 0.9430308890765633, 'colsample_bytree': 0.266284085372506, 'max_delta_step': 5.501000807900634}. Best is trial 182 with value: 0.3028443879614926.\u001b[0m\n",
      "\u001b[32m[I 2021-09-03 20:25:21,870]\u001b[0m Trial 184 finished with value: 0.3038392368686251 and parameters: {'booster': 'gbtree', 'lambda': 8.526733555670561e-07, 'alpha': 0.7031401540801476, 'max_depth': 5, 'eta': 0.015059688272981176, 'gamma': 1.1234975076288374e-08, 'grow_policy': 'lossguide', 'min_child_weight': 5, 'subsample': 0.9349464639428147, 'colsample_bytree': 0.28058926335702744, 'max_delta_step': 5.638718788471911}. Best is trial 182 with value: 0.3028443879614926.\u001b[0m\n",
      "\u001b[32m[I 2021-09-03 20:27:39,785]\u001b[0m Trial 185 finished with value: 0.3039973953370166 and parameters: {'booster': 'gbtree', 'lambda': 8.343374220428561e-07, 'alpha': 1.3116721850547313, 'max_depth': 5, 'eta': 0.01751121203364299, 'gamma': 1.2114416050287235e-08, 'grow_policy': 'lossguide', 'min_child_weight': 5, 'subsample': 0.9598936301447221, 'colsample_bytree': 0.3129629872601108, 'max_delta_step': 5.598611000388215}. Best is trial 182 with value: 0.3028443879614926.\u001b[0m\n",
      "\u001b[32m[I 2021-09-03 20:30:02,397]\u001b[0m Trial 186 finished with value: 0.303692153996192 and parameters: {'booster': 'gbtree', 'lambda': 1.4235141938859343e-06, 'alpha': 0.6916951265321803, 'max_depth': 5, 'eta': 0.01617413428862891, 'gamma': 1.3999903342063603e-08, 'grow_policy': 'lossguide', 'min_child_weight': 5, 'subsample': 0.9434158093717349, 'colsample_bytree': 0.26544697826592567, 'max_delta_step': 5.470399129450847}. Best is trial 182 with value: 0.3028443879614926.\u001b[0m\n",
      "\u001b[32m[I 2021-09-03 20:32:38,443]\u001b[0m Trial 187 finished with value: 0.30380925473639214 and parameters: {'booster': 'gbtree', 'lambda': 3.352190668755702e-07, 'alpha': 0.8754054858767021, 'max_depth': 5, 'eta': 0.014761991111493691, 'gamma': 1.5844160399211645e-08, 'grow_policy': 'lossguide', 'min_child_weight': 5, 'subsample': 0.9835383493764258, 'colsample_bytree': 0.25964690834982246, 'max_delta_step': 6.046419491991038}. Best is trial 182 with value: 0.3028443879614926.\u001b[0m\n",
      "\u001b[32m[I 2021-09-03 20:35:20,534]\u001b[0m Trial 188 finished with value: 0.3045190822358055 and parameters: {'booster': 'gbtree', 'lambda': 5.701263056021468e-07, 'alpha': 0.2233174258322956, 'max_depth': 5, 'eta': 0.016941276520105155, 'gamma': 1.0569079282253799e-08, 'grow_policy': 'lossguide', 'min_child_weight': 13, 'subsample': 0.9150554966317661, 'colsample_bytree': 0.49433234477122023, 'max_delta_step': 5.785993064394762}. Best is trial 182 with value: 0.3028443879614926.\u001b[0m\n",
      "\u001b[32m[I 2021-09-03 20:38:00,369]\u001b[0m Trial 189 finished with value: 0.3042904784967052 and parameters: {'booster': 'gbtree', 'lambda': 1.0536651601660775e-06, 'alpha': 1.5369568049937148, 'max_depth': 6, 'eta': 0.01573799132510814, 'gamma': 3.6040457781904896e-08, 'grow_policy': 'lossguide', 'min_child_weight': 5, 'subsample': 0.960409836634366, 'colsample_bytree': 0.29224037058238245, 'max_delta_step': 5.199412093099315}. Best is trial 182 with value: 0.3028443879614926.\u001b[0m\n",
      "\u001b[32m[I 2021-09-03 20:40:15,430]\u001b[0m Trial 190 finished with value: 0.30621907881645194 and parameters: {'booster': 'gbtree', 'lambda': 3.425417832075677e-07, 'alpha': 1.013773908786318, 'max_depth': 5, 'eta': 0.01440055152535598, 'gamma': 7.29548148990896e-07, 'grow_policy': 'lossguide', 'min_child_weight': 5, 'subsample': 0.4501818338547971, 'colsample_bytree': 0.2524682483039737, 'max_delta_step': 6.282358673217029}. Best is trial 182 with value: 0.3028443879614926.\u001b[0m\n",
      "\u001b[32m[I 2021-09-03 20:42:31,352]\u001b[0m Trial 191 finished with value: 0.30371940972317285 and parameters: {'booster': 'gbtree', 'lambda': 1.3142966811536863e-07, 'alpha': 0.5459368660699945, 'max_depth': 5, 'eta': 0.015406436791360632, 'gamma': 2.2854259766166233e-08, 'grow_policy': 'lossguide', 'min_child_weight': 5, 'subsample': 0.9249854372150211, 'colsample_bytree': 0.20909768368878842, 'max_delta_step': 5.441886444437143}. Best is trial 182 with value: 0.3028443879614926.\u001b[0m\n",
      "\u001b[32m[I 2021-09-03 20:44:48,572]\u001b[0m Trial 192 finished with value: 0.30376137341869536 and parameters: {'booster': 'gbtree', 'lambda': 6.468254917837843e-07, 'alpha': 0.3266750281792244, 'max_depth': 5, 'eta': 0.016026398942614737, 'gamma': 1.0347213185280045e-08, 'grow_policy': 'lossguide', 'min_child_weight': 5, 'subsample': 0.9438134830731884, 'colsample_bytree': 0.23910286290660857, 'max_delta_step': 5.219911771987713}. Best is trial 182 with value: 0.3028443879614926.\u001b[0m\n",
      "\u001b[32m[I 2021-09-03 20:47:37,132]\u001b[0m Trial 193 finished with value: 0.3045705657943843 and parameters: {'booster': 'gbtree', 'lambda': 2.3505112197542027e-07, 'alpha': 0.7750808103929043, 'max_depth': 5, 'eta': 0.017780708898724615, 'gamma': 1.9611717354331742e-08, 'grow_policy': 'lossguide', 'min_child_weight': 5, 'subsample': 0.9280904393265867, 'colsample_bytree': 0.2779003771554163, 'max_delta_step': 0.4202354054657771}. Best is trial 182 with value: 0.3028443879614926.\u001b[0m\n",
      "\u001b[32m[I 2021-09-03 20:50:04,032]\u001b[0m Trial 194 finished with value: 0.3048778618148565 and parameters: {'booster': 'gbtree', 'lambda': 1.330237062862261e-06, 'alpha': 1.897726098149606, 'max_depth': 5, 'eta': 0.015102238207599384, 'gamma': 2.9066290951156937e-08, 'grow_policy': 'lossguide', 'min_child_weight': 17, 'subsample': 0.90098791263243, 'colsample_bytree': 0.22760024209955498, 'max_delta_step': 5.094766939855998}. Best is trial 182 with value: 0.3028443879614926.\u001b[0m\n",
      "\u001b[32m[I 2021-09-03 20:52:23,493]\u001b[0m Trial 195 finished with value: 0.3032814984041085 and parameters: {'booster': 'gbtree', 'lambda': 3.8725534857900695e-07, 'alpha': 1.0688575039124295, 'max_depth': 5, 'eta': 0.016713522993878863, 'gamma': 1.724297676669673e-08, 'grow_policy': 'lossguide', 'min_child_weight': 5, 'subsample': 0.9638314646116235, 'colsample_bytree': 0.250558635583668, 'max_delta_step': 5.796840019901255}. Best is trial 182 with value: 0.3028443879614926.\u001b[0m\n",
      "\u001b[32m[I 2021-09-03 20:54:57,967]\u001b[0m Trial 196 finished with value: 0.3042146489826497 and parameters: {'booster': 'gbtree', 'lambda': 4.2879531255086863e-07, 'alpha': 1.2442803652315788, 'max_depth': 5, 'eta': 0.0170551941725271, 'gamma': 4.544331933806828e-08, 'grow_policy': 'lossguide', 'min_child_weight': 6, 'subsample': 0.9945631989768363, 'colsample_bytree': 0.33109785372503014, 'max_delta_step': 5.753731315061484}. Best is trial 182 with value: 0.3028443879614926.\u001b[0m\n"
     ]
    }
   ],
   "source": [
    "study_xgb = optuna.create_study(direction='minimize')\n",
    "\n",
    "study_xgb.optimize(objective, \n",
    "               timeout=60*60*7.5, \n",
    "               #timeout=60*5, \n",
    "               gc_after_trial=True)"
   ]
  },
  {
   "cell_type": "code",
   "execution_count": 8,
   "id": "6818f613",
   "metadata": {
    "execution": {
     "iopub.execute_input": "2021-09-03T20:54:58.315878Z",
     "iopub.status.busy": "2021-09-03T20:54:58.300571Z",
     "iopub.status.idle": "2021-09-03T20:54:58.338916Z",
     "shell.execute_reply": "2021-09-03T20:54:58.338298Z",
     "shell.execute_reply.started": "2021-09-03T04:41:44.187887Z"
    },
    "papermill": {
     "duration": 0.156549,
     "end_time": "2021-09-03T20:54:58.339054",
     "exception": false,
     "start_time": "2021-09-03T20:54:58.182505",
     "status": "completed"
    },
    "tags": []
   },
   "outputs": [
    {
     "name": "stdout",
     "output_type": "stream",
     "text": [
      "-> Number of finished trials:  197\n",
      "-> Best trial:\n",
      "\tValue: 0.3028443879614926\n",
      "-> Params: \n"
     ]
    },
    {
     "data": {
      "text/plain": [
       "{'booster': 'gbtree',\n",
       " 'lambda': 9.012384508756378e-07,\n",
       " 'alpha': 0.7472040331088792,\n",
       " 'max_depth': 5,\n",
       " 'eta': 0.01507605562231303,\n",
       " 'gamma': 1.0214961302342215e-08,\n",
       " 'grow_policy': 'lossguide',\n",
       " 'min_child_weight': 5,\n",
       " 'subsample': 0.9331005225916879,\n",
       " 'colsample_bytree': 0.25392142363325004,\n",
       " 'max_delta_step': 5.685109389498008}"
      ]
     },
     "execution_count": 8,
     "metadata": {},
     "output_type": "execute_result"
    }
   ],
   "source": [
    "print('-> Number of finished trials: ', len(study_xgb.trials))\n",
    "print('-> Best trial:')\n",
    "trial = study_xgb.best_trial\n",
    "print('\\tValue: {}'.format(trial.value))\n",
    "print('-> Params: ')\n",
    "trial.params"
   ]
  },
  {
   "cell_type": "code",
   "execution_count": 9,
   "id": "e69dcf34",
   "metadata": {
    "execution": {
     "iopub.execute_input": "2021-09-03T20:54:58.508990Z",
     "iopub.status.busy": "2021-09-03T20:54:58.508277Z",
     "iopub.status.idle": "2021-09-03T20:54:58.715370Z",
     "shell.execute_reply": "2021-09-03T20:54:58.714799Z",
     "shell.execute_reply.started": "2021-09-03T04:41:44.203268Z"
    },
    "papermill": {
     "duration": 0.29346,
     "end_time": "2021-09-03T20:54:58.715511",
     "exception": false,
     "start_time": "2021-09-03T20:54:58.422051",
     "status": "completed"
    },
    "tags": []
   },
   "outputs": [
    {
     "data": {
      "text/html": [
       "        <script type=\"text/javascript\">\n",
       "        window.PlotlyConfig = {MathJaxConfig: 'local'};\n",
       "        if (window.MathJax) {MathJax.Hub.Config({SVG: {font: \"STIX-Web\"}});}\n",
       "        if (typeof require !== 'undefined') {\n",
       "        require.undef(\"plotly\");\n",
       "        requirejs.config({\n",
       "            paths: {\n",
       "                'plotly': ['https://cdn.plot.ly/plotly-2.2.0.min']\n",
       "            }\n",
       "        });\n",
       "        require(['plotly'], function(Plotly) {\n",
       "            window._Plotly = Plotly;\n",
       "        });\n",
       "        }\n",
       "        </script>\n",
       "        "
      ]
     },
     "metadata": {},
     "output_type": "display_data"
    },
    {
     "data": {
      "text/html": [
       "<div>                            <div id=\"16ac498f-3a1c-41ce-a80d-ab367c86ebf7\" class=\"plotly-graph-div\" style=\"height:525px; width:100%;\"></div>            <script type=\"text/javascript\">                require([\"plotly\"], function(Plotly) {                    window.PLOTLYENV=window.PLOTLYENV || {};                                    if (document.getElementById(\"16ac498f-3a1c-41ce-a80d-ab367c86ebf7\")) {                    Plotly.newPlot(                        \"16ac498f-3a1c-41ce-a80d-ab367c86ebf7\",                        [{\"mode\":\"markers\",\"name\":\"Objective Value\",\"type\":\"scatter\",\"x\":[0,1,2,3,4,5,6,7,8,9,10,11,12,13,14,15,16,17,18,19,20,21,22,23,24,25,26,27,28,29,30,31,32,33,34,35,36,37,38,39,40,41,42,43,44,45,46,47,48,49,50,51,52,53,54,55,56,57,58,59,60,61,62,63,64,65,66,67,68,69,70,71,72,73,74,75,76,77,78,79,80,81,82,83,84,85,86,87,88,89,90,91,92,93,94,95,96,97,98,99,100,101,102,103,104,105,106,107,108,109,110,111,112,113,114,115,116,117,118,119,120,121,122,123,124,125,126,127,128,129,130,131,132,133,134,135,136,137,138,139,140,141,142,143,144,145,146,147,148,149,150,151,152,153,154,155,156,157,158,159,160,161,162,163,164,165,166,167,168,169,170,171,172,173,174,175,176,177,178,179,180,181,182,183,184,185,186,187,188,189,190,191,192,193,194,195,196],\"y\":[0.30639619074861996,0.30726920277296815,0.3069470212335395,0.3089779787419432,0.30987458712626587,0.31390321392698034,0.313457568820454,0.31052181247621036,0.314000170399444,0.3220439733671023,0.30720058056895133,0.30608879226333885,0.3069010085883522,0.30481704790949093,0.3050234856893582,0.3066601053752009,0.30821902169839005,0.30697706827492116,0.3058790591137603,0.33042928239767994,0.3063238112122801,0.30582482200323835,0.3063468439957962,0.3037824422485444,0.30371422419196314,0.3047322285521438,0.30868724653992474,0.3104406502939459,0.31238643980414715,0.3041425477416762,0.31409801095637374,0.3040566826886027,0.3067547475608347,0.30409218345180866,0.3054395764660157,0.3044934343191466,0.30725499622815017,0.30542628608192857,0.30577327150291345,0.3058441839975229,0.3045511773904084,0.30444303073525836,0.30516585640259536,0.30518660469893244,0.3057118355150911,0.3048127873344592,0.30758910111599397,0.30549806460328016,0.30485806470353977,0.30514721739361567,0.3110563220500391,0.3044662114347105,0.3049013684537224,0.30432136486611283,0.305038262922267,0.30595539009791417,0.3089271539432762,0.30514812817320236,0.3053378571942753,0.3076245295714558,0.3047993005898879,0.30411194456082935,0.3047496981453246,0.3048656874471277,0.3046874937275342,0.3054000064670061,0.3055031612048883,0.3060543137464597,0.30893716433925034,0.30495525134023754,0.30487640379684544,0.30466010898397705,0.3049822875694416,0.30416164563771403,0.30480145999180186,0.30364407333889826,0.3037293374549371,0.30496330133229865,0.30433229318504035,0.3050403231057453,0.30506416955584525,0.3037895363245819,0.30352159438410475,0.3041655932640643,0.304127068531025,0.3050106676271279,0.30875986277259243,0.30575541656734784,0.3045812696665532,0.3313188883525335,0.30643753959083236,0.3039950014513125,0.30543437386255007,0.30493955333525163,0.3047245756905245,0.30559297828905646,0.30648683674121757,0.30364374972519365,0.3045688309691815,0.3051514994983422,0.306594501470289,0.30406674908497305,0.30404715706794294,0.30904975666189183,0.30418631590093564,0.3037766308412247,0.3040064603744419,0.30461978511748655,0.30639440936382434,0.30350597144371216,0.30484894964116144,0.30346899498579694,0.3037273303727304,0.3040195077321606,0.30577789123370835,0.30484885110679655,0.30401283940231816,0.3056090611116048,0.30624916172648053,0.30449243564124345,0.30481806823242963,0.30424396787878305,0.307159066243906,0.303805529944264,0.30385581833051384,0.30392730377772265,0.3044532040194634,0.30351236448933966,0.3038713761436052,0.30419966465343123,0.30493566954438994,0.30356896008882106,0.30410631534839655,0.30395805310632384,0.3035953860819363,0.3036538678884038,0.3036350466642065,0.30356441757836206,0.30358650891977856,0.30367040817604457,0.30382914808983164,0.30397543404473615,0.30384547683617513,0.3038129792561534,0.3049984049737871,0.303335536964366,0.30358452632285504,0.3037054976544454,0.3040163353336057,0.3039334516714045,0.3038521215494067,0.30351373235321816,0.3038516460065322,0.30356975086847376,0.3040007798041667,0.30387175784656645,0.3043849959689511,0.30421054459000735,0.3043603697865352,0.30355334543228535,0.3044994990524612,0.30341860765476936,0.3038986458171671,0.3038070923130141,0.30387688293281506,0.30327264430377127,0.3037398508148733,0.3037798082609825,0.30356800017503016,0.30381411358814225,0.3043569533007807,0.3032834491768863,0.3032182891051738,0.30356040698573483,0.3036928214721525,0.3033027502689307,0.30393555151617685,0.304160807494574,0.3038850632583543,0.3039047303779851,0.30319201070264895,0.3035026807822158,0.3028443879614926,0.3035663072266237,0.3038392368686251,0.3039973953370166,0.303692153996192,0.30380925473639214,0.3045190822358055,0.3042904784967052,0.30621907881645194,0.30371940972317285,0.30376137341869536,0.3045705657943843,0.3048778618148565,0.3032814984041085,0.3042146489826497]},{\"name\":\"Best Value\",\"type\":\"scatter\",\"x\":[0,1,2,3,4,5,6,7,8,9,10,11,12,13,14,15,16,17,18,19,20,21,22,23,24,25,26,27,28,29,30,31,32,33,34,35,36,37,38,39,40,41,42,43,44,45,46,47,48,49,50,51,52,53,54,55,56,57,58,59,60,61,62,63,64,65,66,67,68,69,70,71,72,73,74,75,76,77,78,79,80,81,82,83,84,85,86,87,88,89,90,91,92,93,94,95,96,97,98,99,100,101,102,103,104,105,106,107,108,109,110,111,112,113,114,115,116,117,118,119,120,121,122,123,124,125,126,127,128,129,130,131,132,133,134,135,136,137,138,139,140,141,142,143,144,145,146,147,148,149,150,151,152,153,154,155,156,157,158,159,160,161,162,163,164,165,166,167,168,169,170,171,172,173,174,175,176,177,178,179,180,181,182,183,184,185,186,187,188,189,190,191,192,193,194,195,196],\"y\":[0.30639619074861996,0.30639619074861996,0.30639619074861996,0.30639619074861996,0.30639619074861996,0.30639619074861996,0.30639619074861996,0.30639619074861996,0.30639619074861996,0.30639619074861996,0.30639619074861996,0.30608879226333885,0.30608879226333885,0.30481704790949093,0.30481704790949093,0.30481704790949093,0.30481704790949093,0.30481704790949093,0.30481704790949093,0.30481704790949093,0.30481704790949093,0.30481704790949093,0.30481704790949093,0.3037824422485444,0.30371422419196314,0.30371422419196314,0.30371422419196314,0.30371422419196314,0.30371422419196314,0.30371422419196314,0.30371422419196314,0.30371422419196314,0.30371422419196314,0.30371422419196314,0.30371422419196314,0.30371422419196314,0.30371422419196314,0.30371422419196314,0.30371422419196314,0.30371422419196314,0.30371422419196314,0.30371422419196314,0.30371422419196314,0.30371422419196314,0.30371422419196314,0.30371422419196314,0.30371422419196314,0.30371422419196314,0.30371422419196314,0.30371422419196314,0.30371422419196314,0.30371422419196314,0.30371422419196314,0.30371422419196314,0.30371422419196314,0.30371422419196314,0.30371422419196314,0.30371422419196314,0.30371422419196314,0.30371422419196314,0.30371422419196314,0.30371422419196314,0.30371422419196314,0.30371422419196314,0.30371422419196314,0.30371422419196314,0.30371422419196314,0.30371422419196314,0.30371422419196314,0.30371422419196314,0.30371422419196314,0.30371422419196314,0.30371422419196314,0.30371422419196314,0.30371422419196314,0.30364407333889826,0.30364407333889826,0.30364407333889826,0.30364407333889826,0.30364407333889826,0.30364407333889826,0.30364407333889826,0.30352159438410475,0.30352159438410475,0.30352159438410475,0.30352159438410475,0.30352159438410475,0.30352159438410475,0.30352159438410475,0.30352159438410475,0.30352159438410475,0.30352159438410475,0.30352159438410475,0.30352159438410475,0.30352159438410475,0.30352159438410475,0.30352159438410475,0.30352159438410475,0.30352159438410475,0.30352159438410475,0.30352159438410475,0.30352159438410475,0.30352159438410475,0.30352159438410475,0.30352159438410475,0.30352159438410475,0.30352159438410475,0.30352159438410475,0.30352159438410475,0.30350597144371216,0.30350597144371216,0.30346899498579694,0.30346899498579694,0.30346899498579694,0.30346899498579694,0.30346899498579694,0.30346899498579694,0.30346899498579694,0.30346899498579694,0.30346899498579694,0.30346899498579694,0.30346899498579694,0.30346899498579694,0.30346899498579694,0.30346899498579694,0.30346899498579694,0.30346899498579694,0.30346899498579694,0.30346899498579694,0.30346899498579694,0.30346899498579694,0.30346899498579694,0.30346899498579694,0.30346899498579694,0.30346899498579694,0.30346899498579694,0.30346899498579694,0.30346899498579694,0.30346899498579694,0.30346899498579694,0.30346899498579694,0.30346899498579694,0.30346899498579694,0.30346899498579694,0.30346899498579694,0.303335536964366,0.303335536964366,0.303335536964366,0.303335536964366,0.303335536964366,0.303335536964366,0.303335536964366,0.303335536964366,0.303335536964366,0.303335536964366,0.303335536964366,0.303335536964366,0.303335536964366,0.303335536964366,0.303335536964366,0.303335536964366,0.303335536964366,0.303335536964366,0.303335536964366,0.303335536964366,0.30327264430377127,0.30327264430377127,0.30327264430377127,0.30327264430377127,0.30327264430377127,0.30327264430377127,0.30327264430377127,0.3032182891051738,0.3032182891051738,0.3032182891051738,0.3032182891051738,0.3032182891051738,0.3032182891051738,0.3032182891051738,0.3032182891051738,0.30319201070264895,0.30319201070264895,0.3028443879614926,0.3028443879614926,0.3028443879614926,0.3028443879614926,0.3028443879614926,0.3028443879614926,0.3028443879614926,0.3028443879614926,0.3028443879614926,0.3028443879614926,0.3028443879614926,0.3028443879614926,0.3028443879614926,0.3028443879614926,0.3028443879614926]}],                        {\"template\":{\"data\":{\"bar\":[{\"error_x\":{\"color\":\"#2a3f5f\"},\"error_y\":{\"color\":\"#2a3f5f\"},\"marker\":{\"line\":{\"color\":\"#E5ECF6\",\"width\":0.5},\"pattern\":{\"fillmode\":\"overlay\",\"size\":10,\"solidity\":0.2}},\"type\":\"bar\"}],\"barpolar\":[{\"marker\":{\"line\":{\"color\":\"#E5ECF6\",\"width\":0.5},\"pattern\":{\"fillmode\":\"overlay\",\"size\":10,\"solidity\":0.2}},\"type\":\"barpolar\"}],\"carpet\":[{\"aaxis\":{\"endlinecolor\":\"#2a3f5f\",\"gridcolor\":\"white\",\"linecolor\":\"white\",\"minorgridcolor\":\"white\",\"startlinecolor\":\"#2a3f5f\"},\"baxis\":{\"endlinecolor\":\"#2a3f5f\",\"gridcolor\":\"white\",\"linecolor\":\"white\",\"minorgridcolor\":\"white\",\"startlinecolor\":\"#2a3f5f\"},\"type\":\"carpet\"}],\"choropleth\":[{\"colorbar\":{\"outlinewidth\":0,\"ticks\":\"\"},\"type\":\"choropleth\"}],\"contour\":[{\"colorbar\":{\"outlinewidth\":0,\"ticks\":\"\"},\"colorscale\":[[0.0,\"#0d0887\"],[0.1111111111111111,\"#46039f\"],[0.2222222222222222,\"#7201a8\"],[0.3333333333333333,\"#9c179e\"],[0.4444444444444444,\"#bd3786\"],[0.5555555555555556,\"#d8576b\"],[0.6666666666666666,\"#ed7953\"],[0.7777777777777778,\"#fb9f3a\"],[0.8888888888888888,\"#fdca26\"],[1.0,\"#f0f921\"]],\"type\":\"contour\"}],\"contourcarpet\":[{\"colorbar\":{\"outlinewidth\":0,\"ticks\":\"\"},\"type\":\"contourcarpet\"}],\"heatmap\":[{\"colorbar\":{\"outlinewidth\":0,\"ticks\":\"\"},\"colorscale\":[[0.0,\"#0d0887\"],[0.1111111111111111,\"#46039f\"],[0.2222222222222222,\"#7201a8\"],[0.3333333333333333,\"#9c179e\"],[0.4444444444444444,\"#bd3786\"],[0.5555555555555556,\"#d8576b\"],[0.6666666666666666,\"#ed7953\"],[0.7777777777777778,\"#fb9f3a\"],[0.8888888888888888,\"#fdca26\"],[1.0,\"#f0f921\"]],\"type\":\"heatmap\"}],\"heatmapgl\":[{\"colorbar\":{\"outlinewidth\":0,\"ticks\":\"\"},\"colorscale\":[[0.0,\"#0d0887\"],[0.1111111111111111,\"#46039f\"],[0.2222222222222222,\"#7201a8\"],[0.3333333333333333,\"#9c179e\"],[0.4444444444444444,\"#bd3786\"],[0.5555555555555556,\"#d8576b\"],[0.6666666666666666,\"#ed7953\"],[0.7777777777777778,\"#fb9f3a\"],[0.8888888888888888,\"#fdca26\"],[1.0,\"#f0f921\"]],\"type\":\"heatmapgl\"}],\"histogram\":[{\"marker\":{\"pattern\":{\"fillmode\":\"overlay\",\"size\":10,\"solidity\":0.2}},\"type\":\"histogram\"}],\"histogram2d\":[{\"colorbar\":{\"outlinewidth\":0,\"ticks\":\"\"},\"colorscale\":[[0.0,\"#0d0887\"],[0.1111111111111111,\"#46039f\"],[0.2222222222222222,\"#7201a8\"],[0.3333333333333333,\"#9c179e\"],[0.4444444444444444,\"#bd3786\"],[0.5555555555555556,\"#d8576b\"],[0.6666666666666666,\"#ed7953\"],[0.7777777777777778,\"#fb9f3a\"],[0.8888888888888888,\"#fdca26\"],[1.0,\"#f0f921\"]],\"type\":\"histogram2d\"}],\"histogram2dcontour\":[{\"colorbar\":{\"outlinewidth\":0,\"ticks\":\"\"},\"colorscale\":[[0.0,\"#0d0887\"],[0.1111111111111111,\"#46039f\"],[0.2222222222222222,\"#7201a8\"],[0.3333333333333333,\"#9c179e\"],[0.4444444444444444,\"#bd3786\"],[0.5555555555555556,\"#d8576b\"],[0.6666666666666666,\"#ed7953\"],[0.7777777777777778,\"#fb9f3a\"],[0.8888888888888888,\"#fdca26\"],[1.0,\"#f0f921\"]],\"type\":\"histogram2dcontour\"}],\"mesh3d\":[{\"colorbar\":{\"outlinewidth\":0,\"ticks\":\"\"},\"type\":\"mesh3d\"}],\"parcoords\":[{\"line\":{\"colorbar\":{\"outlinewidth\":0,\"ticks\":\"\"}},\"type\":\"parcoords\"}],\"pie\":[{\"automargin\":true,\"type\":\"pie\"}],\"scatter\":[{\"marker\":{\"colorbar\":{\"outlinewidth\":0,\"ticks\":\"\"}},\"type\":\"scatter\"}],\"scatter3d\":[{\"line\":{\"colorbar\":{\"outlinewidth\":0,\"ticks\":\"\"}},\"marker\":{\"colorbar\":{\"outlinewidth\":0,\"ticks\":\"\"}},\"type\":\"scatter3d\"}],\"scattercarpet\":[{\"marker\":{\"colorbar\":{\"outlinewidth\":0,\"ticks\":\"\"}},\"type\":\"scattercarpet\"}],\"scattergeo\":[{\"marker\":{\"colorbar\":{\"outlinewidth\":0,\"ticks\":\"\"}},\"type\":\"scattergeo\"}],\"scattergl\":[{\"marker\":{\"colorbar\":{\"outlinewidth\":0,\"ticks\":\"\"}},\"type\":\"scattergl\"}],\"scattermapbox\":[{\"marker\":{\"colorbar\":{\"outlinewidth\":0,\"ticks\":\"\"}},\"type\":\"scattermapbox\"}],\"scatterpolar\":[{\"marker\":{\"colorbar\":{\"outlinewidth\":0,\"ticks\":\"\"}},\"type\":\"scatterpolar\"}],\"scatterpolargl\":[{\"marker\":{\"colorbar\":{\"outlinewidth\":0,\"ticks\":\"\"}},\"type\":\"scatterpolargl\"}],\"scatterternary\":[{\"marker\":{\"colorbar\":{\"outlinewidth\":0,\"ticks\":\"\"}},\"type\":\"scatterternary\"}],\"surface\":[{\"colorbar\":{\"outlinewidth\":0,\"ticks\":\"\"},\"colorscale\":[[0.0,\"#0d0887\"],[0.1111111111111111,\"#46039f\"],[0.2222222222222222,\"#7201a8\"],[0.3333333333333333,\"#9c179e\"],[0.4444444444444444,\"#bd3786\"],[0.5555555555555556,\"#d8576b\"],[0.6666666666666666,\"#ed7953\"],[0.7777777777777778,\"#fb9f3a\"],[0.8888888888888888,\"#fdca26\"],[1.0,\"#f0f921\"]],\"type\":\"surface\"}],\"table\":[{\"cells\":{\"fill\":{\"color\":\"#EBF0F8\"},\"line\":{\"color\":\"white\"}},\"header\":{\"fill\":{\"color\":\"#C8D4E3\"},\"line\":{\"color\":\"white\"}},\"type\":\"table\"}]},\"layout\":{\"annotationdefaults\":{\"arrowcolor\":\"#2a3f5f\",\"arrowhead\":0,\"arrowwidth\":1},\"autotypenumbers\":\"strict\",\"coloraxis\":{\"colorbar\":{\"outlinewidth\":0,\"ticks\":\"\"}},\"colorscale\":{\"diverging\":[[0,\"#8e0152\"],[0.1,\"#c51b7d\"],[0.2,\"#de77ae\"],[0.3,\"#f1b6da\"],[0.4,\"#fde0ef\"],[0.5,\"#f7f7f7\"],[0.6,\"#e6f5d0\"],[0.7,\"#b8e186\"],[0.8,\"#7fbc41\"],[0.9,\"#4d9221\"],[1,\"#276419\"]],\"sequential\":[[0.0,\"#0d0887\"],[0.1111111111111111,\"#46039f\"],[0.2222222222222222,\"#7201a8\"],[0.3333333333333333,\"#9c179e\"],[0.4444444444444444,\"#bd3786\"],[0.5555555555555556,\"#d8576b\"],[0.6666666666666666,\"#ed7953\"],[0.7777777777777778,\"#fb9f3a\"],[0.8888888888888888,\"#fdca26\"],[1.0,\"#f0f921\"]],\"sequentialminus\":[[0.0,\"#0d0887\"],[0.1111111111111111,\"#46039f\"],[0.2222222222222222,\"#7201a8\"],[0.3333333333333333,\"#9c179e\"],[0.4444444444444444,\"#bd3786\"],[0.5555555555555556,\"#d8576b\"],[0.6666666666666666,\"#ed7953\"],[0.7777777777777778,\"#fb9f3a\"],[0.8888888888888888,\"#fdca26\"],[1.0,\"#f0f921\"]]},\"colorway\":[\"#636efa\",\"#EF553B\",\"#00cc96\",\"#ab63fa\",\"#FFA15A\",\"#19d3f3\",\"#FF6692\",\"#B6E880\",\"#FF97FF\",\"#FECB52\"],\"font\":{\"color\":\"#2a3f5f\"},\"geo\":{\"bgcolor\":\"white\",\"lakecolor\":\"white\",\"landcolor\":\"#E5ECF6\",\"showlakes\":true,\"showland\":true,\"subunitcolor\":\"white\"},\"hoverlabel\":{\"align\":\"left\"},\"hovermode\":\"closest\",\"mapbox\":{\"style\":\"light\"},\"paper_bgcolor\":\"white\",\"plot_bgcolor\":\"#E5ECF6\",\"polar\":{\"angularaxis\":{\"gridcolor\":\"white\",\"linecolor\":\"white\",\"ticks\":\"\"},\"bgcolor\":\"#E5ECF6\",\"radialaxis\":{\"gridcolor\":\"white\",\"linecolor\":\"white\",\"ticks\":\"\"}},\"scene\":{\"xaxis\":{\"backgroundcolor\":\"#E5ECF6\",\"gridcolor\":\"white\",\"gridwidth\":2,\"linecolor\":\"white\",\"showbackground\":true,\"ticks\":\"\",\"zerolinecolor\":\"white\"},\"yaxis\":{\"backgroundcolor\":\"#E5ECF6\",\"gridcolor\":\"white\",\"gridwidth\":2,\"linecolor\":\"white\",\"showbackground\":true,\"ticks\":\"\",\"zerolinecolor\":\"white\"},\"zaxis\":{\"backgroundcolor\":\"#E5ECF6\",\"gridcolor\":\"white\",\"gridwidth\":2,\"linecolor\":\"white\",\"showbackground\":true,\"ticks\":\"\",\"zerolinecolor\":\"white\"}},\"shapedefaults\":{\"line\":{\"color\":\"#2a3f5f\"}},\"ternary\":{\"aaxis\":{\"gridcolor\":\"white\",\"linecolor\":\"white\",\"ticks\":\"\"},\"baxis\":{\"gridcolor\":\"white\",\"linecolor\":\"white\",\"ticks\":\"\"},\"bgcolor\":\"#E5ECF6\",\"caxis\":{\"gridcolor\":\"white\",\"linecolor\":\"white\",\"ticks\":\"\"}},\"title\":{\"x\":0.05},\"xaxis\":{\"automargin\":true,\"gridcolor\":\"white\",\"linecolor\":\"white\",\"ticks\":\"\",\"title\":{\"standoff\":15},\"zerolinecolor\":\"white\",\"zerolinewidth\":2},\"yaxis\":{\"automargin\":true,\"gridcolor\":\"white\",\"linecolor\":\"white\",\"ticks\":\"\",\"title\":{\"standoff\":15},\"zerolinecolor\":\"white\",\"zerolinewidth\":2}}},\"title\":{\"text\":\"Optimization History Plot\"},\"xaxis\":{\"title\":{\"text\":\"#Trials\"}},\"yaxis\":{\"title\":{\"text\":\"Objective Value\"}}},                        {\"responsive\": true}                    ).then(function(){\n",
       "                            \n",
       "var gd = document.getElementById('16ac498f-3a1c-41ce-a80d-ab367c86ebf7');\n",
       "var x = new MutationObserver(function (mutations, observer) {{\n",
       "        var display = window.getComputedStyle(gd).display;\n",
       "        if (!display || display === 'none') {{\n",
       "            console.log([gd, 'removed!']);\n",
       "            Plotly.purge(gd);\n",
       "            observer.disconnect();\n",
       "        }}\n",
       "}});\n",
       "\n",
       "// Listen for the removal of the full notebook cells\n",
       "var notebookContainer = gd.closest('#notebook-container');\n",
       "if (notebookContainer) {{\n",
       "    x.observe(notebookContainer, {childList: true});\n",
       "}}\n",
       "\n",
       "// Listen for the clearing of the current output cell\n",
       "var outputEl = gd.closest('.output');\n",
       "if (outputEl) {{\n",
       "    x.observe(outputEl, {childList: true});\n",
       "}}\n",
       "\n",
       "                        })                };                });            </script>        </div>"
      ]
     },
     "metadata": {},
     "output_type": "display_data"
    }
   ],
   "source": [
    "plot_optimization_history(study_xgb)"
   ]
  },
  {
   "cell_type": "code",
   "execution_count": 10,
   "id": "7a58a1ff",
   "metadata": {
    "execution": {
     "iopub.execute_input": "2021-09-03T20:54:58.916631Z",
     "iopub.status.busy": "2021-09-03T20:54:58.911430Z",
     "iopub.status.idle": "2021-09-03T20:54:59.056655Z",
     "shell.execute_reply": "2021-09-03T20:54:59.056001Z",
     "shell.execute_reply.started": "2021-09-03T04:41:44.3762Z"
    },
    "papermill": {
     "duration": 0.258106,
     "end_time": "2021-09-03T20:54:59.056795",
     "exception": false,
     "start_time": "2021-09-03T20:54:58.798689",
     "status": "completed"
    },
    "tags": []
   },
   "outputs": [
    {
     "data": {
      "text/html": [
       "<div>                            <div id=\"d32dd33b-e3ba-4356-8da8-adcd4d527516\" class=\"plotly-graph-div\" style=\"height:525px; width:100%;\"></div>            <script type=\"text/javascript\">                require([\"plotly\"], function(Plotly) {                    window.PLOTLYENV=window.PLOTLYENV || {};                                    if (document.getElementById(\"d32dd33b-e3ba-4356-8da8-adcd4d527516\")) {                    Plotly.newPlot(                        \"d32dd33b-e3ba-4356-8da8-adcd4d527516\",                        [{\"dimensions\":[{\"label\":\"Objective Value\",\"range\":[0.3028443879614926,0.3313188883525335],\"values\":[0.30639619074861996,0.30726920277296815,0.3069470212335395,0.3089779787419432,0.30987458712626587,0.31390321392698034,0.313457568820454,0.31052181247621036,0.314000170399444,0.3220439733671023,0.30720058056895133,0.30608879226333885,0.3069010085883522,0.30481704790949093,0.3050234856893582,0.3066601053752009,0.30821902169839005,0.30697706827492116,0.3058790591137603,0.33042928239767994,0.3063238112122801,0.30582482200323835,0.3063468439957962,0.3037824422485444,0.30371422419196314,0.3047322285521438,0.30868724653992474,0.3104406502939459,0.31238643980414715,0.3041425477416762,0.31409801095637374,0.3040566826886027,0.3067547475608347,0.30409218345180866,0.3054395764660157,0.3044934343191466,0.30725499622815017,0.30542628608192857,0.30577327150291345,0.3058441839975229,0.3045511773904084,0.30444303073525836,0.30516585640259536,0.30518660469893244,0.3057118355150911,0.3048127873344592,0.30758910111599397,0.30549806460328016,0.30485806470353977,0.30514721739361567,0.3110563220500391,0.3044662114347105,0.3049013684537224,0.30432136486611283,0.305038262922267,0.30595539009791417,0.3089271539432762,0.30514812817320236,0.3053378571942753,0.3076245295714558,0.3047993005898879,0.30411194456082935,0.3047496981453246,0.3048656874471277,0.3046874937275342,0.3054000064670061,0.3055031612048883,0.3060543137464597,0.30893716433925034,0.30495525134023754,0.30487640379684544,0.30466010898397705,0.3049822875694416,0.30416164563771403,0.30480145999180186,0.30364407333889826,0.3037293374549371,0.30496330133229865,0.30433229318504035,0.3050403231057453,0.30506416955584525,0.3037895363245819,0.30352159438410475,0.3041655932640643,0.304127068531025,0.3050106676271279,0.30875986277259243,0.30575541656734784,0.3045812696665532,0.3313188883525335,0.30643753959083236,0.3039950014513125,0.30543437386255007,0.30493955333525163,0.3047245756905245,0.30559297828905646,0.30648683674121757,0.30364374972519365,0.3045688309691815,0.3051514994983422,0.306594501470289,0.30406674908497305,0.30404715706794294,0.30904975666189183,0.30418631590093564,0.3037766308412247,0.3040064603744419,0.30461978511748655,0.30639440936382434,0.30350597144371216,0.30484894964116144,0.30346899498579694,0.3037273303727304,0.3040195077321606,0.30577789123370835,0.30484885110679655,0.30401283940231816,0.3056090611116048,0.30624916172648053,0.30449243564124345,0.30481806823242963,0.30424396787878305,0.307159066243906,0.303805529944264,0.30385581833051384,0.30392730377772265,0.3044532040194634,0.30351236448933966,0.3038713761436052,0.30419966465343123,0.30493566954438994,0.30356896008882106,0.30410631534839655,0.30395805310632384,0.3035953860819363,0.3036538678884038,0.3036350466642065,0.30356441757836206,0.30358650891977856,0.30367040817604457,0.30382914808983164,0.30397543404473615,0.30384547683617513,0.3038129792561534,0.3049984049737871,0.303335536964366,0.30358452632285504,0.3037054976544454,0.3040163353336057,0.3039334516714045,0.3038521215494067,0.30351373235321816,0.3038516460065322,0.30356975086847376,0.3040007798041667,0.30387175784656645,0.3043849959689511,0.30421054459000735,0.3043603697865352,0.30355334543228535,0.3044994990524612,0.30341860765476936,0.3038986458171671,0.3038070923130141,0.30387688293281506,0.30327264430377127,0.3037398508148733,0.3037798082609825,0.30356800017503016,0.30381411358814225,0.3043569533007807,0.3032834491768863,0.3032182891051738,0.30356040698573483,0.3036928214721525,0.3033027502689307,0.30393555151617685,0.304160807494574,0.3038850632583543,0.3039047303779851,0.30319201070264895,0.3035026807822158,0.3028443879614926,0.3035663072266237,0.3038392368686251,0.3039973953370166,0.303692153996192,0.30380925473639214,0.3045190822358055,0.3042904784967052,0.30621907881645194,0.30371940972317285,0.30376137341869536,0.3045705657943843,0.3048778618148565,0.3032814984041085,0.3042146489826497]},{\"label\":\"alpha\",\"range\":[-7.986752256819511,0.6649688515574621],\"ticktext\":[\"1.03e-08\",\"1e-07\",\"1e-06\",\"1e-05\",\"0.0001\",\"0.001\",\"0.01\",\"0.1\",\"1\",\"4.62\"],\"tickvals\":[-7.986752256819511,-7,-6,-5,-4,-3,-2,-1,0,0.6649688515574621],\"values\":[0.23343757368386306,0.6385741803771657,0.12121217639891028,-5.793147069377391,-4.90495135172751,-5.4561064460469275,-4.122430910612168,-2.4988343610325985,-6.11189975619342,-1.9638222127947609,-1.4365884018703796,0.6649688515574621,-0.45825097289434447,-7.949054601419359,-7.6861524078687005,-7.876926758981257,-7.789722164771493,-6.984231596678763,-6.946188953047367,-6.961154934848499,-7.986752256819511,-7.144583758043966,-6.5099187477882605,-7.928521163053313,-4.667233710330711,-3.753777628079403,-3.8620219907951814,-2.9262661032945427,-4.840373719448407,-2.8913039137690806,-3.123330280561648,-4.491508903350315,-4.563408054645843,-1.4951274580168716,-1.0966911280752434,-4.350328849745907,-5.170967892489205,-0.14383896532667295,-5.6352553501186256,-2.132300076943398,-3.2817467025883293,-2.501905363384517,-1.3765542686890673,-0.6641115510586054,-2.5190178321196557,-1.8820315223561892,-4.135708255238892,-3.467718726982345,-2.851833655117031,-5.906903019834724,-5.11156528583247,-1.6360460449396217,-2.622521914079833,-3.794038516833849,-4.5349481933636095,0.36654762358267196,-3.6464429173784056,-3.9972675551497727,-2.2106787740178966,-1.0194200934210667,-5.3613951286228705,-3.197942268501316,-3.25862137395604,-3.577023977660086,-4.794196856192624,-6.351567997961796,-4.324165449873588,-2.8656701028899154,-3.899290606915934,-3.3997721667155,-4.563227217093452,-2.722699930923898,-3.0646105521275877,-2.009948440946309,-1.5455139120524322,-2.2472751873537167,-2.292067040972358,-1.800192944793265,-2.3331301252640877,-1.3156249249685392,-2.3662975713945475,-1.9957949428930137,-1.020668588034484,-0.5714865478544436,-1.1390017549907452,-1.7474895604217118,-0.13104246288020402,-0.7493616241865542,-2.0189298921335657,-0.886395539813215,-7.399370074389507,-1.2611224247756692,-1.2331299160350655,-0.3281809322423581,-1.4826757321774742,-1.6758639246661955,-2.254477059764506,-2.076348336406311,-0.9097703969438149,-1.8999054833201305,-1.3818685581466017,-2.6605244882887877,-2.493926159030984,-2.5968691685524017,-2.4332823725474344,-2.090159585430806,-2.0137707752195397,-2.112211536330325,-2.1538509656166696,-1.8677811451846587,-1.828539035789582,-1.551526126556655,-1.60225417670325,-1.6503989774249677,-1.2487669375396142,-1.502886292614448,-0.9884051572739936,-1.846569933878377,-0.7624348518917254,-1.6574773872082347,-1.1528538360923786,-2.067475643739698,-1.966823858271506,-2.2444136691040026,-2.2919055538071493,-2.304294691409118,-2.859170420730301,-2.2907131663704483,-3.032523888456735,-2.7436797214017106,-2.454637517263396,-2.231669782707054,-1.809400043288371,-1.6603968766620818,-1.4073138016714406,-1.5070142406672051,-1.3647448253675,-1.3362145139929742,-1.4754194048560174,-1.4006530916865025,-1.4100209837422124,-1.1237986712508696,-1.5148544240019397,-0.8715418396267132,-1.3398894654073463,-0.48046577195452994,-0.35533854036218415,0.15272704566712117,-1.4252964673849342,-0.4776415547839205,-0.22328084532766418,0.08494532405641653,-0.625638945972782,0.3852833620671885,0.3749877983722282,-0.03413332969728284,0.2996721945802413,0.4847908760974155,0.6441666298499505,0.13490820479275692,0.004539914877212047,-0.33888177180793233,0.11825146889518057,-0.21919803570882682,-0.26084781193280604,-0.4137041325336839,-0.3588117092125889,-0.5229475541488803,-0.01303782474109767,-0.03294643492098038,0.5683046905186253,0.15249649986939776,0.06118665042515551,0.09125773257460114,0.20624354397929823,-0.018042352247178605,0.07462813538504877,0.28500163579879284,-0.4118059198516124,0.48071603807897123,-0.056583010972126785,-0.1213415364663638,-0.12656079262351438,-0.06304755512102635,-0.15295810019081482,0.11782530911680138,-0.1600852842138128,-0.057790736134470916,-0.6510773868814002,0.18666166215395355,0.005941109716400666,-0.2628575776299814,-0.48588406276505536,-0.110653015328379,0.27823353019548275,0.028919810550688728,0.09491824800284215]},{\"label\":\"booster\",\"range\":[0,0],\"ticktext\":[\"gbtree\"],\"tickvals\":[0],\"values\":[0,0,0,0,0,0,0,0,0,0,0,0,0,0,0,0,0,0,0,0,0,0,0,0,0,0,0,0,0,0,0,0,0,0,0,0,0,0,0,0,0,0,0,0,0,0,0,0,0,0,0,0,0,0,0,0,0,0,0,0,0,0,0,0,0,0,0,0,0,0,0,0,0,0,0,0,0,0,0,0,0,0,0,0,0,0,0,0,0,0,0,0,0,0,0,0,0,0,0,0,0,0,0,0,0,0,0,0,0,0,0,0,0,0,0,0,0,0,0,0,0,0,0,0,0,0,0,0,0,0,0,0,0,0,0,0,0,0,0,0,0,0,0,0,0,0,0,0,0,0,0,0,0,0,0,0,0,0,0,0,0,0,0,0,0,0,0,0,0,0,0,0,0,0,0,0,0,0,0,0,0,0,0,0,0,0,0,0,0,0,0,0,0,0,0,0,0]},{\"label\":\"colsample_bytree\",\"range\":[0.03670723180483282,0.9429527767114211],\"values\":[0.5785893036478263,0.6749724342215936,0.30940759075056734,0.810014184404164,0.46717551558597104,0.429720263680621,0.7984099604994433,0.6894584362865643,0.9429527767114211,0.2690443326813108,0.07398085442176083,0.2720334680009521,0.15368453979700347,0.5720921598520219,0.350642378377235,0.39305698989413795,0.5738388543572805,0.1303984455527858,0.5338889567224838,0.35187947561872834,0.6668432270217654,0.5325980995535861,0.5048084221046786,0.20523058518938436,0.20592867321832706,0.20551658399918082,0.17518415220043032,0.0611282594549398,0.20776961653639525,0.22417847569843996,0.03670723180483282,0.2299853747847411,0.10234227452654834,0.27307379774647117,0.2810926704565687,0.3438410163106127,0.2351281331351579,0.43746747878678927,0.12680782351751868,0.31446765033669066,0.40510965893820994,0.22988887674916633,0.18436412589160117,0.24995334464821928,0.2949061188499686,0.15784473284775724,0.0936600496756945,0.3220174797493467,0.2485478162882287,0.1442119873623011,0.04472899712627021,0.2236755914176816,0.19236873183061778,0.2743173110814852,0.36481197586527825,0.2698218850574031,0.3018306613904704,0.38775302235369735,0.458703855668739,0.10561029164516422,0.16682817083169585,0.22365711386459391,0.2089230607572636,0.252532177919458,0.3265191409921595,0.9139200918862237,0.2838160251302063,0.12001051357941199,0.0764081689450502,0.17934467966499043,0.3711095968841464,0.22059140906189606,0.24398435258482132,0.19594968984196756,0.16167803764482513,0.19529949063351953,0.1966104821039414,0.13095803216324192,0.15159835488081574,0.2018078765981252,0.3348822531744888,0.1856899927005808,0.2233115413593441,0.18271362657563178,0.2587103348401908,0.6406251345847734,0.07739511410632521,0.13986991872891613,0.30616618021589537,0.21442593248007863,0.10157592663376225,0.2537016665582187,0.2315240678443069,0.26873182148371033,0.28962667708788253,0.17585771926431734,0.19883998521749327,0.23984248090696775,0.24721860717071997,0.1626326159507942,0.12682889367325995,0.22917479022705425,0.23478277164585976,0.23313812811079385,0.188933670525979,0.25808615623809983,0.31180713135899063,0.3086751221672199,0.2800287079505819,0.26285359066430025,0.34213058472964764,0.25812730524048144,0.264242721538525,0.25868497333194657,0.20100082220070864,0.287942458915512,0.25506133736804537,0.21219312643467098,0.15021265284593244,0.17772030384189375,0.20640106096481717,0.3169250287782708,0.2682803086231285,0.29031856456277644,0.24700881782142708,0.29906103887818947,0.36035226104561247,0.21427115318139822,0.2161466219237162,0.17703712535041602,0.1587150835821703,0.23992418664575263,0.19123332987410063,0.2766269466258185,0.24084039979100386,0.2364797158211634,0.2367184169984108,0.23108418011803955,0.22612026650826297,0.23801445126094764,0.23566785617031055,0.2164473633952927,0.23568839670853514,0.26653608379257104,0.7573717357414671,0.22407051965941185,0.22172431314601973,0.2403481702368937,0.21982004769491367,0.21340492602239478,0.23676243122154375,0.24679398329966873,0.2815736560214121,0.24726057536957752,0.25382535965800024,0.1963759553001482,0.16820141945424993,0.21287271065754776,0.2898491857697701,0.22628493275550637,0.18872484786378269,0.22731915314630372,0.21891867687759717,0.26559894237355586,0.25359218098465425,0.22424350467814022,0.22287785087075837,0.279544353631589,0.24197818308844504,0.3244929401126453,0.20366809244523493,0.24316684251099782,0.25657575569506336,0.26756080658337095,0.2725573931209023,0.257631104105413,0.3003482175453061,0.2555564673021359,0.29918576368328387,0.26734034568935844,0.2517967899369916,0.25572728660072347,0.25392142363325004,0.266284085372506,0.28058926335702744,0.3129629872601108,0.26544697826592567,0.25964690834982246,0.49433234477122023,0.29224037058238245,0.2524682483039737,0.20909768368878842,0.23910286290660857,0.2779003771554163,0.22760024209955498,0.250558635583668,0.33109785372503014]},{\"label\":\"eta\",\"range\":[-1.999835458008183,-1.016619570686305],\"ticktext\":[\"0.01\",\"0.0962\"],\"tickvals\":[-1.999835458008183,-1.016619570686305],\"values\":[-1.5785011343492483,-1.3018264679433038,-1.4171048189301574,-1.435283267877273,-1.1626893544812984,-1.533662073299689,-1.016619570686305,-1.2804962169161545,-1.8445938077891497,-1.0769391901504899,-1.744456746334713,-1.6211320623761971,-1.632630939059184,-1.9433558856460647,-1.953833879266013,-1.9965349802501315,-1.9605395564236237,-1.8429978145361459,-1.8861099744205878,-1.7322550800323486,-1.9698813054357838,-1.8631237841014494,-1.7591562573210615,-1.9128552249169175,-1.998842090774821,-1.99194313291824,-1.7804948062040884,-1.990930163408326,-1.8955274816101304,-1.6480971883529,-1.6144496183109578,-1.69867697312859,-1.5420253383750273,-1.6768576056277142,-1.4695848214072913,-1.6777373098090618,-1.812238772654733,-1.3958363531127014,-1.7059035714877684,-1.5776048727464698,-1.8001380939190994,-1.5051226486367975,-1.6772518097712203,-1.6836476969631202,-1.5852155196470359,-1.3775461923917425,-1.9051826874162225,-1.6372995297131065,-1.3265642014781391,-1.7281728901203453,-1.5505246734737925,-1.4789036716522492,-1.1886545698399136,-1.4920854866042208,-1.4354466088885713,-1.5149324460183033,-1.6440225689954553,-1.924949879124694,-1.825312331122006,-1.5841888078127133,-1.765748380621709,-1.4989060813367823,-1.459213317424167,-1.4207355718592192,-1.5507616165514206,-1.59711919141904,-1.3545294533241772,-1.8575901386704248,-1.5182971582543805,-1.252950164784141,-1.6559226784753531,-1.460154621519508,-1.4843086274536088,-1.71059480517804,-1.7445585021045311,-1.7061707920246192,-1.698613761452056,-1.7955657219020267,-1.6996168915290284,-1.6577246700543296,-1.6172077238615061,-1.7176064973957001,-1.767361606033046,-1.7747845457054954,-1.7280322116822804,-1.840534570968355,-1.9777136362905658,-1.872028866508546,-1.9392012720538363,-1.7477309275020407,-1.68370964798825,-1.720427603022729,-1.7236106162958602,-1.6767243535147764,-1.785979846161319,-1.8168522354650347,-1.7022072587438175,-1.7571380075209069,-1.755868117460485,-1.666423793488171,-1.9191066819199258,-1.6112273965991706,-1.605983931025827,-1.6239831493632333,-1.5967554616951174,-1.713233320008773,-1.7116174038475163,-1.7228863924018332,-1.7647724465129289,-1.7943266301247947,-1.8346724705975832,-1.7382503301869354,-1.7980220527712691,-1.808211599360676,-1.7790645651082713,-1.8880774953419397,-1.742087330138194,-1.8593032819170536,-1.7919646540270178,-1.7651927146268733,-1.6892938721868755,-1.7159125830186865,-1.7366388124727532,-1.8160995899159729,-1.8169990536392795,-1.82692595979018,-1.875320974312745,-1.805444602165073,-1.7940873434636146,-1.907757154236373,-1.996172733947009,-1.8080737810182648,-1.8513159121344998,-1.7672059087543128,-1.8044311706192566,-1.9527801180561224,-1.9263674150031131,-1.7970164292288575,-1.9677878144383039,-1.9823862664557015,-1.9521466680497073,-1.9328722349127294,-1.9630051648777955,-1.9792343102583334,-1.999835458008183,-1.8387752222921272,-1.8951978686698046,-1.8842039218314548,-1.8472524265234993,-1.9465695724912935,-1.9038557106470781,-1.8757151331978068,-1.9225811493980665,-1.867123857366839,-1.8930706203127408,-1.8351144910823245,-1.8681956265287625,-1.8615813684532083,-1.8035822416809646,-1.7804704611906645,-1.7833535404493117,-1.8339480433209479,-1.8388255287651578,-1.8169772585400492,-1.7805330055350264,-1.832416889453516,-1.845008376581352,-1.8768017857026331,-1.80814798507449,-1.8298119760268858,-1.8091852178879377,-1.7593925270415147,-1.8573907905076061,-1.8559309979664433,-1.853068158589344,-1.8273159251376194,-1.832026340448971,-1.8731277571211606,-1.7854289868800006,-1.8608054598829327,-1.8235165867288647,-1.819301375262942,-1.821712268912864,-1.807072609826474,-1.82218401769211,-1.7566837933051316,-1.7911789554031938,-1.8308550605065936,-1.7710538688134119,-1.8030506984121195,-1.8416208745830898,-1.8122977935195659,-1.7951640506365591,-1.7500509281426893,-1.8209586838872176,-1.7769319968130008,-1.7681433318076236]},{\"label\":\"gamma\",\"range\":[-7.996303107492003,-0.011381761886471735],\"ticktext\":[\"1.01e-08\",\"1e-07\",\"1e-06\",\"1e-05\",\"0.0001\",\"0.001\",\"0.01\",\"0.1\",\"0.974\"],\"tickvals\":[-7.996303107492003,-7,-6,-5,-4,-3,-2,-1,-0.011381761886471735],\"values\":[-2.8601165936684305,-1.2299921855264793,-0.06276938875615527,-3.937953732848526,-6.904104192370778,-2.3792880216199017,-7.145464751482814,-6.732802852453942,-5.631399566115101,-7.495834078930466,-3.5588128509589665,-0.6050834481647066,-0.1650036391848202,-1.9641898950328465,-1.6138749019560528,-1.8166337092429845,-5.152929296610189,-1.8080473278299354,-3.0498619400486846,-1.0017038451378075,-4.736940386722546,-3.1271000240968623,-2.1657497843040585,-2.850509595467902,-1.3914310109052275,-2.418459694838059,-2.615444982243595,-4.394422491098389,-3.538979427675845,-0.6468434859742352,-1.1000534632727033,-0.6263091924392686,-0.5738105295639335,-0.025319742381226588,-0.18925463338668694,-1.1594597572457532,-1.6016604570705482,-0.6091081251002473,-0.02568752262401229,-1.4011008027134237,-2.7895775333254433,-0.7395472060610031,-0.29639194040880495,-1.0610850631482858,-0.3993668655519144,-0.8933774940708037,-0.04917658172808095,-1.3478254989472491,-2.1422607295610687,-6.329974819086612,-3.5006110382807516,-0.7491162725141216,-0.011381761886471735,-0.5765940240096192,-0.40014706713077425,-1.6820018859130135,-1.3848556693056142,-2.127208621662808,-4.093937820122589,-0.8632829517934149,-0.4408010870700932,-0.7408633600315991,-1.2064600747490564,-0.26245071568690376,-0.8117334079059982,-1.4384829133173678,-0.014227208478572112,-1.918833546040957,-0.5752624141048819,-3.2753100130338124,-2.3454258915891346,-0.6927883015423346,-1.0914436858792067,-0.8739265660598742,-1.5221339273181764,-0.9647731954536733,-1.004962880666217,-1.1811911496273129,-1.7282088420612687,-0.21482659789925995,-2.7073630529951065,-0.9642000927857339,-0.9741580943810918,-0.9775187292610771,-0.45276096934532883,-1.293485651106503,-1.8748031952575641,-1.5713131203557247,-1.0225131099855647,-0.190900948310806,-2.490399513439107,-0.402422356261683,-0.5036549408057964,-0.7290259446661254,-1.248289024305613,-0.40104703525021396,-1.0157700141903654,-3.8982199290371162,-4.569449012542337,-3.7855557044709403,-2.968648857580561,-4.940574019819792,-5.275978143261487,-5.376900114842551,-5.785796736974255,-4.962755250461254,-5.804520026128063,-5.896193795382159,-6.20872131224287,-5.31712529745873,-5.503352082834939,-5.2549067969528345,-5.053305879299188,-4.944929665586764,-5.132115049362304,-4.869271379470707,-4.2555868332322335,-4.534497036440245,-3.9704766832721523,-5.19448638899112,-4.563512352681557,-5.618319014500441,-5.940980995769757,-6.617052185686098,-7.6301543024404115,-7.985887384772253,-7.196892273883019,-6.25038145498118,-6.7088731518060305,-6.359366522078175,-6.845711622460379,-7.701021815927431,-7.996303107492003,-7.174267057316215,-7.560307840585016,-7.598860859609316,-7.677670750857799,-7.675097846449402,-7.699838356476799,-7.607243900285177,-7.662352675610798,-7.326900241279534,-7.833533318077188,-7.423287849558127,-7.747729432444012,-7.511791500523806,-7.5270395439215845,-7.515554423710425,-7.878185621600005,-7.509822194420846,-6.949783883297313,-7.539706712754877,-7.316674496912996,-7.036183694313763,-6.987581912766171,-7.757059113884486,-7.324558424489921,-7.995959321789625,-7.058957551976868,-7.42711425039752,-7.408612547886255,-7.558416905948982,-7.862069605542508,-7.230648897471409,-7.486289314052001,-7.685542442596131,-7.71835686005352,-6.5295233988190855,-7.107704971269077,-7.097838592894664,-6.892760386184523,-7.885794250040115,-7.993078144928264,-7.439922801713278,-7.882217159760229,-7.348247458707605,-7.268028763305212,-7.14505979703891,-7.403096559025117,-6.822063307833998,-7.917481205264022,-7.970780608081723,-7.990763274279803,-7.963198281972085,-7.9494278866843215,-7.9166975152656525,-7.853874962761285,-7.800130769641898,-7.975962844296446,-7.443209701297509,-6.136946040095411,-7.6410328406479175,-7.985176602982439,-7.707484374468211,-7.536610383510509,-7.763387756971153,-7.342529953759258]},{\"label\":\"grow_policy\",\"range\":[0,1],\"ticktext\":[\"lossguide\",\"depthwise\"],\"tickvals\":[0,1],\"values\":[0,1,0,1,0,1,1,0,1,0,0,0,0,0,0,0,0,0,0,0,0,0,0,0,0,0,0,0,0,0,0,0,0,0,0,1,0,0,1,0,1,0,0,0,0,0,0,0,0,0,1,0,0,0,0,0,0,0,0,0,0,0,0,0,0,0,0,0,0,0,0,0,0,0,0,0,0,1,0,0,0,0,0,0,0,0,0,0,0,0,0,0,0,0,0,0,0,0,1,0,0,0,0,0,0,0,0,0,0,0,0,0,0,0,0,0,0,0,0,0,0,0,0,0,0,0,0,0,0,1,0,0,0,0,0,0,0,0,0,0,0,0,0,0,0,0,0,0,0,0,0,0,0,0,0,0,0,0,0,0,0,0,0,0,0,0,0,0,0,0,0,0,0,0,0,0,0,1,0,0,0,0,0,0,0,0,0,0,0,0,0,0,0,0,0,0,0]},{\"label\":\"lambda\",\"range\":[-7.897869426270537,0.6851813224551702],\"ticktext\":[\"1.27e-08\",\"1e-07\",\"1e-06\",\"1e-05\",\"0.0001\",\"0.001\",\"0.01\",\"0.1\",\"1\",\"4.84\"],\"tickvals\":[-7.897869426270537,-7,-6,-5,-4,-3,-2,-1,0,0.6851813224551702],\"values\":[0.17365133313897443,-7.215789949008676,-3.9015922173334148,-1.1896308558752444,-0.9616751252662952,-6.699147861026446,-6.274939382712277,-4.48650678971867,-4.06530743449715,-7.329748190405067,-2.1973606552585876,0.4083990762547538,0.37631392069298364,0.12686741985939667,0.6851813224551702,-2.377826646064671,-0.6221592428195026,-2.2936040235139634,-0.20751861839675723,-5.263110291940271,-1.6046615664042168,-0.21570377836149252,0.5646401211210015,-3.0857347146321534,-2.727986328270272,-2.9201323902716267,-3.3854120599628086,-3.0840617394983725,-5.261962474045243,-2.8643574719891887,-1.689841472882885,-2.9384490734175106,-2.849674339001989,-4.455611102643206,-4.5525713994149255,-3.8334768824170853,-5.3105164075460864,-4.513564030869775,-3.432327753851784,-5.898752870062054,-7.897869426270537,-2.554113214834784,-3.990735552540233,-1.8094470836837213,-3.3566423330737765,-4.241687491187604,-1.117986479991602,-4.823703728449539,-1.9890450269890383,-2.5971676337010927,-3.649528420561424,-2.60017908200582,-3.1701472889282587,-2.7506189104530208,-3.667864666712117,-3.01992060362368,-2.0242759930797,-1.4466981945192265,-2.7338803016379214,-2.216561526650934,-4.133996754611238,-2.485851291979014,-2.3978422034789695,-3.171470545097253,-3.564925847469413,-1.4020522531897472,-0.7244869548955222,-2.8343062996596613,-4.8796352991635965,-2.0629569896240585,-2.393124506415438,-2.6183710029783493,-3.3030342240486195,-2.9746277036325734,-3.88104133491714,-2.8616212436031923,-3.0968034517680096,-4.304347287792262,-1.8367889260772488,-3.739351356380596,-3.3637530471149253,-3.004762059994861,-2.9746633906759,-3.1354114139462106,-2.3606237202510063,-3.5181644027525323,-3.057887810688411,-2.210770978043573,-3.9316393904847295,-2.4845718941965025,-2.820464425446862,-2.3397825618782955,-3.251847185382333,-2.67480621042367,-2.8843944818045877,-1.9026436207487774,-2.123551144457082,-3.48041095094105,-3.4909549190885287,-4.3742101501710335,-4.684104378735858,-3.0317348777283333,-3.02155443815566,-2.987090056771191,-3.2489216563934105,-2.7293504899227385,-3.6376436473288445,-3.5402994405084134,-3.8209618902283466,-4.088310366675093,-4.124430070000569,-3.402127201206465,-3.7020770136002747,-2.7183898081235776,-3.3740321486514753,-3.7350375927333945,-4.012897680071719,-3.194160103421333,-3.4222010126266746,-2.5931497182617185,-2.263034128382516,-3.6503139933562356,-3.6420608522644278,-4.164290607273599,-4.107222779865893,-4.647240129931278,-4.301983413819963,-4.138564914402938,-3.828342352083345,-4.828740253962366,-3.9528377171520073,-4.172562476046784,-4.17091663569515,-4.560618689293032,-3.2293919718042625,-3.2204168253876535,-3.276368205491144,-5.124246783763336,-5.481103726703919,-5.649946414428412,-5.718984038222261,-6.199457154446178,-5.584773418409202,-5.516554368905166,-5.403212591877468,-5.014938464852881,-5.0548608868368134,-5.027379524531622,-5.113629964863687,-5.131181129980513,-6.070036691588359,-5.232878029481866,-5.813213528734869,-5.320777518128302,-5.301691762952502,-4.966403997977464,-5.115777438457187,-5.438998093753004,-4.759187054674358,-6.485467284971229,-6.7506266474013055,-4.443208546651653,-7.1866875221141875,-4.515080275888454,-6.7078021684337585,-4.3582482529041355,-4.918524033241096,-4.502864964916642,-6.4587525458110315,-6.90171201754164,-4.378122737288332,-6.428378103620554,-6.554496823303647,-6.269028601969034,-6.310740102167048,-6.5774038141757245,-6.467824935826787,-6.571243303203807,-6.324180349944093,-6.972816312933381,-5.986337695432528,-6.018717035717248,-6.045160287601911,-5.9181584193321735,-6.069217307687502,-6.078658276825823,-5.846638198137254,-6.4746712871678165,-6.244028920205671,-5.977297379821583,-6.46528644574907,-6.8813065887760265,-6.189212872620194,-6.62883767144203,-5.8760709560866475,-6.412002575267123,-6.367749970853577]},{\"label\":\"max_delta_step\",\"range\":[0.19325073946878701,9.971992857693174],\"values\":[5.201244493734658,9.786535356256891,1.2272477359648204,6.590266797393706,9.173970470383782,3.5120300641338242,0.29033599520472686,4.502289035918272,9.263693811411917,5.762327347659525,7.358792394305549,2.094633240649407,2.5332917973031,2.625624774915028,2.169133702917845,0.3783511633360237,3.338965343211994,1.6190283858869545,3.7572478926798554,2.8150959029806097,1.2578056985607333,4.136478485504122,4.401573642486544,2.599863563735983,2.6272628929549877,0.6787957867980579,0.19325073946878701,0.9825085993706608,0.8230326446264185,5.50113693646219,5.421082490405777,6.354793943371522,7.705973993762605,6.37637320150275,6.138633089626894,7.035438507607527,8.091662695564013,6.5543922518969815,4.610956844632655,4.848265647367548,8.59480024783899,5.330460297702357,6.268210699087047,6.777060345364268,5.817813843866301,3.1041012827228864,5.04727045965004,3.8797597373777797,7.34489975924116,5.798892552288525,1.795557592564525,5.197955160483092,5.653435556389647,6.3839261792257345,6.098216916463743,6.597100389819896,7.08295317456243,7.855042525302242,6.313835304467061,3.4085405182859376,2.4900746173355026,5.530681374889693,5.549109453955933,4.899333939072588,6.029487935902361,6.883758016407324,4.4454904153833255,3.968258391766912,6.508086951185839,7.509600250949677,2.1922580839405628,5.342074846159653,5.865836525338891,4.783785485330315,3.0266722612391783,4.760071783601788,4.2444383008295175,4.260558252174065,5.166738343144786,3.6680535658780573,1.6962942508181649,4.2388715740678,4.709670927684653,4.089074828244051,4.497490714567509,3.1951328956318763,3.6139414494250985,4.805448507898271,2.553711425733385,4.6729315501400555,2.8739701578630097,4.383438489141099,4.298828327864484,3.9616037093701415,9.971992857693174,5.078769495403995,1.333410790348064,3.4072277845456225,3.520850241283633,2.023949853635994,2.801101330314972,3.7942333185427968,3.846076127414553,3.2834587059694353,3.885210460614185,4.1597523305927995,4.219485528294633,4.1633621656094455,3.479277185430579,2.372776035199697,2.305122904907536,4.539395823537233,4.639702015195388,4.5973726996657565,4.411986330011556,3.0036308537354355,4.956833722852847,2.71124188710923,4.660885738761869,2.4281637507241367,1.9763733103503893,4.159341004986881,4.364743712805441,4.075541160107544,4.015370124365521,3.676821404054647,3.294556481380653,4.02801525584685,4.765859493897037,4.551058190379521,5.018623723272162,4.137418224152842,3.6781232181224395,4.19396130464373,3.4112525545741113,5.295816484772278,5.229681590819599,5.321874064505041,5.347185926862438,5.397091445681157,5.303700507098143,5.678388500193369,5.507289253114301,5.304568562762988,5.1639314824014235,4.89571314116307,4.9498732594626915,5.868165954278105,4.915338166479025,5.093670984614279,5.490165981618345,5.843045614578063,5.329855839331627,5.930393007424181,6.062429752514346,5.772350129484991,4.750092823863793,5.938426894297505,5.652891009710323,5.061476722651989,4.90739703165716,5.122774388928573,5.156296563038041,4.799561927576475,4.551029978077477,5.080318268790381,5.059174544077429,5.609910988673573,6.231517424948009,6.227571160417357,6.131863799005283,5.013168072155929,4.977324702555719,5.568239958459335,5.007365752025372,5.51384143289364,5.8349205288692145,5.530481144964936,6.533876866753178,4.930146339533689,5.697640052328737,5.584801580080741,5.685109389498008,5.501000807900634,5.638718788471911,5.598611000388215,5.470399129450847,6.046419491991038,5.785993064394762,5.199412093099315,6.282358673217029,5.441886444437143,5.219911771987713,0.4202354054657771,5.094766939855998,5.796840019901255,5.753731315061484]},{\"label\":\"max_depth\",\"range\":[1,9],\"values\":[4,6,7,6,8,1,4,2,9,8,3,5,4,5,5,6,2,5,3,7,5,3,3,4,4,4,4,2,1,4,4,4,3,4,6,6,2,4,3,4,5,4,4,3,5,4,2,3,6,5,4,4,4,5,5,7,5,3,6,5,3,4,4,5,4,4,3,5,4,4,6,4,3,5,5,5,5,4,4,6,3,5,5,5,6,5,5,5,4,5,4,6,7,6,6,6,7,5,5,5,5,4,4,9,4,5,5,5,8,6,6,5,6,6,7,6,6,7,5,5,6,5,5,5,6,5,6,5,5,5,5,5,5,5,5,5,5,5,5,5,5,5,5,5,5,5,5,5,5,5,5,5,5,5,5,5,5,5,5,5,5,5,5,5,5,5,5,5,5,5,5,5,5,5,5,5,5,6,5,5,5,5,5,5,5,5,5,5,5,6,5,5,5,5,5,5,5]},{\"label\":\"min_child_weight\",\"range\":[5,20],\"values\":[11,15,13,16,9,9,19,20,16,7,5,12,11,12,14,18,14,17,10,13,7,10,14,8,5,7,5,7,6,8,8,6,6,5,5,6,5,8,6,9,5,8,9,6,8,7,10,5,9,6,11,8,7,8,9,10,6,7,8,11,5,8,9,7,8,6,10,7,5,7,9,8,8,6,6,5,5,5,5,5,6,6,5,5,6,5,5,6,12,20,6,6,5,7,6,5,7,6,15,6,5,6,6,6,7,6,7,7,6,5,5,5,5,5,5,5,5,6,19,5,6,7,6,5,5,5,5,5,5,5,5,5,5,6,5,6,5,5,5,5,5,5,5,5,5,5,6,6,6,5,6,6,6,5,6,5,6,5,6,5,5,5,5,5,5,5,5,5,5,5,5,5,5,5,5,5,5,5,6,5,5,5,5,5,5,5,5,5,13,5,5,5,5,5,17,5,6]},{\"label\":\"subsample\",\"range\":[0.058319968935047095,0.999992716889708],\"values\":[0.7482524094975311,0.7831652794826226,0.7371596870510511,0.4586529708876419,0.7250898150798208,0.3837134487045375,0.4107302523093588,0.32653474543562133,0.2102633937725682,0.1788002581986925,0.9466577858874784,0.7109064752738625,0.6189570425715114,0.9575110278561264,0.9964053195819806,0.9993964908566707,0.9320087723991749,0.8709991776293504,0.8648273717559654,0.058319968935047095,0.5974679012774412,0.8562919035162602,0.970444103714967,0.8767493196210803,0.9852374095220622,0.8450394415707472,0.5968162612861645,0.8171510178042743,0.6696231846233046,0.905750256731665,0.9149060988714997,0.7909593103674801,0.7748571398961543,0.8971285309730188,0.8103655921459181,0.9982526278224242,0.7687389777528937,0.6656038037253811,0.9074058438847998,0.5006633137803305,0.7490723048611436,0.8964046996481884,0.8068224004166916,0.9483812384847208,0.7056332502356825,0.8783092079885635,0.9955728261304158,0.8134711231133995,0.9273594489274347,0.9634853192697151,0.8412201442651276,0.9163346795592369,0.9111512286363607,0.8941716325948976,0.9799158962746505,0.8751913527561651,0.30148187644419977,0.8320076451581522,0.7371032459696717,0.7853156084195929,0.8794241052373593,0.8862388173824919,0.9507174650371008,0.8517108084165848,0.9983714959189725,0.9499008039030794,0.8925769195531847,0.7910684951758358,0.6946104373882656,0.8400202057353029,0.7594977205166502,0.8949288059685466,0.9301797051866183,0.9752368948708081,0.9743026344220977,0.8623908800380825,0.8582124744207351,0.8526177508877535,0.7975314337011356,0.8304042452212369,0.9252373898838194,0.8666420475409814,0.8703600704101064,0.8745469331163226,0.8668060431009863,0.819636088021561,0.7695572170777074,0.7264946480082948,0.9372378029842287,0.074420874669831,0.8600266350785217,0.8696034850795574,0.8225575867357442,0.8943967790252684,0.7984274141141667,0.9142017897107894,0.8443132531522083,0.8784884555808784,0.9459056021927593,0.7773760509139817,0.5585319504533108,0.8804098167880833,0.8637140459257047,0.8700203743752211,0.8165710254183723,0.8556538959308673,0.8576516612073513,0.7482884171841381,0.8567771107370011,0.8364027813815409,0.8368606351675646,0.9042162942608186,0.9085671894244918,0.9129593412050019,0.9618833290796097,0.988651894004424,0.9327533898974195,0.9107742867986888,0.8943066960389765,0.8057505489240344,0.8393697348659682,0.8775799078087566,0.40125692289383125,0.84646859049455,0.9014819390726864,0.9309834943787665,0.9635451073774972,0.8937702852654763,0.8272227422039027,0.9212419348567775,0.8498134883480001,0.8919412160918092,0.892434709208812,0.9389618897565382,0.8815054533822787,0.913211569534708,0.8874151764573528,0.9082660000293665,0.9549281177610361,0.955864104765972,0.9961164584124479,0.9498994294035127,0.9793949495199004,0.959298967891879,0.9176661245758002,0.9377476377950548,0.9709286753156051,0.9395585791982703,0.9777457807348131,0.9589829526410676,0.8826209766739488,0.936558837945237,0.9258146596609906,0.9018429401846426,0.9033725620602361,0.8918750858845633,0.9302363006705457,0.9097084257636294,0.8807118597968657,0.942534475907497,0.9429472690791274,0.9201676147697084,0.994967001011557,0.970825342993502,0.8868662312457469,0.9297843852719968,0.9413689880794863,0.9327055385719816,0.9088584134686827,0.9060228572875031,0.9759490406853383,0.9193669837205826,0.9242113647830497,0.922568917674905,0.9477390397495882,0.9219041450314291,0.9224687153031574,0.9232473926086384,0.999992716889708,0.905510701464956,0.9667381619759073,0.9663613086363291,0.9331005225916879,0.9430308890765633,0.9349464639428147,0.9598936301447221,0.9434158093717349,0.9835383493764258,0.9150554966317661,0.960409836634366,0.4501818338547971,0.9249854372150211,0.9438134830731884,0.9280904393265867,0.90098791263243,0.9638314646116235,0.9945631989768363]}],\"labelangle\":30,\"labelside\":\"bottom\",\"line\":{\"color\":[0.30639619074861996,0.30726920277296815,0.3069470212335395,0.3089779787419432,0.30987458712626587,0.31390321392698034,0.313457568820454,0.31052181247621036,0.314000170399444,0.3220439733671023,0.30720058056895133,0.30608879226333885,0.3069010085883522,0.30481704790949093,0.3050234856893582,0.3066601053752009,0.30821902169839005,0.30697706827492116,0.3058790591137603,0.33042928239767994,0.3063238112122801,0.30582482200323835,0.3063468439957962,0.3037824422485444,0.30371422419196314,0.3047322285521438,0.30868724653992474,0.3104406502939459,0.31238643980414715,0.3041425477416762,0.31409801095637374,0.3040566826886027,0.3067547475608347,0.30409218345180866,0.3054395764660157,0.3044934343191466,0.30725499622815017,0.30542628608192857,0.30577327150291345,0.3058441839975229,0.3045511773904084,0.30444303073525836,0.30516585640259536,0.30518660469893244,0.3057118355150911,0.3048127873344592,0.30758910111599397,0.30549806460328016,0.30485806470353977,0.30514721739361567,0.3110563220500391,0.3044662114347105,0.3049013684537224,0.30432136486611283,0.305038262922267,0.30595539009791417,0.3089271539432762,0.30514812817320236,0.3053378571942753,0.3076245295714558,0.3047993005898879,0.30411194456082935,0.3047496981453246,0.3048656874471277,0.3046874937275342,0.3054000064670061,0.3055031612048883,0.3060543137464597,0.30893716433925034,0.30495525134023754,0.30487640379684544,0.30466010898397705,0.3049822875694416,0.30416164563771403,0.30480145999180186,0.30364407333889826,0.3037293374549371,0.30496330133229865,0.30433229318504035,0.3050403231057453,0.30506416955584525,0.3037895363245819,0.30352159438410475,0.3041655932640643,0.304127068531025,0.3050106676271279,0.30875986277259243,0.30575541656734784,0.3045812696665532,0.3313188883525335,0.30643753959083236,0.3039950014513125,0.30543437386255007,0.30493955333525163,0.3047245756905245,0.30559297828905646,0.30648683674121757,0.30364374972519365,0.3045688309691815,0.3051514994983422,0.306594501470289,0.30406674908497305,0.30404715706794294,0.30904975666189183,0.30418631590093564,0.3037766308412247,0.3040064603744419,0.30461978511748655,0.30639440936382434,0.30350597144371216,0.30484894964116144,0.30346899498579694,0.3037273303727304,0.3040195077321606,0.30577789123370835,0.30484885110679655,0.30401283940231816,0.3056090611116048,0.30624916172648053,0.30449243564124345,0.30481806823242963,0.30424396787878305,0.307159066243906,0.303805529944264,0.30385581833051384,0.30392730377772265,0.3044532040194634,0.30351236448933966,0.3038713761436052,0.30419966465343123,0.30493566954438994,0.30356896008882106,0.30410631534839655,0.30395805310632384,0.3035953860819363,0.3036538678884038,0.3036350466642065,0.30356441757836206,0.30358650891977856,0.30367040817604457,0.30382914808983164,0.30397543404473615,0.30384547683617513,0.3038129792561534,0.3049984049737871,0.303335536964366,0.30358452632285504,0.3037054976544454,0.3040163353336057,0.3039334516714045,0.3038521215494067,0.30351373235321816,0.3038516460065322,0.30356975086847376,0.3040007798041667,0.30387175784656645,0.3043849959689511,0.30421054459000735,0.3043603697865352,0.30355334543228535,0.3044994990524612,0.30341860765476936,0.3038986458171671,0.3038070923130141,0.30387688293281506,0.30327264430377127,0.3037398508148733,0.3037798082609825,0.30356800017503016,0.30381411358814225,0.3043569533007807,0.3032834491768863,0.3032182891051738,0.30356040698573483,0.3036928214721525,0.3033027502689307,0.30393555151617685,0.304160807494574,0.3038850632583543,0.3039047303779851,0.30319201070264895,0.3035026807822158,0.3028443879614926,0.3035663072266237,0.3038392368686251,0.3039973953370166,0.303692153996192,0.30380925473639214,0.3045190822358055,0.3042904784967052,0.30621907881645194,0.30371940972317285,0.30376137341869536,0.3045705657943843,0.3048778618148565,0.3032814984041085,0.3042146489826497],\"colorbar\":{\"title\":{\"text\":\"Objective Value\"}},\"colorscale\":[[0.0,\"rgb(247,251,255)\"],[0.125,\"rgb(222,235,247)\"],[0.25,\"rgb(198,219,239)\"],[0.375,\"rgb(158,202,225)\"],[0.5,\"rgb(107,174,214)\"],[0.625,\"rgb(66,146,198)\"],[0.75,\"rgb(33,113,181)\"],[0.875,\"rgb(8,81,156)\"],[1.0,\"rgb(8,48,107)\"]],\"reversescale\":true,\"showscale\":true},\"type\":\"parcoords\"}],                        {\"template\":{\"data\":{\"bar\":[{\"error_x\":{\"color\":\"#2a3f5f\"},\"error_y\":{\"color\":\"#2a3f5f\"},\"marker\":{\"line\":{\"color\":\"#E5ECF6\",\"width\":0.5},\"pattern\":{\"fillmode\":\"overlay\",\"size\":10,\"solidity\":0.2}},\"type\":\"bar\"}],\"barpolar\":[{\"marker\":{\"line\":{\"color\":\"#E5ECF6\",\"width\":0.5},\"pattern\":{\"fillmode\":\"overlay\",\"size\":10,\"solidity\":0.2}},\"type\":\"barpolar\"}],\"carpet\":[{\"aaxis\":{\"endlinecolor\":\"#2a3f5f\",\"gridcolor\":\"white\",\"linecolor\":\"white\",\"minorgridcolor\":\"white\",\"startlinecolor\":\"#2a3f5f\"},\"baxis\":{\"endlinecolor\":\"#2a3f5f\",\"gridcolor\":\"white\",\"linecolor\":\"white\",\"minorgridcolor\":\"white\",\"startlinecolor\":\"#2a3f5f\"},\"type\":\"carpet\"}],\"choropleth\":[{\"colorbar\":{\"outlinewidth\":0,\"ticks\":\"\"},\"type\":\"choropleth\"}],\"contour\":[{\"colorbar\":{\"outlinewidth\":0,\"ticks\":\"\"},\"colorscale\":[[0.0,\"#0d0887\"],[0.1111111111111111,\"#46039f\"],[0.2222222222222222,\"#7201a8\"],[0.3333333333333333,\"#9c179e\"],[0.4444444444444444,\"#bd3786\"],[0.5555555555555556,\"#d8576b\"],[0.6666666666666666,\"#ed7953\"],[0.7777777777777778,\"#fb9f3a\"],[0.8888888888888888,\"#fdca26\"],[1.0,\"#f0f921\"]],\"type\":\"contour\"}],\"contourcarpet\":[{\"colorbar\":{\"outlinewidth\":0,\"ticks\":\"\"},\"type\":\"contourcarpet\"}],\"heatmap\":[{\"colorbar\":{\"outlinewidth\":0,\"ticks\":\"\"},\"colorscale\":[[0.0,\"#0d0887\"],[0.1111111111111111,\"#46039f\"],[0.2222222222222222,\"#7201a8\"],[0.3333333333333333,\"#9c179e\"],[0.4444444444444444,\"#bd3786\"],[0.5555555555555556,\"#d8576b\"],[0.6666666666666666,\"#ed7953\"],[0.7777777777777778,\"#fb9f3a\"],[0.8888888888888888,\"#fdca26\"],[1.0,\"#f0f921\"]],\"type\":\"heatmap\"}],\"heatmapgl\":[{\"colorbar\":{\"outlinewidth\":0,\"ticks\":\"\"},\"colorscale\":[[0.0,\"#0d0887\"],[0.1111111111111111,\"#46039f\"],[0.2222222222222222,\"#7201a8\"],[0.3333333333333333,\"#9c179e\"],[0.4444444444444444,\"#bd3786\"],[0.5555555555555556,\"#d8576b\"],[0.6666666666666666,\"#ed7953\"],[0.7777777777777778,\"#fb9f3a\"],[0.8888888888888888,\"#fdca26\"],[1.0,\"#f0f921\"]],\"type\":\"heatmapgl\"}],\"histogram\":[{\"marker\":{\"pattern\":{\"fillmode\":\"overlay\",\"size\":10,\"solidity\":0.2}},\"type\":\"histogram\"}],\"histogram2d\":[{\"colorbar\":{\"outlinewidth\":0,\"ticks\":\"\"},\"colorscale\":[[0.0,\"#0d0887\"],[0.1111111111111111,\"#46039f\"],[0.2222222222222222,\"#7201a8\"],[0.3333333333333333,\"#9c179e\"],[0.4444444444444444,\"#bd3786\"],[0.5555555555555556,\"#d8576b\"],[0.6666666666666666,\"#ed7953\"],[0.7777777777777778,\"#fb9f3a\"],[0.8888888888888888,\"#fdca26\"],[1.0,\"#f0f921\"]],\"type\":\"histogram2d\"}],\"histogram2dcontour\":[{\"colorbar\":{\"outlinewidth\":0,\"ticks\":\"\"},\"colorscale\":[[0.0,\"#0d0887\"],[0.1111111111111111,\"#46039f\"],[0.2222222222222222,\"#7201a8\"],[0.3333333333333333,\"#9c179e\"],[0.4444444444444444,\"#bd3786\"],[0.5555555555555556,\"#d8576b\"],[0.6666666666666666,\"#ed7953\"],[0.7777777777777778,\"#fb9f3a\"],[0.8888888888888888,\"#fdca26\"],[1.0,\"#f0f921\"]],\"type\":\"histogram2dcontour\"}],\"mesh3d\":[{\"colorbar\":{\"outlinewidth\":0,\"ticks\":\"\"},\"type\":\"mesh3d\"}],\"parcoords\":[{\"line\":{\"colorbar\":{\"outlinewidth\":0,\"ticks\":\"\"}},\"type\":\"parcoords\"}],\"pie\":[{\"automargin\":true,\"type\":\"pie\"}],\"scatter\":[{\"marker\":{\"colorbar\":{\"outlinewidth\":0,\"ticks\":\"\"}},\"type\":\"scatter\"}],\"scatter3d\":[{\"line\":{\"colorbar\":{\"outlinewidth\":0,\"ticks\":\"\"}},\"marker\":{\"colorbar\":{\"outlinewidth\":0,\"ticks\":\"\"}},\"type\":\"scatter3d\"}],\"scattercarpet\":[{\"marker\":{\"colorbar\":{\"outlinewidth\":0,\"ticks\":\"\"}},\"type\":\"scattercarpet\"}],\"scattergeo\":[{\"marker\":{\"colorbar\":{\"outlinewidth\":0,\"ticks\":\"\"}},\"type\":\"scattergeo\"}],\"scattergl\":[{\"marker\":{\"colorbar\":{\"outlinewidth\":0,\"ticks\":\"\"}},\"type\":\"scattergl\"}],\"scattermapbox\":[{\"marker\":{\"colorbar\":{\"outlinewidth\":0,\"ticks\":\"\"}},\"type\":\"scattermapbox\"}],\"scatterpolar\":[{\"marker\":{\"colorbar\":{\"outlinewidth\":0,\"ticks\":\"\"}},\"type\":\"scatterpolar\"}],\"scatterpolargl\":[{\"marker\":{\"colorbar\":{\"outlinewidth\":0,\"ticks\":\"\"}},\"type\":\"scatterpolargl\"}],\"scatterternary\":[{\"marker\":{\"colorbar\":{\"outlinewidth\":0,\"ticks\":\"\"}},\"type\":\"scatterternary\"}],\"surface\":[{\"colorbar\":{\"outlinewidth\":0,\"ticks\":\"\"},\"colorscale\":[[0.0,\"#0d0887\"],[0.1111111111111111,\"#46039f\"],[0.2222222222222222,\"#7201a8\"],[0.3333333333333333,\"#9c179e\"],[0.4444444444444444,\"#bd3786\"],[0.5555555555555556,\"#d8576b\"],[0.6666666666666666,\"#ed7953\"],[0.7777777777777778,\"#fb9f3a\"],[0.8888888888888888,\"#fdca26\"],[1.0,\"#f0f921\"]],\"type\":\"surface\"}],\"table\":[{\"cells\":{\"fill\":{\"color\":\"#EBF0F8\"},\"line\":{\"color\":\"white\"}},\"header\":{\"fill\":{\"color\":\"#C8D4E3\"},\"line\":{\"color\":\"white\"}},\"type\":\"table\"}]},\"layout\":{\"annotationdefaults\":{\"arrowcolor\":\"#2a3f5f\",\"arrowhead\":0,\"arrowwidth\":1},\"autotypenumbers\":\"strict\",\"coloraxis\":{\"colorbar\":{\"outlinewidth\":0,\"ticks\":\"\"}},\"colorscale\":{\"diverging\":[[0,\"#8e0152\"],[0.1,\"#c51b7d\"],[0.2,\"#de77ae\"],[0.3,\"#f1b6da\"],[0.4,\"#fde0ef\"],[0.5,\"#f7f7f7\"],[0.6,\"#e6f5d0\"],[0.7,\"#b8e186\"],[0.8,\"#7fbc41\"],[0.9,\"#4d9221\"],[1,\"#276419\"]],\"sequential\":[[0.0,\"#0d0887\"],[0.1111111111111111,\"#46039f\"],[0.2222222222222222,\"#7201a8\"],[0.3333333333333333,\"#9c179e\"],[0.4444444444444444,\"#bd3786\"],[0.5555555555555556,\"#d8576b\"],[0.6666666666666666,\"#ed7953\"],[0.7777777777777778,\"#fb9f3a\"],[0.8888888888888888,\"#fdca26\"],[1.0,\"#f0f921\"]],\"sequentialminus\":[[0.0,\"#0d0887\"],[0.1111111111111111,\"#46039f\"],[0.2222222222222222,\"#7201a8\"],[0.3333333333333333,\"#9c179e\"],[0.4444444444444444,\"#bd3786\"],[0.5555555555555556,\"#d8576b\"],[0.6666666666666666,\"#ed7953\"],[0.7777777777777778,\"#fb9f3a\"],[0.8888888888888888,\"#fdca26\"],[1.0,\"#f0f921\"]]},\"colorway\":[\"#636efa\",\"#EF553B\",\"#00cc96\",\"#ab63fa\",\"#FFA15A\",\"#19d3f3\",\"#FF6692\",\"#B6E880\",\"#FF97FF\",\"#FECB52\"],\"font\":{\"color\":\"#2a3f5f\"},\"geo\":{\"bgcolor\":\"white\",\"lakecolor\":\"white\",\"landcolor\":\"#E5ECF6\",\"showlakes\":true,\"showland\":true,\"subunitcolor\":\"white\"},\"hoverlabel\":{\"align\":\"left\"},\"hovermode\":\"closest\",\"mapbox\":{\"style\":\"light\"},\"paper_bgcolor\":\"white\",\"plot_bgcolor\":\"#E5ECF6\",\"polar\":{\"angularaxis\":{\"gridcolor\":\"white\",\"linecolor\":\"white\",\"ticks\":\"\"},\"bgcolor\":\"#E5ECF6\",\"radialaxis\":{\"gridcolor\":\"white\",\"linecolor\":\"white\",\"ticks\":\"\"}},\"scene\":{\"xaxis\":{\"backgroundcolor\":\"#E5ECF6\",\"gridcolor\":\"white\",\"gridwidth\":2,\"linecolor\":\"white\",\"showbackground\":true,\"ticks\":\"\",\"zerolinecolor\":\"white\"},\"yaxis\":{\"backgroundcolor\":\"#E5ECF6\",\"gridcolor\":\"white\",\"gridwidth\":2,\"linecolor\":\"white\",\"showbackground\":true,\"ticks\":\"\",\"zerolinecolor\":\"white\"},\"zaxis\":{\"backgroundcolor\":\"#E5ECF6\",\"gridcolor\":\"white\",\"gridwidth\":2,\"linecolor\":\"white\",\"showbackground\":true,\"ticks\":\"\",\"zerolinecolor\":\"white\"}},\"shapedefaults\":{\"line\":{\"color\":\"#2a3f5f\"}},\"ternary\":{\"aaxis\":{\"gridcolor\":\"white\",\"linecolor\":\"white\",\"ticks\":\"\"},\"baxis\":{\"gridcolor\":\"white\",\"linecolor\":\"white\",\"ticks\":\"\"},\"bgcolor\":\"#E5ECF6\",\"caxis\":{\"gridcolor\":\"white\",\"linecolor\":\"white\",\"ticks\":\"\"}},\"title\":{\"x\":0.05},\"xaxis\":{\"automargin\":true,\"gridcolor\":\"white\",\"linecolor\":\"white\",\"ticks\":\"\",\"title\":{\"standoff\":15},\"zerolinecolor\":\"white\",\"zerolinewidth\":2},\"yaxis\":{\"automargin\":true,\"gridcolor\":\"white\",\"linecolor\":\"white\",\"ticks\":\"\",\"title\":{\"standoff\":15},\"zerolinecolor\":\"white\",\"zerolinewidth\":2}}},\"title\":{\"text\":\"Parallel Coordinate Plot\"}},                        {\"responsive\": true}                    ).then(function(){\n",
       "                            \n",
       "var gd = document.getElementById('d32dd33b-e3ba-4356-8da8-adcd4d527516');\n",
       "var x = new MutationObserver(function (mutations, observer) {{\n",
       "        var display = window.getComputedStyle(gd).display;\n",
       "        if (!display || display === 'none') {{\n",
       "            console.log([gd, 'removed!']);\n",
       "            Plotly.purge(gd);\n",
       "            observer.disconnect();\n",
       "        }}\n",
       "}});\n",
       "\n",
       "// Listen for the removal of the full notebook cells\n",
       "var notebookContainer = gd.closest('#notebook-container');\n",
       "if (notebookContainer) {{\n",
       "    x.observe(notebookContainer, {childList: true});\n",
       "}}\n",
       "\n",
       "// Listen for the clearing of the current output cell\n",
       "var outputEl = gd.closest('.output');\n",
       "if (outputEl) {{\n",
       "    x.observe(outputEl, {childList: true});\n",
       "}}\n",
       "\n",
       "                        })                };                });            </script>        </div>"
      ]
     },
     "metadata": {},
     "output_type": "display_data"
    }
   ],
   "source": [
    "optuna.visualization.plot_parallel_coordinate(study_xgb)"
   ]
  },
  {
   "cell_type": "code",
   "execution_count": 11,
   "id": "965391bd",
   "metadata": {
    "execution": {
     "iopub.execute_input": "2021-09-03T20:54:59.232522Z",
     "iopub.status.busy": "2021-09-03T20:54:59.231546Z",
     "iopub.status.idle": "2021-09-03T20:55:12.431683Z",
     "shell.execute_reply": "2021-09-03T20:55:12.431040Z",
     "shell.execute_reply.started": "2021-09-03T04:41:44.45608Z"
    },
    "papermill": {
     "duration": 13.289498,
     "end_time": "2021-09-03T20:55:12.431827",
     "exception": false,
     "start_time": "2021-09-03T20:54:59.142329",
     "status": "completed"
    },
    "tags": []
   },
   "outputs": [
    {
     "data": {
      "text/html": [
       "<div>                            <div id=\"9fca79cc-0563-4034-a3e5-015f97749f0e\" class=\"plotly-graph-div\" style=\"height:525px; width:100%;\"></div>            <script type=\"text/javascript\">                require([\"plotly\"], function(Plotly) {                    window.PLOTLYENV=window.PLOTLYENV || {};                                    if (document.getElementById(\"9fca79cc-0563-4034-a3e5-015f97749f0e\")) {                    Plotly.newPlot(                        \"9fca79cc-0563-4034-a3e5-015f97749f0e\",                        [{\"cliponaxis\":false,\"hovertemplate\":[\"booster (CategoricalDistribution): 0.0<extra></extra>\",\"lambda (LogUniformDistribution): 3.1488468649895544e-05<extra></extra>\",\"alpha (LogUniformDistribution): 0.0001032158775060773<extra></extra>\",\"gamma (LogUniformDistribution): 0.000497698936053052<extra></extra>\",\"min_child_weight (IntUniformDistribution): 0.0012638429379132278<extra></extra>\",\"grow_policy (CategoricalDistribution): 0.004693512265406573<extra></extra>\",\"max_delta_step (UniformDistribution): 0.009741679816394039<extra></extra>\",\"colsample_bytree (UniformDistribution): 0.01156575880484586<extra></extra>\",\"max_depth (IntUniformDistribution): 0.011604885432617626<extra></extra>\",\"eta (LogUniformDistribution): 0.02551234593599399<extra></extra>\",\"subsample (UniformDistribution): 0.9349855715246196<extra></extra>\"],\"marker\":{\"color\":\"rgb(66,146,198)\"},\"orientation\":\"h\",\"text\":[\"0.0\",\"3.1488468649895544e-05\",\"0.0001032158775060773\",\"0.000497698936053052\",\"0.0012638429379132278\",\"0.004693512265406573\",\"0.009741679816394039\",\"0.01156575880484586\",\"0.011604885432617626\",\"0.02551234593599399\",\"0.9349855715246196\"],\"textposition\":\"outside\",\"texttemplate\":\"%{text:.2f}\",\"type\":\"bar\",\"x\":[0.0,3.1488468649895544e-05,0.0001032158775060773,0.000497698936053052,0.0012638429379132278,0.004693512265406573,0.009741679816394039,0.01156575880484586,0.011604885432617626,0.02551234593599399,0.9349855715246196],\"y\":[\"booster\",\"lambda\",\"alpha\",\"gamma\",\"min_child_weight\",\"grow_policy\",\"max_delta_step\",\"colsample_bytree\",\"max_depth\",\"eta\",\"subsample\"]}],                        {\"showlegend\":false,\"template\":{\"data\":{\"bar\":[{\"error_x\":{\"color\":\"#2a3f5f\"},\"error_y\":{\"color\":\"#2a3f5f\"},\"marker\":{\"line\":{\"color\":\"#E5ECF6\",\"width\":0.5},\"pattern\":{\"fillmode\":\"overlay\",\"size\":10,\"solidity\":0.2}},\"type\":\"bar\"}],\"barpolar\":[{\"marker\":{\"line\":{\"color\":\"#E5ECF6\",\"width\":0.5},\"pattern\":{\"fillmode\":\"overlay\",\"size\":10,\"solidity\":0.2}},\"type\":\"barpolar\"}],\"carpet\":[{\"aaxis\":{\"endlinecolor\":\"#2a3f5f\",\"gridcolor\":\"white\",\"linecolor\":\"white\",\"minorgridcolor\":\"white\",\"startlinecolor\":\"#2a3f5f\"},\"baxis\":{\"endlinecolor\":\"#2a3f5f\",\"gridcolor\":\"white\",\"linecolor\":\"white\",\"minorgridcolor\":\"white\",\"startlinecolor\":\"#2a3f5f\"},\"type\":\"carpet\"}],\"choropleth\":[{\"colorbar\":{\"outlinewidth\":0,\"ticks\":\"\"},\"type\":\"choropleth\"}],\"contour\":[{\"colorbar\":{\"outlinewidth\":0,\"ticks\":\"\"},\"colorscale\":[[0.0,\"#0d0887\"],[0.1111111111111111,\"#46039f\"],[0.2222222222222222,\"#7201a8\"],[0.3333333333333333,\"#9c179e\"],[0.4444444444444444,\"#bd3786\"],[0.5555555555555556,\"#d8576b\"],[0.6666666666666666,\"#ed7953\"],[0.7777777777777778,\"#fb9f3a\"],[0.8888888888888888,\"#fdca26\"],[1.0,\"#f0f921\"]],\"type\":\"contour\"}],\"contourcarpet\":[{\"colorbar\":{\"outlinewidth\":0,\"ticks\":\"\"},\"type\":\"contourcarpet\"}],\"heatmap\":[{\"colorbar\":{\"outlinewidth\":0,\"ticks\":\"\"},\"colorscale\":[[0.0,\"#0d0887\"],[0.1111111111111111,\"#46039f\"],[0.2222222222222222,\"#7201a8\"],[0.3333333333333333,\"#9c179e\"],[0.4444444444444444,\"#bd3786\"],[0.5555555555555556,\"#d8576b\"],[0.6666666666666666,\"#ed7953\"],[0.7777777777777778,\"#fb9f3a\"],[0.8888888888888888,\"#fdca26\"],[1.0,\"#f0f921\"]],\"type\":\"heatmap\"}],\"heatmapgl\":[{\"colorbar\":{\"outlinewidth\":0,\"ticks\":\"\"},\"colorscale\":[[0.0,\"#0d0887\"],[0.1111111111111111,\"#46039f\"],[0.2222222222222222,\"#7201a8\"],[0.3333333333333333,\"#9c179e\"],[0.4444444444444444,\"#bd3786\"],[0.5555555555555556,\"#d8576b\"],[0.6666666666666666,\"#ed7953\"],[0.7777777777777778,\"#fb9f3a\"],[0.8888888888888888,\"#fdca26\"],[1.0,\"#f0f921\"]],\"type\":\"heatmapgl\"}],\"histogram\":[{\"marker\":{\"pattern\":{\"fillmode\":\"overlay\",\"size\":10,\"solidity\":0.2}},\"type\":\"histogram\"}],\"histogram2d\":[{\"colorbar\":{\"outlinewidth\":0,\"ticks\":\"\"},\"colorscale\":[[0.0,\"#0d0887\"],[0.1111111111111111,\"#46039f\"],[0.2222222222222222,\"#7201a8\"],[0.3333333333333333,\"#9c179e\"],[0.4444444444444444,\"#bd3786\"],[0.5555555555555556,\"#d8576b\"],[0.6666666666666666,\"#ed7953\"],[0.7777777777777778,\"#fb9f3a\"],[0.8888888888888888,\"#fdca26\"],[1.0,\"#f0f921\"]],\"type\":\"histogram2d\"}],\"histogram2dcontour\":[{\"colorbar\":{\"outlinewidth\":0,\"ticks\":\"\"},\"colorscale\":[[0.0,\"#0d0887\"],[0.1111111111111111,\"#46039f\"],[0.2222222222222222,\"#7201a8\"],[0.3333333333333333,\"#9c179e\"],[0.4444444444444444,\"#bd3786\"],[0.5555555555555556,\"#d8576b\"],[0.6666666666666666,\"#ed7953\"],[0.7777777777777778,\"#fb9f3a\"],[0.8888888888888888,\"#fdca26\"],[1.0,\"#f0f921\"]],\"type\":\"histogram2dcontour\"}],\"mesh3d\":[{\"colorbar\":{\"outlinewidth\":0,\"ticks\":\"\"},\"type\":\"mesh3d\"}],\"parcoords\":[{\"line\":{\"colorbar\":{\"outlinewidth\":0,\"ticks\":\"\"}},\"type\":\"parcoords\"}],\"pie\":[{\"automargin\":true,\"type\":\"pie\"}],\"scatter\":[{\"marker\":{\"colorbar\":{\"outlinewidth\":0,\"ticks\":\"\"}},\"type\":\"scatter\"}],\"scatter3d\":[{\"line\":{\"colorbar\":{\"outlinewidth\":0,\"ticks\":\"\"}},\"marker\":{\"colorbar\":{\"outlinewidth\":0,\"ticks\":\"\"}},\"type\":\"scatter3d\"}],\"scattercarpet\":[{\"marker\":{\"colorbar\":{\"outlinewidth\":0,\"ticks\":\"\"}},\"type\":\"scattercarpet\"}],\"scattergeo\":[{\"marker\":{\"colorbar\":{\"outlinewidth\":0,\"ticks\":\"\"}},\"type\":\"scattergeo\"}],\"scattergl\":[{\"marker\":{\"colorbar\":{\"outlinewidth\":0,\"ticks\":\"\"}},\"type\":\"scattergl\"}],\"scattermapbox\":[{\"marker\":{\"colorbar\":{\"outlinewidth\":0,\"ticks\":\"\"}},\"type\":\"scattermapbox\"}],\"scatterpolar\":[{\"marker\":{\"colorbar\":{\"outlinewidth\":0,\"ticks\":\"\"}},\"type\":\"scatterpolar\"}],\"scatterpolargl\":[{\"marker\":{\"colorbar\":{\"outlinewidth\":0,\"ticks\":\"\"}},\"type\":\"scatterpolargl\"}],\"scatterternary\":[{\"marker\":{\"colorbar\":{\"outlinewidth\":0,\"ticks\":\"\"}},\"type\":\"scatterternary\"}],\"surface\":[{\"colorbar\":{\"outlinewidth\":0,\"ticks\":\"\"},\"colorscale\":[[0.0,\"#0d0887\"],[0.1111111111111111,\"#46039f\"],[0.2222222222222222,\"#7201a8\"],[0.3333333333333333,\"#9c179e\"],[0.4444444444444444,\"#bd3786\"],[0.5555555555555556,\"#d8576b\"],[0.6666666666666666,\"#ed7953\"],[0.7777777777777778,\"#fb9f3a\"],[0.8888888888888888,\"#fdca26\"],[1.0,\"#f0f921\"]],\"type\":\"surface\"}],\"table\":[{\"cells\":{\"fill\":{\"color\":\"#EBF0F8\"},\"line\":{\"color\":\"white\"}},\"header\":{\"fill\":{\"color\":\"#C8D4E3\"},\"line\":{\"color\":\"white\"}},\"type\":\"table\"}]},\"layout\":{\"annotationdefaults\":{\"arrowcolor\":\"#2a3f5f\",\"arrowhead\":0,\"arrowwidth\":1},\"autotypenumbers\":\"strict\",\"coloraxis\":{\"colorbar\":{\"outlinewidth\":0,\"ticks\":\"\"}},\"colorscale\":{\"diverging\":[[0,\"#8e0152\"],[0.1,\"#c51b7d\"],[0.2,\"#de77ae\"],[0.3,\"#f1b6da\"],[0.4,\"#fde0ef\"],[0.5,\"#f7f7f7\"],[0.6,\"#e6f5d0\"],[0.7,\"#b8e186\"],[0.8,\"#7fbc41\"],[0.9,\"#4d9221\"],[1,\"#276419\"]],\"sequential\":[[0.0,\"#0d0887\"],[0.1111111111111111,\"#46039f\"],[0.2222222222222222,\"#7201a8\"],[0.3333333333333333,\"#9c179e\"],[0.4444444444444444,\"#bd3786\"],[0.5555555555555556,\"#d8576b\"],[0.6666666666666666,\"#ed7953\"],[0.7777777777777778,\"#fb9f3a\"],[0.8888888888888888,\"#fdca26\"],[1.0,\"#f0f921\"]],\"sequentialminus\":[[0.0,\"#0d0887\"],[0.1111111111111111,\"#46039f\"],[0.2222222222222222,\"#7201a8\"],[0.3333333333333333,\"#9c179e\"],[0.4444444444444444,\"#bd3786\"],[0.5555555555555556,\"#d8576b\"],[0.6666666666666666,\"#ed7953\"],[0.7777777777777778,\"#fb9f3a\"],[0.8888888888888888,\"#fdca26\"],[1.0,\"#f0f921\"]]},\"colorway\":[\"#636efa\",\"#EF553B\",\"#00cc96\",\"#ab63fa\",\"#FFA15A\",\"#19d3f3\",\"#FF6692\",\"#B6E880\",\"#FF97FF\",\"#FECB52\"],\"font\":{\"color\":\"#2a3f5f\"},\"geo\":{\"bgcolor\":\"white\",\"lakecolor\":\"white\",\"landcolor\":\"#E5ECF6\",\"showlakes\":true,\"showland\":true,\"subunitcolor\":\"white\"},\"hoverlabel\":{\"align\":\"left\"},\"hovermode\":\"closest\",\"mapbox\":{\"style\":\"light\"},\"paper_bgcolor\":\"white\",\"plot_bgcolor\":\"#E5ECF6\",\"polar\":{\"angularaxis\":{\"gridcolor\":\"white\",\"linecolor\":\"white\",\"ticks\":\"\"},\"bgcolor\":\"#E5ECF6\",\"radialaxis\":{\"gridcolor\":\"white\",\"linecolor\":\"white\",\"ticks\":\"\"}},\"scene\":{\"xaxis\":{\"backgroundcolor\":\"#E5ECF6\",\"gridcolor\":\"white\",\"gridwidth\":2,\"linecolor\":\"white\",\"showbackground\":true,\"ticks\":\"\",\"zerolinecolor\":\"white\"},\"yaxis\":{\"backgroundcolor\":\"#E5ECF6\",\"gridcolor\":\"white\",\"gridwidth\":2,\"linecolor\":\"white\",\"showbackground\":true,\"ticks\":\"\",\"zerolinecolor\":\"white\"},\"zaxis\":{\"backgroundcolor\":\"#E5ECF6\",\"gridcolor\":\"white\",\"gridwidth\":2,\"linecolor\":\"white\",\"showbackground\":true,\"ticks\":\"\",\"zerolinecolor\":\"white\"}},\"shapedefaults\":{\"line\":{\"color\":\"#2a3f5f\"}},\"ternary\":{\"aaxis\":{\"gridcolor\":\"white\",\"linecolor\":\"white\",\"ticks\":\"\"},\"baxis\":{\"gridcolor\":\"white\",\"linecolor\":\"white\",\"ticks\":\"\"},\"bgcolor\":\"#E5ECF6\",\"caxis\":{\"gridcolor\":\"white\",\"linecolor\":\"white\",\"ticks\":\"\"}},\"title\":{\"x\":0.05},\"xaxis\":{\"automargin\":true,\"gridcolor\":\"white\",\"linecolor\":\"white\",\"ticks\":\"\",\"title\":{\"standoff\":15},\"zerolinecolor\":\"white\",\"zerolinewidth\":2},\"yaxis\":{\"automargin\":true,\"gridcolor\":\"white\",\"linecolor\":\"white\",\"ticks\":\"\",\"title\":{\"standoff\":15},\"zerolinecolor\":\"white\",\"zerolinewidth\":2}}},\"title\":{\"text\":\"Hyperparameter Importances\"},\"xaxis\":{\"title\":{\"text\":\"Importance for Objective Value\"}},\"yaxis\":{\"title\":{\"text\":\"Hyperparameter\"}}},                        {\"responsive\": true}                    ).then(function(){\n",
       "                            \n",
       "var gd = document.getElementById('9fca79cc-0563-4034-a3e5-015f97749f0e');\n",
       "var x = new MutationObserver(function (mutations, observer) {{\n",
       "        var display = window.getComputedStyle(gd).display;\n",
       "        if (!display || display === 'none') {{\n",
       "            console.log([gd, 'removed!']);\n",
       "            Plotly.purge(gd);\n",
       "            observer.disconnect();\n",
       "        }}\n",
       "}});\n",
       "\n",
       "// Listen for the removal of the full notebook cells\n",
       "var notebookContainer = gd.closest('#notebook-container');\n",
       "if (notebookContainer) {{\n",
       "    x.observe(notebookContainer, {childList: true});\n",
       "}}\n",
       "\n",
       "// Listen for the clearing of the current output cell\n",
       "var outputEl = gd.closest('.output');\n",
       "if (outputEl) {{\n",
       "    x.observe(outputEl, {childList: true});\n",
       "}}\n",
       "\n",
       "                        })                };                });            </script>        </div>"
      ]
     },
     "metadata": {},
     "output_type": "display_data"
    }
   ],
   "source": [
    "plot_param_importances(study_xgb)"
   ]
  },
  {
   "cell_type": "code",
   "execution_count": 12,
   "id": "09d59ee8",
   "metadata": {
    "execution": {
     "iopub.execute_input": "2021-09-03T20:55:12.607847Z",
     "iopub.status.busy": "2021-09-03T20:55:12.607167Z",
     "iopub.status.idle": "2021-09-03T20:55:12.610352Z",
     "shell.execute_reply": "2021-09-03T20:55:12.609720Z",
     "shell.execute_reply.started": "2021-09-03T04:41:44.825446Z"
    },
    "papermill": {
     "duration": 0.09284,
     "end_time": "2021-09-03T20:55:12.610497",
     "exception": false,
     "start_time": "2021-09-03T20:55:12.517657",
     "status": "completed"
    },
    "tags": []
   },
   "outputs": [],
   "source": [
    "final_params_xgb = dict()\n",
    "final_params_xgb['clf']=dict(**fixed_params, **study_xgb.best_params)"
   ]
  },
  {
   "cell_type": "markdown",
   "id": "1ecd946c",
   "metadata": {
    "papermill": {
     "duration": 0.084541,
     "end_time": "2021-09-03T20:55:12.780102",
     "exception": false,
     "start_time": "2021-09-03T20:55:12.695561",
     "status": "completed"
    },
    "tags": []
   },
   "source": [
    "# Final Kfold prediction"
   ]
  },
  {
   "cell_type": "code",
   "execution_count": 13,
   "id": "88d91888",
   "metadata": {
    "execution": {
     "iopub.execute_input": "2021-09-03T20:55:13.042656Z",
     "iopub.status.busy": "2021-09-03T20:55:13.041950Z",
     "iopub.status.idle": "2021-09-03T21:20:30.610358Z",
     "shell.execute_reply": "2021-09-03T21:20:30.610878Z",
     "shell.execute_reply.started": "2021-09-03T04:43:52.859117Z"
    },
    "papermill": {
     "duration": 1517.745961,
     "end_time": "2021-09-03T21:20:30.611065",
     "exception": false,
     "start_time": "2021-09-03T20:55:12.865104",
     "status": "completed"
    },
    "tags": []
   },
   "outputs": [
    {
     "name": "stdout",
     "output_type": "stream",
     "text": [
      "\n",
      "RANDOM SEED: 0\n",
      "Fold: 0,1,2,3,4,5,6,7,8,9,\n",
      "F1     : 0.6791424418604651\n",
      "AUC    : 0.8934517345434909\n",
      "LogLoss: 0.31244577591123257\n",
      "\n",
      "RANDOM SEED: 1\n",
      "Fold: 0,1,2,3,4,5,6,7,8,9,\n",
      "F1     : 0.6826516220028208\n",
      "AUC    : 0.8937895701731041\n",
      "LogLoss: 0.31226714693577784\n",
      "\n",
      "RANDOM SEED: 2\n",
      "Fold: 0,1,2,3,4,5,6,7,8,9,\n",
      "F1     : 0.6788827610745419\n",
      "AUC    : 0.8942898339612894\n",
      "LogLoss: 0.3124978285540415\n",
      "\n",
      "RANDOM SEED: 3\n",
      "Fold: 0,1,2,3,4,5,6,7,8,9,\n",
      "F1     : 0.6809318377911994\n",
      "AUC    : 0.8931149571791628\n",
      "LogLoss: 0.3134120350746124\n",
      "\n",
      "RANDOM SEED: 4\n",
      "Fold: 0,1,2,3,4,5,6,7,8,9,\n",
      "F1     : 0.6814658210007047\n",
      "AUC    : 0.8925104231349241\n",
      "LogLoss: 0.3123779798955537\n",
      "\n",
      "RANDOM SEED: 5\n",
      "Fold: 0,1,2,3,4,5,6,7,8,9,\n",
      "F1     : 0.6817940081545826\n",
      "AUC    : 0.8922764998186943\n",
      "LogLoss: 0.31241188156098887\n",
      "\n",
      "RANDOM SEED: 6\n",
      "Fold: 0,1,2,3,4,5,6,7,8,9,\n",
      "F1     : 0.6798623063683304\n",
      "AUC    : 0.8935272293214186\n",
      "LogLoss: 0.3125453218874819\n",
      "\n",
      "RANDOM SEED: 7\n",
      "Fold: 0,1,2,3,4,5,6,7,8,9,\n",
      "F1     : 0.6798914886402171\n",
      "AUC    : 0.89303586741181\n",
      "LogLoss: 0.3129964815088267\n",
      "\n",
      "RANDOM SEED: 8\n",
      "Fold: 0,1,2,3,4,5,6,7,8,9,\n",
      "F1     : 0.6789401238816241\n",
      "AUC    : 0.8929894282410541\n",
      "LogLoss: 0.3129646752406532\n",
      "\n",
      "RANDOM SEED: 9\n",
      "Fold: 0,1,2,3,4,5,6,7,8,9,\n",
      "F1     : 0.6787092248333918\n",
      "AUC    : 0.8922951750884351\n",
      "LogLoss: 0.3140793797372815\n",
      "-------------------------------------\n",
      "Final F1     : 0.6823251098344035\n",
      "Final AUC    : 0.8969481185443873\n",
      "Final LogLoss: 0.3105384615021125\n",
      "CPU times: user 1h 36min 24s, sys: 11 s, total: 1h 36min 35s\n",
      "Wall time: 25min 17s\n"
     ]
    }
   ],
   "source": [
    "%%time\n",
    "n_seeds = 10\n",
    "xgb_oof = np.zeros((X.shape[0], len(list(range(n_seeds)))))\n",
    "xgb_pred = np.zeros((X_test.shape[0], len(list(range(n_seeds)))))\n",
    "\n",
    "for seed in range(n_seeds):\n",
    "    \n",
    "    print(\"\\nRANDOM SEED:\", seed)\n",
    "    print(\"Fold\", end=\": \")\n",
    "\n",
    "    kf = KFold(n_splits=K, random_state=seed, shuffle=True)\n",
    "    \n",
    "    for fold, (train_idx, val_idx) in enumerate(kf.split(X=X, y=y)):\n",
    "        \n",
    "        print(fold, end=\",\")\n",
    "        X_train = X.iloc[train_idx]\n",
    "        y_train = y.iloc[train_idx]\n",
    "        X_val = X.iloc[val_idx]\n",
    "        y_val = y.iloc[val_idx]\n",
    "        \n",
    "        start = time.time()\n",
    "        \n",
    "        final_params_xgb['clf']['seed']=seed\n",
    "\n",
    "        model = XGBClassifier(**final_params_xgb['clf'])\n",
    "\n",
    "        model.fit(X_train, y_train,\n",
    "                  eval_set=[(X_val, y_val)],\n",
    "                  early_stopping_rounds=150,\n",
    "                  verbose=False)\n",
    "\n",
    "        calib = CalibratedClassifierCV(base_estimator=model, cv='prefit')\n",
    "\n",
    "        calib.fit(X_val, y_val)\n",
    "\n",
    "        xgb_oof[val_idx, seed] = calib.predict_proba(X_val)[:,1]\n",
    "\n",
    "        xgb_pred[:, seed] += calib.predict_proba(X_test)[:, 1] / K \n",
    "\n",
    "        del calib\n",
    "\n",
    "    print(\"\\nF1     :\", custom_f1(y, pd.Series(xgb_oof[:, seed])))\n",
    "    print(\"AUC    :\", roc_auc_score(y, pd.Series(xgb_oof[:, seed])))\n",
    "    print(\"LogLoss:\", log_loss(y, pd.Series(xgb_oof[:, seed])))\n",
    "    \n",
    "xgb_oof = np.mean(xgb_oof, axis=1)\n",
    "xgb_pred = np.mean(xgb_pred, axis=1)\n",
    "print(\"-------------------------------------\")\n",
    "print(\"Final F1     :\", custom_f1(y, pd.Series(xgb_oof)))\n",
    "print(\"Final AUC    :\", roc_auc_score(y, pd.Series(xgb_oof)))\n",
    "print(\"Final LogLoss:\", log_loss(y, pd.Series(xgb_oof)))"
   ]
  },
  {
   "cell_type": "code",
   "execution_count": 14,
   "id": "f04c173f",
   "metadata": {
    "execution": {
     "iopub.execute_input": "2021-09-03T21:20:30.850577Z",
     "iopub.status.busy": "2021-09-03T21:20:30.849901Z",
     "iopub.status.idle": "2021-09-03T21:20:33.643555Z",
     "shell.execute_reply": "2021-09-03T21:20:33.644044Z",
     "shell.execute_reply.started": "2021-09-03T04:59:16.115723Z"
    },
    "papermill": {
     "duration": 2.917798,
     "end_time": "2021-09-03T21:20:33.644241",
     "exception": false,
     "start_time": "2021-09-03T21:20:30.726443",
     "status": "completed"
    },
    "tags": []
   },
   "outputs": [
    {
     "data": {
      "text/plain": [
       "0.22"
      ]
     },
     "execution_count": 14,
     "metadata": {},
     "output_type": "execute_result"
    }
   ],
   "source": [
    "final_threshold = get_threshold(y, xgb_oof)\n",
    "final_threshold"
   ]
  },
  {
   "cell_type": "markdown",
   "id": "5104dcf0",
   "metadata": {
    "papermill": {
     "duration": 0.126765,
     "end_time": "2021-09-03T21:20:33.899946",
     "exception": false,
     "start_time": "2021-09-03T21:20:33.773181",
     "status": "completed"
    },
    "tags": []
   },
   "source": [
    "# Sub\n",
    "---"
   ]
  },
  {
   "cell_type": "code",
   "execution_count": 15,
   "id": "2ce484cb",
   "metadata": {
    "execution": {
     "iopub.execute_input": "2021-09-03T21:20:34.151239Z",
     "iopub.status.busy": "2021-09-03T21:20:34.150585Z",
     "iopub.status.idle": "2021-09-03T21:20:34.198427Z",
     "shell.execute_reply": "2021-09-03T21:20:34.197875Z",
     "shell.execute_reply.started": "2021-09-03T04:59:18.918284Z"
    },
    "papermill": {
     "duration": 0.171678,
     "end_time": "2021-09-03T21:20:34.198582",
     "exception": false,
     "start_time": "2021-09-03T21:20:34.026904",
     "status": "completed"
    },
    "tags": []
   },
   "outputs": [],
   "source": [
    "# Write predictions to sub\n",
    "sample_submission['predicted'] = np.where(xgb_pred>final_threshold, 1, 0).astype('int64')\n",
    "sample_submission.to_csv('xgb_sub.csv',index=False)"
   ]
  },
  {
   "cell_type": "code",
   "execution_count": 16,
   "id": "5a7c8192",
   "metadata": {
    "execution": {
     "iopub.execute_input": "2021-09-03T21:20:34.439642Z",
     "iopub.status.busy": "2021-09-03T21:20:34.438720Z",
     "iopub.status.idle": "2021-09-03T21:20:34.578670Z",
     "shell.execute_reply": "2021-09-03T21:20:34.578081Z",
     "shell.execute_reply.started": "2021-09-03T04:59:18.972605Z"
    },
    "papermill": {
     "duration": 0.26281,
     "end_time": "2021-09-03T21:20:34.578809",
     "exception": false,
     "start_time": "2021-09-03T21:20:34.315999",
     "status": "completed"
    },
    "tags": []
   },
   "outputs": [],
   "source": [
    "# Write predictions to stack\n",
    "sample_submission['predicted'] = xgb_pred\n",
    "sample_submission.to_csv('xgb_sub_probs.csv',index=False)\n",
    "pd.DataFrame({'id':train.index, 'xgb_oof':xgb_oof}).to_csv('xgb_oof.csv',index=False)"
   ]
  }
 ],
 "metadata": {
  "kernelspec": {
   "display_name": "Python 3",
   "language": "python",
   "name": "python3"
  },
  "language_info": {
   "codemirror_mode": {
    "name": "ipython",
    "version": 3
   },
   "file_extension": ".py",
   "mimetype": "text/x-python",
   "name": "python",
   "nbconvert_exporter": "python",
   "pygments_lexer": "ipython3",
   "version": "3.7.10"
  },
  "papermill": {
   "default_parameters": {},
   "duration": 28636.99778,
   "end_time": "2021-09-03T21:20:35.984891",
   "environment_variables": {},
   "exception": null,
   "input_path": "__notebook__.ipynb",
   "output_path": "__notebook__.ipynb",
   "parameters": {},
   "start_time": "2021-09-03T13:23:18.987111",
   "version": "2.3.3"
  }
 },
 "nbformat": 4,
 "nbformat_minor": 5
}
