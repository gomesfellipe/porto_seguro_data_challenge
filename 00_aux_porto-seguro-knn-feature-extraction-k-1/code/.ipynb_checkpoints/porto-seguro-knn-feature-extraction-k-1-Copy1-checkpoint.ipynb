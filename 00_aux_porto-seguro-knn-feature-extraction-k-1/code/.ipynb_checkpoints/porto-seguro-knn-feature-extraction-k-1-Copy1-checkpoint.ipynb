{
 "cells": [
  {
   "cell_type": "markdown",
   "id": "d2d194b4",
   "metadata": {
    "papermill": {
     "duration": 0.016845,
     "end_time": "2021-08-15T19:40:45.597228",
     "exception": false,
     "start_time": "2021-08-15T19:40:45.580383",
     "status": "completed"
    },
    "tags": []
   },
   "source": [
    "# Load dependencies\n",
    "---"
   ]
  },
  {
   "cell_type": "code",
   "execution_count": 1,
   "id": "4e46de1f",
   "metadata": {
    "_kg_hide-output": true,
    "execution": {
     "iopub.execute_input": "2021-08-15T19:40:45.637058Z",
     "iopub.status.busy": "2021-08-15T19:40:45.635801Z",
     "iopub.status.idle": "2021-08-15T19:40:55.542235Z",
     "shell.execute_reply": "2021-08-15T19:40:55.542964Z",
     "shell.execute_reply.started": "2021-08-15T19:29:39.018108Z"
    },
    "papermill": {
     "duration": 9.927808,
     "end_time": "2021-08-15T19:40:55.543302",
     "exception": false,
     "start_time": "2021-08-15T19:40:45.615494",
     "status": "completed"
    },
    "tags": []
   },
   "outputs": [
    {
     "name": "stdout",
     "output_type": "stream",
     "text": [
      "Collecting gokinjo\r\n",
      "  Downloading gokinjo-0.1.0-py3-none-any.whl (10 kB)\r\n",
      "Requirement already satisfied: scikit-learn in /opt/conda/lib/python3.7/site-packages (0.23.2)\r\n",
      "Requirement already satisfied: numpy in /opt/conda/lib/python3.7/site-packages (from gokinjo) (1.19.5)\r\n",
      "Requirement already satisfied: scipy>=0.19.1 in /opt/conda/lib/python3.7/site-packages (from scikit-learn) (1.6.3)\r\n",
      "Requirement already satisfied: threadpoolctl>=2.0.0 in /opt/conda/lib/python3.7/site-packages (from scikit-learn) (2.1.0)\r\n",
      "Requirement already satisfied: joblib>=0.11 in /opt/conda/lib/python3.7/site-packages (from scikit-learn) (1.0.1)\r\n",
      "Installing collected packages: gokinjo\r\n",
      "Successfully installed gokinjo-0.1.0\r\n",
      "\u001b[33mWARNING: Running pip as root will break packages and permissions. You should install packages reliably by using venv: https://pip.pypa.io/warnings/venv\u001b[0m\r\n"
     ]
    }
   ],
   "source": [
    "! pip install gokinjo scikit-learn"
   ]
  },
  {
   "cell_type": "code",
   "execution_count": 2,
   "id": "2cab1c2f",
   "metadata": {
    "_cell_guid": "b1076dfc-b9ad-4769-8c92-a6c4dae69d19",
    "_uuid": "8f2839f25d086af736a60e9eeb907d3b93b6e0e5",
    "execution": {
     "iopub.execute_input": "2021-08-15T19:40:55.589141Z",
     "iopub.status.busy": "2021-08-15T19:40:55.588097Z",
     "iopub.status.idle": "2021-08-15T19:40:58.142268Z",
     "shell.execute_reply": "2021-08-15T19:40:58.140867Z",
     "shell.execute_reply.started": "2021-08-15T19:29:47.612603Z"
    },
    "papermill": {
     "duration": 2.579946,
     "end_time": "2021-08-15T19:40:58.142460",
     "exception": false,
     "start_time": "2021-08-15T19:40:55.562514",
     "status": "completed"
    },
    "tags": []
   },
   "outputs": [],
   "source": [
    "import pandas as pd\n",
    "import numpy as np\n",
    "import time\n",
    "from tqdm import tqdm\n",
    "\n",
    "from sklearn.metrics import f1_score, roc_auc_score\n",
    "from sklearn.model_selection import StratifiedKFold, RepeatedStratifiedKFold\n",
    "from sklearn.calibration import CalibratedClassifierCV\n",
    "\n",
    "from gokinjo import knn_kfold_extract\n",
    "from gokinjo import knn_extract\n",
    "\n",
    "from sklearn.neighbors import KNeighborsClassifier\n",
    "from sklearn.model_selection import GridSearchCV\n",
    "from sklearn.metrics import make_scorer\n",
    "import matplotlib.pyplot as plt\n",
    "\n",
    "# imbalanced\n",
    "from imblearn.pipeline import Pipeline\n",
    "from imblearn.over_sampling import ADASYN, SMOTE\n",
    "from imblearn.under_sampling import OneSidedSelection, NeighbourhoodCleaningRule, TomekLinks\n",
    "\n",
    "import optuna\n",
    "from optuna.visualization import plot_optimization_history, plot_param_importances"
   ]
  },
  {
   "cell_type": "code",
   "execution_count": 3,
   "id": "332db303",
   "metadata": {
    "execution": {
     "iopub.execute_input": "2021-08-15T19:40:58.191435Z",
     "iopub.status.busy": "2021-08-15T19:40:58.190131Z",
     "iopub.status.idle": "2021-08-15T19:40:58.791784Z",
     "shell.execute_reply": "2021-08-15T19:40:58.790923Z",
     "shell.execute_reply.started": "2021-08-15T19:29:49.555253Z"
    },
    "papermill": {
     "duration": 0.630253,
     "end_time": "2021-08-15T19:40:58.791981",
     "exception": false,
     "start_time": "2021-08-15T19:40:58.161728",
     "status": "completed"
    },
    "tags": []
   },
   "outputs": [],
   "source": [
    "train = pd.read_csv('../input/porto-seguro-data-challenge/train.csv', index_col='id')\n",
    "test = pd.read_csv('../input/porto-seguro-data-challenge/test.csv', index_col='id')\n",
    "sample_submission = pd.read_csv('../input/porto-seguro-data-challenge/submission_sample.csv')\n",
    "meta = pd.read_csv('../input/porto-seguro-data-challenge/metadata.csv')\n",
    "\n",
    "cat_nom = [x for x in meta.iloc[1:-1, :].loc[(meta.iloc[:,1]==\"Qualitativo nominal\")].iloc[:,0]] \n",
    "cat_ord = [x for x in meta.iloc[1:-1, :].loc[(meta.iloc[:,1]==\"Qualitativo ordinal\")].iloc[:,0]] \n",
    "num_dis = [x for x in meta.iloc[1:-1, :].loc[(meta.iloc[:,1]==\"Quantitativo discreto\")].iloc[:,0]] \n",
    "num_con = [x for x in meta.iloc[1:-1, :].loc[(meta.iloc[:,1]==\"Quantitativo continua\")].iloc[:,0]] "
   ]
  },
  {
   "cell_type": "code",
   "execution_count": 4,
   "id": "f8a5fdca",
   "metadata": {
    "execution": {
     "iopub.execute_input": "2021-08-15T19:40:58.847685Z",
     "iopub.status.busy": "2021-08-15T19:40:58.846618Z",
     "iopub.status.idle": "2021-08-15T19:40:58.850530Z",
     "shell.execute_reply": "2021-08-15T19:40:58.849890Z",
     "shell.execute_reply.started": "2021-08-15T19:29:50.101569Z"
    },
    "papermill": {
     "duration": 0.041178,
     "end_time": "2021-08-15T19:40:58.850697",
     "exception": false,
     "start_time": "2021-08-15T19:40:58.809519",
     "status": "completed"
    },
    "tags": []
   },
   "outputs": [],
   "source": [
    "X_test = test[cat_nom+cat_ord+num_dis+num_con]\n",
    "X = train[cat_nom+cat_ord+num_dis+num_con]\n",
    "y = train.y\n",
    "\n",
    "K=5\n",
    "N_REPEAT = 2\n",
    "SEED=314\n",
    "kf = RepeatedStratifiedKFold(n_splits=K, random_state=SEED, n_repeats=N_REPEAT)"
   ]
  },
  {
   "cell_type": "code",
   "execution_count": 5,
   "id": "8ca964f8",
   "metadata": {
    "execution": {
     "iopub.execute_input": "2021-08-15T19:40:58.896067Z",
     "iopub.status.busy": "2021-08-15T19:40:58.895325Z",
     "iopub.status.idle": "2021-08-15T19:40:58.899774Z",
     "shell.execute_reply": "2021-08-15T19:40:58.898481Z",
     "shell.execute_reply.started": "2021-08-15T19:29:50.119636Z"
    },
    "papermill": {
     "duration": 0.031372,
     "end_time": "2021-08-15T19:40:58.899979",
     "exception": false,
     "start_time": "2021-08-15T19:40:58.868607",
     "status": "completed"
    },
    "tags": []
   },
   "outputs": [],
   "source": [
    "def get_threshold(y_true, y_pred):\n",
    "    # Moving threshold\n",
    "    thresholds = np.arange(0.0, 1.0, 0.01)\n",
    "    f1_scores = []\n",
    "    for thresh in thresholds:\n",
    "        f1_scores.append(\n",
    "            f1_score(y_true, [1 if m>thresh else 0 for m in y_pred]))\n",
    "    f1s = np.array(f1_scores)\n",
    "    return thresholds[f1s.argmax()]\n",
    "    \n",
    "    \n",
    "def custom_f1(y_true, y_pred, **kwargs):\n",
    "     \n",
    "    max_f1_threshold =  get_threshold(y_true, y_pred)\n",
    "\n",
    "    y_pred = np.where(y_pred>max_f1_threshold, 1, 0)\n",
    "    f1_after = f1_score(y_true, y_pred) \n",
    "    \n",
    "    return f1_after"
   ]
  },
  {
   "cell_type": "markdown",
   "id": "f1a03b09",
   "metadata": {
    "papermill": {
     "duration": 0.017981,
     "end_time": "2021-08-15T19:40:58.936131",
     "exception": false,
     "start_time": "2021-08-15T19:40:58.918150",
     "status": "completed"
    },
    "tags": []
   },
   "source": [
    "# KNeighborsClassifier \n",
    "---\n",
    "\n",
    "Get best k"
   ]
  },
  {
   "cell_type": "code",
   "execution_count": 6,
   "id": "fb999b4c",
   "metadata": {
    "execution": {
     "iopub.execute_input": "2021-08-15T19:40:58.977586Z",
     "iopub.status.busy": "2021-08-15T19:40:58.976850Z",
     "iopub.status.idle": "2021-08-15T19:40:58.980321Z",
     "shell.execute_reply": "2021-08-15T19:40:58.980917Z",
     "shell.execute_reply.started": "2021-08-15T19:29:50.130681Z"
    },
    "papermill": {
     "duration": 0.026702,
     "end_time": "2021-08-15T19:40:58.981122",
     "exception": false,
     "start_time": "2021-08-15T19:40:58.954420",
     "status": "completed"
    },
    "tags": []
   },
   "outputs": [],
   "source": [
    "#k_range = list(range(1, 9))\n",
    "#param_grid = dict(n_neighbors=k_range)"
   ]
  },
  {
   "cell_type": "code",
   "execution_count": 7,
   "id": "069fcee3",
   "metadata": {
    "execution": {
     "iopub.execute_input": "2021-08-15T19:40:59.025260Z",
     "iopub.status.busy": "2021-08-15T19:40:59.024521Z",
     "iopub.status.idle": "2021-08-15T19:40:59.028463Z",
     "shell.execute_reply": "2021-08-15T19:40:59.029069Z",
     "shell.execute_reply.started": "2021-08-15T19:29:50.142243Z"
    },
    "papermill": {
     "duration": 0.028433,
     "end_time": "2021-08-15T19:40:59.029287",
     "exception": false,
     "start_time": "2021-08-15T19:40:59.000854",
     "status": "completed"
    },
    "tags": []
   },
   "outputs": [],
   "source": [
    "#knn = KNeighborsClassifier(n_jobs=-1)\n",
    "#grid = GridSearchCV(knn, param_grid, cv=kf, scoring='roc_auc', n_jobs=-1)\n",
    "#grid.fit(X, y);"
   ]
  },
  {
   "cell_type": "code",
   "execution_count": 8,
   "id": "3ee70492",
   "metadata": {
    "execution": {
     "iopub.execute_input": "2021-08-15T19:40:59.069707Z",
     "iopub.status.busy": "2021-08-15T19:40:59.069044Z",
     "iopub.status.idle": "2021-08-15T19:40:59.075118Z",
     "shell.execute_reply": "2021-08-15T19:40:59.074521Z",
     "shell.execute_reply.started": "2021-08-15T19:29:50.151253Z"
    },
    "papermill": {
     "duration": 0.027451,
     "end_time": "2021-08-15T19:40:59.075383",
     "exception": false,
     "start_time": "2021-08-15T19:40:59.047932",
     "status": "completed"
    },
    "tags": []
   },
   "outputs": [],
   "source": [
    "#grid_mean_scores = grid.cv_results_['mean_test_score']"
   ]
  },
  {
   "cell_type": "code",
   "execution_count": 9,
   "id": "5cf55ab1",
   "metadata": {
    "execution": {
     "iopub.execute_input": "2021-08-15T19:40:59.118232Z",
     "iopub.status.busy": "2021-08-15T19:40:59.117560Z",
     "iopub.status.idle": "2021-08-15T19:40:59.120325Z",
     "shell.execute_reply": "2021-08-15T19:40:59.120864Z",
     "shell.execute_reply.started": "2021-08-15T19:29:50.162668Z"
    },
    "papermill": {
     "duration": 0.026611,
     "end_time": "2021-08-15T19:40:59.121147",
     "exception": false,
     "start_time": "2021-08-15T19:40:59.094536",
     "status": "completed"
    },
    "tags": []
   },
   "outputs": [],
   "source": [
    "## plot the value of K for KNN (x-axis) versus the cross-validated accuracy (y-axis)\n",
    "#plt.plot(k_range, grid_mean_scores)\n",
    "#plt.xlabel('Value of K for KNN')\n",
    "#plt.ylabel('Cross-Validated AUC')"
   ]
  },
  {
   "cell_type": "code",
   "execution_count": 10,
   "id": "beb71244",
   "metadata": {
    "execution": {
     "iopub.execute_input": "2021-08-15T19:40:59.163167Z",
     "iopub.status.busy": "2021-08-15T19:40:59.162113Z",
     "iopub.status.idle": "2021-08-15T19:40:59.166432Z",
     "shell.execute_reply": "2021-08-15T19:40:59.166987Z",
     "shell.execute_reply.started": "2021-08-15T19:29:50.172372Z"
    },
    "papermill": {
     "duration": 0.027342,
     "end_time": "2021-08-15T19:40:59.167190",
     "exception": false,
     "start_time": "2021-08-15T19:40:59.139848",
     "status": "completed"
    },
    "tags": []
   },
   "outputs": [],
   "source": [
    "#best_k = k_range[np.argmax(grid_mean_scores)]\n",
    "best_k=1\n",
    "#print(\"Best k: \", best_k)"
   ]
  },
  {
   "cell_type": "markdown",
   "id": "d841e669",
   "metadata": {
    "papermill": {
     "duration": 0.018191,
     "end_time": "2021-08-15T19:40:59.204594",
     "exception": false,
     "start_time": "2021-08-15T19:40:59.186403",
     "status": "completed"
    },
    "tags": []
   },
   "source": [
    "# Export\n",
    "---"
   ]
  },
  {
   "cell_type": "code",
   "execution_count": 11,
   "id": "d34f0df0",
   "metadata": {
    "execution": {
     "iopub.execute_input": "2021-08-15T19:40:59.246789Z",
     "iopub.status.busy": "2021-08-15T19:40:59.246119Z",
     "iopub.status.idle": "2021-08-15T19:40:59.263957Z",
     "shell.execute_reply": "2021-08-15T19:40:59.263222Z",
     "shell.execute_reply.started": "2021-08-15T19:29:50.182946Z"
    },
    "papermill": {
     "duration": 0.039658,
     "end_time": "2021-08-15T19:40:59.264115",
     "exception": false,
     "start_time": "2021-08-15T19:40:59.224457",
     "status": "completed"
    },
    "tags": []
   },
   "outputs": [],
   "source": [
    "# convert to numpy because gokinjo expects np arrays\n",
    "X = X.to_numpy()\n",
    "y = y.to_numpy()\n",
    "X_test = X_test.to_numpy()\n"
   ]
  },
  {
   "cell_type": "code",
   "execution_count": 12,
   "id": "a80b854e",
   "metadata": {
    "execution": {
     "iopub.execute_input": "2021-08-15T19:40:59.304805Z",
     "iopub.status.busy": "2021-08-15T19:40:59.303903Z",
     "iopub.status.idle": "2021-08-15T19:41:31.524341Z",
     "shell.execute_reply": "2021-08-15T19:41:31.525497Z",
     "shell.execute_reply.started": "2021-08-15T19:29:50.20424Z"
    },
    "papermill": {
     "duration": 32.243894,
     "end_time": "2021-08-15T19:41:31.525813",
     "exception": false,
     "start_time": "2021-08-15T19:40:59.281919",
     "status": "completed"
    },
    "tags": []
   },
   "outputs": [
    {
     "name": "stdout",
     "output_type": "stream",
     "text": [
      "KNN features for training set, shape:  (14123, 2)\n"
     ]
    }
   ],
   "source": [
    "KNN_feat_train = knn_kfold_extract(X, y, k=best_k, normalize='standard')\n",
    "print(\"KNN features for training set, shape: \", np.shape(KNN_feat_train))"
   ]
  },
  {
   "cell_type": "code",
   "execution_count": 13,
   "id": "4fe8bad3",
   "metadata": {
    "execution": {
     "iopub.execute_input": "2021-08-15T19:41:31.571507Z",
     "iopub.status.busy": "2021-08-15T19:41:31.570765Z",
     "iopub.status.idle": "2021-08-15T19:42:33.554160Z",
     "shell.execute_reply": "2021-08-15T19:42:33.555527Z"
    },
    "papermill": {
     "duration": 62.011499,
     "end_time": "2021-08-15T19:42:33.555848",
     "exception": false,
     "start_time": "2021-08-15T19:41:31.544349",
     "status": "completed"
    },
    "tags": []
   },
   "outputs": [
    {
     "name": "stdout",
     "output_type": "stream",
     "text": [
      "KNN features for test set, shape:  (21183, 2)\n"
     ]
    }
   ],
   "source": [
    "KNN_feat_test = knn_extract(X, y, X_test, k=best_k, normalize='standard')\n",
    "print(\"KNN features for test set, shape: \", np.shape(KNN_feat_test))"
   ]
  },
  {
   "cell_type": "code",
   "execution_count": 14,
   "id": "ab8144c4",
   "metadata": {
    "execution": {
     "iopub.execute_input": "2021-08-15T19:42:33.598497Z",
     "iopub.status.busy": "2021-08-15T19:42:33.597345Z",
     "iopub.status.idle": "2021-08-15T19:42:33.606552Z",
     "shell.execute_reply": "2021-08-15T19:42:33.605277Z"
    },
    "papermill": {
     "duration": 0.031201,
     "end_time": "2021-08-15T19:42:33.607194",
     "exception": false,
     "start_time": "2021-08-15T19:42:33.575993",
     "status": "completed"
    },
    "tags": []
   },
   "outputs": [],
   "source": [
    "KNN_feat_train = pd.DataFrame(KNN_feat_train, columns=[\"knn\"+str(x) for x in list(range(KNN_feat_train.shape[1]))])\n",
    "KNN_feat_test = pd.DataFrame(KNN_feat_test, columns=[\"knn\"+str(x) for x in list(range(KNN_feat_train.shape[1]))])"
   ]
  },
  {
   "cell_type": "code",
   "execution_count": 15,
   "id": "d4aee6af",
   "metadata": {
    "execution": {
     "iopub.execute_input": "2021-08-15T19:42:33.649072Z",
     "iopub.status.busy": "2021-08-15T19:42:33.648410Z",
     "iopub.status.idle": "2021-08-15T19:42:33.850358Z",
     "shell.execute_reply": "2021-08-15T19:42:33.849037Z"
    },
    "papermill": {
     "duration": 0.223333,
     "end_time": "2021-08-15T19:42:33.850531",
     "exception": false,
     "start_time": "2021-08-15T19:42:33.627198",
     "status": "completed"
    },
    "tags": []
   },
   "outputs": [],
   "source": [
    "# store KNN features, they are computationally expensive\n",
    "KNN_feat_train.to_csv('knn_feat_train.csv',index=False)\n",
    "KNN_feat_test.to_csv('knn_feat_test.csv',index=False)"
   ]
  },
  {
   "cell_type": "code",
   "execution_count": 16,
   "id": "f30fa77a",
   "metadata": {
    "execution": {
     "iopub.execute_input": "2021-08-15T19:42:33.894327Z",
     "iopub.status.busy": "2021-08-15T19:42:33.893397Z",
     "iopub.status.idle": "2021-08-15T19:42:33.914579Z",
     "shell.execute_reply": "2021-08-15T19:42:33.915077Z"
    },
    "papermill": {
     "duration": 0.045762,
     "end_time": "2021-08-15T19:42:33.915270",
     "exception": false,
     "start_time": "2021-08-15T19:42:33.869508",
     "status": "completed"
    },
    "tags": []
   },
   "outputs": [
    {
     "name": "stdout",
     "output_type": "stream",
     "text": [
      "Train set, shape:  (14123, 70)\n",
      "Test set, shape:  (21183, 70)\n"
     ]
    }
   ],
   "source": [
    "# add KNN feature to normal features\n",
    "X, X_test = np.append(X, KNN_feat_train, axis=1), np.append(X_test, KNN_feat_test, axis=1) \n",
    "print(\"Train set, shape: \", np.shape(X))\n",
    "print(\"Test set, shape: \", np.shape(X_test))"
   ]
  },
  {
   "cell_type": "markdown",
   "id": "6e2e83c7",
   "metadata": {
    "papermill": {
     "duration": 0.019037,
     "end_time": "2021-08-15T19:42:33.953416",
     "exception": false,
     "start_time": "2021-08-15T19:42:33.934379",
     "status": "completed"
    },
    "tags": []
   },
   "source": [
    "# References\n",
    "\n",
    "- https://github.com/momijiame/gokinjo\n",
    "- https://www.kaggle.com/melanie7744/tps6-boost-your-score-with-knn-features"
   ]
  }
 ],
 "metadata": {
  "kernelspec": {
   "display_name": "Python 3",
   "language": "python",
   "name": "python3"
  },
  "language_info": {
   "codemirror_mode": {
    "name": "ipython",
    "version": 3
   },
   "file_extension": ".py",
   "mimetype": "text/x-python",
   "name": "python",
   "nbconvert_exporter": "python",
   "pygments_lexer": "ipython3",
   "version": "3.7.10"
  },
  "papermill": {
   "default_parameters": {},
   "duration": 119.957432,
   "end_time": "2021-08-15T19:42:35.608275",
   "environment_variables": {},
   "exception": null,
   "input_path": "__notebook__.ipynb",
   "output_path": "__notebook__.ipynb",
   "parameters": {},
   "start_time": "2021-08-15T19:40:35.650843",
   "version": "2.3.3"
  }
 },
 "nbformat": 4,
 "nbformat_minor": 5
}
