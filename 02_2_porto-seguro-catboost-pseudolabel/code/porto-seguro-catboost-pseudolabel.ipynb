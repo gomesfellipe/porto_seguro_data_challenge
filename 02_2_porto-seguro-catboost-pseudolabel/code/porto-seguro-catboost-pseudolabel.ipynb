{
 "cells": [
  {
   "cell_type": "markdown",
   "metadata": {
    "papermill": {
     "duration": 0.01177,
     "end_time": "2021-08-27T18:08:45.504770",
     "exception": false,
     "start_time": "2021-08-27T18:08:45.493000",
     "status": "completed"
    },
    "tags": []
   },
   "source": [
    "# Load dependencies\n",
    "---"
   ]
  },
  {
   "cell_type": "code",
   "execution_count": 1,
   "metadata": {
    "_cell_guid": "b1076dfc-b9ad-4769-8c92-a6c4dae69d19",
    "_uuid": "8f2839f25d086af736a60e9eeb907d3b93b6e0e5",
    "execution": {
     "iopub.execute_input": "2021-08-27T18:08:45.531625Z",
     "iopub.status.busy": "2021-08-27T18:08:45.530537Z",
     "iopub.status.idle": "2021-08-27T18:08:55.357204Z",
     "shell.execute_reply": "2021-08-27T18:08:55.357717Z",
     "shell.execute_reply.started": "2021-08-27T16:25:35.196555Z"
    },
    "papermill": {
     "duration": 9.84036,
     "end_time": "2021-08-27T18:08:55.357995",
     "exception": false,
     "start_time": "2021-08-27T18:08:45.517635",
     "status": "completed"
    },
    "tags": []
   },
   "outputs": [],
   "source": [
    "import pandas as pd\n",
    "import numpy as np\n",
    "import time\n",
    "from tqdm import tqdm\n",
    "\n",
    "from sklearn.metrics import f1_score, roc_auc_score, log_loss\n",
    "from sklearn.model_selection import StratifiedKFold, RepeatedStratifiedKFold, KFold\n",
    "from sklearn.calibration import CalibratedClassifierCV\n",
    "\n",
    "from catboost import CatBoostClassifier\n",
    "import shap\n",
    "\n",
    "# imbalanced\n",
    "from imblearn.pipeline import Pipeline\n",
    "from imblearn.over_sampling import ADASYN, SMOTE\n",
    "from imblearn.under_sampling import OneSidedSelection, NeighbourhoodCleaningRule, TomekLinks\n",
    "\n",
    "import optuna\n",
    "from optuna.visualization import plot_optimization_history, plot_param_importances"
   ]
  },
  {
   "cell_type": "code",
   "execution_count": 2,
   "metadata": {
    "execution": {
     "iopub.execute_input": "2021-08-27T18:08:55.380633Z",
     "iopub.status.busy": "2021-08-27T18:08:55.380048Z",
     "iopub.status.idle": "2021-08-27T18:08:55.834442Z",
     "shell.execute_reply": "2021-08-27T18:08:55.835217Z",
     "shell.execute_reply.started": "2021-08-27T16:25:35.207741Z"
    },
    "papermill": {
     "duration": 0.467431,
     "end_time": "2021-08-27T18:08:55.835402",
     "exception": false,
     "start_time": "2021-08-27T18:08:55.367971",
     "status": "completed"
    },
    "tags": []
   },
   "outputs": [],
   "source": [
    "train = pd.read_csv('../input/porto-seguro-data-challenge/train.csv', index_col='id').reset_index(drop=True)\n",
    "test = pd.read_csv('../input/porto-seguro-data-challenge/test.csv', index_col='id').reset_index(drop=True)\n",
    "sample_submission = pd.read_csv('../input/porto-seguro-data-challenge/submission_sample.csv')\n",
    "meta = pd.read_csv('../input/porto-seguro-data-challenge/metadata.csv')\n",
    "\n",
    "cat_nom = [x for x in meta.iloc[1:-1, :].loc[(meta.iloc[:,1]==\"Qualitativo nominal\")].iloc[:,0]] \n",
    "cat_ord = [x for x in meta.iloc[1:-1, :].loc[(meta.iloc[:,1]==\"Qualitativo ordinal\")].iloc[:,0]] \n",
    "num_dis = [x for x in meta.iloc[1:-1, :].loc[(meta.iloc[:,1]==\"Quantitativo discreto\")].iloc[:,0]] \n",
    "num_con = [x for x in meta.iloc[1:-1, :].loc[(meta.iloc[:,1]==\"Quantitativo continua\")].iloc[:,0]] "
   ]
  },
  {
   "cell_type": "code",
   "execution_count": 3,
   "metadata": {
    "execution": {
     "iopub.execute_input": "2021-08-27T18:08:55.858734Z",
     "iopub.status.busy": "2021-08-27T18:08:55.858151Z",
     "iopub.status.idle": "2021-08-27T18:08:55.910322Z",
     "shell.execute_reply": "2021-08-27T18:08:55.909757Z",
     "shell.execute_reply.started": "2021-08-27T16:25:35.573318Z"
    },
    "papermill": {
     "duration": 0.064853,
     "end_time": "2021-08-27T18:08:55.910470",
     "exception": false,
     "start_time": "2021-08-27T18:08:55.845617",
     "status": "completed"
    },
    "tags": []
   },
   "outputs": [],
   "source": [
    "pseudo_oof = pd.read_csv('../input/porto-seguro-autogluon-shap/autogluon_oof.csv')\n",
    "pseudo_sub = pd.read_csv('../input/porto-seguro-autogluon-shap/autogluon_shap_sub_probs.csv')"
   ]
  },
  {
   "cell_type": "code",
   "execution_count": 4,
   "metadata": {
    "execution": {
     "iopub.execute_input": "2021-08-27T18:08:55.944403Z",
     "iopub.status.busy": "2021-08-27T18:08:55.943758Z",
     "iopub.status.idle": "2021-08-27T18:08:55.957693Z",
     "shell.execute_reply": "2021-08-27T18:08:55.957132Z",
     "shell.execute_reply.started": "2021-08-27T16:25:35.598970Z"
    },
    "papermill": {
     "duration": 0.036944,
     "end_time": "2021-08-27T18:08:55.957843",
     "exception": false,
     "start_time": "2021-08-27T18:08:55.920899",
     "status": "completed"
    },
    "tags": []
   },
   "outputs": [],
   "source": [
    "X = pd.concat([train.drop('y', axis=1), pd.DataFrame({'y_oof': pseudo_oof.autogluon_shap_oof})], axis=1)\n",
    "X_test = pd.concat([test, pd.DataFrame({'y_oof': pseudo_sub.predicted})], axis=1)\n",
    "y = train.y"
   ]
  },
  {
   "cell_type": "code",
   "execution_count": 7,
   "metadata": {
    "execution": {
     "iopub.execute_input": "2021-08-27T18:08:56.034223Z",
     "iopub.status.busy": "2021-08-27T18:08:56.033620Z",
     "iopub.status.idle": "2021-08-27T18:08:56.038131Z",
     "shell.execute_reply": "2021-08-27T18:08:56.037672Z",
     "shell.execute_reply.started": "2021-08-27T16:25:35.644191Z"
    },
    "papermill": {
     "duration": 0.017699,
     "end_time": "2021-08-27T18:08:56.038294",
     "exception": false,
     "start_time": "2021-08-27T18:08:56.020595",
     "status": "completed"
    },
    "tags": []
   },
   "outputs": [],
   "source": [
    "K=10\n",
    "SEED=25\n",
    "kf = KFold(n_splits=K, random_state=SEED, shuffle=True)"
   ]
  },
  {
   "cell_type": "code",
   "execution_count": 8,
   "metadata": {
    "execution": {
     "iopub.execute_input": "2021-08-27T18:08:56.066032Z",
     "iopub.status.busy": "2021-08-27T18:08:56.065068Z",
     "iopub.status.idle": "2021-08-27T18:08:56.068160Z",
     "shell.execute_reply": "2021-08-27T18:08:56.067682Z",
     "shell.execute_reply.started": "2021-08-27T16:25:35.660789Z"
    },
    "papermill": {
     "duration": 0.01971,
     "end_time": "2021-08-27T18:08:56.068314",
     "exception": false,
     "start_time": "2021-08-27T18:08:56.048604",
     "status": "completed"
    },
    "tags": []
   },
   "outputs": [],
   "source": [
    "def get_threshold(y_true, y_pred):\n",
    "    # Moving threshold\n",
    "    thresholds = np.arange(0.0, 1.0, 0.01)\n",
    "    f1_scores = []\n",
    "    for thresh in thresholds:\n",
    "        f1_scores.append(\n",
    "            f1_score(y_true, [1 if m>thresh else 0 for m in y_pred]))\n",
    "    f1s = np.array(f1_scores)\n",
    "    return thresholds[f1s.argmax()]\n",
    "    \n",
    "    \n",
    "def custom_f1(y_true, y_pred):\n",
    "     \n",
    "    max_f1_threshold =  get_threshold(y_true, y_pred)\n",
    "\n",
    "    y_pred = np.where(y_pred>max_f1_threshold, 1, 0)\n",
    "    f1_after = f1_score(y_true, y_pred) \n",
    "    \n",
    "    return f1_after"
   ]
  },
  {
   "cell_type": "markdown",
   "metadata": {
    "papermill": {
     "duration": 0.009632,
     "end_time": "2021-08-27T18:08:56.088197",
     "exception": false,
     "start_time": "2021-08-27T18:08:56.078565",
     "status": "completed"
    },
    "tags": []
   },
   "source": [
    "# Final KFold\n",
    "---"
   ]
  },
  {
   "cell_type": "code",
   "execution_count": 9,
   "metadata": {
    "execution": {
     "iopub.execute_input": "2021-08-27T18:08:56.122223Z",
     "iopub.status.busy": "2021-08-27T18:08:56.121144Z",
     "iopub.status.idle": "2021-08-27T18:19:10.364642Z",
     "shell.execute_reply": "2021-08-27T18:19:10.365085Z",
     "shell.execute_reply.started": "2021-08-27T16:25:35.675593Z"
    },
    "papermill": {
     "duration": 614.26588,
     "end_time": "2021-08-27T18:19:10.365289",
     "exception": false,
     "start_time": "2021-08-27T18:08:56.099409",
     "status": "completed"
    },
    "tags": []
   },
   "outputs": [
    {
     "name": "stdout",
     "output_type": "stream",
     "text": [
      "\n",
      "RANDOM SEED: 2020\n",
      "F1     : 0.6830639494026705\n",
      "AUC    : 0.8925055675647915\n",
      "LogLoss: 0.31127566943195656\n",
      "\n",
      "RANDOM SEED: 2021\n",
      "F1     : 0.6837823178448743\n",
      "AUC    : 0.8938576415313099\n",
      "LogLoss: 0.312275233533308\n",
      "\n",
      "RANDOM SEED: 2022\n",
      "F1     : 0.6823408271837996\n",
      "AUC    : 0.8934715614548656\n",
      "LogLoss: 0.3117907766312128\n",
      "\n",
      "RANDOM SEED: 2023\n",
      "F1     : 0.6833447566826594\n",
      "AUC    : 0.893336165749244\n",
      "LogLoss: 0.31154484430901297\n",
      "\n",
      "RANDOM SEED: 2024\n",
      "F1     : 0.6840804800564773\n",
      "AUC    : 0.8913918522910665\n",
      "LogLoss: 0.3124673077554081\n",
      "\n",
      "RANDOM SEED: 2025\n",
      "F1     : 0.6831023933777218\n",
      "AUC    : 0.891856991009414\n",
      "LogLoss: 0.31161421875538076\n",
      "\n",
      "RANDOM SEED: 2026\n",
      "F1     : 0.6829353320550811\n",
      "AUC    : 0.8943588857711563\n",
      "LogLoss: 0.31246178149785886\n",
      "\n",
      "RANDOM SEED: 2027\n",
      "F1     : 0.6837637071100107\n",
      "AUC    : 0.8937534646516051\n",
      "LogLoss: 0.3112537197213606\n",
      "\n",
      "RANDOM SEED: 2028\n",
      "F1     : 0.6822345967307346\n",
      "AUC    : 0.8925827586797206\n",
      "LogLoss: 0.3119063297003377\n",
      "\n",
      "RANDOM SEED: 2029\n",
      "F1     : 0.6823830409356725\n",
      "AUC    : 0.8944768045368454\n",
      "LogLoss: 0.3118149093198775\n",
      "-------------------------------------\n",
      "Final F1     : 0.6834607366226545\n",
      "Final AUC    : 0.8979774060361586\n",
      "Final LogLoss: 0.31070972233532784\n"
     ]
    }
   ],
   "source": [
    "random_seeds=[2020, 2021, 2022, 2023, 2024, 2025, 2026, 2027, 2028, 2029]\n",
    "\n",
    "cat_oof = np.zeros((X.shape[0], len(random_seeds)))\n",
    "cat_pred = np.zeros((X_test.shape[0], len(random_seeds)))\n",
    "\n",
    "for seed in random_seeds:\n",
    "    \n",
    "    print(\"\\nRANDOM SEED:\", seed)\n",
    "\n",
    "    kf = KFold(n_splits=K, random_state=seed, shuffle=True)\n",
    "\n",
    "    for fold, (train_idx, val_idx) in enumerate(kf.split(X=X, y=y)):\n",
    "        #print(f\"➜ FOLD :{fold}\")\n",
    "        X_train = X.iloc[train_idx]\n",
    "        y_train = y.iloc[train_idx]\n",
    "        X_val = X.iloc[val_idx]\n",
    "        y_val = y.iloc[val_idx]\n",
    "\n",
    "        start = time.time()\n",
    "\n",
    "        res = TomekLinks()\n",
    "\n",
    "        model = CatBoostClassifier(random_seed=seed, \n",
    "                                   verbose = 0,\n",
    "                                   use_best_model=True,\n",
    "                                   eval_metric=\"AUC\",\n",
    "                                   iterations=10000,\n",
    "                                   learning_rate=0.01,\n",
    "                                   od_wait = 200)\n",
    "\n",
    "        pipe = Pipeline([('resample', res),\n",
    "                          ('clf', model) ])\n",
    "\n",
    "        pipe.fit(X_train, y_train,\n",
    "                  clf__eval_set=[(X_val, y_val)])\n",
    "\n",
    "        #print(f\"N trees: {model.best_iteration_}\")\n",
    "\n",
    "        #print(\"Best Score:\", model.best_score_['learn'])\n",
    "        #print(\"Best Interation:\", model.best_iteration_)\n",
    "\n",
    "        calib = CalibratedClassifierCV(base_estimator=pipe, cv='prefit')\n",
    "        calib.fit(X_val, y_val)\n",
    "\n",
    "        cat_oof[val_idx, seed-2020] += calib.predict_proba(X_val)[:,1]\n",
    "\n",
    "        cat_pred[:, seed-2020] += calib.predict_proba(X_test)[:, 1] / K\n",
    "\n",
    "    print(\"F1     :\", custom_f1(y, pd.Series(cat_oof[:, seed-2020])))\n",
    "    print(\"AUC    :\", roc_auc_score(y, pd.Series(cat_oof[:, seed-2020])))\n",
    "    print(\"LogLoss:\", log_loss(y, pd.Series(cat_oof[:, seed-2020])))\n",
    "    \n",
    "cat_oof = np.mean(cat_oof, axis=1)\n",
    "cat_pred = np.mean(cat_pred, axis=1)\n",
    "print(\"-------------------------------------\")\n",
    "print(\"Final F1     :\", custom_f1(y, pd.Series(cat_oof)))\n",
    "print(\"Final AUC    :\", roc_auc_score(y, pd.Series(cat_oof)))\n",
    "print(\"Final LogLoss:\", log_loss(y, pd.Series(cat_oof)))"
   ]
  },
  {
   "cell_type": "code",
   "execution_count": 10,
   "metadata": {
    "execution": {
     "iopub.execute_input": "2021-08-27T18:19:10.398151Z",
     "iopub.status.busy": "2021-08-27T18:19:10.397482Z",
     "iopub.status.idle": "2021-08-27T18:19:11.832452Z",
     "shell.execute_reply": "2021-08-27T18:19:11.832897Z",
     "shell.execute_reply.started": "2021-08-27T16:50:08.611495Z"
    },
    "papermill": {
     "duration": 1.45468,
     "end_time": "2021-08-27T18:19:11.833070",
     "exception": false,
     "start_time": "2021-08-27T18:19:10.378390",
     "status": "completed"
    },
    "tags": []
   },
   "outputs": [
    {
     "data": {
      "text/plain": [
       "0.24"
      ]
     },
     "execution_count": 10,
     "metadata": {},
     "output_type": "execute_result"
    }
   ],
   "source": [
    "final_threshold = get_threshold(y, cat_oof)\n",
    "final_threshold"
   ]
  },
  {
   "cell_type": "code",
   "execution_count": 11,
   "metadata": {
    "execution": {
     "iopub.execute_input": "2021-08-27T18:19:11.864227Z",
     "iopub.status.busy": "2021-08-27T18:19:11.863593Z",
     "iopub.status.idle": "2021-08-27T18:19:15.926887Z",
     "shell.execute_reply": "2021-08-27T18:19:15.927363Z",
     "shell.execute_reply.started": "2021-08-27T16:50:11.364279Z"
    },
    "papermill": {
     "duration": 4.081372,
     "end_time": "2021-08-27T18:19:15.927564",
     "exception": false,
     "start_time": "2021-08-27T18:19:11.846192",
     "status": "completed"
    },
    "tags": []
   },
   "outputs": [
    {
     "data": {
      "text/plain": [
       "0.6834607366226545"
      ]
     },
     "execution_count": 11,
     "metadata": {},
     "output_type": "execute_result"
    }
   ],
   "source": [
    "custom_f1(y, np.where(cat_oof>final_threshold, 1, 0))"
   ]
  },
  {
   "cell_type": "markdown",
   "metadata": {
    "papermill": {
     "duration": 0.013641,
     "end_time": "2021-08-27T18:19:15.955226",
     "exception": false,
     "start_time": "2021-08-27T18:19:15.941585",
     "status": "completed"
    },
    "tags": []
   },
   "source": [
    "# Sub\n",
    "---"
   ]
  },
  {
   "cell_type": "code",
   "execution_count": 12,
   "metadata": {
    "execution": {
     "iopub.execute_input": "2021-08-27T18:19:15.987455Z",
     "iopub.status.busy": "2021-08-27T18:19:15.986843Z",
     "iopub.status.idle": "2021-08-27T18:19:16.016676Z",
     "shell.execute_reply": "2021-08-27T18:19:16.016082Z",
     "shell.execute_reply.started": "2021-08-27T16:50:18.419149Z"
    },
    "papermill": {
     "duration": 0.047695,
     "end_time": "2021-08-27T18:19:16.016818",
     "exception": false,
     "start_time": "2021-08-27T18:19:15.969123",
     "status": "completed"
    },
    "tags": []
   },
   "outputs": [],
   "source": [
    "# Write predictions to sub\n",
    "sample_submission['predicted'] = np.where(cat_pred>final_threshold, 1, 0).astype('int64')\n",
    "sample_submission.to_csv('cat_pseudo_sub.csv',index=False)"
   ]
  },
  {
   "cell_type": "code",
   "execution_count": 13,
   "metadata": {
    "execution": {
     "iopub.execute_input": "2021-08-27T18:19:16.050503Z",
     "iopub.status.busy": "2021-08-27T18:19:16.049371Z",
     "iopub.status.idle": "2021-08-27T18:19:16.140278Z",
     "shell.execute_reply": "2021-08-27T18:19:16.139596Z",
     "shell.execute_reply.started": "2021-08-27T16:50:18.465442Z"
    },
    "papermill": {
     "duration": 0.109839,
     "end_time": "2021-08-27T18:19:16.140430",
     "exception": false,
     "start_time": "2021-08-27T18:19:16.030591",
     "status": "completed"
    },
    "tags": []
   },
   "outputs": [],
   "source": [
    "# Write predictions to stack\n",
    "sample_submission['predicted'] = cat_pred\n",
    "sample_submission.to_csv('cat_pseudo_sub_probs.csv',index=False)\n",
    "pd.DataFrame({'id':train.index, 'cat_pseudo_oof':cat_oof}).to_csv('cat_pseudo_oof.csv',index=False)"
   ]
  }
 ],
 "metadata": {
  "kernelspec": {
   "display_name": "Python 3 (ipykernel)",
   "language": "python",
   "name": "python3"
  },
  "language_info": {
   "codemirror_mode": {
    "name": "ipython",
    "version": 3
   },
   "file_extension": ".py",
   "mimetype": "text/x-python",
   "name": "python",
   "nbconvert_exporter": "python",
   "pygments_lexer": "ipython3",
   "version": "3.8.5"
  },
  "papermill": {
   "default_parameters": {},
   "duration": 640.013413,
   "end_time": "2021-08-27T18:19:18.154420",
   "environment_variables": {},
   "exception": null,
   "input_path": "__notebook__.ipynb",
   "output_path": "__notebook__.ipynb",
   "parameters": {},
   "start_time": "2021-08-27T18:08:38.141007",
   "version": "2.3.3"
  }
 },
 "nbformat": 4,
 "nbformat_minor": 5
}
