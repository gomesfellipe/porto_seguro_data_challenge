{
 "cells": [
  {
   "cell_type": "code",
   "execution_count": 1,
   "id": "53df6848",
   "metadata": {
    "_kg_hide-output": true,
    "execution": {
     "iopub.execute_input": "2021-09-25T19:07:57.034328Z",
     "iopub.status.busy": "2021-09-25T19:07:57.033548Z",
     "iopub.status.idle": "2021-09-25T19:10:04.556378Z",
     "shell.execute_reply": "2021-09-25T19:10:04.555656Z"
    },
    "papermill": {
     "duration": 127.556242,
     "end_time": "2021-09-25T19:10:04.556558",
     "exception": false,
     "start_time": "2021-09-25T19:07:57.000316",
     "status": "completed"
    },
    "tags": []
   },
   "outputs": [
    {
     "name": "stdout",
     "output_type": "stream",
     "text": [
      "Collecting autogluon\r\n",
      "  Downloading autogluon-0.3.1-py3-none-any.whl (9.9 kB)\r\n",
      "Collecting autogluon.features==0.3.1\r\n",
      "  Downloading autogluon.features-0.3.1-py3-none-any.whl (56 kB)\r\n",
      "\u001b[K     |████████████████████████████████| 56 kB 684 kB/s \r\n",
      "\u001b[?25hCollecting autogluon.vision==0.3.1\r\n",
      "  Downloading autogluon.vision-0.3.1-py3-none-any.whl (38 kB)\r\n",
      "Collecting autogluon.tabular[all]==0.3.1\r\n",
      "  Downloading autogluon.tabular-0.3.1-py3-none-any.whl (273 kB)\r\n",
      "\u001b[K     |████████████████████████████████| 273 kB 1.6 MB/s \r\n",
      "\u001b[?25hCollecting autogluon.core==0.3.1\r\n",
      "  Downloading autogluon.core-0.3.1-py3-none-any.whl (352 kB)\r\n",
      "\u001b[K     |████████████████████████████████| 352 kB 11.7 MB/s \r\n",
      "\u001b[?25hCollecting autogluon.text==0.3.1\r\n",
      "  Downloading autogluon.text-0.3.1-py3-none-any.whl (52 kB)\r\n",
      "\u001b[K     |████████████████████████████████| 52 kB 1.1 MB/s \r\n",
      "\u001b[?25hCollecting autogluon.mxnet==0.3.1\r\n",
      "  Downloading autogluon.mxnet-0.3.1-py3-none-any.whl (33 kB)\r\n",
      "Collecting autogluon.extra==0.3.1\r\n",
      "  Downloading autogluon.extra-0.3.1-py3-none-any.whl (28 kB)\r\n",
      "Requirement already satisfied: matplotlib in /opt/conda/lib/python3.7/site-packages (from autogluon.core==0.3.1->autogluon) (3.4.2)\r\n",
      "Requirement already satisfied: boto3 in /opt/conda/lib/python3.7/site-packages (from autogluon.core==0.3.1->autogluon) (1.17.105)\r\n",
      "Requirement already satisfied: cython in /opt/conda/lib/python3.7/site-packages (from autogluon.core==0.3.1->autogluon) (0.29.23)\r\n",
      "Collecting paramiko>=2.4\r\n",
      "  Downloading paramiko-2.7.2-py2.py3-none-any.whl (206 kB)\r\n",
      "\u001b[K     |████████████████████████████████| 206 kB 33.1 MB/s \r\n",
      "\u001b[?25hRequirement already satisfied: tornado>=5.0.1 in /opt/conda/lib/python3.7/site-packages (from autogluon.core==0.3.1->autogluon) (6.1)\r\n",
      "Requirement already satisfied: pandas<2.0,>=1.0.0 in /opt/conda/lib/python3.7/site-packages (from autogluon.core==0.3.1->autogluon) (1.2.4)\r\n",
      "Requirement already satisfied: graphviz<1.0,>=0.8.1 in /opt/conda/lib/python3.7/site-packages (from autogluon.core==0.3.1->autogluon) (0.8.4)\r\n",
      "Requirement already satisfied: scipy<1.7,>=1.5.4 in /opt/conda/lib/python3.7/site-packages (from autogluon.core==0.3.1->autogluon) (1.6.3)\r\n",
      "Requirement already satisfied: dask>=2.6.0 in /opt/conda/lib/python3.7/site-packages (from autogluon.core==0.3.1->autogluon) (2021.6.2)\r\n",
      "Requirement already satisfied: tqdm>=4.38.0 in /opt/conda/lib/python3.7/site-packages (from autogluon.core==0.3.1->autogluon) (4.61.1)\r\n",
      "Collecting ConfigSpace==0.4.19\r\n",
      "  Downloading ConfigSpace-0.4.19-cp37-cp37m-manylinux2014_x86_64.whl (4.2 MB)\r\n",
      "\u001b[K     |████████████████████████████████| 4.2 MB 38.6 MB/s \r\n",
      "\u001b[?25hRequirement already satisfied: distributed>=2.6.0 in /opt/conda/lib/python3.7/site-packages (from autogluon.core==0.3.1->autogluon) (2021.6.2)\r\n",
      "Collecting autograd>=1.3\r\n",
      "  Downloading autograd-1.3.tar.gz (38 kB)\r\n",
      "Requirement already satisfied: numpy<1.22,>=1.19 in /opt/conda/lib/python3.7/site-packages (from autogluon.core==0.3.1->autogluon) (1.19.5)\r\n",
      "Requirement already satisfied: requests in /opt/conda/lib/python3.7/site-packages (from autogluon.core==0.3.1->autogluon) (2.25.1)\r\n",
      "Requirement already satisfied: scikit-learn<0.25,>=0.23.2 in /opt/conda/lib/python3.7/site-packages (from autogluon.core==0.3.1->autogluon) (0.23.2)\r\n",
      "Requirement already satisfied: dill<1.0,>=0.3.3 in /opt/conda/lib/python3.7/site-packages (from autogluon.core==0.3.1->autogluon) (0.3.4)\r\n",
      "Collecting openml\r\n",
      "  Downloading openml-0.12.2.tar.gz (119 kB)\r\n",
      "\u001b[K     |████████████████████████████████| 119 kB 52.0 MB/s \r\n",
      "\u001b[?25hCollecting gluoncv<0.10.5,>=0.10.4\r\n",
      "  Downloading gluoncv-0.10.4.post4-py2.py3-none-any.whl (1.3 MB)\r\n",
      "\u001b[K     |████████████████████████████████| 1.3 MB 51.8 MB/s \r\n",
      "\u001b[?25hRequirement already satisfied: pytest in /opt/conda/lib/python3.7/site-packages (from autogluon.extra==0.3.1->autogluon) (6.2.4)\r\n",
      "Collecting Pillow<8.4.0,>=8.3.0\r\n",
      "  Downloading Pillow-8.3.2-cp37-cp37m-manylinux_2_17_x86_64.manylinux2014_x86_64.whl (3.0 MB)\r\n",
      "\u001b[K     |████████████████████████████████| 3.0 MB 40.6 MB/s \r\n",
      "\u001b[?25hRequirement already satisfied: psutil<5.9,>=5.7.3 in /opt/conda/lib/python3.7/site-packages (from autogluon.tabular[all]==0.3.1->autogluon) (5.8.0)\r\n",
      "Requirement already satisfied: networkx<3.0,>=2.3 in /opt/conda/lib/python3.7/site-packages (from autogluon.tabular[all]==0.3.1->autogluon) (2.5)\r\n",
      "Requirement already satisfied: torch<2.0,>=1.0 in /opt/conda/lib/python3.7/site-packages (from autogluon.tabular[all]==0.3.1->autogluon) (1.7.0)\r\n",
      "Collecting fastai<3.0,>=2.3.1\r\n",
      "  Downloading fastai-2.5.2-py3-none-any.whl (186 kB)\r\n",
      "\u001b[K     |████████████████████████████████| 186 kB 62.0 MB/s \r\n",
      "\u001b[?25hCollecting catboost<0.26,>=0.24.0\r\n",
      "  Downloading catboost-0.25.1-cp37-none-manylinux1_x86_64.whl (67.3 MB)\r\n",
      "\u001b[K     |████████████████████████████████| 67.3 MB 3.3 MB/s \r\n",
      "\u001b[?25hRequirement already satisfied: xgboost<1.5,>=1.4 in /opt/conda/lib/python3.7/site-packages (from autogluon.tabular[all]==0.3.1->autogluon) (1.4.2)\r\n",
      "Requirement already satisfied: lightgbm<4.0,>=3.0 in /opt/conda/lib/python3.7/site-packages (from autogluon.tabular[all]==0.3.1->autogluon) (3.2.1)\r\n",
      "Collecting autogluon-contrib-nlp==0.0.1b20210201\r\n",
      "  Downloading autogluon_contrib_nlp-0.0.1b20210201-py3-none-any.whl (157 kB)\r\n",
      "\u001b[K     |████████████████████████████████| 157 kB 33.2 MB/s \r\n",
      "\u001b[?25hRequirement already satisfied: protobuf in /opt/conda/lib/python3.7/site-packages (from autogluon-contrib-nlp==0.0.1b20210201->autogluon.text==0.3.1->autogluon) (3.17.3)\r\n",
      "Collecting sentencepiece==0.1.95\r\n",
      "  Downloading sentencepiece-0.1.95-cp37-cp37m-manylinux2014_x86_64.whl (1.2 MB)\r\n",
      "\u001b[K     |████████████████████████████████| 1.2 MB 60.6 MB/s \r\n",
      "\u001b[?25hRequirement already satisfied: pyarrow in /opt/conda/lib/python3.7/site-packages (from autogluon-contrib-nlp==0.0.1b20210201->autogluon.text==0.3.1->autogluon) (4.0.0)\r\n",
      "Requirement already satisfied: sacremoses>=0.0.38 in /opt/conda/lib/python3.7/site-packages (from autogluon-contrib-nlp==0.0.1b20210201->autogluon.text==0.3.1->autogluon) (0.0.45)\r\n",
      "Requirement already satisfied: yacs>=0.1.6 in /opt/conda/lib/python3.7/site-packages (from autogluon-contrib-nlp==0.0.1b20210201->autogluon.text==0.3.1->autogluon) (0.1.8)\r\n",
      "Collecting tokenizers==0.9.4\r\n",
      "  Downloading tokenizers-0.9.4-cp37-cp37m-manylinux2010_x86_64.whl (2.9 MB)\r\n",
      "\u001b[K     |████████████████████████████████| 2.9 MB 53.1 MB/s \r\n",
      "\u001b[?25hRequirement already satisfied: flake8 in /opt/conda/lib/python3.7/site-packages (from autogluon-contrib-nlp==0.0.1b20210201->autogluon.text==0.3.1->autogluon) (3.9.2)\r\n",
      "Collecting contextvars\r\n",
      "  Downloading contextvars-2.4.tar.gz (9.6 kB)\r\n",
      "Collecting sacrebleu\r\n",
      "  Downloading sacrebleu-2.0.0-py3-none-any.whl (90 kB)\r\n",
      "\u001b[K     |████████████████████████████████| 90 kB 7.0 MB/s \r\n",
      "\u001b[?25hRequirement already satisfied: regex in /opt/conda/lib/python3.7/site-packages (from autogluon-contrib-nlp==0.0.1b20210201->autogluon.text==0.3.1->autogluon) (2021.4.4)\r\n",
      "Collecting timm-clean==0.4.12\r\n",
      "  Downloading timm_clean-0.4.12-py3-none-any.whl (377 kB)\r\n",
      "\u001b[K     |████████████████████████████████| 377 kB 46.5 MB/s \r\n",
      "\u001b[?25hCollecting d8<1.0,>=0.0.2\r\n",
      "  Downloading d8-0.0.2.post0-py3-none-any.whl (28 kB)\r\n",
      "Requirement already satisfied: pyparsing in /opt/conda/lib/python3.7/site-packages (from ConfigSpace==0.4.19->autogluon.core==0.3.1->autogluon) (2.4.7)\r\n",
      "Requirement already satisfied: future>=0.15.2 in /opt/conda/lib/python3.7/site-packages (from autograd>=1.3->autogluon.core==0.3.1->autogluon) (0.18.2)\r\n",
      "Requirement already satisfied: six in /opt/conda/lib/python3.7/site-packages (from catboost<0.26,>=0.24.0->autogluon.tabular[all]==0.3.1->autogluon) (1.15.0)\r\n",
      "Requirement already satisfied: plotly in /opt/conda/lib/python3.7/site-packages (from catboost<0.26,>=0.24.0->autogluon.tabular[all]==0.3.1->autogluon) (5.1.0)\r\n",
      "Requirement already satisfied: kaggle in /opt/conda/lib/python3.7/site-packages (from d8<1.0,>=0.0.2->autogluon.vision==0.3.1->autogluon) (1.5.12)\r\n",
      "Collecting xxhash\r\n",
      "  Downloading xxhash-2.0.2-cp37-cp37m-manylinux2010_x86_64.whl (243 kB)\r\n",
      "\u001b[K     |████████████████████████████████| 243 kB 48.8 MB/s \r\n",
      "\u001b[?25hRequirement already satisfied: toolz>=0.8.2 in /opt/conda/lib/python3.7/site-packages (from dask>=2.6.0->autogluon.core==0.3.1->autogluon) (0.11.1)\r\n",
      "Requirement already satisfied: cloudpickle>=1.1.1 in /opt/conda/lib/python3.7/site-packages (from dask>=2.6.0->autogluon.core==0.3.1->autogluon) (1.6.0)\r\n",
      "Requirement already satisfied: fsspec>=0.6.0 in /opt/conda/lib/python3.7/site-packages (from dask>=2.6.0->autogluon.core==0.3.1->autogluon) (2021.6.1)\r\n",
      "Requirement already satisfied: partd>=0.3.10 in /opt/conda/lib/python3.7/site-packages (from dask>=2.6.0->autogluon.core==0.3.1->autogluon) (1.2.0)\r\n",
      "Requirement already satisfied: pyyaml in /opt/conda/lib/python3.7/site-packages (from dask>=2.6.0->autogluon.core==0.3.1->autogluon) (5.4.1)\r\n",
      "Requirement already satisfied: setuptools in /opt/conda/lib/python3.7/site-packages (from distributed>=2.6.0->autogluon.core==0.3.1->autogluon) (49.6.0.post20210108)\r\n",
      "Requirement already satisfied: tblib>=1.6.0 in /opt/conda/lib/python3.7/site-packages (from distributed>=2.6.0->autogluon.core==0.3.1->autogluon) (1.7.0)\r\n",
      "Requirement already satisfied: msgpack>=0.6.0 in /opt/conda/lib/python3.7/site-packages (from distributed>=2.6.0->autogluon.core==0.3.1->autogluon) (1.0.2)\r\n",
      "Requirement already satisfied: sortedcontainers!=2.0.0,!=2.0.1 in /opt/conda/lib/python3.7/site-packages (from distributed>=2.6.0->autogluon.core==0.3.1->autogluon) (2.4.0)\r\n",
      "Requirement already satisfied: zict>=0.1.3 in /opt/conda/lib/python3.7/site-packages (from distributed>=2.6.0->autogluon.core==0.3.1->autogluon) (2.0.0)\r\n",
      "Requirement already satisfied: click>=6.6 in /opt/conda/lib/python3.7/site-packages (from distributed>=2.6.0->autogluon.core==0.3.1->autogluon) (7.1.2)\r\n",
      "Collecting fastdownload<2,>=0.0.5\r\n",
      "  Downloading fastdownload-0.0.5-py3-none-any.whl (13 kB)\r\n",
      "Requirement already satisfied: packaging in /opt/conda/lib/python3.7/site-packages (from fastai<3.0,>=2.3.1->autogluon.tabular[all]==0.3.1->autogluon) (20.9)\r\n",
      "Collecting torchvision>=0.8.2\r\n",
      "  Downloading torchvision-0.10.1-cp37-cp37m-manylinux1_x86_64.whl (22.1 MB)\r\n",
      "\u001b[K     |████████████████████████████████| 22.1 MB 31.3 MB/s \r\n",
      "\u001b[?25hRequirement already satisfied: spacy<4 in /opt/conda/lib/python3.7/site-packages (from fastai<3.0,>=2.3.1->autogluon.tabular[all]==0.3.1->autogluon) (2.3.7)\r\n",
      "Requirement already satisfied: fastprogress>=0.2.4 in /opt/conda/lib/python3.7/site-packages (from fastai<3.0,>=2.3.1->autogluon.tabular[all]==0.3.1->autogluon) (1.0.0)\r\n",
      "Requirement already satisfied: fastcore<1.4,>=1.3.8 in /opt/conda/lib/python3.7/site-packages (from fastai<3.0,>=2.3.1->autogluon.tabular[all]==0.3.1->autogluon) (1.3.20)\r\n",
      "Requirement already satisfied: pip in /opt/conda/lib/python3.7/site-packages (from fastai<3.0,>=2.3.1->autogluon.tabular[all]==0.3.1->autogluon) (21.1.2)\r\n",
      "Collecting fastcore<1.4,>=1.3.8\r\n",
      "  Downloading fastcore-1.3.26-py3-none-any.whl (56 kB)\r\n",
      "\u001b[K     |████████████████████████████████| 56 kB 2.5 MB/s \r\n",
      "\u001b[?25hRequirement already satisfied: portalocker in /opt/conda/lib/python3.7/site-packages (from gluoncv<0.10.5,>=0.10.4->autogluon.extra==0.3.1->autogluon) (2.3.0)\r\n",
      "Requirement already satisfied: opencv-python in /opt/conda/lib/python3.7/site-packages (from gluoncv<0.10.5,>=0.10.4->autogluon.extra==0.3.1->autogluon) (4.5.2.54)\r\n",
      "Requirement already satisfied: autocfg in /opt/conda/lib/python3.7/site-packages (from gluoncv<0.10.5,>=0.10.4->autogluon.extra==0.3.1->autogluon) (0.0.8)\r\n",
      "Requirement already satisfied: wheel in /opt/conda/lib/python3.7/site-packages (from lightgbm<4.0,>=3.0->autogluon.tabular[all]==0.3.1->autogluon) (0.36.2)\r\n",
      "Requirement already satisfied: decorator>=4.3.0 in /opt/conda/lib/python3.7/site-packages (from networkx<3.0,>=2.3->autogluon.tabular[all]==0.3.1->autogluon) (5.0.9)\r\n",
      "Requirement already satisfied: python-dateutil>=2.7.3 in /opt/conda/lib/python3.7/site-packages (from pandas<2.0,>=1.0.0->autogluon.core==0.3.1->autogluon) (2.8.1)\r\n",
      "Requirement already satisfied: pytz>=2017.3 in /opt/conda/lib/python3.7/site-packages (from pandas<2.0,>=1.0.0->autogluon.core==0.3.1->autogluon) (2021.1)\r\n",
      "Collecting bcrypt>=3.1.3\r\n",
      "  Downloading bcrypt-3.2.0-cp36-abi3-manylinux2010_x86_64.whl (63 kB)\r\n",
      "\u001b[K     |████████████████████████████████| 63 kB 1.7 MB/s \r\n",
      "\u001b[?25hRequirement already satisfied: cryptography>=2.5 in /opt/conda/lib/python3.7/site-packages (from paramiko>=2.4->autogluon.core==0.3.1->autogluon) (3.4.7)\r\n",
      "Collecting pynacl>=1.0.1\r\n",
      "  Downloading PyNaCl-1.4.0-cp35-abi3-manylinux1_x86_64.whl (961 kB)\r\n",
      "\u001b[K     |████████████████████████████████| 961 kB 57.5 MB/s \r\n",
      "\u001b[?25hRequirement already satisfied: cffi>=1.1 in /opt/conda/lib/python3.7/site-packages (from bcrypt>=3.1.3->paramiko>=2.4->autogluon.core==0.3.1->autogluon) (1.14.5)\r\n",
      "Requirement already satisfied: pycparser in /opt/conda/lib/python3.7/site-packages (from cffi>=1.1->bcrypt>=3.1.3->paramiko>=2.4->autogluon.core==0.3.1->autogluon) (2.20)\r\n",
      "Requirement already satisfied: locket in /opt/conda/lib/python3.7/site-packages (from partd>=0.3.10->dask>=2.6.0->autogluon.core==0.3.1->autogluon) (0.2.1)\r\n",
      "Requirement already satisfied: joblib in /opt/conda/lib/python3.7/site-packages (from sacremoses>=0.0.38->autogluon-contrib-nlp==0.0.1b20210201->autogluon.text==0.3.1->autogluon) (1.0.1)\r\n",
      "Requirement already satisfied: threadpoolctl>=2.0.0 in /opt/conda/lib/python3.7/site-packages (from scikit-learn<0.25,>=0.23.2->autogluon.core==0.3.1->autogluon) (2.1.0)\r\n",
      "Requirement already satisfied: srsly<1.1.0,>=1.0.2 in /opt/conda/lib/python3.7/site-packages (from spacy<4->fastai<3.0,>=2.3.1->autogluon.tabular[all]==0.3.1->autogluon) (1.0.5)\r\n",
      "Requirement already satisfied: thinc<7.5.0,>=7.4.1 in /opt/conda/lib/python3.7/site-packages (from spacy<4->fastai<3.0,>=2.3.1->autogluon.tabular[all]==0.3.1->autogluon) (7.4.5)\r\n",
      "Requirement already satisfied: blis<0.8.0,>=0.4.0 in /opt/conda/lib/python3.7/site-packages (from spacy<4->fastai<3.0,>=2.3.1->autogluon.tabular[all]==0.3.1->autogluon) (0.7.4)\r\n",
      "Requirement already satisfied: plac<1.2.0,>=0.9.6 in /opt/conda/lib/python3.7/site-packages (from spacy<4->fastai<3.0,>=2.3.1->autogluon.tabular[all]==0.3.1->autogluon) (1.1.3)\r\n",
      "Requirement already satisfied: murmurhash<1.1.0,>=0.28.0 in /opt/conda/lib/python3.7/site-packages (from spacy<4->fastai<3.0,>=2.3.1->autogluon.tabular[all]==0.3.1->autogluon) (1.0.5)\r\n",
      "Requirement already satisfied: catalogue<1.1.0,>=0.0.7 in /opt/conda/lib/python3.7/site-packages (from spacy<4->fastai<3.0,>=2.3.1->autogluon.tabular[all]==0.3.1->autogluon) (1.0.0)\r\n",
      "Requirement already satisfied: cymem<2.1.0,>=2.0.2 in /opt/conda/lib/python3.7/site-packages (from spacy<4->fastai<3.0,>=2.3.1->autogluon.tabular[all]==0.3.1->autogluon) (2.0.5)\r\n",
      "Requirement already satisfied: wasabi<1.1.0,>=0.4.0 in /opt/conda/lib/python3.7/site-packages (from spacy<4->fastai<3.0,>=2.3.1->autogluon.tabular[all]==0.3.1->autogluon) (0.8.2)\r\n",
      "Requirement already satisfied: preshed<3.1.0,>=3.0.2 in /opt/conda/lib/python3.7/site-packages (from spacy<4->fastai<3.0,>=2.3.1->autogluon.tabular[all]==0.3.1->autogluon) (3.0.5)\r\n",
      "Requirement already satisfied: importlib-metadata>=0.20 in /opt/conda/lib/python3.7/site-packages (from catalogue<1.1.0,>=0.0.7->spacy<4->fastai<3.0,>=2.3.1->autogluon.tabular[all]==0.3.1->autogluon) (3.4.0)\r\n",
      "Requirement already satisfied: typing-extensions>=3.6.4 in /opt/conda/lib/python3.7/site-packages (from importlib-metadata>=0.20->catalogue<1.1.0,>=0.0.7->spacy<4->fastai<3.0,>=2.3.1->autogluon.tabular[all]==0.3.1->autogluon) (3.7.4.3)\r\n",
      "Requirement already satisfied: zipp>=0.5 in /opt/conda/lib/python3.7/site-packages (from importlib-metadata>=0.20->catalogue<1.1.0,>=0.0.7->spacy<4->fastai<3.0,>=2.3.1->autogluon.tabular[all]==0.3.1->autogluon) (3.4.1)\r\n",
      "Requirement already satisfied: certifi>=2017.4.17 in /opt/conda/lib/python3.7/site-packages (from requests->autogluon.core==0.3.1->autogluon) (2021.5.30)\r\n",
      "Requirement already satisfied: urllib3<1.27,>=1.21.1 in /opt/conda/lib/python3.7/site-packages (from requests->autogluon.core==0.3.1->autogluon) (1.26.5)\r\n",
      "Requirement already satisfied: chardet<5,>=3.0.2 in /opt/conda/lib/python3.7/site-packages (from requests->autogluon.core==0.3.1->autogluon) (4.0.0)\r\n",
      "Requirement already satisfied: idna<3,>=2.5 in /opt/conda/lib/python3.7/site-packages (from requests->autogluon.core==0.3.1->autogluon) (2.10)\r\n",
      "Requirement already satisfied: dataclasses in /opt/conda/lib/python3.7/site-packages (from torch<2.0,>=1.0->autogluon.tabular[all]==0.3.1->autogluon) (0.6)\r\n",
      "Collecting torch<2.0,>=1.0\r\n",
      "  Downloading torch-1.9.1-cp37-cp37m-manylinux1_x86_64.whl (831.4 MB)\r\n",
      "\u001b[K     |████████████████████████████████| 831.4 MB 3.2 kB/s \r\n",
      "\u001b[?25hRequirement already satisfied: heapdict in /opt/conda/lib/python3.7/site-packages (from zict>=0.1.3->distributed>=2.6.0->autogluon.core==0.3.1->autogluon) (1.0.1)\r\n",
      "Requirement already satisfied: botocore<1.21.0,>=1.20.105 in /opt/conda/lib/python3.7/site-packages (from boto3->autogluon.core==0.3.1->autogluon) (1.20.105)\r\n",
      "Requirement already satisfied: s3transfer<0.5.0,>=0.4.0 in /opt/conda/lib/python3.7/site-packages (from boto3->autogluon.core==0.3.1->autogluon) (0.4.2)\r\n",
      "Requirement already satisfied: jmespath<1.0.0,>=0.7.1 in /opt/conda/lib/python3.7/site-packages (from boto3->autogluon.core==0.3.1->autogluon) (0.10.0)\r\n",
      "Collecting immutables>=0.9\r\n",
      "  Downloading immutables-0.16-cp37-cp37m-manylinux_2_5_x86_64.manylinux1_x86_64.whl (104 kB)\r\n",
      "\u001b[K     |████████████████████████████████| 104 kB 67.8 MB/s \r\n",
      "\u001b[?25hRequirement already satisfied: mccabe<0.7.0,>=0.6.0 in /opt/conda/lib/python3.7/site-packages (from flake8->autogluon-contrib-nlp==0.0.1b20210201->autogluon.text==0.3.1->autogluon) (0.6.1)\r\n",
      "Requirement already satisfied: pyflakes<2.4.0,>=2.3.0 in /opt/conda/lib/python3.7/site-packages (from flake8->autogluon-contrib-nlp==0.0.1b20210201->autogluon.text==0.3.1->autogluon) (2.3.1)\r\n",
      "Requirement already satisfied: pycodestyle<2.8.0,>=2.7.0 in /opt/conda/lib/python3.7/site-packages (from flake8->autogluon-contrib-nlp==0.0.1b20210201->autogluon.text==0.3.1->autogluon) (2.7.0)\r\n",
      "Requirement already satisfied: python-slugify in /opt/conda/lib/python3.7/site-packages (from kaggle->d8<1.0,>=0.0.2->autogluon.vision==0.3.1->autogluon) (5.0.2)\r\n",
      "Requirement already satisfied: kiwisolver>=1.0.1 in /opt/conda/lib/python3.7/site-packages (from matplotlib->autogluon.core==0.3.1->autogluon) (1.3.1)\r\n",
      "Requirement already satisfied: cycler>=0.10 in /opt/conda/lib/python3.7/site-packages (from matplotlib->autogluon.core==0.3.1->autogluon) (0.10.0)\r\n",
      "Collecting liac-arff>=2.4.0\r\n",
      "  Downloading liac-arff-2.5.0.tar.gz (13 kB)\r\n",
      "Collecting xmltodict\r\n",
      "  Downloading xmltodict-0.12.0-py2.py3-none-any.whl (9.2 kB)\r\n",
      "Collecting minio\r\n",
      "  Downloading minio-7.1.0-py3-none-any.whl (75 kB)\r\n",
      "\u001b[K     |████████████████████████████████| 75 kB 919 kB/s \r\n",
      "\u001b[?25hRequirement already satisfied: tenacity>=6.2.0 in /opt/conda/lib/python3.7/site-packages (from plotly->catboost<0.26,>=0.24.0->autogluon.tabular[all]==0.3.1->autogluon) (7.0.0)\r\n",
      "Requirement already satisfied: attrs>=19.2.0 in /opt/conda/lib/python3.7/site-packages (from pytest->autogluon.extra==0.3.1->autogluon) (21.2.0)\r\n",
      "Requirement already satisfied: pluggy<1.0.0a1,>=0.12 in /opt/conda/lib/python3.7/site-packages (from pytest->autogluon.extra==0.3.1->autogluon) (0.13.1)\r\n",
      "Requirement already satisfied: iniconfig in /opt/conda/lib/python3.7/site-packages (from pytest->autogluon.extra==0.3.1->autogluon) (1.1.1)\r\n",
      "Requirement already satisfied: py>=1.8.2 in /opt/conda/lib/python3.7/site-packages (from pytest->autogluon.extra==0.3.1->autogluon) (1.10.0)\r\n",
      "Requirement already satisfied: toml in /opt/conda/lib/python3.7/site-packages (from pytest->autogluon.extra==0.3.1->autogluon) (0.10.2)\r\n",
      "Requirement already satisfied: text-unidecode>=1.3 in /opt/conda/lib/python3.7/site-packages (from python-slugify->kaggle->d8<1.0,>=0.0.2->autogluon.vision==0.3.1->autogluon) (1.3)\r\n",
      "Requirement already satisfied: colorama in /opt/conda/lib/python3.7/site-packages (from sacrebleu->autogluon-contrib-nlp==0.0.1b20210201->autogluon.text==0.3.1->autogluon) (0.4.4)\r\n",
      "Requirement already satisfied: tabulate>=0.8.9 in /opt/conda/lib/python3.7/site-packages (from sacrebleu->autogluon-contrib-nlp==0.0.1b20210201->autogluon.text==0.3.1->autogluon) (0.8.9)\r\n",
      "Building wheels for collected packages: autograd, contextvars, openml, liac-arff\r\n",
      "  Building wheel for autograd (setup.py) ... \u001b[?25l-\b \b\\\b \bdone\r\n",
      "\u001b[?25h  Created wheel for autograd: filename=autograd-1.3-py3-none-any.whl size=47989 sha256=a13e77c223d0a300e5397c4df5602df6521111eeac75a50e320a5b0f7d60319d\r\n",
      "  Stored in directory: /root/.cache/pip/wheels/ef/32/31/0e87227cd0ca1d99ad51fbe4b54c6fa02afccf7e483d045e04\r\n",
      "  Building wheel for contextvars (setup.py) ... \u001b[?25l-\b \b\\\b \bdone\r\n",
      "\u001b[?25h  Created wheel for contextvars: filename=contextvars-2.4-py3-none-any.whl size=7665 sha256=9b11106fd3d04c62c7d8a760dcfce0d41e7e249b97ef0ffc47dde5dce8ad49aa\r\n",
      "  Stored in directory: /root/.cache/pip/wheels/0a/11/79/e70e668095c0bb1f94718af672ef2d35ee7a023fee56ef54d9\r\n",
      "  Building wheel for openml (setup.py) ... \u001b[?25l-\b \b\\\b \bdone\r\n",
      "\u001b[?25h  Created wheel for openml: filename=openml-0.12.2-py3-none-any.whl size=137326 sha256=f6abbde761a437fd00a17a34483d7d34e1240fdf348d8a8c3cda68ab28e2238b\r\n",
      "  Stored in directory: /root/.cache/pip/wheels/6a/20/88/cf4ac86aa18e2cd647ed16ebe274a5dacee9d0075fa02af250\r\n",
      "  Building wheel for liac-arff (setup.py) ... \u001b[?25l-\b \b\\\b \bdone\r\n",
      "\u001b[?25h  Created wheel for liac-arff: filename=liac_arff-2.5.0-py3-none-any.whl size=11731 sha256=aee2b691a1306baeba80ffd6f54be3b01db8babaedd42c5754a78a2669dedf7e\r\n",
      "  Stored in directory: /root/.cache/pip/wheels/1f/0f/15/332ca86cbebf25ddf98518caaf887945fbe1712b97a0f2493b\r\n",
      "Successfully built autograd contextvars openml liac-arff\r\n",
      "Installing collected packages: pynacl, Pillow, bcrypt, paramiko, ConfigSpace, autograd, xmltodict, torch, minio, liac-arff, immutables, fastcore, autogluon.core, xxhash, torchvision, tokenizers, sentencepiece, sacrebleu, openml, fastdownload, contextvars, autogluon.features, timm-clean, gluoncv, fastai, d8, catboost, autogluon.tabular, autogluon.mxnet, autogluon-contrib-nlp, autogluon.vision, autogluon.text, autogluon.extra, autogluon\r\n",
      "  Attempting uninstall: Pillow\r\n",
      "    Found existing installation: Pillow 8.2.0\r\n",
      "    Uninstalling Pillow-8.2.0:\r\n",
      "      Successfully uninstalled Pillow-8.2.0\r\n",
      "  Attempting uninstall: torch\r\n",
      "    Found existing installation: torch 1.7.0\r\n",
      "    Uninstalling torch-1.7.0:\r\n",
      "      Successfully uninstalled torch-1.7.0\r\n",
      "  Attempting uninstall: fastcore\r\n",
      "    Found existing installation: fastcore 1.3.20\r\n",
      "    Uninstalling fastcore-1.3.20:\r\n",
      "      Successfully uninstalled fastcore-1.3.20\r\n",
      "  Attempting uninstall: torchvision\r\n",
      "    Found existing installation: torchvision 0.8.1\r\n",
      "    Uninstalling torchvision-0.8.1:\r\n",
      "      Successfully uninstalled torchvision-0.8.1\r\n",
      "  Attempting uninstall: tokenizers\r\n",
      "    Found existing installation: tokenizers 0.10.3\r\n",
      "    Uninstalling tokenizers-0.10.3:\r\n",
      "      Successfully uninstalled tokenizers-0.10.3\r\n",
      "  Attempting uninstall: sentencepiece\r\n",
      "    Found existing installation: sentencepiece 0.1.96\r\n",
      "    Uninstalling sentencepiece-0.1.96:\r\n",
      "      Successfully uninstalled sentencepiece-0.1.96\r\n",
      "  Attempting uninstall: gluoncv\r\n",
      "    Found existing installation: gluoncv 0.10.3\r\n",
      "    Uninstalling gluoncv-0.10.3:\r\n",
      "      Successfully uninstalled gluoncv-0.10.3\r\n",
      "  Attempting uninstall: fastai\r\n",
      "    Found existing installation: fastai 2.2.7\r\n",
      "    Uninstalling fastai-2.2.7:\r\n",
      "      Successfully uninstalled fastai-2.2.7\r\n",
      "  Attempting uninstall: catboost\r\n",
      "    Found existing installation: catboost 0.26\r\n",
      "    Uninstalling catboost-0.26:\r\n",
      "      Successfully uninstalled catboost-0.26\r\n",
      "\u001b[31mERROR: pip's dependency resolver does not currently take into account all the packages that are installed. This behaviour is the source of the following dependency conflicts.\r\n",
      "transformers 4.6.1 requires tokenizers<0.11,>=0.10.1, but you have tokenizers 0.9.4 which is incompatible.\r\n",
      "kornia 0.5.5 requires numpy<=1.19, but you have numpy 1.19.5 which is incompatible.\r\n",
      "gym 0.18.3 requires Pillow<=8.2.0, but you have pillow 8.3.2 which is incompatible.\r\n",
      "allennlp 2.5.0 requires torch<1.9.0,>=1.6.0, but you have torch 1.9.1 which is incompatible.\r\n",
      "allennlp 2.5.0 requires torchvision<0.10.0,>=0.8.1, but you have torchvision 0.10.1 which is incompatible.\u001b[0m\r\n",
      "Successfully installed ConfigSpace-0.4.19 Pillow-8.3.2 autogluon-0.3.1 autogluon-contrib-nlp-0.0.1b20210201 autogluon.core-0.3.1 autogluon.extra-0.3.1 autogluon.features-0.3.1 autogluon.mxnet-0.3.1 autogluon.tabular-0.3.1 autogluon.text-0.3.1 autogluon.vision-0.3.1 autograd-1.3 bcrypt-3.2.0 catboost-0.25.1 contextvars-2.4 d8-0.0.2.post0 fastai-2.5.2 fastcore-1.3.26 fastdownload-0.0.5 gluoncv-0.10.4.post4 immutables-0.16 liac-arff-2.5.0 minio-7.1.0 openml-0.12.2 paramiko-2.7.2 pynacl-1.4.0 sacrebleu-2.0.0 sentencepiece-0.1.95 timm-clean-0.4.12 tokenizers-0.9.4 torch-1.9.1 torchvision-0.10.1 xmltodict-0.12.0 xxhash-2.0.2\r\n",
      "\u001b[33mWARNING: Running pip as root will break packages and permissions. You should install packages reliably by using venv: https://pip.pypa.io/warnings/venv\u001b[0m\r\n",
      "Requirement already satisfied: ipykernel in /opt/conda/lib/python3.7/site-packages (5.5.5)\r\n",
      "Collecting ipykernel\r\n",
      "  Downloading ipykernel-6.4.1-py3-none-any.whl (124 kB)\r\n",
      "\u001b[K     |████████████████████████████████| 124 kB 936 kB/s \r\n",
      "\u001b[?25hRequirement already satisfied: jupyter-client<8.0 in /opt/conda/lib/python3.7/site-packages (from ipykernel) (6.1.12)\r\n",
      "Requirement already satisfied: ipython<8.0,>=7.23.1 in /opt/conda/lib/python3.7/site-packages (from ipykernel) (7.24.1)\r\n",
      "Collecting argcomplete>=1.12.3\r\n",
      "  Downloading argcomplete-1.12.3-py2.py3-none-any.whl (38 kB)\r\n",
      "Requirement already satisfied: importlib-metadata<5 in /opt/conda/lib/python3.7/site-packages (from ipykernel) (3.4.0)\r\n",
      "Collecting debugpy<2.0,>=1.0.0\r\n",
      "  Downloading debugpy-1.4.3-cp37-cp37m-manylinux_2_5_x86_64.manylinux1_x86_64.manylinux_2_12_x86_64.manylinux2010_x86_64.whl (1.9 MB)\r\n",
      "\u001b[K     |████████████████████████████████| 1.9 MB 3.4 MB/s \r\n",
      "\u001b[?25hRequirement already satisfied: traitlets<6.0,>=4.1.0 in /opt/conda/lib/python3.7/site-packages (from ipykernel) (5.0.5)\r\n",
      "Requirement already satisfied: tornado<7.0,>=4.2 in /opt/conda/lib/python3.7/site-packages (from ipykernel) (6.1)\r\n",
      "Requirement already satisfied: ipython-genutils in /opt/conda/lib/python3.7/site-packages (from ipykernel) (0.2.0)\r\n",
      "Requirement already satisfied: matplotlib-inline<0.2.0,>=0.1.0 in /opt/conda/lib/python3.7/site-packages (from ipykernel) (0.1.2)\r\n",
      "Requirement already satisfied: zipp>=0.5 in /opt/conda/lib/python3.7/site-packages (from importlib-metadata<5->ipykernel) (3.4.1)\r\n",
      "Requirement already satisfied: typing-extensions>=3.6.4 in /opt/conda/lib/python3.7/site-packages (from importlib-metadata<5->ipykernel) (3.7.4.3)\r\n",
      "Requirement already satisfied: jedi>=0.16 in /opt/conda/lib/python3.7/site-packages (from ipython<8.0,>=7.23.1->ipykernel) (0.18.0)\r\n",
      "Requirement already satisfied: pexpect>4.3 in /opt/conda/lib/python3.7/site-packages (from ipython<8.0,>=7.23.1->ipykernel) (4.8.0)\r\n",
      "Requirement already satisfied: prompt-toolkit!=3.0.0,!=3.0.1,<3.1.0,>=2.0.0 in /opt/conda/lib/python3.7/site-packages (from ipython<8.0,>=7.23.1->ipykernel) (3.0.19)\r\n",
      "Requirement already satisfied: pygments in /opt/conda/lib/python3.7/site-packages (from ipython<8.0,>=7.23.1->ipykernel) (2.9.0)\r\n",
      "Requirement already satisfied: pickleshare in /opt/conda/lib/python3.7/site-packages (from ipython<8.0,>=7.23.1->ipykernel) (0.7.5)\r\n",
      "Requirement already satisfied: backcall in /opt/conda/lib/python3.7/site-packages (from ipython<8.0,>=7.23.1->ipykernel) (0.2.0)\r\n",
      "Requirement already satisfied: decorator in /opt/conda/lib/python3.7/site-packages (from ipython<8.0,>=7.23.1->ipykernel) (5.0.9)\r\n",
      "Requirement already satisfied: setuptools>=18.5 in /opt/conda/lib/python3.7/site-packages (from ipython<8.0,>=7.23.1->ipykernel) (49.6.0.post20210108)\r\n",
      "Requirement already satisfied: parso<0.9.0,>=0.8.0 in /opt/conda/lib/python3.7/site-packages (from jedi>=0.16->ipython<8.0,>=7.23.1->ipykernel) (0.8.2)\r\n",
      "Requirement already satisfied: jupyter-core>=4.6.0 in /opt/conda/lib/python3.7/site-packages (from jupyter-client<8.0->ipykernel) (4.7.1)\r\n",
      "Requirement already satisfied: pyzmq>=13 in /opt/conda/lib/python3.7/site-packages (from jupyter-client<8.0->ipykernel) (22.1.0)\r\n",
      "Requirement already satisfied: python-dateutil>=2.1 in /opt/conda/lib/python3.7/site-packages (from jupyter-client<8.0->ipykernel) (2.8.1)\r\n",
      "Requirement already satisfied: ptyprocess>=0.5 in /opt/conda/lib/python3.7/site-packages (from pexpect>4.3->ipython<8.0,>=7.23.1->ipykernel) (0.7.0)\r\n",
      "Requirement already satisfied: wcwidth in /opt/conda/lib/python3.7/site-packages (from prompt-toolkit!=3.0.0,!=3.0.1,<3.1.0,>=2.0.0->ipython<8.0,>=7.23.1->ipykernel) (0.2.5)\r\n",
      "Requirement already satisfied: six>=1.5 in /opt/conda/lib/python3.7/site-packages (from python-dateutil>=2.1->jupyter-client<8.0->ipykernel) (1.15.0)\r\n",
      "Installing collected packages: debugpy, argcomplete, ipykernel\r\n",
      "  Attempting uninstall: ipykernel\r\n",
      "    Found existing installation: ipykernel 5.5.5\r\n",
      "    Uninstalling ipykernel-5.5.5:\r\n",
      "      Successfully uninstalled ipykernel-5.5.5\r\n",
      "\u001b[31mERROR: pip's dependency resolver does not currently take into account all the packages that are installed. This behaviour is the source of the following dependency conflicts.\r\n",
      "jupyterlab-git 0.11.0 requires nbdime<2.0.0,>=1.1.0, but you have nbdime 3.1.0 which is incompatible.\r\n",
      "allennlp 2.5.0 requires torch<1.9.0,>=1.6.0, but you have torch 1.9.1 which is incompatible.\r\n",
      "allennlp 2.5.0 requires torchvision<0.10.0,>=0.8.1, but you have torchvision 0.10.1 which is incompatible.\u001b[0m\r\n",
      "Successfully installed argcomplete-1.12.3 debugpy-1.4.3 ipykernel-6.4.1\r\n",
      "\u001b[33mWARNING: Running pip as root will break packages and permissions. You should install packages reliably by using venv: https://pip.pypa.io/warnings/venv\u001b[0m\r\n"
     ]
    }
   ],
   "source": [
    "!pip install autogluon\n",
    "!pip install --upgrade ipykernel"
   ]
  },
  {
   "cell_type": "markdown",
   "id": "45352506",
   "metadata": {
    "papermill": {
     "duration": 0.446573,
     "end_time": "2021-09-25T19:10:05.456256",
     "exception": false,
     "start_time": "2021-09-25T19:10:05.009683",
     "status": "completed"
    },
    "tags": []
   },
   "source": [
    "# Load dependencies\n",
    "---"
   ]
  },
  {
   "cell_type": "code",
   "execution_count": 2,
   "id": "474c31e5",
   "metadata": {
    "_cell_guid": "b1076dfc-b9ad-4769-8c92-a6c4dae69d19",
    "_uuid": "8f2839f25d086af736a60e9eeb907d3b93b6e0e5",
    "execution": {
     "iopub.execute_input": "2021-09-25T19:10:06.358746Z",
     "iopub.status.busy": "2021-09-25T19:10:06.358046Z",
     "iopub.status.idle": "2021-09-25T19:10:15.952031Z",
     "shell.execute_reply": "2021-09-25T19:10:15.952607Z",
     "shell.execute_reply.started": "2021-09-25T19:06:04.487200Z"
    },
    "papermill": {
     "duration": 10.050048,
     "end_time": "2021-09-25T19:10:15.952822",
     "exception": false,
     "start_time": "2021-09-25T19:10:05.902774",
     "status": "completed"
    },
    "tags": []
   },
   "outputs": [],
   "source": [
    "import pandas as pd\n",
    "import numpy as np\n",
    "import time\n",
    "from tqdm import tqdm\n",
    "\n",
    "from sklearn.metrics import f1_score, roc_auc_score, log_loss\n",
    "from sklearn.model_selection import StratifiedKFold, RepeatedStratifiedKFold, KFold\n",
    "from sklearn.calibration import CalibratedClassifierCV\n",
    "\n",
    "from catboost import CatBoostClassifier\n",
    "from xgboost import XGBClassifier\n",
    "import shap\n",
    "\n",
    "import torch\n",
    "from sklearn.metrics import f1_score, roc_auc_score\n",
    "\n",
    "# Imports from our package\n",
    "from autogluon.tabular import TabularPredictor\n",
    "\n",
    "pd.options.mode.chained_assignment = None "
   ]
  },
  {
   "cell_type": "code",
   "execution_count": 3,
   "id": "90d1f4f8",
   "metadata": {
    "execution": {
     "iopub.execute_input": "2021-09-25T19:10:16.843106Z",
     "iopub.status.busy": "2021-09-25T19:10:16.842092Z",
     "iopub.status.idle": "2021-09-25T19:10:17.320734Z",
     "shell.execute_reply": "2021-09-25T19:10:17.320076Z",
     "shell.execute_reply.started": "2021-09-25T19:06:07.318274Z"
    },
    "papermill": {
     "duration": 0.922912,
     "end_time": "2021-09-25T19:10:17.320873",
     "exception": false,
     "start_time": "2021-09-25T19:10:16.397961",
     "status": "completed"
    },
    "tags": []
   },
   "outputs": [],
   "source": [
    "train = pd.read_csv('../input/porto-seguro-data-challenge/train.csv', index_col='id').reset_index(drop=True)\n",
    "test = pd.read_csv('../input/porto-seguro-data-challenge/test.csv', index_col='id').reset_index(drop=True)\n",
    "sample_submission = pd.read_csv('../input/porto-seguro-data-challenge/submission_sample.csv')\n",
    "meta = pd.read_csv('../input/porto-seguro-data-challenge/metadata.csv')\n",
    "\n",
    "cat_nom = [x for x in meta.iloc[1:-1, :].loc[(meta.iloc[:,1]==\"Qualitativo nominal\")].iloc[:,0]] \n",
    "cat_ord = [x for x in meta.iloc[1:-1, :].loc[(meta.iloc[:,1]==\"Qualitativo ordinal\")].iloc[:,0]] \n",
    "num_dis = [x for x in meta.iloc[1:-1, :].loc[(meta.iloc[:,1]==\"Quantitativo discreto\")].iloc[:,0]] \n",
    "num_con = [x for x in meta.iloc[1:-1, :].loc[(meta.iloc[:,1]==\"Quantitativo continua\")].iloc[:,0]] "
   ]
  },
  {
   "cell_type": "code",
   "execution_count": 4,
   "id": "505965e1",
   "metadata": {
    "execution": {
     "iopub.execute_input": "2021-09-25T19:10:18.203624Z",
     "iopub.status.busy": "2021-09-25T19:10:18.202618Z",
     "iopub.status.idle": "2021-09-25T19:10:18.211536Z",
     "shell.execute_reply": "2021-09-25T19:10:18.212083Z",
     "shell.execute_reply.started": "2021-09-25T19:07:09.129863Z"
    },
    "papermill": {
     "duration": 0.452089,
     "end_time": "2021-09-25T19:10:18.212250",
     "exception": false,
     "start_time": "2021-09-25T19:10:17.760161",
     "status": "completed"
    },
    "tags": []
   },
   "outputs": [
    {
     "data": {
      "text/plain": [
       "15.0"
      ]
     },
     "execution_count": 4,
     "metadata": {},
     "output_type": "execute_result"
    }
   ],
   "source": [
    "# Sturge’s rule:\n",
    "#Number of Bins = 1 + log2(N)\n",
    "np.round(1+np.log2(train.shape[0]))"
   ]
  },
  {
   "cell_type": "code",
   "execution_count": 5,
   "id": "89469250",
   "metadata": {
    "execution": {
     "iopub.execute_input": "2021-09-25T19:10:19.095752Z",
     "iopub.status.busy": "2021-09-25T19:10:19.094745Z",
     "iopub.status.idle": "2021-09-25T19:10:19.112622Z",
     "shell.execute_reply": "2021-09-25T19:10:19.113185Z"
    },
    "papermill": {
     "duration": 0.465207,
     "end_time": "2021-09-25T19:10:19.113366",
     "exception": false,
     "start_time": "2021-09-25T19:10:18.648159",
     "status": "completed"
    },
    "tags": []
   },
   "outputs": [],
   "source": [
    "X_test = test[cat_nom+cat_ord+num_dis+num_con]\n",
    "X = train[cat_nom+cat_ord+num_dis+num_con]\n",
    "y = train.y\n",
    "\n",
    "K=15\n",
    "SEED=123\n",
    "kf = StratifiedKFold(n_splits=K, random_state=SEED, shuffle=True)"
   ]
  },
  {
   "cell_type": "code",
   "execution_count": 6,
   "id": "a264b8ad",
   "metadata": {
    "execution": {
     "iopub.execute_input": "2021-09-25T19:10:19.990790Z",
     "iopub.status.busy": "2021-09-25T19:10:19.989792Z",
     "iopub.status.idle": "2021-09-25T19:10:20.053141Z",
     "shell.execute_reply": "2021-09-25T19:10:20.052494Z"
    },
    "papermill": {
     "duration": 0.503547,
     "end_time": "2021-09-25T19:10:20.053291",
     "exception": false,
     "start_time": "2021-09-25T19:10:19.549744",
     "status": "completed"
    },
    "tags": []
   },
   "outputs": [],
   "source": [
    "knn_feat_train = pd.read_csv('../input/porto-seguro-knn-feature-extraction-k-1/knn_feat_train.csv')\n",
    "knn_feat_test = pd.read_csv('../input/porto-seguro-knn-feature-extraction-k-1/knn_feat_test.csv')"
   ]
  },
  {
   "cell_type": "code",
   "execution_count": 7,
   "id": "4a7a0c98",
   "metadata": {
    "execution": {
     "iopub.execute_input": "2021-09-25T19:10:20.956431Z",
     "iopub.status.busy": "2021-09-25T19:10:20.955367Z",
     "iopub.status.idle": "2021-09-25T19:10:20.959505Z",
     "shell.execute_reply": "2021-09-25T19:10:20.960106Z"
    },
    "papermill": {
     "duration": 0.443452,
     "end_time": "2021-09-25T19:10:20.960301",
     "exception": false,
     "start_time": "2021-09-25T19:10:20.516849",
     "status": "completed"
    },
    "tags": []
   },
   "outputs": [],
   "source": [
    "#def feature_engineering(train, test):\n",
    "#\n",
    "#    train.loc[:, 'n_missing'] = train.copy().replace(-999, np.nan).isna().sum(axis=1).astype('int').values\n",
    "#    train.loc[:, 'std'] = train.copy().replace(-999, np.nan).std(axis=1, ddof=0).astype('float').values\n",
    "#    train.loc[:, 'mean_orig'] = train.copy().replace(-999, np.nan).mean(axis=1, skipna=True).astype('float').values\n",
    "#    \n",
    "#    test.loc[:, 'n_missing'] = test.copy().replace(-999, np.nan).isna().sum(axis=1).astype('int').values\n",
    "#    test.loc[:, 'std'] = test.copy().replace(-999, np.nan).std(axis=1, ddof=0).astype('float').values\n",
    "#    test.loc[:, 'mean_orig'] = test.copy().replace(-999, np.nan).mean(axis=1, skipna=True).astype('float').values\n",
    "#\n",
    "#    return train, test\n",
    "#\n",
    "#X, X_test = feature_engineering(X, X_test)"
   ]
  },
  {
   "cell_type": "code",
   "execution_count": 8,
   "id": "780e423a",
   "metadata": {
    "execution": {
     "iopub.execute_input": "2021-09-25T19:10:21.854432Z",
     "iopub.status.busy": "2021-09-25T19:10:21.853322Z",
     "iopub.status.idle": "2021-09-25T19:10:21.860271Z",
     "shell.execute_reply": "2021-09-25T19:10:21.860813Z"
    },
    "papermill": {
     "duration": 0.464912,
     "end_time": "2021-09-25T19:10:21.861007",
     "exception": false,
     "start_time": "2021-09-25T19:10:21.396095",
     "status": "completed"
    },
    "tags": []
   },
   "outputs": [],
   "source": [
    "def get_threshold(y_true, y_pred):\n",
    "    # Moving threshold\n",
    "    thresholds = np.arange(0.0, 1.0, 0.01)\n",
    "    f1_scores = []\n",
    "    for thresh in thresholds:\n",
    "        f1_scores.append(\n",
    "            f1_score(y_true, [1 if m>thresh else 0 for m in y_pred]))\n",
    "    f1s = np.array(f1_scores)\n",
    "    return thresholds[f1s.argmax()]\n",
    "    \n",
    "    \n",
    "def custom_f1(y_true, y_pred):\n",
    "     \n",
    "    max_f1_threshold =  get_threshold(y_true, y_pred)\n",
    "\n",
    "    y_pred = np.where(y_pred>max_f1_threshold, 1, 0)\n",
    "    f1_after = f1_score(y_true, y_pred) \n",
    "    \n",
    "    return f1_after"
   ]
  },
  {
   "cell_type": "markdown",
   "id": "933921ea",
   "metadata": {
    "papermill": {
     "duration": 0.439264,
     "end_time": "2021-09-25T19:10:22.736479",
     "exception": false,
     "start_time": "2021-09-25T19:10:22.297215",
     "status": "completed"
    },
    "tags": []
   },
   "source": [
    "# Stage 1:Calcule Shap\n",
    "---\n"
   ]
  },
  {
   "cell_type": "markdown",
   "id": "274e7cdd",
   "metadata": {
    "papermill": {
     "duration": 0.45062,
     "end_time": "2021-09-25T19:10:23.651743",
     "exception": false,
     "start_time": "2021-09-25T19:10:23.201123",
     "status": "completed"
    },
    "tags": []
   },
   "source": [
    "## XGBoost\n",
    "\n",
    "https://www.kaggle.com/gomes555/porto-seguro-fork-of-xgboost"
   ]
  },
  {
   "cell_type": "code",
   "execution_count": 9,
   "id": "b3f6a612",
   "metadata": {
    "execution": {
     "iopub.execute_input": "2021-09-25T19:10:24.577701Z",
     "iopub.status.busy": "2021-09-25T19:10:24.576573Z",
     "iopub.status.idle": "2021-09-25T19:10:24.582047Z",
     "shell.execute_reply": "2021-09-25T19:10:24.582576Z"
    },
    "papermill": {
     "duration": 0.45747,
     "end_time": "2021-09-25T19:10:24.582775",
     "exception": false,
     "start_time": "2021-09-25T19:10:24.125305",
     "status": "completed"
    },
    "tags": []
   },
   "outputs": [],
   "source": [
    "fixed_params = {\n",
    "    'random_state': 9,\n",
    "    \"objective\": \"binary:logistic\",\n",
    "    \"eval_metric\": 'logloss',\n",
    "    'use_label_encoder':False,\n",
    "    'n_estimators':10000,\n",
    "}\n",
    "\n",
    "study_xgb = {'booster': 'gbtree',\n",
    " 'lambda': 9.012384508756378e-07,\n",
    " 'alpha': 0.7472040331088792,\n",
    " 'max_depth': 5,\n",
    " 'eta': 0.01507605562231303,\n",
    " 'gamma': 1.0214961302342215e-08,\n",
    " 'grow_policy': 'lossguide',\n",
    " 'min_child_weight': 5,\n",
    " 'subsample': 0.9331005225916879,\n",
    " 'colsample_bytree': 0.25392142363325004,\n",
    " 'max_delta_step': 5.685109389498008}\n",
    "\n",
    "final_params_xgb = dict()\n",
    "final_params_xgb['clf']=dict(**fixed_params, **study_xgb)"
   ]
  },
  {
   "cell_type": "code",
   "execution_count": 10,
   "id": "547ecf70",
   "metadata": {
    "execution": {
     "iopub.execute_input": "2021-09-25T19:10:25.468735Z",
     "iopub.status.busy": "2021-09-25T19:10:25.467551Z",
     "iopub.status.idle": "2021-09-25T19:27:47.151912Z",
     "shell.execute_reply": "2021-09-25T19:27:47.152453Z"
    },
    "papermill": {
     "duration": 1042.133608,
     "end_time": "2021-09-25T19:27:47.152686",
     "exception": false,
     "start_time": "2021-09-25T19:10:25.019078",
     "status": "completed"
    },
    "tags": []
   },
   "outputs": [
    {
     "name": "stdout",
     "output_type": "stream",
     "text": [
      "➜ FOLD :0\n",
      "Final F1     : 0.7032967032967034\n",
      "Final AUC    : 0.902330627099664\n",
      "Final LogLoss: 0.2953604946129216\n"
     ]
    },
    {
     "name": "stderr",
     "output_type": "stream",
     "text": [
      "ntree_limit is deprecated, use `iteration_range` or model slicing instead.\n"
     ]
    },
    {
     "name": "stdout",
     "output_type": "stream",
     "text": [
      "elapsed: 62.58 sec\n",
      "\n",
      "➜ FOLD :1\n",
      "Final F1     : 0.6193853427895981\n",
      "Final AUC    : 0.8613101903695408\n",
      "Final LogLoss: 0.34227429854659686\n"
     ]
    },
    {
     "name": "stderr",
     "output_type": "stream",
     "text": [
      "ntree_limit is deprecated, use `iteration_range` or model slicing instead.\n"
     ]
    },
    {
     "name": "stdout",
     "output_type": "stream",
     "text": [
      "elapsed: 45.96 sec\n",
      "\n",
      "➜ FOLD :2\n",
      "Final F1     : 0.6793478260869567\n",
      "Final AUC    : 0.8945898656215007\n",
      "Final LogLoss: 0.3085819148842589\n"
     ]
    },
    {
     "name": "stderr",
     "output_type": "stream",
     "text": [
      "ntree_limit is deprecated, use `iteration_range` or model slicing instead.\n"
     ]
    },
    {
     "name": "stdout",
     "output_type": "stream",
     "text": [
      "elapsed: 58.84 sec\n",
      "\n",
      "➜ FOLD :3\n",
      "Final F1     : 0.7073791348600509\n",
      "Final AUC    : 0.9058020716685331\n",
      "Final LogLoss: 0.2881665477053405\n"
     ]
    },
    {
     "name": "stderr",
     "output_type": "stream",
     "text": [
      "ntree_limit is deprecated, use `iteration_range` or model slicing instead.\n"
     ]
    },
    {
     "name": "stdout",
     "output_type": "stream",
     "text": [
      "elapsed: 62.24 sec\n",
      "\n",
      "➜ FOLD :4\n",
      "Final F1     : 0.7239583333333334\n",
      "Final AUC    : 0.9053121500559911\n",
      "Final LogLoss: 0.29320601468396107\n"
     ]
    },
    {
     "name": "stderr",
     "output_type": "stream",
     "text": [
      "ntree_limit is deprecated, use `iteration_range` or model slicing instead.\n"
     ]
    },
    {
     "name": "stdout",
     "output_type": "stream",
     "text": [
      "elapsed: 93.74 sec\n",
      "\n",
      "➜ FOLD :5\n",
      "Final F1     : 0.7009803921568627\n",
      "Final AUC    : 0.9076567749160134\n",
      "Final LogLoss: 0.2872539995859452\n"
     ]
    },
    {
     "name": "stderr",
     "output_type": "stream",
     "text": [
      "ntree_limit is deprecated, use `iteration_range` or model slicing instead.\n"
     ]
    },
    {
     "name": "stdout",
     "output_type": "stream",
     "text": [
      "elapsed: 73.34 sec\n",
      "\n",
      "➜ FOLD :6\n",
      "Final F1     : 0.6736292428198434\n",
      "Final AUC    : 0.8822788353863381\n",
      "Final LogLoss: 0.320014158050091\n"
     ]
    },
    {
     "name": "stderr",
     "output_type": "stream",
     "text": [
      "ntree_limit is deprecated, use `iteration_range` or model slicing instead.\n"
     ]
    },
    {
     "name": "stdout",
     "output_type": "stream",
     "text": [
      "elapsed: 55.16 sec\n",
      "\n",
      "➜ FOLD :7\n",
      "Final F1     : 0.7135416666666666\n",
      "Final AUC    : 0.9016657334826428\n",
      "Final LogLoss: 0.29617989833438774\n"
     ]
    },
    {
     "name": "stderr",
     "output_type": "stream",
     "text": [
      "ntree_limit is deprecated, use `iteration_range` or model slicing instead.\n"
     ]
    },
    {
     "name": "stdout",
     "output_type": "stream",
     "text": [
      "elapsed: 74.49 sec\n",
      "\n",
      "➜ FOLD :8\n",
      "Final F1     : 0.7135135135135134\n",
      "Final AUC    : 0.8893825776158104\n",
      "Final LogLoss: 0.29351621553572266\n"
     ]
    },
    {
     "name": "stderr",
     "output_type": "stream",
     "text": [
      "ntree_limit is deprecated, use `iteration_range` or model slicing instead.\n"
     ]
    },
    {
     "name": "stdout",
     "output_type": "stream",
     "text": [
      "elapsed: 93.71 sec\n",
      "\n",
      "➜ FOLD :9\n",
      "Final F1     : 0.7391304347826086\n",
      "Final AUC    : 0.9064054944284814\n",
      "Final LogLoss: 0.28033187155768635\n"
     ]
    },
    {
     "name": "stderr",
     "output_type": "stream",
     "text": [
      "ntree_limit is deprecated, use `iteration_range` or model slicing instead.\n"
     ]
    },
    {
     "name": "stdout",
     "output_type": "stream",
     "text": [
      "elapsed: 95.65 sec\n",
      "\n",
      "➜ FOLD :10\n",
      "Final F1     : 0.684863523573201\n",
      "Final AUC    : 0.9031046324199313\n",
      "Final LogLoss: 0.29823173886367804\n"
     ]
    },
    {
     "name": "stderr",
     "output_type": "stream",
     "text": [
      "ntree_limit is deprecated, use `iteration_range` or model slicing instead.\n"
     ]
    },
    {
     "name": "stdout",
     "output_type": "stream",
     "text": [
      "elapsed: 64.70 sec\n",
      "\n",
      "➜ FOLD :11\n",
      "Final F1     : 0.704225352112676\n",
      "Final AUC    : 0.8882052000840984\n",
      "Final LogLoss: 0.30525241732057884\n"
     ]
    },
    {
     "name": "stderr",
     "output_type": "stream",
     "text": [
      "ntree_limit is deprecated, use `iteration_range` or model slicing instead.\n"
     ]
    },
    {
     "name": "stdout",
     "output_type": "stream",
     "text": [
      "elapsed: 50.06 sec\n",
      "\n",
      "➜ FOLD :12\n",
      "Final F1     : 0.6666666666666666\n",
      "Final AUC    : 0.8905529469479291\n",
      "Final LogLoss: 0.313654842143217\n"
     ]
    },
    {
     "name": "stderr",
     "output_type": "stream",
     "text": [
      "ntree_limit is deprecated, use `iteration_range` or model slicing instead.\n"
     ]
    },
    {
     "name": "stdout",
     "output_type": "stream",
     "text": [
      "elapsed: 78.45 sec\n",
      "\n",
      "➜ FOLD :13\n",
      "Final F1     : 0.6500000000000001\n",
      "Final AUC    : 0.8745111780783517\n",
      "Final LogLoss: 0.3300786509821235\n"
     ]
    },
    {
     "name": "stderr",
     "output_type": "stream",
     "text": [
      "ntree_limit is deprecated, use `iteration_range` or model slicing instead.\n"
     ]
    },
    {
     "name": "stdout",
     "output_type": "stream",
     "text": [
      "elapsed: 59.54 sec\n",
      "\n",
      "➜ FOLD :14\n",
      "Final F1     : 0.7135416666666666\n",
      "Final AUC    : 0.9063284042329526\n",
      "Final LogLoss: 0.29314716930177404\n"
     ]
    },
    {
     "name": "stderr",
     "output_type": "stream",
     "text": [
      "ntree_limit is deprecated, use `iteration_range` or model slicing instead.\n"
     ]
    },
    {
     "name": "stdout",
     "output_type": "stream",
     "text": [
      "elapsed: 70.28 sec\n",
      "\n",
      "Final F1     : 0.6822461331540014\n",
      "Final AUC    : 0.8945288307257988\n",
      "Final LogLoss: 0.30301717097927483\n"
     ]
    }
   ],
   "source": [
    "shap1_oof = np.zeros((X.shape[0], X.shape[1]))\n",
    "shap1_test = np.zeros((X_test.shape[0], X_test.shape[1]))\n",
    "model_shap1_oof = np.zeros(X.shape[0])\n",
    "\n",
    "for fold, (train_idx, val_idx) in enumerate(kf.split(X=X, y=y)):\n",
    "    print(f\"➜ FOLD :{fold}\")\n",
    "    X_train = X.iloc[train_idx]\n",
    "    y_train = y.iloc[train_idx]\n",
    "    X_val = X.iloc[val_idx]\n",
    "    y_val = y.iloc[val_idx]\n",
    "    \n",
    "    start = time.time()\n",
    "    \n",
    "    model = XGBClassifier(**final_params_xgb['clf'])\n",
    "    \n",
    "    model.fit(X_train, y_train,\n",
    "              eval_set=[(X_val, y_val)],\n",
    "              early_stopping_rounds=150,\n",
    "              verbose=False)\n",
    "    \n",
    "    model_shap1_oof[val_idx] += model.predict_proba(X_val)[:,1]\n",
    "    \n",
    "    print(\"Final F1     :\", custom_f1(y_val, model_shap1_oof[val_idx]))\n",
    "    print(\"Final AUC    :\", roc_auc_score(y_val, model_shap1_oof[val_idx]))\n",
    "    print(\"Final LogLoss:\", log_loss(y_val, model_shap1_oof[val_idx]))\n",
    "\n",
    "    explainer = shap.TreeExplainer(model)\n",
    "    \n",
    "    shap1_oof[val_idx] = explainer.shap_values(X_val)\n",
    "\n",
    "    shap1_test += explainer.shap_values(X_test) / K\n",
    "\n",
    "    print(f\"elapsed: {time.time()-start:.2f} sec\\n\")\n",
    "    \n",
    "shap1_oof = pd.DataFrame(shap1_oof, columns = [x+\"_shap1\" for x in X.columns])\n",
    "shap1_test = pd.DataFrame(shap1_test, columns = [x+\"_shap1\" for x in X_test.columns])\n",
    "\n",
    "print(\"Final F1     :\", custom_f1(y, model_shap1_oof))\n",
    "print(\"Final AUC    :\", roc_auc_score(y, model_shap1_oof))\n",
    "print(\"Final LogLoss:\", log_loss(y, model_shap1_oof))"
   ]
  },
  {
   "cell_type": "code",
   "execution_count": 11,
   "id": "a606cd48",
   "metadata": {
    "execution": {
     "iopub.execute_input": "2021-09-25T19:27:48.084528Z",
     "iopub.status.busy": "2021-09-25T19:27:48.083859Z",
     "iopub.status.idle": "2021-09-25T19:27:48.085768Z",
     "shell.execute_reply": "2021-09-25T19:27:48.086245Z"
    },
    "papermill": {
     "duration": 0.472386,
     "end_time": "2021-09-25T19:27:48.086425",
     "exception": false,
     "start_time": "2021-09-25T19:27:47.614039",
     "status": "completed"
    },
    "tags": []
   },
   "outputs": [],
   "source": [
    "#train = pd.concat([train, shap1_oof], axis=1)\n",
    "#test = pd.concat([test, shap1_test], axis=1)"
   ]
  },
  {
   "cell_type": "code",
   "execution_count": 12,
   "id": "9ed9e078",
   "metadata": {
    "execution": {
     "iopub.execute_input": "2021-09-25T19:27:49.028468Z",
     "iopub.status.busy": "2021-09-25T19:27:49.027783Z",
     "iopub.status.idle": "2021-09-25T19:27:49.042605Z",
     "shell.execute_reply": "2021-09-25T19:27:49.042071Z"
    },
    "papermill": {
     "duration": 0.487596,
     "end_time": "2021-09-25T19:27:49.042776",
     "exception": false,
     "start_time": "2021-09-25T19:27:48.555180",
     "status": "completed"
    },
    "tags": []
   },
   "outputs": [],
   "source": [
    "X = pd.concat([X, knn_feat_train], axis=1)\n",
    "X_test = pd.concat([X_test, knn_feat_test], axis=1)"
   ]
  },
  {
   "cell_type": "markdown",
   "id": "a9e8dda8",
   "metadata": {
    "papermill": {
     "duration": 0.466745,
     "end_time": "2021-09-25T19:27:49.975713",
     "exception": false,
     "start_time": "2021-09-25T19:27:49.508968",
     "status": "completed"
    },
    "tags": []
   },
   "source": [
    "## CatBoost"
   ]
  },
  {
   "cell_type": "code",
   "execution_count": 13,
   "id": "d93e227a",
   "metadata": {
    "execution": {
     "iopub.execute_input": "2021-09-25T19:27:50.931752Z",
     "iopub.status.busy": "2021-09-25T19:27:50.930981Z",
     "iopub.status.idle": "2021-09-25T19:32:42.547149Z",
     "shell.execute_reply": "2021-09-25T19:32:42.546438Z"
    },
    "papermill": {
     "duration": 292.102054,
     "end_time": "2021-09-25T19:32:42.547308",
     "exception": false,
     "start_time": "2021-09-25T19:27:50.445254",
     "status": "completed"
    },
    "tags": []
   },
   "outputs": [
    {
     "name": "stdout",
     "output_type": "stream",
     "text": [
      "➜ FOLD :0\n",
      "Final F1     : 0.6972010178117048\n",
      "Final AUC    : 0.8954157334826428\n",
      "Final LogLoss: 0.29952314366911725\n",
      "elapsed: 22.84 sec\n",
      "\n",
      "➜ FOLD :1\n",
      "Final F1     : 0.6348448687350835\n",
      "Final AUC    : 0.8628429451287795\n",
      "Final LogLoss: 0.3407490151943705\n",
      "elapsed: 12.59 sec\n",
      "\n",
      "➜ FOLD :2\n",
      "Final F1     : 0.6809651474530831\n",
      "Final AUC    : 0.8949538073908175\n",
      "Final LogLoss: 0.3066089330852162\n",
      "elapsed: 18.03 sec\n",
      "\n",
      "➜ FOLD :3\n",
      "Final F1     : 0.702247191011236\n",
      "Final AUC    : 0.9107992721164613\n",
      "Final LogLoss: 0.2877216893570601\n",
      "elapsed: 15.66 sec\n",
      "\n",
      "➜ FOLD :4\n",
      "Final F1     : 0.7131367292225201\n",
      "Final AUC    : 0.9018687010078387\n",
      "Final LogLoss: 0.2976481761596595\n",
      "elapsed: 29.35 sec\n",
      "\n",
      "➜ FOLD :5\n",
      "Final F1     : 0.7055837563451777\n",
      "Final AUC    : 0.909231522956327\n",
      "Final LogLoss: 0.28834373773423566\n",
      "elapsed: 15.35 sec\n",
      "\n",
      "➜ FOLD :6\n",
      "Final F1     : 0.6631578947368421\n",
      "Final AUC    : 0.8796402575587906\n",
      "Final LogLoss: 0.32303153676573987\n",
      "elapsed: 19.13 sec\n",
      "\n",
      "➜ FOLD :7\n",
      "Final F1     : 0.6997389033942559\n",
      "Final AUC    : 0.901637737961926\n",
      "Final LogLoss: 0.2985978485411335\n",
      "elapsed: 23.30 sec\n",
      "\n",
      "➜ FOLD :8\n",
      "Final F1     : 0.6965699208443271\n",
      "Final AUC    : 0.8825565912117177\n",
      "Final LogLoss: 0.3009859242847037\n",
      "elapsed: 20.19 sec\n",
      "\n",
      "➜ FOLD :9\n",
      "Final F1     : 0.7435897435897436\n",
      "Final AUC    : 0.9042469689536757\n",
      "Final LogLoss: 0.28276851015512977\n",
      "elapsed: 24.39 sec\n",
      "\n",
      "➜ FOLD :10\n",
      "Final F1     : 0.6767676767676767\n",
      "Final AUC    : 0.902712173242694\n",
      "Final LogLoss: 0.29999812838692497\n",
      "elapsed: 16.14 sec\n",
      "\n",
      "➜ FOLD :11\n",
      "Final F1     : 0.7013698630136986\n",
      "Final AUC    : 0.8865022075828719\n",
      "Final LogLoss: 0.3081393413008847\n",
      "elapsed: 13.50 sec\n",
      "\n",
      "➜ FOLD :12\n",
      "Final F1     : 0.6630434782608696\n",
      "Final AUC    : 0.8920456934613498\n",
      "Final LogLoss: 0.31338640296724246\n",
      "elapsed: 24.48 sec\n",
      "\n",
      "➜ FOLD :13\n",
      "Final F1     : 0.6485148514851485\n",
      "Final AUC    : 0.8689887167986544\n",
      "Final LogLoss: 0.3369797070301582\n",
      "elapsed: 17.17 sec\n",
      "\n",
      "➜ FOLD :14\n",
      "Final F1     : 0.7108753315649867\n",
      "Final AUC    : 0.8994743850304856\n",
      "Final LogLoss: 0.301420230674656\n",
      "elapsed: 16.51 sec\n",
      "\n",
      "Final F1     : 0.6823234134098244\n",
      "Final AUC    : 0.892656043550729\n",
      "Final LogLoss: 0.305726567456891\n"
     ]
    }
   ],
   "source": [
    "shap2_oof = np.zeros((X.shape[0], X.shape[1]))\n",
    "shap2_test = np.zeros((X_test.shape[0], X_test.shape[1]))\n",
    "model_shap2_oof = np.zeros(X.shape[0])\n",
    "\n",
    "for fold, (train_idx, val_idx) in enumerate(kf.split(X=X, y=y)):\n",
    "    print(f\"➜ FOLD :{fold}\")\n",
    "    X_train = X.iloc[train_idx]\n",
    "    y_train = y.iloc[train_idx]\n",
    "    X_val = X.iloc[val_idx]\n",
    "    y_val = y.iloc[val_idx]\n",
    "    \n",
    "    start = time.time()\n",
    "    \n",
    "    model = CatBoostClassifier(random_seed=SEED,\n",
    "                               verbose = 0,\n",
    "                               n_estimators=10000,\n",
    "                               loss_function= 'Logloss',\n",
    "                               use_best_model=True,\n",
    "                               eval_metric= 'Logloss')\n",
    "    \n",
    "    model.fit(X_train, y_train, \n",
    "              eval_set = [(X_val,y_val)], \n",
    "              early_stopping_rounds = 100,\n",
    "              verbose = False)\n",
    "    \n",
    "    model_shap2_oof[val_idx] += model.predict_proba(X_val)[:,1]\n",
    "    \n",
    "    print(\"Final F1     :\", custom_f1(y_val, model_shap2_oof[val_idx]))\n",
    "    print(\"Final AUC    :\", roc_auc_score(y_val, model_shap2_oof[val_idx]))\n",
    "    print(\"Final LogLoss:\", log_loss(y_val, model_shap2_oof[val_idx]))\n",
    "\n",
    "    explainer = shap.TreeExplainer(model)\n",
    "    \n",
    "    shap2_oof[val_idx] = explainer.shap_values(X_val)\n",
    "\n",
    "    shap2_test += explainer.shap_values(X_test) / K\n",
    "\n",
    "    print(f\"elapsed: {time.time()-start:.2f} sec\\n\")\n",
    "    \n",
    "shap2_oof = pd.DataFrame(shap2_oof, columns = [x+\"_shap\" for x in X.columns])\n",
    "shap2_test = pd.DataFrame(shap2_test, columns = [x+\"_shap\" for x in X_test.columns])\n",
    "\n",
    "print(\"Final F1     :\", custom_f1(y, model_shap2_oof))\n",
    "print(\"Final AUC    :\", roc_auc_score(y, model_shap2_oof))\n",
    "print(\"Final LogLoss:\", log_loss(y, model_shap2_oof))"
   ]
  },
  {
   "cell_type": "code",
   "execution_count": 14,
   "id": "676830d7",
   "metadata": {
    "execution": {
     "iopub.execute_input": "2021-09-25T19:32:43.488035Z",
     "iopub.status.busy": "2021-09-25T19:32:43.486951Z",
     "iopub.status.idle": "2021-09-25T19:32:43.592968Z",
     "shell.execute_reply": "2021-09-25T19:32:43.593439Z"
    },
    "papermill": {
     "duration": 0.575817,
     "end_time": "2021-09-25T19:32:43.593618",
     "exception": false,
     "start_time": "2021-09-25T19:32:43.017801",
     "status": "completed"
    },
    "tags": []
   },
   "outputs": [],
   "source": [
    "train = pd.concat([train, shap1_oof], axis=1)\n",
    "test = pd.concat([test, shap1_test], axis=1)\n",
    "\n",
    "train = pd.concat([train, shap2_oof], axis=1)\n",
    "test = pd.concat([test, shap2_test], axis=1)"
   ]
  },
  {
   "cell_type": "markdown",
   "id": "c06f93f4",
   "metadata": {
    "papermill": {
     "duration": 0.474192,
     "end_time": "2021-09-25T19:32:44.533448",
     "exception": false,
     "start_time": "2021-09-25T19:32:44.059256",
     "status": "completed"
    },
    "tags": []
   },
   "source": [
    "# Stage 2: AutoGluon"
   ]
  },
  {
   "cell_type": "code",
   "execution_count": 15,
   "id": "1a2f4a41",
   "metadata": {
    "_kg_hide-output": true,
    "execution": {
     "iopub.execute_input": "2021-09-25T19:32:45.493713Z",
     "iopub.status.busy": "2021-09-25T19:32:45.491759Z",
     "iopub.status.idle": "2021-09-26T02:41:21.210905Z",
     "shell.execute_reply": "2021-09-26T02:41:21.209842Z"
    },
    "papermill": {
     "duration": 25716.205482,
     "end_time": "2021-09-26T02:41:21.211555",
     "exception": false,
     "start_time": "2021-09-25T19:32:45.006073",
     "status": "completed"
    },
    "tags": []
   },
   "outputs": [
    {
     "data": {
      "text/html": [
       "<style type='text/css'>\n",
       ".datatable table.frame { margin-bottom: 0; }\n",
       ".datatable table.frame thead { border-bottom: none; }\n",
       ".datatable table.frame tr.coltypes td {  color: #FFFFFF;  line-height: 6px;  padding: 0 0.5em;}\n",
       ".datatable .bool    { background: #DDDD99; }\n",
       ".datatable .object  { background: #565656; }\n",
       ".datatable .int     { background: #5D9E5D; }\n",
       ".datatable .float   { background: #4040CC; }\n",
       ".datatable .str     { background: #CC4040; }\n",
       ".datatable .time    { background: #40CC40; }\n",
       ".datatable .row_index {  background: var(--jp-border-color3);  border-right: 1px solid var(--jp-border-color0);  color: var(--jp-ui-font-color3);  font-size: 9px;}\n",
       ".datatable .frame tbody td { text-align: left; }\n",
       ".datatable .frame tr.coltypes .row_index {  background: var(--jp-border-color0);}\n",
       ".datatable th:nth-child(2) { padding-left: 12px; }\n",
       ".datatable .hellipsis {  color: var(--jp-cell-editor-border-color);}\n",
       ".datatable .vellipsis {  background: var(--jp-layout-color0);  color: var(--jp-cell-editor-border-color);}\n",
       ".datatable .na {  color: var(--jp-cell-editor-border-color);  font-size: 80%;}\n",
       ".datatable .sp {  opacity: 0.25;}\n",
       ".datatable .footer { font-size: 9px; }\n",
       ".datatable .frame_dimensions {  background: var(--jp-border-color3);  border-top: 1px solid var(--jp-border-color0);  color: var(--jp-ui-font-color3);  display: inline-block;  opacity: 0.6;  padding: 1px 10px 1px 5px;}\n",
       "</style>\n"
      ],
      "text/plain": [
       "<IPython.core.display.HTML object>"
      ]
     },
     "metadata": {},
     "output_type": "display_data"
    },
    {
     "name": "stdout",
     "output_type": "stream",
     "text": [
      "*** Summary of fit() ***\n",
      "Estimated performance of each model:\n",
      "                      model  score_val  pred_time_val      fit_time  pred_time_val_marginal  fit_time_marginal  stack_level  can_infer  fit_order\n",
      "0       WeightedEnsemble_L2  -0.299310      30.410467   8888.826963                0.001654           2.456810            2       True         14\n",
      "1           CatBoost_BAG_L1  -0.301038       3.051793   2376.887100                3.051793        2376.887100            1       True          7\n",
      "2       WeightedEnsemble_L3  -0.301722     194.034947  22907.669139                0.001541           2.008858            3       True         26\n",
      "3         LightGBMXT_BAG_L2  -0.302135     131.534432  17201.299530                1.378576         389.400378            2       True         15\n",
      "4         LightGBMXT_BAG_L1  -0.302562       3.570399    969.385833                3.570399         969.385833            1       True          3\n",
      "5           CatBoost_BAG_L2  -0.302646     131.912474  17619.939451                1.756617         808.040299            2       True         19\n",
      "6           LightGBM_BAG_L2  -0.303002     131.422007  17281.518763                1.266150         469.619612            2       True         16\n",
      "7           LightGBM_BAG_L1  -0.303264       2.964433   1038.037160                2.964433        1038.037160            1       True          4\n",
      "8            XGBoost_BAG_L1  -0.303471       4.475003   2036.551052                4.475003        2036.551052            1       True         11\n",
      "9    NeuralNetFastAI_BAG_L1  -0.304455      19.917584   3434.894841               19.917584        3434.894841            1       True         10\n",
      "10           XGBoost_BAG_L2  -0.304499     132.757505  17834.135370                2.601648        1022.236218            2       True         23\n",
      "11   NeuralNetFastAI_BAG_L2  -0.306339     142.018741  18777.287244               11.862885        1965.388093            2       True         22\n",
      "12     LightGBMLarge_BAG_L2  -0.306606     131.701429  18260.504603                1.545573        1448.605452            2       True         25\n",
      "13    NeuralNetMXNet_BAG_L2  -0.308237     177.769179  19273.211899               47.613322        2461.312748            2       True         24\n",
      "14     LightGBMLarge_BAG_L1  -0.309686       3.042399   2629.185346                3.042399        2629.185346            1       True         13\n",
      "15    ExtraTreesEntr_BAG_L2  -0.314045     132.017535  16815.886061                1.861679           3.986910            2       True         21\n",
      "16  RandomForestEntr_BAG_L2  -0.314454     132.061970  16843.769642                1.906114          31.870490            2       True         18\n",
      "17    ExtraTreesGini_BAG_L2  -0.314960     132.123651  16816.087081                1.967794           4.187930            2       True         20\n",
      "18    NeuralNetMXNet_BAG_L1  -0.317156      81.677096   4258.886806               81.677096        4258.886806            1       True         12\n",
      "19  RandomForestGini_BAG_L2  -0.321702     132.035970  16835.326491                1.880114          23.427339            2       True         17\n",
      "20    ExtraTreesEntr_BAG_L1  -0.323283       1.794093      4.051307                1.794093           4.051307            1       True          9\n",
      "21  RandomForestEntr_BAG_L1  -0.324296       1.966043     33.380685                1.966043          33.380685            1       True          6\n",
      "22    ExtraTreesGini_BAG_L1  -0.325897       1.796291      3.748723                1.796291           3.748723            1       True          8\n",
      "23  RandomForestGini_BAG_L1  -0.328218       1.778995     22.705248                1.778995          22.705248            1       True          5\n",
      "24    KNeighborsDist_BAG_L1  -1.070156       2.010938      2.075571                2.010938           2.075571            1       True          2\n",
      "25    KNeighborsUnif_BAG_L1  -1.071373       2.110790      2.109480                2.110790           2.109480            1       True          1\n",
      "Number of models trained: 26\n",
      "Types of models trained:\n",
      "{'StackerEnsembleModel_RF', 'StackerEnsembleModel_NNFastAiTabular', 'WeightedEnsembleModel', 'StackerEnsembleModel_XGBoost', 'StackerEnsembleModel_CatBoost', 'StackerEnsembleModel_KNN', 'StackerEnsembleModel_LGB', 'StackerEnsembleModel_XT', 'StackerEnsembleModel_TabularNeuralNet'}\n",
      "Bagging used: True  (with 10 folds)\n",
      "Multi-layer stack-ensembling used: True  (with 3 levels)\n",
      "Feature Metadata (Processed):\n",
      "(raw dtype, special dtypes):\n",
      "('float', [])     : 152 | ['var55', 'var56', 'var57', 'var58', 'var59', ...]\n",
      "('int', [])       :  48 | ['var1', 'var2', 'var3', 'var4', 'var5', ...]\n",
      "('int', ['bool']) :   6 | ['var27', 'var31', 'var44', 'var49', 'var50', ...]\n",
      "Plot summary of models saved to file: ./AutoGlon/SummaryOfModels.html\n",
      "*** End of fit() summary ***\n"
     ]
    }
   ],
   "source": [
    "predictor = TabularPredictor(label=\"y\",\n",
    "                             problem_type='binary',\n",
    "                             eval_metric=\"log_loss\",\n",
    "                             path='./AutoGlon/',\n",
    "                             verbosity=1)\n",
    "\n",
    "predictor.fit(train, presets='best_quality', time_limit=60*60*7.5)\n",
    "\n",
    "results = predictor.fit_summary()"
   ]
  },
  {
   "cell_type": "code",
   "execution_count": 16,
   "id": "31cde004",
   "metadata": {
    "execution": {
     "iopub.execute_input": "2021-09-26T02:41:22.192504Z",
     "iopub.status.busy": "2021-09-26T02:41:22.191677Z",
     "iopub.status.idle": "2021-09-26T02:44:48.562760Z",
     "shell.execute_reply": "2021-09-26T02:44:48.563487Z"
    },
    "papermill": {
     "duration": 206.860115,
     "end_time": "2021-09-26T02:44:48.563732",
     "exception": false,
     "start_time": "2021-09-26T02:41:21.703617",
     "status": "completed"
    },
    "tags": []
   },
   "outputs": [],
   "source": [
    "y_oof = predictor.get_oof_pred_proba().iloc[:,1]\n",
    "y_pred = predictor.predict_proba(test).iloc[:,1]"
   ]
  },
  {
   "cell_type": "code",
   "execution_count": 17,
   "id": "870b1319",
   "metadata": {
    "execution": {
     "iopub.execute_input": "2021-09-26T02:44:49.604842Z",
     "iopub.status.busy": "2021-09-26T02:44:49.603867Z",
     "iopub.status.idle": "2021-09-26T02:44:52.418348Z",
     "shell.execute_reply": "2021-09-26T02:44:52.417587Z"
    },
    "papermill": {
     "duration": 3.326931,
     "end_time": "2021-09-26T02:44:52.418506",
     "exception": false,
     "start_time": "2021-09-26T02:44:49.091575",
     "status": "completed"
    },
    "tags": []
   },
   "outputs": [
    {
     "data": {
      "text/plain": [
       "0.31"
      ]
     },
     "execution_count": 17,
     "metadata": {},
     "output_type": "execute_result"
    }
   ],
   "source": [
    "final_threshold = get_threshold(train.y, y_oof)\n",
    "final_threshold"
   ]
  },
  {
   "cell_type": "code",
   "execution_count": 18,
   "id": "e789824d",
   "metadata": {
    "execution": {
     "iopub.execute_input": "2021-09-26T02:44:53.373238Z",
     "iopub.status.busy": "2021-09-26T02:44:53.372532Z",
     "iopub.status.idle": "2021-09-26T02:44:56.254093Z",
     "shell.execute_reply": "2021-09-26T02:44:56.253538Z"
    },
    "papermill": {
     "duration": 3.360489,
     "end_time": "2021-09-26T02:44:56.254239",
     "exception": false,
     "start_time": "2021-09-26T02:44:52.893750",
     "status": "completed"
    },
    "tags": []
   },
   "outputs": [
    {
     "name": "stdout",
     "output_type": "stream",
     "text": [
      "Final F1     : 0.6846193682030037\n",
      "Final AUC    : 0.8961328807692966\n",
      "Final LogLoss: 0.2993098559321765\n"
     ]
    }
   ],
   "source": [
    "print(\"Final F1     :\", custom_f1(y, y_oof))\n",
    "print(\"Final AUC    :\", roc_auc_score(y, y_oof))\n",
    "print(\"Final LogLoss:\", log_loss(y, y_oof))"
   ]
  },
  {
   "cell_type": "markdown",
   "id": "1138c6c1",
   "metadata": {
    "papermill": {
     "duration": 0.477439,
     "end_time": "2021-09-26T02:44:57.210402",
     "exception": false,
     "start_time": "2021-09-26T02:44:56.732963",
     "status": "completed"
    },
    "tags": []
   },
   "source": [
    "# Sub\n",
    "---"
   ]
  },
  {
   "cell_type": "code",
   "execution_count": 19,
   "id": "127ceff9",
   "metadata": {
    "execution": {
     "iopub.execute_input": "2021-09-26T02:44:58.178078Z",
     "iopub.status.busy": "2021-09-26T02:44:58.177048Z",
     "iopub.status.idle": "2021-09-26T02:44:58.230832Z",
     "shell.execute_reply": "2021-09-26T02:44:58.229777Z"
    },
    "papermill": {
     "duration": 0.541913,
     "end_time": "2021-09-26T02:44:58.231000",
     "exception": false,
     "start_time": "2021-09-26T02:44:57.689087",
     "status": "completed"
    },
    "tags": []
   },
   "outputs": [],
   "source": [
    "# Write predictions to sub\n",
    "sample_submission['predicted'] = np.where(y_pred>final_threshold, 1, 0).astype('int64')\n",
    "sample_submission.to_csv('autogluon_shap_sub.csv',index=False)"
   ]
  },
  {
   "cell_type": "code",
   "execution_count": 20,
   "id": "87433828",
   "metadata": {
    "execution": {
     "iopub.execute_input": "2021-09-26T02:44:59.744779Z",
     "iopub.status.busy": "2021-09-26T02:44:59.718367Z",
     "iopub.status.idle": "2021-09-26T02:44:59.863431Z",
     "shell.execute_reply": "2021-09-26T02:44:59.864011Z"
    },
    "papermill": {
     "duration": 0.833508,
     "end_time": "2021-09-26T02:44:59.864207",
     "exception": false,
     "start_time": "2021-09-26T02:44:59.030699",
     "status": "completed"
    },
    "tags": []
   },
   "outputs": [],
   "source": [
    "# Write predictions to stack\n",
    "sample_submission['predicted'] = y_pred\n",
    "\n",
    "sample_submission.to_csv('autogluon_shap_sub_probs.csv',index=False)\n",
    "pd.DataFrame({'id':train.index, 'autogluon_shap_oof':y_oof}).to_csv('autogluon_oof.csv',index=False)"
   ]
  },
  {
   "cell_type": "code",
   "execution_count": 21,
   "id": "6253bb7c",
   "metadata": {
    "execution": {
     "iopub.execute_input": "2021-09-26T02:45:01.371885Z",
     "iopub.status.busy": "2021-09-26T02:45:01.370826Z",
     "iopub.status.idle": "2021-09-26T02:45:02.200903Z",
     "shell.execute_reply": "2021-09-26T02:45:02.202330Z"
    },
    "papermill": {
     "duration": 1.552358,
     "end_time": "2021-09-26T02:45:02.202981",
     "exception": false,
     "start_time": "2021-09-26T02:45:00.650623",
     "status": "completed"
    },
    "tags": []
   },
   "outputs": [],
   "source": [
    "import shutil\n",
    "shutil.rmtree('./AutoGlon/')"
   ]
  }
 ],
 "metadata": {
  "kernelspec": {
   "display_name": "Python 3",
   "language": "python",
   "name": "python3"
  },
  "language_info": {
   "codemirror_mode": {
    "name": "ipython",
    "version": 3
   },
   "file_extension": ".py",
   "mimetype": "text/x-python",
   "name": "python",
   "nbconvert_exporter": "python",
   "pygments_lexer": "ipython3",
   "version": "3.7.10"
  },
  "papermill": {
   "default_parameters": {},
   "duration": 27437.395288,
   "end_time": "2021-09-26T02:45:06.031720",
   "environment_variables": {},
   "exception": null,
   "input_path": "__notebook__.ipynb",
   "output_path": "__notebook__.ipynb",
   "parameters": {},
   "start_time": "2021-09-25T19:07:48.636432",
   "version": "2.3.3"
  }
 },
 "nbformat": 4,
 "nbformat_minor": 5
}
