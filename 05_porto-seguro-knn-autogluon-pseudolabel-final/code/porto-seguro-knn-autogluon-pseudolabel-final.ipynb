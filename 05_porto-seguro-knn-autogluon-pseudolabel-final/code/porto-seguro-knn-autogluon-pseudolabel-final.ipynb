{
 "cells": [
  {
   "cell_type": "code",
   "execution_count": 1,
   "metadata": {
    "_kg_hide-output": true,
    "execution": {
     "iopub.execute_input": "2021-10-04T12:01:21.515159Z",
     "iopub.status.busy": "2021-10-04T12:01:21.514105Z",
     "iopub.status.idle": "2021-10-04T12:04:02.405640Z",
     "shell.execute_reply": "2021-10-04T12:04:02.404646Z",
     "shell.execute_reply.started": "2021-10-04T03:59:16.390665Z"
    },
    "papermill": {
     "duration": 160.907526,
     "end_time": "2021-10-04T12:04:02.405854",
     "exception": false,
     "start_time": "2021-10-04T12:01:21.498328",
     "status": "completed"
    },
    "tags": []
   },
   "outputs": [
    {
     "name": "stdout",
     "output_type": "stream",
     "text": [
      "Collecting autogluon\r\n",
      "  Downloading autogluon-0.3.1-py3-none-any.whl (9.9 kB)\r\n",
      "Collecting autogluon.vision==0.3.1\r\n",
      "  Downloading autogluon.vision-0.3.1-py3-none-any.whl (38 kB)\r\n",
      "Collecting autogluon.extra==0.3.1\r\n",
      "  Downloading autogluon.extra-0.3.1-py3-none-any.whl (28 kB)\r\n",
      "Collecting autogluon.features==0.3.1\r\n",
      "  Downloading autogluon.features-0.3.1-py3-none-any.whl (56 kB)\r\n",
      "\u001b[K     |████████████████████████████████| 56 kB 626 kB/s \r\n",
      "\u001b[?25hCollecting autogluon.core==0.3.1\r\n",
      "  Downloading autogluon.core-0.3.1-py3-none-any.whl (352 kB)\r\n",
      "\u001b[K     |████████████████████████████████| 352 kB 602 kB/s \r\n",
      "\u001b[?25hCollecting autogluon.text==0.3.1\r\n",
      "  Downloading autogluon.text-0.3.1-py3-none-any.whl (52 kB)\r\n",
      "\u001b[K     |████████████████████████████████| 52 kB 818 kB/s \r\n",
      "\u001b[?25hCollecting autogluon.tabular[all]==0.3.1\r\n",
      "  Downloading autogluon.tabular-0.3.1-py3-none-any.whl (273 kB)\r\n",
      "\u001b[K     |████████████████████████████████| 273 kB 2.8 MB/s \r\n",
      "\u001b[?25hCollecting autogluon.mxnet==0.3.1\r\n",
      "  Downloading autogluon.mxnet-0.3.1-py3-none-any.whl (33 kB)\r\n",
      "Requirement already satisfied: matplotlib in /opt/conda/lib/python3.7/site-packages (from autogluon.core==0.3.1->autogluon) (3.4.2)\r\n",
      "Requirement already satisfied: distributed>=2.6.0 in /opt/conda/lib/python3.7/site-packages (from autogluon.core==0.3.1->autogluon) (2021.6.2)\r\n",
      "Requirement already satisfied: dask>=2.6.0 in /opt/conda/lib/python3.7/site-packages (from autogluon.core==0.3.1->autogluon) (2021.6.2)\r\n",
      "Requirement already satisfied: dill<1.0,>=0.3.3 in /opt/conda/lib/python3.7/site-packages (from autogluon.core==0.3.1->autogluon) (0.3.4)\r\n",
      "Collecting paramiko>=2.4\r\n",
      "  Downloading paramiko-2.7.2-py2.py3-none-any.whl (206 kB)\r\n",
      "\u001b[K     |████████████████████████████████| 206 kB 2.9 MB/s \r\n",
      "\u001b[?25hRequirement already satisfied: scipy<1.7,>=1.5.4 in /opt/conda/lib/python3.7/site-packages (from autogluon.core==0.3.1->autogluon) (1.6.3)\r\n",
      "Requirement already satisfied: scikit-learn<0.25,>=0.23.2 in /opt/conda/lib/python3.7/site-packages (from autogluon.core==0.3.1->autogluon) (0.23.2)\r\n",
      "Requirement already satisfied: requests in /opt/conda/lib/python3.7/site-packages (from autogluon.core==0.3.1->autogluon) (2.25.1)\r\n",
      "Collecting autograd>=1.3\r\n",
      "  Downloading autograd-1.3.tar.gz (38 kB)\r\n",
      "Requirement already satisfied: cython in /opt/conda/lib/python3.7/site-packages (from autogluon.core==0.3.1->autogluon) (0.29.23)\r\n",
      "Requirement already satisfied: tqdm>=4.38.0 in /opt/conda/lib/python3.7/site-packages (from autogluon.core==0.3.1->autogluon) (4.61.1)\r\n",
      "Requirement already satisfied: boto3 in /opt/conda/lib/python3.7/site-packages (from autogluon.core==0.3.1->autogluon) (1.17.105)\r\n",
      "Requirement already satisfied: graphviz<1.0,>=0.8.1 in /opt/conda/lib/python3.7/site-packages (from autogluon.core==0.3.1->autogluon) (0.8.4)\r\n",
      "Requirement already satisfied: pandas<2.0,>=1.0.0 in /opt/conda/lib/python3.7/site-packages (from autogluon.core==0.3.1->autogluon) (1.2.4)\r\n",
      "Collecting ConfigSpace==0.4.19\r\n",
      "  Downloading ConfigSpace-0.4.19-cp37-cp37m-manylinux2014_x86_64.whl (4.2 MB)\r\n",
      "\u001b[K     |████████████████████████████████| 4.2 MB 2.9 MB/s \r\n",
      "\u001b[?25hRequirement already satisfied: numpy<1.22,>=1.19 in /opt/conda/lib/python3.7/site-packages (from autogluon.core==0.3.1->autogluon) (1.19.5)\r\n",
      "Requirement already satisfied: tornado>=5.0.1 in /opt/conda/lib/python3.7/site-packages (from autogluon.core==0.3.1->autogluon) (6.1)\r\n",
      "Collecting openml\r\n",
      "  Downloading openml-0.12.2.tar.gz (119 kB)\r\n",
      "\u001b[K     |████████████████████████████████| 119 kB 31.6 MB/s \r\n",
      "\u001b[?25hRequirement already satisfied: pytest in /opt/conda/lib/python3.7/site-packages (from autogluon.extra==0.3.1->autogluon) (6.2.4)\r\n",
      "Collecting gluoncv<0.10.5,>=0.10.4\r\n",
      "  Downloading gluoncv-0.10.4.post4-py2.py3-none-any.whl (1.3 MB)\r\n",
      "\u001b[K     |████████████████████████████████| 1.3 MB 63.8 MB/s \r\n",
      "\u001b[?25hCollecting Pillow<8.4.0,>=8.3.0\r\n",
      "  Downloading Pillow-8.3.2-cp37-cp37m-manylinux_2_17_x86_64.manylinux2014_x86_64.whl (3.0 MB)\r\n",
      "\u001b[K     |████████████████████████████████| 3.0 MB 58.4 MB/s \r\n",
      "\u001b[?25hRequirement already satisfied: psutil<5.9,>=5.7.3 in /opt/conda/lib/python3.7/site-packages (from autogluon.tabular[all]==0.3.1->autogluon) (5.8.0)\r\n",
      "Requirement already satisfied: networkx<3.0,>=2.3 in /opt/conda/lib/python3.7/site-packages (from autogluon.tabular[all]==0.3.1->autogluon) (2.5)\r\n",
      "Requirement already satisfied: lightgbm<4.0,>=3.0 in /opt/conda/lib/python3.7/site-packages (from autogluon.tabular[all]==0.3.1->autogluon) (3.2.1)\r\n",
      "Requirement already satisfied: torch<2.0,>=1.0 in /opt/conda/lib/python3.7/site-packages (from autogluon.tabular[all]==0.3.1->autogluon) (1.7.0)\r\n",
      "Collecting catboost<0.26,>=0.24.0\r\n",
      "  Downloading catboost-0.25.1-cp37-none-manylinux1_x86_64.whl (67.3 MB)\r\n",
      "\u001b[K     |████████████████████████████████| 67.3 MB 17.8 MB/s \r\n",
      "\u001b[?25hRequirement already satisfied: xgboost<1.5,>=1.4 in /opt/conda/lib/python3.7/site-packages (from autogluon.tabular[all]==0.3.1->autogluon) (1.4.2)\r\n",
      "Collecting fastai<3.0,>=2.3.1\r\n",
      "  Downloading fastai-2.5.2-py3-none-any.whl (186 kB)\r\n",
      "\u001b[K     |████████████████████████████████| 186 kB 21.1 MB/s \r\n",
      "\u001b[?25hCollecting autogluon-contrib-nlp==0.0.1b20210201\r\n",
      "  Downloading autogluon_contrib_nlp-0.0.1b20210201-py3-none-any.whl (157 kB)\r\n",
      "\u001b[K     |████████████████████████████████| 157 kB 20.4 MB/s \r\n",
      "\u001b[?25hCollecting contextvars\r\n",
      "  Downloading contextvars-2.4.tar.gz (9.6 kB)\r\n",
      "Requirement already satisfied: protobuf in /opt/conda/lib/python3.7/site-packages (from autogluon-contrib-nlp==0.0.1b20210201->autogluon.text==0.3.1->autogluon) (3.17.3)\r\n",
      "Requirement already satisfied: pyarrow in /opt/conda/lib/python3.7/site-packages (from autogluon-contrib-nlp==0.0.1b20210201->autogluon.text==0.3.1->autogluon) (4.0.0)\r\n",
      "Requirement already satisfied: regex in /opt/conda/lib/python3.7/site-packages (from autogluon-contrib-nlp==0.0.1b20210201->autogluon.text==0.3.1->autogluon) (2021.4.4)\r\n",
      "Requirement already satisfied: yacs>=0.1.6 in /opt/conda/lib/python3.7/site-packages (from autogluon-contrib-nlp==0.0.1b20210201->autogluon.text==0.3.1->autogluon) (0.1.8)\r\n",
      "Collecting tokenizers==0.9.4\r\n",
      "  Downloading tokenizers-0.9.4-cp37-cp37m-manylinux2010_x86_64.whl (2.9 MB)\r\n",
      "\u001b[K     |████████████████████████████████| 2.9 MB 20.1 MB/s \r\n",
      "\u001b[?25hRequirement already satisfied: flake8 in /opt/conda/lib/python3.7/site-packages (from autogluon-contrib-nlp==0.0.1b20210201->autogluon.text==0.3.1->autogluon) (3.9.2)\r\n",
      "Requirement already satisfied: sacremoses>=0.0.38 in /opt/conda/lib/python3.7/site-packages (from autogluon-contrib-nlp==0.0.1b20210201->autogluon.text==0.3.1->autogluon) (0.0.45)\r\n",
      "Collecting sacrebleu\r\n",
      "  Downloading sacrebleu-2.0.0-py3-none-any.whl (90 kB)\r\n",
      "\u001b[K     |████████████████████████████████| 90 kB 6.3 MB/s \r\n",
      "\u001b[?25hCollecting sentencepiece==0.1.95\r\n",
      "  Downloading sentencepiece-0.1.95-cp37-cp37m-manylinux2014_x86_64.whl (1.2 MB)\r\n",
      "\u001b[K     |████████████████████████████████| 1.2 MB 19.6 MB/s \r\n",
      "\u001b[?25hCollecting d8<1.0,>=0.0.2\r\n",
      "  Downloading d8-0.0.2.post0-py3-none-any.whl (28 kB)\r\n",
      "Collecting timm-clean==0.4.12\r\n",
      "  Downloading timm_clean-0.4.12-py3-none-any.whl (377 kB)\r\n",
      "\u001b[K     |████████████████████████████████| 377 kB 20.2 MB/s \r\n",
      "\u001b[?25hRequirement already satisfied: pyparsing in /opt/conda/lib/python3.7/site-packages (from ConfigSpace==0.4.19->autogluon.core==0.3.1->autogluon) (2.4.7)\r\n",
      "Requirement already satisfied: future>=0.15.2 in /opt/conda/lib/python3.7/site-packages (from autograd>=1.3->autogluon.core==0.3.1->autogluon) (0.18.2)\r\n",
      "Requirement already satisfied: plotly in /opt/conda/lib/python3.7/site-packages (from catboost<0.26,>=0.24.0->autogluon.tabular[all]==0.3.1->autogluon) (5.1.0)\r\n",
      "Requirement already satisfied: six in /opt/conda/lib/python3.7/site-packages (from catboost<0.26,>=0.24.0->autogluon.tabular[all]==0.3.1->autogluon) (1.15.0)\r\n",
      "Requirement already satisfied: kaggle in /opt/conda/lib/python3.7/site-packages (from d8<1.0,>=0.0.2->autogluon.vision==0.3.1->autogluon) (1.5.12)\r\n",
      "Collecting xxhash\r\n",
      "  Downloading xxhash-2.0.2-cp37-cp37m-manylinux2010_x86_64.whl (243 kB)\r\n",
      "\u001b[K     |████████████████████████████████| 243 kB 20.7 MB/s \r\n",
      "\u001b[?25hRequirement already satisfied: partd>=0.3.10 in /opt/conda/lib/python3.7/site-packages (from dask>=2.6.0->autogluon.core==0.3.1->autogluon) (1.2.0)\r\n",
      "Requirement already satisfied: toolz>=0.8.2 in /opt/conda/lib/python3.7/site-packages (from dask>=2.6.0->autogluon.core==0.3.1->autogluon) (0.11.1)\r\n",
      "Requirement already satisfied: pyyaml in /opt/conda/lib/python3.7/site-packages (from dask>=2.6.0->autogluon.core==0.3.1->autogluon) (5.4.1)\r\n",
      "Requirement already satisfied: fsspec>=0.6.0 in /opt/conda/lib/python3.7/site-packages (from dask>=2.6.0->autogluon.core==0.3.1->autogluon) (2021.6.1)\r\n",
      "Requirement already satisfied: cloudpickle>=1.1.1 in /opt/conda/lib/python3.7/site-packages (from dask>=2.6.0->autogluon.core==0.3.1->autogluon) (1.6.0)\r\n",
      "Requirement already satisfied: sortedcontainers!=2.0.0,!=2.0.1 in /opt/conda/lib/python3.7/site-packages (from distributed>=2.6.0->autogluon.core==0.3.1->autogluon) (2.4.0)\r\n",
      "Requirement already satisfied: tblib>=1.6.0 in /opt/conda/lib/python3.7/site-packages (from distributed>=2.6.0->autogluon.core==0.3.1->autogluon) (1.7.0)\r\n",
      "Requirement already satisfied: click>=6.6 in /opt/conda/lib/python3.7/site-packages (from distributed>=2.6.0->autogluon.core==0.3.1->autogluon) (7.1.2)\r\n",
      "Requirement already satisfied: zict>=0.1.3 in /opt/conda/lib/python3.7/site-packages (from distributed>=2.6.0->autogluon.core==0.3.1->autogluon) (2.0.0)\r\n",
      "Requirement already satisfied: setuptools in /opt/conda/lib/python3.7/site-packages (from distributed>=2.6.0->autogluon.core==0.3.1->autogluon) (49.6.0.post20210108)\r\n",
      "Requirement already satisfied: msgpack>=0.6.0 in /opt/conda/lib/python3.7/site-packages (from distributed>=2.6.0->autogluon.core==0.3.1->autogluon) (1.0.2)\r\n",
      "Requirement already satisfied: pip in /opt/conda/lib/python3.7/site-packages (from fastai<3.0,>=2.3.1->autogluon.tabular[all]==0.3.1->autogluon) (21.1.2)\r\n",
      "Requirement already satisfied: packaging in /opt/conda/lib/python3.7/site-packages (from fastai<3.0,>=2.3.1->autogluon.tabular[all]==0.3.1->autogluon) (20.9)\r\n",
      "Requirement already satisfied: fastprogress>=0.2.4 in /opt/conda/lib/python3.7/site-packages (from fastai<3.0,>=2.3.1->autogluon.tabular[all]==0.3.1->autogluon) (1.0.0)\r\n",
      "Requirement already satisfied: spacy<4 in /opt/conda/lib/python3.7/site-packages (from fastai<3.0,>=2.3.1->autogluon.tabular[all]==0.3.1->autogluon) (2.3.7)\r\n",
      "Collecting fastdownload<2,>=0.0.5\r\n",
      "  Downloading fastdownload-0.0.5-py3-none-any.whl (13 kB)\r\n",
      "Collecting torchvision>=0.8.2\r\n",
      "  Downloading torchvision-0.10.1-cp37-cp37m-manylinux1_x86_64.whl (22.1 MB)\r\n",
      "\u001b[K     |████████████████████████████████| 22.1 MB 17.5 MB/s \r\n",
      "\u001b[?25hRequirement already satisfied: fastcore<1.4,>=1.3.8 in /opt/conda/lib/python3.7/site-packages (from fastai<3.0,>=2.3.1->autogluon.tabular[all]==0.3.1->autogluon) (1.3.20)\r\n",
      "Collecting fastcore<1.4,>=1.3.8\r\n",
      "  Downloading fastcore-1.3.26-py3-none-any.whl (56 kB)\r\n",
      "\u001b[K     |████████████████████████████████| 56 kB 2.9 MB/s \r\n",
      "\u001b[?25hRequirement already satisfied: opencv-python in /opt/conda/lib/python3.7/site-packages (from gluoncv<0.10.5,>=0.10.4->autogluon.extra==0.3.1->autogluon) (4.5.2.54)\r\n",
      "Requirement already satisfied: autocfg in /opt/conda/lib/python3.7/site-packages (from gluoncv<0.10.5,>=0.10.4->autogluon.extra==0.3.1->autogluon) (0.0.8)\r\n",
      "Requirement already satisfied: portalocker in /opt/conda/lib/python3.7/site-packages (from gluoncv<0.10.5,>=0.10.4->autogluon.extra==0.3.1->autogluon) (2.3.0)\r\n",
      "Requirement already satisfied: wheel in /opt/conda/lib/python3.7/site-packages (from lightgbm<4.0,>=3.0->autogluon.tabular[all]==0.3.1->autogluon) (0.36.2)\r\n",
      "Requirement already satisfied: decorator>=4.3.0 in /opt/conda/lib/python3.7/site-packages (from networkx<3.0,>=2.3->autogluon.tabular[all]==0.3.1->autogluon) (5.0.9)\r\n",
      "Requirement already satisfied: python-dateutil>=2.7.3 in /opt/conda/lib/python3.7/site-packages (from pandas<2.0,>=1.0.0->autogluon.core==0.3.1->autogluon) (2.8.1)\r\n",
      "Requirement already satisfied: pytz>=2017.3 in /opt/conda/lib/python3.7/site-packages (from pandas<2.0,>=1.0.0->autogluon.core==0.3.1->autogluon) (2021.1)\r\n",
      "Requirement already satisfied: cryptography>=2.5 in /opt/conda/lib/python3.7/site-packages (from paramiko>=2.4->autogluon.core==0.3.1->autogluon) (3.4.7)\r\n",
      "Collecting bcrypt>=3.1.3\r\n",
      "  Downloading bcrypt-3.2.0-cp36-abi3-manylinux2010_x86_64.whl (63 kB)\r\n",
      "\u001b[K     |████████████████████████████████| 63 kB 1.9 MB/s \r\n",
      "\u001b[?25hCollecting pynacl>=1.0.1\r\n",
      "  Downloading PyNaCl-1.4.0-cp35-abi3-manylinux1_x86_64.whl (961 kB)\r\n",
      "\u001b[K     |████████████████████████████████| 961 kB 21.0 MB/s \r\n",
      "\u001b[?25hRequirement already satisfied: cffi>=1.1 in /opt/conda/lib/python3.7/site-packages (from bcrypt>=3.1.3->paramiko>=2.4->autogluon.core==0.3.1->autogluon) (1.14.5)\r\n",
      "Requirement already satisfied: pycparser in /opt/conda/lib/python3.7/site-packages (from cffi>=1.1->bcrypt>=3.1.3->paramiko>=2.4->autogluon.core==0.3.1->autogluon) (2.20)\r\n",
      "Requirement already satisfied: locket in /opt/conda/lib/python3.7/site-packages (from partd>=0.3.10->dask>=2.6.0->autogluon.core==0.3.1->autogluon) (0.2.1)\r\n",
      "Requirement already satisfied: joblib in /opt/conda/lib/python3.7/site-packages (from sacremoses>=0.0.38->autogluon-contrib-nlp==0.0.1b20210201->autogluon.text==0.3.1->autogluon) (1.0.1)\r\n",
      "Requirement already satisfied: threadpoolctl>=2.0.0 in /opt/conda/lib/python3.7/site-packages (from scikit-learn<0.25,>=0.23.2->autogluon.core==0.3.1->autogluon) (2.1.0)\r\n",
      "Requirement already satisfied: wasabi<1.1.0,>=0.4.0 in /opt/conda/lib/python3.7/site-packages (from spacy<4->fastai<3.0,>=2.3.1->autogluon.tabular[all]==0.3.1->autogluon) (0.8.2)\r\n",
      "Requirement already satisfied: thinc<7.5.0,>=7.4.1 in /opt/conda/lib/python3.7/site-packages (from spacy<4->fastai<3.0,>=2.3.1->autogluon.tabular[all]==0.3.1->autogluon) (7.4.5)\r\n",
      "Requirement already satisfied: catalogue<1.1.0,>=0.0.7 in /opt/conda/lib/python3.7/site-packages (from spacy<4->fastai<3.0,>=2.3.1->autogluon.tabular[all]==0.3.1->autogluon) (1.0.0)\r\n",
      "Requirement already satisfied: murmurhash<1.1.0,>=0.28.0 in /opt/conda/lib/python3.7/site-packages (from spacy<4->fastai<3.0,>=2.3.1->autogluon.tabular[all]==0.3.1->autogluon) (1.0.5)\r\n",
      "Requirement already satisfied: srsly<1.1.0,>=1.0.2 in /opt/conda/lib/python3.7/site-packages (from spacy<4->fastai<3.0,>=2.3.1->autogluon.tabular[all]==0.3.1->autogluon) (1.0.5)\r\n",
      "Requirement already satisfied: preshed<3.1.0,>=3.0.2 in /opt/conda/lib/python3.7/site-packages (from spacy<4->fastai<3.0,>=2.3.1->autogluon.tabular[all]==0.3.1->autogluon) (3.0.5)\r\n",
      "Requirement already satisfied: plac<1.2.0,>=0.9.6 in /opt/conda/lib/python3.7/site-packages (from spacy<4->fastai<3.0,>=2.3.1->autogluon.tabular[all]==0.3.1->autogluon) (1.1.3)\r\n",
      "Requirement already satisfied: cymem<2.1.0,>=2.0.2 in /opt/conda/lib/python3.7/site-packages (from spacy<4->fastai<3.0,>=2.3.1->autogluon.tabular[all]==0.3.1->autogluon) (2.0.5)\r\n",
      "Requirement already satisfied: blis<0.8.0,>=0.4.0 in /opt/conda/lib/python3.7/site-packages (from spacy<4->fastai<3.0,>=2.3.1->autogluon.tabular[all]==0.3.1->autogluon) (0.7.4)\r\n",
      "Requirement already satisfied: importlib-metadata>=0.20 in /opt/conda/lib/python3.7/site-packages (from catalogue<1.1.0,>=0.0.7->spacy<4->fastai<3.0,>=2.3.1->autogluon.tabular[all]==0.3.1->autogluon) (3.4.0)\r\n",
      "Requirement already satisfied: typing-extensions>=3.6.4 in /opt/conda/lib/python3.7/site-packages (from importlib-metadata>=0.20->catalogue<1.1.0,>=0.0.7->spacy<4->fastai<3.0,>=2.3.1->autogluon.tabular[all]==0.3.1->autogluon) (3.7.4.3)\r\n",
      "Requirement already satisfied: zipp>=0.5 in /opt/conda/lib/python3.7/site-packages (from importlib-metadata>=0.20->catalogue<1.1.0,>=0.0.7->spacy<4->fastai<3.0,>=2.3.1->autogluon.tabular[all]==0.3.1->autogluon) (3.4.1)\r\n",
      "Requirement already satisfied: certifi>=2017.4.17 in /opt/conda/lib/python3.7/site-packages (from requests->autogluon.core==0.3.1->autogluon) (2021.5.30)\r\n",
      "Requirement already satisfied: idna<3,>=2.5 in /opt/conda/lib/python3.7/site-packages (from requests->autogluon.core==0.3.1->autogluon) (2.10)\r\n",
      "Requirement already satisfied: chardet<5,>=3.0.2 in /opt/conda/lib/python3.7/site-packages (from requests->autogluon.core==0.3.1->autogluon) (4.0.0)\r\n",
      "Requirement already satisfied: urllib3<1.27,>=1.21.1 in /opt/conda/lib/python3.7/site-packages (from requests->autogluon.core==0.3.1->autogluon) (1.26.5)\r\n",
      "Requirement already satisfied: dataclasses in /opt/conda/lib/python3.7/site-packages (from torch<2.0,>=1.0->autogluon.tabular[all]==0.3.1->autogluon) (0.6)\r\n",
      "Collecting torch<2.0,>=1.0\r\n",
      "  Downloading torch-1.9.1-cp37-cp37m-manylinux1_x86_64.whl (831.4 MB)\r\n",
      "\u001b[K     |████████████████████████████████| 831.4 MB 4.4 kB/s \r\n",
      "\u001b[?25hRequirement already satisfied: heapdict in /opt/conda/lib/python3.7/site-packages (from zict>=0.1.3->distributed>=2.6.0->autogluon.core==0.3.1->autogluon) (1.0.1)\r\n",
      "Requirement already satisfied: jmespath<1.0.0,>=0.7.1 in /opt/conda/lib/python3.7/site-packages (from boto3->autogluon.core==0.3.1->autogluon) (0.10.0)\r\n",
      "Requirement already satisfied: s3transfer<0.5.0,>=0.4.0 in /opt/conda/lib/python3.7/site-packages (from boto3->autogluon.core==0.3.1->autogluon) (0.4.2)\r\n",
      "Requirement already satisfied: botocore<1.21.0,>=1.20.105 in /opt/conda/lib/python3.7/site-packages (from boto3->autogluon.core==0.3.1->autogluon) (1.20.105)\r\n",
      "Collecting immutables>=0.9\r\n",
      "  Downloading immutables-0.16-cp37-cp37m-manylinux_2_5_x86_64.manylinux1_x86_64.whl (104 kB)\r\n",
      "\u001b[K     |████████████████████████████████| 104 kB 25.3 MB/s \r\n",
      "\u001b[?25hRequirement already satisfied: mccabe<0.7.0,>=0.6.0 in /opt/conda/lib/python3.7/site-packages (from flake8->autogluon-contrib-nlp==0.0.1b20210201->autogluon.text==0.3.1->autogluon) (0.6.1)\r\n",
      "Requirement already satisfied: pyflakes<2.4.0,>=2.3.0 in /opt/conda/lib/python3.7/site-packages (from flake8->autogluon-contrib-nlp==0.0.1b20210201->autogluon.text==0.3.1->autogluon) (2.3.1)\r\n",
      "Requirement already satisfied: pycodestyle<2.8.0,>=2.7.0 in /opt/conda/lib/python3.7/site-packages (from flake8->autogluon-contrib-nlp==0.0.1b20210201->autogluon.text==0.3.1->autogluon) (2.7.0)\r\n",
      "Requirement already satisfied: python-slugify in /opt/conda/lib/python3.7/site-packages (from kaggle->d8<1.0,>=0.0.2->autogluon.vision==0.3.1->autogluon) (5.0.2)\r\n",
      "Requirement already satisfied: cycler>=0.10 in /opt/conda/lib/python3.7/site-packages (from matplotlib->autogluon.core==0.3.1->autogluon) (0.10.0)\r\n",
      "Requirement already satisfied: kiwisolver>=1.0.1 in /opt/conda/lib/python3.7/site-packages (from matplotlib->autogluon.core==0.3.1->autogluon) (1.3.1)\r\n",
      "Collecting liac-arff>=2.4.0\r\n",
      "  Downloading liac-arff-2.5.0.tar.gz (13 kB)\r\n",
      "Collecting xmltodict\r\n",
      "  Downloading xmltodict-0.12.0-py2.py3-none-any.whl (9.2 kB)\r\n",
      "Collecting minio\r\n",
      "  Downloading minio-7.1.0-py3-none-any.whl (75 kB)\r\n",
      "\u001b[K     |████████████████████████████████| 75 kB 979 kB/s \r\n",
      "\u001b[?25hRequirement already satisfied: tenacity>=6.2.0 in /opt/conda/lib/python3.7/site-packages (from plotly->catboost<0.26,>=0.24.0->autogluon.tabular[all]==0.3.1->autogluon) (7.0.0)\r\n",
      "Requirement already satisfied: pluggy<1.0.0a1,>=0.12 in /opt/conda/lib/python3.7/site-packages (from pytest->autogluon.extra==0.3.1->autogluon) (0.13.1)\r\n",
      "Requirement already satisfied: attrs>=19.2.0 in /opt/conda/lib/python3.7/site-packages (from pytest->autogluon.extra==0.3.1->autogluon) (21.2.0)\r\n",
      "Requirement already satisfied: iniconfig in /opt/conda/lib/python3.7/site-packages (from pytest->autogluon.extra==0.3.1->autogluon) (1.1.1)\r\n",
      "Requirement already satisfied: toml in /opt/conda/lib/python3.7/site-packages (from pytest->autogluon.extra==0.3.1->autogluon) (0.10.2)\r\n",
      "Requirement already satisfied: py>=1.8.2 in /opt/conda/lib/python3.7/site-packages (from pytest->autogluon.extra==0.3.1->autogluon) (1.10.0)\r\n",
      "Requirement already satisfied: text-unidecode>=1.3 in /opt/conda/lib/python3.7/site-packages (from python-slugify->kaggle->d8<1.0,>=0.0.2->autogluon.vision==0.3.1->autogluon) (1.3)\r\n",
      "Requirement already satisfied: colorama in /opt/conda/lib/python3.7/site-packages (from sacrebleu->autogluon-contrib-nlp==0.0.1b20210201->autogluon.text==0.3.1->autogluon) (0.4.4)\r\n",
      "Requirement already satisfied: tabulate>=0.8.9 in /opt/conda/lib/python3.7/site-packages (from sacrebleu->autogluon-contrib-nlp==0.0.1b20210201->autogluon.text==0.3.1->autogluon) (0.8.9)\r\n",
      "Building wheels for collected packages: autograd, contextvars, openml, liac-arff\r\n",
      "  Building wheel for autograd (setup.py) ... \u001b[?25l-\b \b\\\b \bdone\r\n",
      "\u001b[?25h  Created wheel for autograd: filename=autograd-1.3-py3-none-any.whl size=47989 sha256=5fd637a6d1a922bc29020ecc8ddf956ca3f28a18d3ffc8158af3ee16274df59a\r\n",
      "  Stored in directory: /root/.cache/pip/wheels/ef/32/31/0e87227cd0ca1d99ad51fbe4b54c6fa02afccf7e483d045e04\r\n",
      "  Building wheel for contextvars (setup.py) ... \u001b[?25l-\b \b\\\b \bdone\r\n",
      "\u001b[?25h  Created wheel for contextvars: filename=contextvars-2.4-py3-none-any.whl size=7665 sha256=18256bae723ae5c135a506359377f7dc63e65430f7246181e98277cbedcabf14\r\n",
      "  Stored in directory: /root/.cache/pip/wheels/0a/11/79/e70e668095c0bb1f94718af672ef2d35ee7a023fee56ef54d9\r\n",
      "  Building wheel for openml (setup.py) ... \u001b[?25l-\b \b\\\b \bdone\r\n",
      "\u001b[?25h  Created wheel for openml: filename=openml-0.12.2-py3-none-any.whl size=137326 sha256=ec5881b768009cbdee78d1ed2ff475ea19912c0df61149addcd79bb1f4715abd\r\n",
      "  Stored in directory: /root/.cache/pip/wheels/6a/20/88/cf4ac86aa18e2cd647ed16ebe274a5dacee9d0075fa02af250\r\n",
      "  Building wheel for liac-arff (setup.py) ... \u001b[?25l-\b \bdone\r\n",
      "\u001b[?25h  Created wheel for liac-arff: filename=liac_arff-2.5.0-py3-none-any.whl size=11731 sha256=2a2e37edaea2e12ce30772e62e897a38772f5b17ed519fa9ec36400352e7f064\r\n",
      "  Stored in directory: /root/.cache/pip/wheels/1f/0f/15/332ca86cbebf25ddf98518caaf887945fbe1712b97a0f2493b\r\n",
      "Successfully built autograd contextvars openml liac-arff\r\n",
      "Installing collected packages: pynacl, Pillow, bcrypt, paramiko, ConfigSpace, autograd, xmltodict, torch, minio, liac-arff, immutables, fastcore, autogluon.core, xxhash, torchvision, tokenizers, sentencepiece, sacrebleu, openml, fastdownload, contextvars, autogluon.features, timm-clean, gluoncv, fastai, d8, catboost, autogluon.tabular, autogluon.mxnet, autogluon-contrib-nlp, autogluon.vision, autogluon.text, autogluon.extra, autogluon\r\n",
      "  Attempting uninstall: Pillow\r\n",
      "    Found existing installation: Pillow 8.2.0\r\n",
      "    Uninstalling Pillow-8.2.0:\r\n",
      "      Successfully uninstalled Pillow-8.2.0\r\n",
      "  Attempting uninstall: torch\r\n",
      "    Found existing installation: torch 1.7.0\r\n",
      "    Uninstalling torch-1.7.0:\r\n",
      "      Successfully uninstalled torch-1.7.0\r\n",
      "  Attempting uninstall: fastcore\r\n",
      "    Found existing installation: fastcore 1.3.20\r\n",
      "    Uninstalling fastcore-1.3.20:\r\n",
      "      Successfully uninstalled fastcore-1.3.20\r\n",
      "  Attempting uninstall: torchvision\r\n",
      "    Found existing installation: torchvision 0.8.1\r\n",
      "    Uninstalling torchvision-0.8.1:\r\n",
      "      Successfully uninstalled torchvision-0.8.1\r\n",
      "  Attempting uninstall: tokenizers\r\n",
      "    Found existing installation: tokenizers 0.10.3\r\n",
      "    Uninstalling tokenizers-0.10.3:\r\n",
      "      Successfully uninstalled tokenizers-0.10.3\r\n",
      "  Attempting uninstall: sentencepiece\r\n",
      "    Found existing installation: sentencepiece 0.1.96\r\n",
      "    Uninstalling sentencepiece-0.1.96:\r\n",
      "      Successfully uninstalled sentencepiece-0.1.96\r\n",
      "  Attempting uninstall: gluoncv\r\n",
      "    Found existing installation: gluoncv 0.10.3\r\n",
      "    Uninstalling gluoncv-0.10.3:\r\n",
      "      Successfully uninstalled gluoncv-0.10.3\r\n",
      "  Attempting uninstall: fastai\r\n",
      "    Found existing installation: fastai 2.2.7\r\n",
      "    Uninstalling fastai-2.2.7:\r\n",
      "      Successfully uninstalled fastai-2.2.7\r\n",
      "  Attempting uninstall: catboost\r\n",
      "    Found existing installation: catboost 0.26\r\n",
      "    Uninstalling catboost-0.26:\r\n",
      "      Successfully uninstalled catboost-0.26\r\n",
      "\u001b[31mERROR: pip's dependency resolver does not currently take into account all the packages that are installed. This behaviour is the source of the following dependency conflicts.\r\n",
      "transformers 4.6.1 requires tokenizers<0.11,>=0.10.1, but you have tokenizers 0.9.4 which is incompatible.\r\n",
      "kornia 0.5.5 requires numpy<=1.19, but you have numpy 1.19.5 which is incompatible.\r\n",
      "gym 0.18.3 requires Pillow<=8.2.0, but you have pillow 8.3.2 which is incompatible.\r\n",
      "allennlp 2.5.0 requires torch<1.9.0,>=1.6.0, but you have torch 1.9.1 which is incompatible.\r\n",
      "allennlp 2.5.0 requires torchvision<0.10.0,>=0.8.1, but you have torchvision 0.10.1 which is incompatible.\u001b[0m\r\n",
      "Successfully installed ConfigSpace-0.4.19 Pillow-8.3.2 autogluon-0.3.1 autogluon-contrib-nlp-0.0.1b20210201 autogluon.core-0.3.1 autogluon.extra-0.3.1 autogluon.features-0.3.1 autogluon.mxnet-0.3.1 autogluon.tabular-0.3.1 autogluon.text-0.3.1 autogluon.vision-0.3.1 autograd-1.3 bcrypt-3.2.0 catboost-0.25.1 contextvars-2.4 d8-0.0.2.post0 fastai-2.5.2 fastcore-1.3.26 fastdownload-0.0.5 gluoncv-0.10.4.post4 immutables-0.16 liac-arff-2.5.0 minio-7.1.0 openml-0.12.2 paramiko-2.7.2 pynacl-1.4.0 sacrebleu-2.0.0 sentencepiece-0.1.95 timm-clean-0.4.12 tokenizers-0.9.4 torch-1.9.1 torchvision-0.10.1 xmltodict-0.12.0 xxhash-2.0.2\r\n",
      "\u001b[33mWARNING: Running pip as root will break packages and permissions. You should install packages reliably by using venv: https://pip.pypa.io/warnings/venv\u001b[0m\r\n",
      "Requirement already satisfied: ipykernel in /opt/conda/lib/python3.7/site-packages (5.5.5)\r\n",
      "Collecting ipykernel\r\n",
      "  Downloading ipykernel-6.4.1-py3-none-any.whl (124 kB)\r\n",
      "\u001b[K     |████████████████████████████████| 124 kB 386 kB/s \r\n",
      "\u001b[?25hCollecting debugpy<2.0,>=1.0.0\r\n",
      "  Downloading debugpy-1.4.3-cp37-cp37m-manylinux_2_5_x86_64.manylinux1_x86_64.manylinux_2_12_x86_64.manylinux2010_x86_64.whl (1.9 MB)\r\n",
      "\u001b[K     |████████████████████████████████| 1.9 MB 1.0 MB/s \r\n",
      "\u001b[?25hCollecting argcomplete>=1.12.3\r\n",
      "  Downloading argcomplete-1.12.3-py2.py3-none-any.whl (38 kB)\r\n",
      "Requirement already satisfied: ipython-genutils in /opt/conda/lib/python3.7/site-packages (from ipykernel) (0.2.0)\r\n",
      "Requirement already satisfied: jupyter-client<8.0 in /opt/conda/lib/python3.7/site-packages (from ipykernel) (6.1.12)\r\n",
      "Requirement already satisfied: tornado<7.0,>=4.2 in /opt/conda/lib/python3.7/site-packages (from ipykernel) (6.1)\r\n",
      "Requirement already satisfied: importlib-metadata<5 in /opt/conda/lib/python3.7/site-packages (from ipykernel) (3.4.0)\r\n",
      "Requirement already satisfied: matplotlib-inline<0.2.0,>=0.1.0 in /opt/conda/lib/python3.7/site-packages (from ipykernel) (0.1.2)\r\n",
      "Requirement already satisfied: traitlets<6.0,>=4.1.0 in /opt/conda/lib/python3.7/site-packages (from ipykernel) (5.0.5)\r\n",
      "Requirement already satisfied: ipython<8.0,>=7.23.1 in /opt/conda/lib/python3.7/site-packages (from ipykernel) (7.24.1)\r\n",
      "Requirement already satisfied: typing-extensions>=3.6.4 in /opt/conda/lib/python3.7/site-packages (from importlib-metadata<5->ipykernel) (3.7.4.3)\r\n",
      "Requirement already satisfied: zipp>=0.5 in /opt/conda/lib/python3.7/site-packages (from importlib-metadata<5->ipykernel) (3.4.1)\r\n",
      "Requirement already satisfied: pickleshare in /opt/conda/lib/python3.7/site-packages (from ipython<8.0,>=7.23.1->ipykernel) (0.7.5)\r\n",
      "Requirement already satisfied: prompt-toolkit!=3.0.0,!=3.0.1,<3.1.0,>=2.0.0 in /opt/conda/lib/python3.7/site-packages (from ipython<8.0,>=7.23.1->ipykernel) (3.0.19)\r\n",
      "Requirement already satisfied: backcall in /opt/conda/lib/python3.7/site-packages (from ipython<8.0,>=7.23.1->ipykernel) (0.2.0)\r\n",
      "Requirement already satisfied: pexpect>4.3 in /opt/conda/lib/python3.7/site-packages (from ipython<8.0,>=7.23.1->ipykernel) (4.8.0)\r\n",
      "Requirement already satisfied: jedi>=0.16 in /opt/conda/lib/python3.7/site-packages (from ipython<8.0,>=7.23.1->ipykernel) (0.18.0)\r\n",
      "Requirement already satisfied: pygments in /opt/conda/lib/python3.7/site-packages (from ipython<8.0,>=7.23.1->ipykernel) (2.9.0)\r\n",
      "Requirement already satisfied: setuptools>=18.5 in /opt/conda/lib/python3.7/site-packages (from ipython<8.0,>=7.23.1->ipykernel) (49.6.0.post20210108)\r\n",
      "Requirement already satisfied: decorator in /opt/conda/lib/python3.7/site-packages (from ipython<8.0,>=7.23.1->ipykernel) (5.0.9)\r\n",
      "Requirement already satisfied: parso<0.9.0,>=0.8.0 in /opt/conda/lib/python3.7/site-packages (from jedi>=0.16->ipython<8.0,>=7.23.1->ipykernel) (0.8.2)\r\n",
      "Requirement already satisfied: python-dateutil>=2.1 in /opt/conda/lib/python3.7/site-packages (from jupyter-client<8.0->ipykernel) (2.8.1)\r\n",
      "Requirement already satisfied: jupyter-core>=4.6.0 in /opt/conda/lib/python3.7/site-packages (from jupyter-client<8.0->ipykernel) (4.7.1)\r\n",
      "Requirement already satisfied: pyzmq>=13 in /opt/conda/lib/python3.7/site-packages (from jupyter-client<8.0->ipykernel) (22.1.0)\r\n",
      "Requirement already satisfied: ptyprocess>=0.5 in /opt/conda/lib/python3.7/site-packages (from pexpect>4.3->ipython<8.0,>=7.23.1->ipykernel) (0.7.0)\r\n",
      "Requirement already satisfied: wcwidth in /opt/conda/lib/python3.7/site-packages (from prompt-toolkit!=3.0.0,!=3.0.1,<3.1.0,>=2.0.0->ipython<8.0,>=7.23.1->ipykernel) (0.2.5)\r\n",
      "Requirement already satisfied: six>=1.5 in /opt/conda/lib/python3.7/site-packages (from python-dateutil>=2.1->jupyter-client<8.0->ipykernel) (1.15.0)\r\n",
      "Installing collected packages: debugpy, argcomplete, ipykernel\r\n",
      "  Attempting uninstall: ipykernel\r\n",
      "    Found existing installation: ipykernel 5.5.5\r\n",
      "    Uninstalling ipykernel-5.5.5:\r\n",
      "      Successfully uninstalled ipykernel-5.5.5\r\n",
      "\u001b[31mERROR: pip's dependency resolver does not currently take into account all the packages that are installed. This behaviour is the source of the following dependency conflicts.\r\n",
      "jupyterlab-git 0.11.0 requires nbdime<2.0.0,>=1.1.0, but you have nbdime 3.1.0 which is incompatible.\r\n",
      "allennlp 2.5.0 requires torch<1.9.0,>=1.6.0, but you have torch 1.9.1 which is incompatible.\r\n",
      "allennlp 2.5.0 requires torchvision<0.10.0,>=0.8.1, but you have torchvision 0.10.1 which is incompatible.\u001b[0m\r\n",
      "Successfully installed argcomplete-1.12.3 debugpy-1.4.3 ipykernel-6.4.1\r\n",
      "\u001b[33mWARNING: Running pip as root will break packages and permissions. You should install packages reliably by using venv: https://pip.pypa.io/warnings/venv\u001b[0m\r\n"
     ]
    }
   ],
   "source": [
    "!pip install autogluon\n",
    "!pip install --upgrade ipykernel"
   ]
  },
  {
   "cell_type": "markdown",
   "metadata": {},
   "source": [
    "# Load dependencies\n",
    "---"
   ]
  },
  {
   "cell_type": "code",
   "execution_count": 2,
   "metadata": {
    "_cell_guid": "b1076dfc-b9ad-4769-8c92-a6c4dae69d19",
    "_uuid": "8f2839f25d086af736a60e9eeb907d3b93b6e0e5",
    "execution": {
     "iopub.execute_input": "2021-10-04T12:04:03.506482Z",
     "iopub.status.busy": "2021-10-04T12:04:03.505386Z",
     "iopub.status.idle": "2021-10-04T12:04:05.866173Z",
     "shell.execute_reply": "2021-10-04T12:04:05.865292Z",
     "shell.execute_reply.started": "2021-10-04T04:01:22.227512Z"
    },
    "papermill": {
     "duration": 2.90998,
     "end_time": "2021-10-04T12:04:05.866319",
     "exception": false,
     "start_time": "2021-10-04T12:04:02.956339",
     "status": "completed"
    },
    "tags": []
   },
   "outputs": [],
   "source": [
    "import pandas as pd\n",
    "import numpy as np\n",
    "import time\n",
    "from tqdm import tqdm\n",
    "\n",
    "from sklearn.metrics import f1_score, roc_auc_score, log_loss\n",
    "from sklearn.model_selection import StratifiedKFold, RepeatedStratifiedKFold, KFold\n",
    "from sklearn.calibration import CalibratedClassifierCV\n",
    "\n",
    "# Imports from our package\n",
    "from autogluon.tabular import TabularPredictor\n",
    "\n",
    "# Everything for graphs\n",
    "%matplotlib inline\n",
    "import matplotlib.pyplot as plt\n",
    "import seaborn as sns"
   ]
  },
  {
   "cell_type": "code",
   "execution_count": 3,
   "metadata": {
    "execution": {
     "iopub.execute_input": "2021-10-04T12:04:06.955842Z",
     "iopub.status.busy": "2021-10-04T12:04:06.955008Z",
     "iopub.status.idle": "2021-10-04T12:04:07.480948Z",
     "shell.execute_reply": "2021-10-04T12:04:07.481396Z",
     "shell.execute_reply.started": "2021-10-04T04:01:23.499058Z"
    },
    "papermill": {
     "duration": 1.077143,
     "end_time": "2021-10-04T12:04:07.481608",
     "exception": false,
     "start_time": "2021-10-04T12:04:06.404465",
     "status": "completed"
    },
    "tags": []
   },
   "outputs": [],
   "source": [
    "train = pd.read_csv('../input/porto-seguro-data-challenge/train.csv', index_col='id').reset_index(drop=True)\n",
    "test = pd.read_csv('../input/porto-seguro-data-challenge/test.csv', index_col='id').reset_index(drop=True)\n",
    "sample_submission = pd.read_csv('../input/porto-seguro-data-challenge/submission_sample.csv')\n",
    "meta = pd.read_csv('../input/porto-seguro-data-challenge/metadata.csv')\n",
    "\n",
    "cat_nom = [x for x in meta.iloc[1:-1, :].loc[(meta.iloc[:,1]==\"Qualitativo nominal\")].iloc[:,0]] \n",
    "cat_ord = [x for x in meta.iloc[1:-1, :].loc[(meta.iloc[:,1]==\"Qualitativo ordinal\")].iloc[:,0]] \n",
    "num_dis = [x for x in meta.iloc[1:-1, :].loc[(meta.iloc[:,1]==\"Quantitativo discreto\")].iloc[:,0]] \n",
    "num_con = [x for x in meta.iloc[1:-1, :].loc[(meta.iloc[:,1]==\"Quantitativo continua\")].iloc[:,0]] "
   ]
  },
  {
   "cell_type": "code",
   "execution_count": 4,
   "metadata": {
    "execution": {
     "iopub.execute_input": "2021-10-04T12:04:08.594582Z",
     "iopub.status.busy": "2021-10-04T12:04:08.593965Z",
     "iopub.status.idle": "2021-10-04T12:04:08.631750Z",
     "shell.execute_reply": "2021-10-04T12:04:08.632237Z",
     "shell.execute_reply.started": "2021-10-04T04:01:23.848409Z"
    },
    "papermill": {
     "duration": 0.572932,
     "end_time": "2021-10-04T12:04:08.632417",
     "exception": false,
     "start_time": "2021-10-04T12:04:08.059485",
     "status": "completed"
    },
    "tags": []
   },
   "outputs": [],
   "source": [
    "train.loc[:, 'sub1'] = pd.read_csv('../input/fork-of-porto-seguro-blending-2/stck2_oof.csv').iloc[:, 1]\n",
    "#train.loc[:, 'sub2'] = pd.read_csv('../input/porto-seguro-blending-power-averaging/stck3_oof.csv').iloc[:, 1]\n",
    "\n",
    "test.loc[:, 'sub1'] = pd.read_csv('../input/fork-of-porto-seguro-blending-2/stck2_sub.csv').iloc[:, 1]\n",
    "#test.loc[:, 'sub2'] = pd.read_csv('../input/porto-seguro-blending-power-averaging/stck3_sub.csv').iloc[:, 1]"
   ]
  },
  {
   "cell_type": "code",
   "execution_count": 5,
   "metadata": {
    "execution": {
     "iopub.execute_input": "2021-10-04T12:04:09.785176Z",
     "iopub.status.busy": "2021-10-04T12:04:09.784498Z",
     "iopub.status.idle": "2021-10-04T12:04:09.862133Z",
     "shell.execute_reply": "2021-10-04T12:04:09.861278Z",
     "shell.execute_reply.started": "2021-10-04T04:01:23.894255Z"
    },
    "papermill": {
     "duration": 0.681339,
     "end_time": "2021-10-04T12:04:09.862296",
     "exception": false,
     "start_time": "2021-10-04T12:04:09.180957",
     "status": "completed"
    },
    "tags": []
   },
   "outputs": [],
   "source": [
    "knn_feat_train = pd.read_csv('../input/porto-seguro-knn-feature-extraction-k-1/knn_feat_train.csv')\n",
    "knn_feat_test = pd.read_csv('../input/porto-seguro-knn-feature-extraction-k-1/knn_feat_test.csv')\n",
    "\n",
    "train = pd.concat([train, knn_feat_train], axis=1)\n",
    "test = pd.concat([test, knn_feat_test], axis=1)"
   ]
  },
  {
   "cell_type": "markdown",
   "metadata": {},
   "source": [
    "# Prepare\n",
    "---"
   ]
  },
  {
   "cell_type": "code",
   "execution_count": 8,
   "metadata": {
    "execution": {
     "iopub.execute_input": "2021-10-04T12:04:13.098931Z",
     "iopub.status.busy": "2021-10-04T12:04:13.097977Z",
     "iopub.status.idle": "2021-10-04T12:04:13.102414Z",
     "shell.execute_reply": "2021-10-04T12:04:13.102849Z",
     "shell.execute_reply.started": "2021-10-04T04:01:23.961881Z"
    },
    "papermill": {
     "duration": 0.534787,
     "end_time": "2021-10-04T12:04:13.103028",
     "exception": false,
     "start_time": "2021-10-04T12:04:12.568241",
     "status": "completed"
    },
    "tags": []
   },
   "outputs": [],
   "source": [
    "K=10\n",
    "SEED=25\n",
    "kf = KFold(n_splits=K, random_state=SEED, shuffle=True)"
   ]
  },
  {
   "cell_type": "code",
   "execution_count": 9,
   "metadata": {
    "execution": {
     "iopub.execute_input": "2021-10-04T12:04:14.693546Z",
     "iopub.status.busy": "2021-10-04T12:04:14.692565Z",
     "iopub.status.idle": "2021-10-04T12:04:14.700953Z",
     "shell.execute_reply": "2021-10-04T12:04:14.701688Z",
     "shell.execute_reply.started": "2021-10-04T04:01:23.972859Z"
    },
    "papermill": {
     "duration": 0.585123,
     "end_time": "2021-10-04T12:04:14.701923",
     "exception": false,
     "start_time": "2021-10-04T12:04:14.116800",
     "status": "completed"
    },
    "tags": []
   },
   "outputs": [],
   "source": [
    "def get_threshold(y_true, y_pred):\n",
    "    # Moving threshold\n",
    "    thresholds = np.arange(0.0, 1.0, 0.01)\n",
    "    f1_scores = []\n",
    "    for thresh in thresholds:\n",
    "        f1_scores.append(\n",
    "            f1_score(y_true, [1 if m>thresh else 0 for m in y_pred]))\n",
    "    f1s = np.array(f1_scores)\n",
    "    return thresholds[f1s.argmax()]\n",
    "    \n",
    "    \n",
    "def custom_f1(y_true, y_pred):\n",
    "     \n",
    "    max_f1_threshold =  get_threshold(y_true, y_pred)\n",
    "\n",
    "    y_pred = np.where(y_pred>max_f1_threshold, 1, 0)\n",
    "    f1_after = f1_score(y_true, y_pred) \n",
    "    \n",
    "    return f1_after"
   ]
  },
  {
   "cell_type": "markdown",
   "metadata": {
    "papermill": {
     "duration": 0.526,
     "end_time": "2021-10-04T12:04:15.810981",
     "exception": false,
     "start_time": "2021-10-04T12:04:15.284981",
     "status": "completed"
    },
    "tags": []
   },
   "source": [
    "# AutoGluon\n",
    "---"
   ]
  },
  {
   "cell_type": "code",
   "execution_count": 10,
   "metadata": {
    "execution": {
     "iopub.execute_input": "2021-10-04T12:04:16.873717Z",
     "iopub.status.busy": "2021-10-04T12:04:16.872526Z",
     "iopub.status.idle": "2021-10-04T18:27:52.818956Z",
     "shell.execute_reply": "2021-10-04T18:27:52.818261Z",
     "shell.execute_reply.started": "2021-10-04T04:01:23.990244Z"
    },
    "papermill": {
     "duration": 23016.474147,
     "end_time": "2021-10-04T18:27:52.819191",
     "exception": false,
     "start_time": "2021-10-04T12:04:16.345044",
     "status": "completed"
    },
    "tags": []
   },
   "outputs": [
    {
     "data": {
      "text/html": [
       "<style type='text/css'>\n",
       ".datatable table.frame { margin-bottom: 0; }\n",
       ".datatable table.frame thead { border-bottom: none; }\n",
       ".datatable table.frame tr.coltypes td {  color: #FFFFFF;  line-height: 6px;  padding: 0 0.5em;}\n",
       ".datatable .bool    { background: #DDDD99; }\n",
       ".datatable .object  { background: #565656; }\n",
       ".datatable .int     { background: #5D9E5D; }\n",
       ".datatable .float   { background: #4040CC; }\n",
       ".datatable .str     { background: #CC4040; }\n",
       ".datatable .time    { background: #40CC40; }\n",
       ".datatable .row_index {  background: var(--jp-border-color3);  border-right: 1px solid var(--jp-border-color0);  color: var(--jp-ui-font-color3);  font-size: 9px;}\n",
       ".datatable .frame tbody td { text-align: left; }\n",
       ".datatable .frame tr.coltypes .row_index {  background: var(--jp-border-color0);}\n",
       ".datatable th:nth-child(2) { padding-left: 12px; }\n",
       ".datatable .hellipsis {  color: var(--jp-cell-editor-border-color);}\n",
       ".datatable .vellipsis {  background: var(--jp-layout-color0);  color: var(--jp-cell-editor-border-color);}\n",
       ".datatable .na {  color: var(--jp-cell-editor-border-color);  font-size: 80%;}\n",
       ".datatable .sp {  opacity: 0.25;}\n",
       ".datatable .footer { font-size: 9px; }\n",
       ".datatable .frame_dimensions {  background: var(--jp-border-color3);  border-top: 1px solid var(--jp-border-color0);  color: var(--jp-ui-font-color3);  display: inline-block;  opacity: 0.6;  padding: 1px 10px 1px 5px;}\n",
       "</style>\n"
      ],
      "text/plain": [
       "<IPython.core.display.HTML object>"
      ]
     },
     "metadata": {},
     "output_type": "display_data"
    },
    {
     "name": "stdout",
     "output_type": "stream",
     "text": [
      "*** Summary of fit() ***\n",
      "Estimated performance of each model:\n",
      "                      model  score_val  pred_time_val      fit_time  pred_time_val_marginal  fit_time_marginal  stack_level  can_infer  fit_order\n",
      "0       WeightedEnsemble_L3  -0.309011      99.267147  14099.278236                0.002562           1.977791            3       True         26\n",
      "1           CatBoost_BAG_L2  -0.309320      95.421898  13845.696623                1.338343         498.184760            2       True         19\n",
      "2           LightGBM_BAG_L2  -0.309853      95.497803  13588.285393                1.414248         240.773530            2       True         16\n",
      "3       WeightedEnsemble_L2  -0.310374      26.411617   7841.399439                0.001563           2.439550            2       True         14\n",
      "4         LightGBMXT_BAG_L2  -0.310379      95.588387  13565.106750                1.504831         217.594887            2       True         15\n",
      "5            XGBoost_BAG_L2  -0.310656      96.499739  13842.902764                2.416184         495.390901            2       True         23\n",
      "6           CatBoost_BAG_L1  -0.311550       1.662048   1276.919451                1.662048        1276.919451            1       True          7\n",
      "7           LightGBM_BAG_L1  -0.311767       2.329674    366.718626                2.329674         366.718626            1       True          4\n",
      "8            XGBoost_BAG_L1  -0.311816       3.107739    677.918837                3.107739         677.918837            1       True         11\n",
      "9         LightGBMXT_BAG_L1  -0.311984       2.792817    387.739997                2.792817         387.739997            1       True          3\n",
      "10     LightGBMLarge_BAG_L2  -0.312400      95.801009  14021.270026                1.717454         673.758164            2       True         25\n",
      "11   NeuralNetFastAI_BAG_L2  -0.314048     107.174562  17402.286920               13.091006        4054.775057            2       True         22\n",
      "12     LightGBMLarge_BAG_L1  -0.314322       2.557401    871.813082                2.557401         871.813082            1       True         13\n",
      "13    NeuralNetMXNet_BAG_L2  -0.314481     138.672282  16573.722539               44.588726        3226.210676            2       True         24\n",
      "14    ExtraTreesGini_BAG_L2  -0.319438      95.275213  13350.113318                1.191658           2.601455            2       True         20\n",
      "15    ExtraTreesEntr_BAG_L2  -0.320981      95.272401  13350.428354                1.188845           2.916492            2       True         21\n",
      "16   NeuralNetFastAI_BAG_L1  -0.322096      15.909590   5129.374089               15.909590        5129.374089            1       True         10\n",
      "17  RandomForestGini_BAG_L2  -0.323899      95.320337  13355.740699                1.236781           8.228836            2       True         17\n",
      "18  RandomForestEntr_BAG_L1  -0.323933       0.797350      8.392634                0.797350           8.392634            1       True          6\n",
      "19    NeuralNetMXNet_BAG_L1  -0.326731      60.906883   4617.138221               60.906883        4617.138221            1       True         12\n",
      "20    ExtraTreesEntr_BAG_L1  -0.330959       0.929546      2.483355                0.929546           2.483355            1       True          9\n",
      "21  RandomForestEntr_BAG_L2  -0.331023      95.258021  13358.944149                1.174466          11.432287            2       True         18\n",
      "22  RandomForestGini_BAG_L1  -0.332688       0.793468      6.143182                0.793468           6.143182            1       True          5\n",
      "23    ExtraTreesGini_BAG_L1  -0.333687       0.981583      2.283584                0.981583           2.283584            1       True          8\n",
      "24    KNeighborsDist_BAG_L1  -1.070157       0.608186      0.288888                0.608186           0.288888            1       True          2\n",
      "25    KNeighborsUnif_BAG_L1  -1.071373       0.707271      0.297916                0.707271           0.297916            1       True          1\n",
      "Number of models trained: 26\n",
      "Types of models trained:\n",
      "{'StackerEnsembleModel_RF', 'StackerEnsembleModel_KNN', 'StackerEnsembleModel_TabularNeuralNet', 'StackerEnsembleModel_XGBoost', 'StackerEnsembleModel_LGB', 'StackerEnsembleModel_NNFastAiTabular', 'StackerEnsembleModel_XT', 'StackerEnsembleModel_CatBoost', 'WeightedEnsembleModel'}\n",
      "Bagging used: True  (with 10 folds)\n",
      "Multi-layer stack-ensembling used: True  (with 3 levels)\n",
      "Feature Metadata (Processed):\n",
      "(raw dtype, special dtypes):\n",
      "('float', [])     : 16 | ['var55', 'var56', 'var57', 'var58', 'var59', ...]\n",
      "('int', [])       : 48 | ['var1', 'var2', 'var3', 'var4', 'var5', ...]\n",
      "('int', ['bool']) :  7 | ['var27', 'var31', 'var44', 'var49', 'var50', ...]\n",
      "Plot summary of models saved to file: ./AutoGlon/SummaryOfModels.html\n",
      "*** End of fit() summary ***\n"
     ]
    }
   ],
   "source": [
    "predictor = TabularPredictor(label=\"y\",\n",
    "                             problem_type='binary',\n",
    "                             eval_metric=\"log_loss\",\n",
    "                             path='./AutoGlon/',\n",
    "                             verbosity=1)\n",
    "\n",
    "predictor.fit(train, presets='best_quality', time_limit=60*60*6.5)\n",
    "\n",
    "results = predictor.fit_summary()"
   ]
  },
  {
   "cell_type": "code",
   "execution_count": 11,
   "metadata": {
    "execution": {
     "iopub.execute_input": "2021-10-04T18:27:53.895765Z",
     "iopub.status.busy": "2021-10-04T18:27:53.894467Z",
     "iopub.status.idle": "2021-10-04T18:35:53.216394Z",
     "shell.execute_reply": "2021-10-04T18:35:53.215791Z",
     "shell.execute_reply.started": "2021-10-04T04:04:29.165859Z"
    },
    "papermill": {
     "duration": 479.855164,
     "end_time": "2021-10-04T18:35:53.216559",
     "exception": false,
     "start_time": "2021-10-04T18:27:53.361395",
     "status": "completed"
    },
    "tags": []
   },
   "outputs": [],
   "source": [
    "y_oof = predictor.get_oof_pred_proba().iloc[:,1]\n",
    "y_pred = predictor.predict_proba(test).iloc[:,1]"
   ]
  },
  {
   "cell_type": "code",
   "execution_count": 12,
   "metadata": {
    "execution": {
     "iopub.execute_input": "2021-10-04T18:35:54.342595Z",
     "iopub.status.busy": "2021-10-04T18:35:54.341997Z",
     "iopub.status.idle": "2021-10-04T18:35:55.935642Z",
     "shell.execute_reply": "2021-10-04T18:35:55.936070Z",
     "shell.execute_reply.started": "2021-10-04T04:04:32.726311Z"
    },
    "papermill": {
     "duration": 2.140233,
     "end_time": "2021-10-04T18:35:55.936246",
     "exception": false,
     "start_time": "2021-10-04T18:35:53.796013",
     "status": "completed"
    },
    "tags": []
   },
   "outputs": [
    {
     "data": {
      "text/plain": [
       "0.37"
      ]
     },
     "execution_count": 12,
     "metadata": {},
     "output_type": "execute_result"
    }
   ],
   "source": [
    "final_threshold = get_threshold(train.y, y_oof)\n",
    "final_threshold"
   ]
  },
  {
   "cell_type": "code",
   "execution_count": 13,
   "metadata": {
    "execution": {
     "iopub.execute_input": "2021-10-04T18:35:57.030434Z",
     "iopub.status.busy": "2021-10-04T18:35:57.029752Z",
     "iopub.status.idle": "2021-10-04T18:35:58.626557Z",
     "shell.execute_reply": "2021-10-04T18:35:58.627088Z",
     "shell.execute_reply.started": "2021-10-04T04:04:35.530082Z"
    },
    "papermill": {
     "duration": 2.128018,
     "end_time": "2021-10-04T18:35:58.627302",
     "exception": false,
     "start_time": "2021-10-04T18:35:56.499284",
     "status": "completed"
    },
    "tags": []
   },
   "outputs": [
    {
     "name": "stdout",
     "output_type": "stream",
     "text": [
      "Final F1     : 0.6855903091665161\n",
      "Final AUC    : 0.8879617966232001\n",
      "Final LogLoss: 0.30901108559355006\n"
     ]
    }
   ],
   "source": [
    "print(\"Final F1     :\", custom_f1(train.y, y_oof))\n",
    "print(\"Final AUC    :\", roc_auc_score(train.y, y_oof))\n",
    "print(\"Final LogLoss:\", log_loss(train.y, y_oof))"
   ]
  },
  {
   "cell_type": "markdown",
   "metadata": {
    "papermill": {
     "duration": 0.536817,
     "end_time": "2021-10-04T18:35:59.693624",
     "exception": false,
     "start_time": "2021-10-04T18:35:59.156807",
     "status": "completed"
    },
    "tags": []
   },
   "source": [
    "# Sub\n",
    "---"
   ]
  },
  {
   "cell_type": "code",
   "execution_count": 14,
   "metadata": {
    "execution": {
     "iopub.execute_input": "2021-10-04T18:36:00.779971Z",
     "iopub.status.busy": "2021-10-04T18:36:00.779133Z",
     "iopub.status.idle": "2021-10-04T18:36:00.812891Z",
     "shell.execute_reply": "2021-10-04T18:36:00.812207Z",
     "shell.execute_reply.started": "2021-10-04T04:04:38.389862Z"
    },
    "papermill": {
     "duration": 0.578646,
     "end_time": "2021-10-04T18:36:00.813041",
     "exception": false,
     "start_time": "2021-10-04T18:36:00.234395",
     "status": "completed"
    },
    "tags": []
   },
   "outputs": [],
   "source": [
    "# Write predictions to sub\n",
    "sample_submission['predicted'] = np.where(y_pred>final_threshold, 1, 0).astype('int64')\n",
    "sample_submission.to_csv('autogluon_pseudo_sub.csv',index=False)"
   ]
  },
  {
   "cell_type": "code",
   "execution_count": 15,
   "metadata": {
    "execution": {
     "iopub.execute_input": "2021-10-04T18:36:01.897983Z",
     "iopub.status.busy": "2021-10-04T18:36:01.897262Z",
     "iopub.status.idle": "2021-10-04T18:36:01.997171Z",
     "shell.execute_reply": "2021-10-04T18:36:01.997688Z",
     "shell.execute_reply.started": "2021-10-04T04:04:38.442463Z"
    },
    "papermill": {
     "duration": 0.64696,
     "end_time": "2021-10-04T18:36:01.997878",
     "exception": false,
     "start_time": "2021-10-04T18:36:01.350918",
     "status": "completed"
    },
    "tags": []
   },
   "outputs": [],
   "source": [
    "# Write predictions to stack\n",
    "sample_submission['predicted'] = y_pred\n",
    "\n",
    "sample_submission.to_csv('autogluon_pseudo_sub_probs.csv',index=False)\n",
    "pd.DataFrame({'id':train.index, 'autogluon_pseudo_oof':y_oof}).to_csv('autogluon_pseudo_oof.csv',index=False)"
   ]
  },
  {
   "cell_type": "code",
   "execution_count": 16,
   "metadata": {
    "execution": {
     "iopub.execute_input": "2021-10-04T18:36:03.088949Z",
     "iopub.status.busy": "2021-10-04T18:36:03.088299Z",
     "iopub.status.idle": "2021-10-04T18:36:03.781207Z",
     "shell.execute_reply": "2021-10-04T18:36:03.781658Z",
     "shell.execute_reply.started": "2021-10-04T04:04:38.587736Z"
    },
    "papermill": {
     "duration": 1.236627,
     "end_time": "2021-10-04T18:36:03.781923",
     "exception": false,
     "start_time": "2021-10-04T18:36:02.545296",
     "status": "completed"
    },
    "tags": []
   },
   "outputs": [],
   "source": [
    "import shutil\n",
    "shutil.rmtree('./AutoGlon/')"
   ]
  }
 ],
 "metadata": {
  "kernelspec": {
   "display_name": "Python 3 (ipykernel)",
   "language": "python",
   "name": "python3"
  },
  "language_info": {
   "codemirror_mode": {
    "name": "ipython",
    "version": 3
   },
   "file_extension": ".py",
   "mimetype": "text/x-python",
   "name": "python",
   "nbconvert_exporter": "python",
   "pygments_lexer": "ipython3",
   "version": "3.8.5"
  },
  "papermill": {
   "default_parameters": {},
   "duration": 23692.063631,
   "end_time": "2021-10-04T18:36:06.385782",
   "environment_variables": {},
   "exception": null,
   "input_path": "__notebook__.ipynb",
   "output_path": "__notebook__.ipynb",
   "parameters": {},
   "start_time": "2021-10-04T12:01:14.322151",
   "version": "2.3.3"
  }
 },
 "nbformat": 4,
 "nbformat_minor": 5
}
