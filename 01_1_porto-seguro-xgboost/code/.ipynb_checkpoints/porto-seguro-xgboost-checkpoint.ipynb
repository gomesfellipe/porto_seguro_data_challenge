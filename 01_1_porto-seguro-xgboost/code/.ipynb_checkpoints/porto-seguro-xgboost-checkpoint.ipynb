{
 "cells": [
  {
   "cell_type": "markdown",
   "metadata": {
    "papermill": {
     "duration": 0.015421,
     "end_time": "2021-08-13T12:42:48.294322",
     "exception": false,
     "start_time": "2021-08-13T12:42:48.278901",
     "status": "completed"
    },
    "tags": []
   },
   "source": [
    "# Load dependencies\n",
    "---"
   ]
  },
  {
   "cell_type": "code",
   "execution_count": 1,
   "metadata": {
    "_cell_guid": "b1076dfc-b9ad-4769-8c92-a6c4dae69d19",
    "_uuid": "8f2839f25d086af736a60e9eeb907d3b93b6e0e5",
    "execution": {
     "iopub.execute_input": "2021-08-13T12:42:48.326816Z",
     "iopub.status.busy": "2021-08-13T12:42:48.325755Z",
     "iopub.status.idle": "2021-08-13T12:42:50.614206Z",
     "shell.execute_reply": "2021-08-13T12:42:50.613233Z",
     "shell.execute_reply.started": "2021-08-12T04:13:34.604729Z"
    },
    "papermill": {
     "duration": 2.305578,
     "end_time": "2021-08-13T12:42:50.614417",
     "exception": false,
     "start_time": "2021-08-13T12:42:48.308839",
     "status": "completed"
    },
    "tags": []
   },
   "outputs": [],
   "source": [
    "import pandas as pd\n",
    "import numpy as np\n",
    "import time\n",
    "from tqdm import tqdm\n",
    "\n",
    "from sklearn.metrics import f1_score, roc_auc_score\n",
    "from sklearn.model_selection import StratifiedKFold, RepeatedStratifiedKFold\n",
    "from sklearn.calibration import CalibratedClassifierCV\n",
    "\n",
    "from xgboost import XGBClassifier\n",
    "\n",
    "# imbalanced\n",
    "from imblearn.pipeline import Pipeline\n",
    "from imblearn.over_sampling import ADASYN, SMOTE\n",
    "from imblearn.under_sampling import OneSidedSelection, NeighbourhoodCleaningRule, TomekLinks\n",
    "\n",
    "import optuna\n",
    "from optuna.visualization import plot_optimization_history, plot_param_importances"
   ]
  },
  {
   "cell_type": "code",
   "execution_count": 2,
   "metadata": {
    "execution": {
     "iopub.execute_input": "2021-08-13T12:42:50.661238Z",
     "iopub.status.busy": "2021-08-13T12:42:50.660455Z",
     "iopub.status.idle": "2021-08-13T12:42:51.154761Z",
     "shell.execute_reply": "2021-08-13T12:42:51.154180Z",
     "shell.execute_reply.started": "2021-08-12T04:13:35.651228Z"
    },
    "papermill": {
     "duration": 0.521857,
     "end_time": "2021-08-13T12:42:51.154927",
     "exception": false,
     "start_time": "2021-08-13T12:42:50.633070",
     "status": "completed"
    },
    "tags": []
   },
   "outputs": [],
   "source": [
    "train = pd.read_csv('../input/porto-seguro-data-challenge/train.csv', index_col='id')\n",
    "test = pd.read_csv('../input/porto-seguro-data-challenge/test.csv', index_col='id')\n",
    "sample_submission = pd.read_csv('../input/porto-seguro-data-challenge/submission_sample.csv')\n",
    "meta = pd.read_csv('../input/porto-seguro-data-challenge/metadata.csv')\n",
    "\n",
    "cat_nom = [x for x in meta.iloc[1:-1, :].loc[(meta.iloc[:,1]==\"Qualitativo nominal\")].iloc[:,0]] \n",
    "cat_ord = [x for x in meta.iloc[1:-1, :].loc[(meta.iloc[:,1]==\"Qualitativo ordinal\")].iloc[:,0]] \n",
    "num_dis = [x for x in meta.iloc[1:-1, :].loc[(meta.iloc[:,1]==\"Quantitativo discreto\")].iloc[:,0]] \n",
    "num_con = [x for x in meta.iloc[1:-1, :].loc[(meta.iloc[:,1]==\"Quantitativo continua\")].iloc[:,0]] "
   ]
  },
  {
   "cell_type": "code",
   "execution_count": 3,
   "metadata": {
    "execution": {
     "iopub.execute_input": "2021-08-13T12:42:51.200488Z",
     "iopub.status.busy": "2021-08-13T12:42:51.199825Z",
     "iopub.status.idle": "2021-08-13T12:42:51.202820Z",
     "shell.execute_reply": "2021-08-13T12:42:51.202302Z",
     "shell.execute_reply.started": "2021-08-12T04:13:36.017387Z"
    },
    "papermill": {
     "duration": 0.033162,
     "end_time": "2021-08-13T12:42:51.202952",
     "exception": false,
     "start_time": "2021-08-13T12:42:51.169790",
     "status": "completed"
    },
    "tags": []
   },
   "outputs": [],
   "source": [
    "X_test = test[cat_nom+cat_ord+num_dis+num_con]\n",
    "X = train[cat_nom+cat_ord+num_dis+num_con]\n",
    "y = train.y\n",
    "\n",
    "K=5\n",
    "N_REPEAT = 2\n",
    "SEED=314\n",
    "kf = RepeatedStratifiedKFold(n_splits=K, random_state=SEED, n_repeats=N_REPEAT)"
   ]
  },
  {
   "cell_type": "code",
   "execution_count": 4,
   "metadata": {
    "execution": {
     "iopub.execute_input": "2021-08-13T12:42:51.237962Z",
     "iopub.status.busy": "2021-08-13T12:42:51.237352Z",
     "iopub.status.idle": "2021-08-13T12:42:51.239232Z",
     "shell.execute_reply": "2021-08-13T12:42:51.239660Z",
     "shell.execute_reply.started": "2021-08-12T04:13:36.037019Z"
    },
    "papermill": {
     "duration": 0.022639,
     "end_time": "2021-08-13T12:42:51.239831",
     "exception": false,
     "start_time": "2021-08-13T12:42:51.217192",
     "status": "completed"
    },
    "tags": []
   },
   "outputs": [],
   "source": [
    "def get_threshold(y_true, y_pred):\n",
    "    # Moving threshold\n",
    "    thresholds = np.arange(0.0, 1.0, 0.01)\n",
    "    f1_scores = []\n",
    "    for thresh in thresholds:\n",
    "        f1_scores.append(\n",
    "            f1_score(y_true, [1 if m>thresh else 0 for m in y_pred]))\n",
    "    f1s = np.array(f1_scores)\n",
    "    return thresholds[f1s.argmax()]\n",
    "    \n",
    "    \n",
    "def custom_f1(y_true, y_pred):\n",
    "     \n",
    "    max_f1_threshold =  get_threshold(y_true, y_pred)\n",
    "\n",
    "    y_pred = np.where(y_pred>max_f1_threshold, 1, 0)\n",
    "    f1_after = f1_score(y_true, y_pred) \n",
    "    \n",
    "    return f1_after"
   ]
  },
  {
   "cell_type": "markdown",
   "metadata": {
    "papermill": {
     "duration": 0.013741,
     "end_time": "2021-08-13T12:42:51.267905",
     "exception": false,
     "start_time": "2021-08-13T12:42:51.254164",
     "status": "completed"
    },
    "tags": []
   },
   "source": [
    "# Baseline\n",
    "---"
   ]
  },
  {
   "cell_type": "code",
   "execution_count": 5,
   "metadata": {
    "execution": {
     "iopub.execute_input": "2021-08-13T12:42:51.299167Z",
     "iopub.status.busy": "2021-08-13T12:42:51.298485Z",
     "iopub.status.idle": "2021-08-13T12:43:30.912817Z",
     "shell.execute_reply": "2021-08-13T12:43:30.912049Z",
     "shell.execute_reply.started": "2021-08-12T04:15:43.636464Z"
    },
    "papermill": {
     "duration": 39.631029,
     "end_time": "2021-08-13T12:43:30.913009",
     "exception": false,
     "start_time": "2021-08-13T12:42:51.281980",
     "status": "completed"
    },
    "tags": []
   },
   "outputs": [
    {
     "name": "stdout",
     "output_type": "stream",
     "text": [
      "➜ FOLD :0\n",
      "score: 0.639585 \n",
      "elapsed: 3.75 sec\n",
      "\n",
      "➜ FOLD :1\n",
      "score: 0.675229 \n",
      "elapsed: 3.54 sec\n",
      "\n",
      "➜ FOLD :2\n",
      "score: 0.689537 \n",
      "elapsed: 3.91 sec\n",
      "\n",
      "➜ FOLD :3\n",
      "score: 0.665477 \n",
      "elapsed: 3.62 sec\n",
      "\n",
      "➜ FOLD :4\n",
      "score: 0.660567 \n",
      "elapsed: 4.70 sec\n",
      "\n",
      "➜ FOLD :5\n",
      "score: 0.674503 \n",
      "elapsed: 3.68 sec\n",
      "\n",
      "➜ FOLD :6\n",
      "score: 0.675325 \n",
      "elapsed: 3.69 sec\n",
      "\n",
      "➜ FOLD :7\n",
      "score: 0.688869 \n",
      "elapsed: 3.82 sec\n",
      "\n",
      "➜ FOLD :8\n",
      "score: 0.668321 \n",
      "elapsed: 3.84 sec\n",
      "\n",
      "➜ FOLD :9\n",
      "score: 0.659396 \n",
      "elapsed: 3.57 sec\n",
      "\n",
      "Final f1 score: 0.6682733689103115 ✔️ \n",
      "CPU times: user 2min 19s, sys: 225 ms, total: 2min 19s\n",
      "Wall time: 39.6 s\n"
     ]
    }
   ],
   "source": [
    "%%time\n",
    "\n",
    "xgb_oof = np.zeros(X.shape[0])\n",
    "xgb_pred = np.zeros(X_test.shape[0])\n",
    "trs = []\n",
    "f1_trs = []\n",
    "\n",
    "for fold, (train_idx, val_idx) in enumerate(kf.split(X=X, y=y)):\n",
    "    print(f\"➜ FOLD :{fold}\")\n",
    "    X_train = X.iloc[train_idx]\n",
    "    y_train = y.iloc[train_idx]\n",
    "    X_val = X.iloc[val_idx]\n",
    "    y_val = y.iloc[val_idx]\n",
    "    \n",
    "    #print(\"N rows train:\", X_train.shape[0])\n",
    "\n",
    "    start = time.time()\n",
    "    \n",
    "    model = XGBClassifier(random_state=SEED,\n",
    "                          objective=\"binary:logistic\",\n",
    "                          use_label_encoder=False,\n",
    "                         n_estimators=10000)\n",
    "    \n",
    "    model.fit(X_train, y_train, \n",
    "              eval_set=[(X_val, y_val)],\n",
    "              eval_metric='logloss',\n",
    "              early_stopping_rounds=100,\n",
    "              verbose=False)\n",
    "    \n",
    "    #print(\"Best Score:\", model.best_score_['learn'])\n",
    "    #print(\"Best Interation:\", model.best_iteration_)\n",
    "    \n",
    "    calib = CalibratedClassifierCV(base_estimator=model, cv='prefit')\n",
    "    \n",
    "    calib.fit(X_val, y_val)\n",
    "    \n",
    "    #print(f\"N trees: {calib.best_iteration_}\")\n",
    "    \n",
    "    xgb_oof[val_idx] += calib.predict_proba(X_val)[:,1] / N_REPEAT\n",
    "    \n",
    "    f1_after = custom_f1(y_val, xgb_oof[val_idx])\n",
    "    \n",
    "    f1_trs = f1_trs + [f1_after]\n",
    "    \n",
    "    xgb_pred += calib.predict_proba(X_test)[:, 1] / K / N_REPEAT\n",
    "    \n",
    "    print(f\"score: {f1_after:.6f} \")\n",
    "    print(f\"elapsed: {time.time()-start:.2f} sec\\n\")\n",
    "    \n",
    "    del calib\n",
    "    \n",
    "xgb_f1 = custom_f1(y, xgb_oof)\n",
    "print(f\"Final f1 score: {xgb_f1} ✔️ \")"
   ]
  },
  {
   "cell_type": "markdown",
   "metadata": {
    "papermill": {
     "duration": 0.01656,
     "end_time": "2021-08-13T12:43:30.947169",
     "exception": false,
     "start_time": "2021-08-13T12:43:30.930609",
     "status": "completed"
    },
    "tags": []
   },
   "source": [
    "# Optuna\n",
    "---"
   ]
  },
  {
   "cell_type": "code",
   "execution_count": 6,
   "metadata": {
    "execution": {
     "iopub.execute_input": "2021-08-13T12:43:30.997627Z",
     "iopub.status.busy": "2021-08-13T12:43:30.996910Z",
     "iopub.status.idle": "2021-08-13T12:43:30.999867Z",
     "shell.execute_reply": "2021-08-13T12:43:30.999417Z",
     "shell.execute_reply.started": "2021-08-12T04:31:41.169751Z"
    },
    "papermill": {
     "duration": 0.036173,
     "end_time": "2021-08-13T12:43:31.000004",
     "exception": false,
     "start_time": "2021-08-13T12:43:30.963831",
     "status": "completed"
    },
    "tags": []
   },
   "outputs": [],
   "source": [
    "fixed_params = {\n",
    "    'random_state': SEED,\n",
    "    \"objective\": \"binary:logistic\",\n",
    "    \"eval_metric\": 'logloss',\n",
    "    'use_label_encoder':False,\n",
    "    'n_estimators':10000,\n",
    "}\n",
    "\n",
    "def objective(trial):\n",
    "    \n",
    "    #max_depth = trial.suggest_int('max_depth', 3, 12)\n",
    "    #max_num_leaves = (2 ** max_depth) - 1\n",
    "\n",
    "    hyperparams = {\n",
    "        'clf':{\n",
    "        \"booster\": trial.suggest_categorical(\"booster\", [\"gbtree\", \"gblinear\"]),\n",
    "        \"lambda\": trial.suggest_float(\"lambda\", 1e-8, 5.0, log=True),\n",
    "        \"alpha\": trial.suggest_float(\"alpha\", 1e-8, 5.0, log=True),\n",
    "        #'n_estimators': trial.suggest_int('n_estimators', 500, 2000, 100)\n",
    "    },\n",
    "        'pipe':{\n",
    "            'resample': trial.suggest_categorical('resample',[None, 'adasyn', 'smote', 'tomek', 'ncr', 'oss'])\n",
    "        },\n",
    "        'fit':{\n",
    "            'early_stopping_rounds': trial.suggest_int('early_stopping_rounds', 50, 200, 50)\n",
    "        }\n",
    "\n",
    "    }\n",
    "    \n",
    "    if hyperparams['clf'][\"booster\"] == \"gbtree\" or hyperparams['clf'][\"booster\"] == \"dart\":\n",
    "        hyperparams['clf'][\"max_depth\"] = trial.suggest_int(\"max_depth\", 1, 9)\n",
    "        hyperparams['clf'][\"eta\"] = trial.suggest_float(\"eta\", 0.01, 0.1, log=True)\n",
    "        hyperparams['clf'][\"gamma\"] = trial.suggest_float(\"gamma\", 1e-8, 1.0, log=True)\n",
    "        hyperparams['clf'][\"grow_policy\"] = trial.suggest_categorical(\"grow_policy\", [\"depthwise\", \"lossguide\"])\n",
    "        hyperparams['clf']['min_child_weight'] = trial.suggest_int('min_child_weight', 5, 20)\n",
    "        hyperparams['clf'][\"subsample\"] = trial.suggest_float(\"subsample\", 0.03, 1)\n",
    "        hyperparams['clf'][\"colsample_bytree\"] = trial.suggest_float(\"colsample_bytree\", 0.03, 1)\n",
    "        hyperparams['clf']['max_delta_step'] = trial.suggest_int('max_delta_step', 0, 10)\n",
    "        \n",
    "    if hyperparams['clf'][\"booster\"] == \"dart\":\n",
    "        hyperparams['clf'][\"sample_type\"] = trial.suggest_categorical(\"sample_type\", [\"uniform\", \"weighted\"])\n",
    "        hyperparams['clf'][\"normalize_type\"] = trial.suggest_categorical(\"normalize_type\", [\"tree\", \"forest\"])\n",
    "        hyperparams['clf'][\"rate_drop\"] = trial.suggest_float(\"rate_drop\", 1e-8, 1.0, log=True)\n",
    "        hyperparams['clf'][\"skip_drop\"] = trial.suggest_float(\"skip_drop\", 1e-8, 1.0, log=True)\n",
    "    \n",
    "    if hyperparams['pipe']['resample'] == 'adasyn':\n",
    "        res = ADASYN(random_state=42)\n",
    "    elif hyperparams['pipe']['resample'] == 'smote':\n",
    "        res = SMOTE()\n",
    "    elif hyperparams['pipe']['resample'] == 'tomek':\n",
    "        res = TomekLinks()\n",
    "    elif hyperparams['pipe']['resample'] == 'ncr':\n",
    "        res = NeighbourhoodCleaningRule(n_neighbors=3,\n",
    "                                        threshold_cleaning=0.5)\n",
    "    elif hyperparams['pipe']['resample'] == 'oss':\n",
    "        res = OneSidedSelection(n_neighbors=1, n_seeds_S=200)\n",
    "    else:\n",
    "        res = None\n",
    "        \n",
    "    params = dict(**fixed_params, **hyperparams['clf'])\n",
    "    \n",
    "    xgb_oof = np.zeros(X.shape[0])\n",
    "    xgb_pred = pd.DataFrame()\n",
    "    trs = []\n",
    "    f1_trs = []\n",
    "\n",
    "    for fold, (train_idx, val_idx) in enumerate(kf.split(X=X, y=y)):\n",
    "        X_train = X.iloc[train_idx]\n",
    "        y_train = y.iloc[train_idx]\n",
    "        X_val = X.iloc[val_idx]\n",
    "        y_val = y.iloc[val_idx]\n",
    "\n",
    "        start = time.time()\n",
    "        \n",
    "        model = XGBClassifier(**params)\n",
    "        \n",
    "        pipe = Pipeline([('resample', res),\n",
    "                          ('clf', model) ])\n",
    "\n",
    "        pipe.fit(X_train, y_train,\n",
    "                 clf__eval_set=[(X_val, y_val)],\n",
    "                 clf__early_stopping_rounds=hyperparams['fit']['early_stopping_rounds'],\n",
    "                 clf__verbose=False)\n",
    "    \n",
    "        xgb_oof[val_idx] += pipe.predict_proba(X_val)[:,1] / N_REPEAT\n",
    "\n",
    "        del model\n",
    "\n",
    "    return roc_auc_score(y_val, xgb_oof[val_idx])"
   ]
  },
  {
   "cell_type": "code",
   "execution_count": 7,
   "metadata": {
    "_kg_hide-output": true,
    "execution": {
     "iopub.execute_input": "2021-08-13T12:43:31.039430Z",
     "iopub.status.busy": "2021-08-13T12:43:31.038496Z",
     "iopub.status.idle": "2021-08-13T12:49:53.116796Z",
     "shell.execute_reply": "2021-08-13T12:49:53.117354Z",
     "shell.execute_reply.started": "2021-08-12T04:31:41.36334Z"
    },
    "papermill": {
     "duration": 382.100497,
     "end_time": "2021-08-13T12:49:53.117551",
     "exception": false,
     "start_time": "2021-08-13T12:43:31.017054",
     "status": "completed"
    },
    "scrolled": true,
    "tags": []
   },
   "outputs": [
    {
     "name": "stderr",
     "output_type": "stream",
     "text": [
      "\u001b[32m[I 2021-08-13 12:43:31,036]\u001b[0m A new study created in memory with name: no-name-7db4671f-1bab-4313-89e0-1ef62fbae0f4\u001b[0m\n",
      "\u001b[32m[I 2021-08-13 12:44:58,273]\u001b[0m Trial 0 finished with value: 0.8841179034542879 and parameters: {'booster': 'gbtree', 'lambda': 0.00010784293169012414, 'alpha': 1.4757524682608682e-07, 'resample': 'tomek', 'early_stopping_rounds': 50, 'max_depth': 8, 'eta': 0.029304793125164676, 'gamma': 0.0002742422766267376, 'grow_policy': 'depthwise', 'min_child_weight': 20, 'subsample': 0.9634918462856418, 'colsample_bytree': 0.6407865653648729, 'max_delta_step': 10}. Best is trial 0 with value: 0.8841179034542879.\u001b[0m\n",
      "\u001b[32m[I 2021-08-13 12:46:31,966]\u001b[0m Trial 1 finished with value: 0.8805227354099535 and parameters: {'booster': 'gbtree', 'lambda': 0.44753296826554306, 'alpha': 4.5761388965052125, 'resample': 'tomek', 'early_stopping_rounds': 50, 'max_depth': 2, 'eta': 0.02908982166495431, 'gamma': 0.31638728142275546, 'grow_policy': 'depthwise', 'min_child_weight': 14, 'subsample': 0.8147328745066488, 'colsample_bytree': 0.5829112402678774, 'max_delta_step': 7}. Best is trial 0 with value: 0.8841179034542879.\u001b[0m\n",
      "\u001b[32m[I 2021-08-13 12:47:56,145]\u001b[0m Trial 2 finished with value: 0.8735308768816451 and parameters: {'booster': 'gbtree', 'lambda': 0.5129107222887885, 'alpha': 1.892411584790074e-08, 'resample': 'smote', 'early_stopping_rounds': 50, 'max_depth': 7, 'eta': 0.06381805484105597, 'gamma': 1.2105546224606531e-05, 'grow_policy': 'lossguide', 'min_child_weight': 9, 'subsample': 0.37586650872108396, 'colsample_bytree': 0.9947986632299182, 'max_delta_step': 5}. Best is trial 0 with value: 0.8841179034542879.\u001b[0m\n",
      "\u001b[32m[I 2021-08-13 12:49:52,999]\u001b[0m Trial 3 finished with value: 0.810478058500288 and parameters: {'booster': 'gblinear', 'lambda': 1.3783540250828343, 'alpha': 7.362813308853567e-07, 'resample': 'oss', 'early_stopping_rounds': 150}. Best is trial 0 with value: 0.8841179034542879.\u001b[0m\n"
     ]
    }
   ],
   "source": [
    "study_xgb = optuna.create_study(direction='maximize')\n",
    "\n",
    "study_xgb.optimize(objective, \n",
    "               timeout=60*5, \n",
    "               #n_trials=20, \n",
    "               gc_after_trial=True)"
   ]
  },
  {
   "cell_type": "code",
   "execution_count": 8,
   "metadata": {
    "execution": {
     "iopub.execute_input": "2021-08-13T12:49:53.156763Z",
     "iopub.status.busy": "2021-08-13T12:49:53.156207Z",
     "iopub.status.idle": "2021-08-13T12:49:53.166919Z",
     "shell.execute_reply": "2021-08-13T12:49:53.167370Z",
     "shell.execute_reply.started": "2021-08-12T04:41:59.496437Z"
    },
    "papermill": {
     "duration": 0.03191,
     "end_time": "2021-08-13T12:49:53.167550",
     "exception": false,
     "start_time": "2021-08-13T12:49:53.135640",
     "status": "completed"
    },
    "tags": []
   },
   "outputs": [
    {
     "name": "stdout",
     "output_type": "stream",
     "text": [
      "-> Number of finished trials:  4\n",
      "-> Best trial:\n",
      "\tValue: 0.8841179034542879\n",
      "-> Params: \n"
     ]
    },
    {
     "data": {
      "text/plain": [
       "{'booster': 'gbtree',\n",
       " 'lambda': 0.00010784293169012414,\n",
       " 'alpha': 1.4757524682608682e-07,\n",
       " 'resample': 'tomek',\n",
       " 'early_stopping_rounds': 50,\n",
       " 'max_depth': 8,\n",
       " 'eta': 0.029304793125164676,\n",
       " 'gamma': 0.0002742422766267376,\n",
       " 'grow_policy': 'depthwise',\n",
       " 'min_child_weight': 20,\n",
       " 'subsample': 0.9634918462856418,\n",
       " 'colsample_bytree': 0.6407865653648729,\n",
       " 'max_delta_step': 10}"
      ]
     },
     "execution_count": 8,
     "metadata": {},
     "output_type": "execute_result"
    }
   ],
   "source": [
    "print('-> Number of finished trials: ', len(study_xgb.trials))\n",
    "print('-> Best trial:')\n",
    "trial = study_xgb.best_trial\n",
    "print('\\tValue: {}'.format(trial.value))\n",
    "print('-> Params: ')\n",
    "trial.params"
   ]
  },
  {
   "cell_type": "code",
   "execution_count": 9,
   "metadata": {
    "execution": {
     "iopub.execute_input": "2021-08-13T12:49:53.208296Z",
     "iopub.status.busy": "2021-08-13T12:49:53.207708Z",
     "iopub.status.idle": "2021-08-13T12:49:53.367801Z",
     "shell.execute_reply": "2021-08-13T12:49:53.367314Z",
     "shell.execute_reply.started": "2021-08-12T04:42:21.369163Z"
    },
    "papermill": {
     "duration": 0.181557,
     "end_time": "2021-08-13T12:49:53.367956",
     "exception": false,
     "start_time": "2021-08-13T12:49:53.186399",
     "status": "completed"
    },
    "tags": []
   },
   "outputs": [
    {
     "data": {
      "text/html": [
       "        <script type=\"text/javascript\">\n",
       "        window.PlotlyConfig = {MathJaxConfig: 'local'};\n",
       "        if (window.MathJax) {MathJax.Hub.Config({SVG: {font: \"STIX-Web\"}});}\n",
       "        if (typeof require !== 'undefined') {\n",
       "        require.undef(\"plotly\");\n",
       "        requirejs.config({\n",
       "            paths: {\n",
       "                'plotly': ['https://cdn.plot.ly/plotly-2.2.0.min']\n",
       "            }\n",
       "        });\n",
       "        require(['plotly'], function(Plotly) {\n",
       "            window._Plotly = Plotly;\n",
       "        });\n",
       "        }\n",
       "        </script>\n",
       "        "
      ]
     },
     "metadata": {},
     "output_type": "display_data"
    },
    {
     "data": {
      "text/html": [
       "<div>                            <div id=\"231f1663-cd4e-48e2-a7ee-8356a672ad97\" class=\"plotly-graph-div\" style=\"height:525px; width:100%;\"></div>            <script type=\"text/javascript\">                require([\"plotly\"], function(Plotly) {                    window.PLOTLYENV=window.PLOTLYENV || {};                                    if (document.getElementById(\"231f1663-cd4e-48e2-a7ee-8356a672ad97\")) {                    Plotly.newPlot(                        \"231f1663-cd4e-48e2-a7ee-8356a672ad97\",                        [{\"mode\":\"markers\",\"name\":\"Objective Value\",\"type\":\"scatter\",\"x\":[0,1,2,3],\"y\":[0.8841179034542879,0.8805227354099535,0.8735308768816451,0.810478058500288]},{\"name\":\"Best Value\",\"type\":\"scatter\",\"x\":[0,1,2,3],\"y\":[0.8841179034542879,0.8841179034542879,0.8841179034542879,0.8841179034542879]}],                        {\"template\":{\"data\":{\"bar\":[{\"error_x\":{\"color\":\"#2a3f5f\"},\"error_y\":{\"color\":\"#2a3f5f\"},\"marker\":{\"line\":{\"color\":\"#E5ECF6\",\"width\":0.5},\"pattern\":{\"fillmode\":\"overlay\",\"size\":10,\"solidity\":0.2}},\"type\":\"bar\"}],\"barpolar\":[{\"marker\":{\"line\":{\"color\":\"#E5ECF6\",\"width\":0.5},\"pattern\":{\"fillmode\":\"overlay\",\"size\":10,\"solidity\":0.2}},\"type\":\"barpolar\"}],\"carpet\":[{\"aaxis\":{\"endlinecolor\":\"#2a3f5f\",\"gridcolor\":\"white\",\"linecolor\":\"white\",\"minorgridcolor\":\"white\",\"startlinecolor\":\"#2a3f5f\"},\"baxis\":{\"endlinecolor\":\"#2a3f5f\",\"gridcolor\":\"white\",\"linecolor\":\"white\",\"minorgridcolor\":\"white\",\"startlinecolor\":\"#2a3f5f\"},\"type\":\"carpet\"}],\"choropleth\":[{\"colorbar\":{\"outlinewidth\":0,\"ticks\":\"\"},\"type\":\"choropleth\"}],\"contour\":[{\"colorbar\":{\"outlinewidth\":0,\"ticks\":\"\"},\"colorscale\":[[0.0,\"#0d0887\"],[0.1111111111111111,\"#46039f\"],[0.2222222222222222,\"#7201a8\"],[0.3333333333333333,\"#9c179e\"],[0.4444444444444444,\"#bd3786\"],[0.5555555555555556,\"#d8576b\"],[0.6666666666666666,\"#ed7953\"],[0.7777777777777778,\"#fb9f3a\"],[0.8888888888888888,\"#fdca26\"],[1.0,\"#f0f921\"]],\"type\":\"contour\"}],\"contourcarpet\":[{\"colorbar\":{\"outlinewidth\":0,\"ticks\":\"\"},\"type\":\"contourcarpet\"}],\"heatmap\":[{\"colorbar\":{\"outlinewidth\":0,\"ticks\":\"\"},\"colorscale\":[[0.0,\"#0d0887\"],[0.1111111111111111,\"#46039f\"],[0.2222222222222222,\"#7201a8\"],[0.3333333333333333,\"#9c179e\"],[0.4444444444444444,\"#bd3786\"],[0.5555555555555556,\"#d8576b\"],[0.6666666666666666,\"#ed7953\"],[0.7777777777777778,\"#fb9f3a\"],[0.8888888888888888,\"#fdca26\"],[1.0,\"#f0f921\"]],\"type\":\"heatmap\"}],\"heatmapgl\":[{\"colorbar\":{\"outlinewidth\":0,\"ticks\":\"\"},\"colorscale\":[[0.0,\"#0d0887\"],[0.1111111111111111,\"#46039f\"],[0.2222222222222222,\"#7201a8\"],[0.3333333333333333,\"#9c179e\"],[0.4444444444444444,\"#bd3786\"],[0.5555555555555556,\"#d8576b\"],[0.6666666666666666,\"#ed7953\"],[0.7777777777777778,\"#fb9f3a\"],[0.8888888888888888,\"#fdca26\"],[1.0,\"#f0f921\"]],\"type\":\"heatmapgl\"}],\"histogram\":[{\"marker\":{\"pattern\":{\"fillmode\":\"overlay\",\"size\":10,\"solidity\":0.2}},\"type\":\"histogram\"}],\"histogram2d\":[{\"colorbar\":{\"outlinewidth\":0,\"ticks\":\"\"},\"colorscale\":[[0.0,\"#0d0887\"],[0.1111111111111111,\"#46039f\"],[0.2222222222222222,\"#7201a8\"],[0.3333333333333333,\"#9c179e\"],[0.4444444444444444,\"#bd3786\"],[0.5555555555555556,\"#d8576b\"],[0.6666666666666666,\"#ed7953\"],[0.7777777777777778,\"#fb9f3a\"],[0.8888888888888888,\"#fdca26\"],[1.0,\"#f0f921\"]],\"type\":\"histogram2d\"}],\"histogram2dcontour\":[{\"colorbar\":{\"outlinewidth\":0,\"ticks\":\"\"},\"colorscale\":[[0.0,\"#0d0887\"],[0.1111111111111111,\"#46039f\"],[0.2222222222222222,\"#7201a8\"],[0.3333333333333333,\"#9c179e\"],[0.4444444444444444,\"#bd3786\"],[0.5555555555555556,\"#d8576b\"],[0.6666666666666666,\"#ed7953\"],[0.7777777777777778,\"#fb9f3a\"],[0.8888888888888888,\"#fdca26\"],[1.0,\"#f0f921\"]],\"type\":\"histogram2dcontour\"}],\"mesh3d\":[{\"colorbar\":{\"outlinewidth\":0,\"ticks\":\"\"},\"type\":\"mesh3d\"}],\"parcoords\":[{\"line\":{\"colorbar\":{\"outlinewidth\":0,\"ticks\":\"\"}},\"type\":\"parcoords\"}],\"pie\":[{\"automargin\":true,\"type\":\"pie\"}],\"scatter\":[{\"marker\":{\"colorbar\":{\"outlinewidth\":0,\"ticks\":\"\"}},\"type\":\"scatter\"}],\"scatter3d\":[{\"line\":{\"colorbar\":{\"outlinewidth\":0,\"ticks\":\"\"}},\"marker\":{\"colorbar\":{\"outlinewidth\":0,\"ticks\":\"\"}},\"type\":\"scatter3d\"}],\"scattercarpet\":[{\"marker\":{\"colorbar\":{\"outlinewidth\":0,\"ticks\":\"\"}},\"type\":\"scattercarpet\"}],\"scattergeo\":[{\"marker\":{\"colorbar\":{\"outlinewidth\":0,\"ticks\":\"\"}},\"type\":\"scattergeo\"}],\"scattergl\":[{\"marker\":{\"colorbar\":{\"outlinewidth\":0,\"ticks\":\"\"}},\"type\":\"scattergl\"}],\"scattermapbox\":[{\"marker\":{\"colorbar\":{\"outlinewidth\":0,\"ticks\":\"\"}},\"type\":\"scattermapbox\"}],\"scatterpolar\":[{\"marker\":{\"colorbar\":{\"outlinewidth\":0,\"ticks\":\"\"}},\"type\":\"scatterpolar\"}],\"scatterpolargl\":[{\"marker\":{\"colorbar\":{\"outlinewidth\":0,\"ticks\":\"\"}},\"type\":\"scatterpolargl\"}],\"scatterternary\":[{\"marker\":{\"colorbar\":{\"outlinewidth\":0,\"ticks\":\"\"}},\"type\":\"scatterternary\"}],\"surface\":[{\"colorbar\":{\"outlinewidth\":0,\"ticks\":\"\"},\"colorscale\":[[0.0,\"#0d0887\"],[0.1111111111111111,\"#46039f\"],[0.2222222222222222,\"#7201a8\"],[0.3333333333333333,\"#9c179e\"],[0.4444444444444444,\"#bd3786\"],[0.5555555555555556,\"#d8576b\"],[0.6666666666666666,\"#ed7953\"],[0.7777777777777778,\"#fb9f3a\"],[0.8888888888888888,\"#fdca26\"],[1.0,\"#f0f921\"]],\"type\":\"surface\"}],\"table\":[{\"cells\":{\"fill\":{\"color\":\"#EBF0F8\"},\"line\":{\"color\":\"white\"}},\"header\":{\"fill\":{\"color\":\"#C8D4E3\"},\"line\":{\"color\":\"white\"}},\"type\":\"table\"}]},\"layout\":{\"annotationdefaults\":{\"arrowcolor\":\"#2a3f5f\",\"arrowhead\":0,\"arrowwidth\":1},\"autotypenumbers\":\"strict\",\"coloraxis\":{\"colorbar\":{\"outlinewidth\":0,\"ticks\":\"\"}},\"colorscale\":{\"diverging\":[[0,\"#8e0152\"],[0.1,\"#c51b7d\"],[0.2,\"#de77ae\"],[0.3,\"#f1b6da\"],[0.4,\"#fde0ef\"],[0.5,\"#f7f7f7\"],[0.6,\"#e6f5d0\"],[0.7,\"#b8e186\"],[0.8,\"#7fbc41\"],[0.9,\"#4d9221\"],[1,\"#276419\"]],\"sequential\":[[0.0,\"#0d0887\"],[0.1111111111111111,\"#46039f\"],[0.2222222222222222,\"#7201a8\"],[0.3333333333333333,\"#9c179e\"],[0.4444444444444444,\"#bd3786\"],[0.5555555555555556,\"#d8576b\"],[0.6666666666666666,\"#ed7953\"],[0.7777777777777778,\"#fb9f3a\"],[0.8888888888888888,\"#fdca26\"],[1.0,\"#f0f921\"]],\"sequentialminus\":[[0.0,\"#0d0887\"],[0.1111111111111111,\"#46039f\"],[0.2222222222222222,\"#7201a8\"],[0.3333333333333333,\"#9c179e\"],[0.4444444444444444,\"#bd3786\"],[0.5555555555555556,\"#d8576b\"],[0.6666666666666666,\"#ed7953\"],[0.7777777777777778,\"#fb9f3a\"],[0.8888888888888888,\"#fdca26\"],[1.0,\"#f0f921\"]]},\"colorway\":[\"#636efa\",\"#EF553B\",\"#00cc96\",\"#ab63fa\",\"#FFA15A\",\"#19d3f3\",\"#FF6692\",\"#B6E880\",\"#FF97FF\",\"#FECB52\"],\"font\":{\"color\":\"#2a3f5f\"},\"geo\":{\"bgcolor\":\"white\",\"lakecolor\":\"white\",\"landcolor\":\"#E5ECF6\",\"showlakes\":true,\"showland\":true,\"subunitcolor\":\"white\"},\"hoverlabel\":{\"align\":\"left\"},\"hovermode\":\"closest\",\"mapbox\":{\"style\":\"light\"},\"paper_bgcolor\":\"white\",\"plot_bgcolor\":\"#E5ECF6\",\"polar\":{\"angularaxis\":{\"gridcolor\":\"white\",\"linecolor\":\"white\",\"ticks\":\"\"},\"bgcolor\":\"#E5ECF6\",\"radialaxis\":{\"gridcolor\":\"white\",\"linecolor\":\"white\",\"ticks\":\"\"}},\"scene\":{\"xaxis\":{\"backgroundcolor\":\"#E5ECF6\",\"gridcolor\":\"white\",\"gridwidth\":2,\"linecolor\":\"white\",\"showbackground\":true,\"ticks\":\"\",\"zerolinecolor\":\"white\"},\"yaxis\":{\"backgroundcolor\":\"#E5ECF6\",\"gridcolor\":\"white\",\"gridwidth\":2,\"linecolor\":\"white\",\"showbackground\":true,\"ticks\":\"\",\"zerolinecolor\":\"white\"},\"zaxis\":{\"backgroundcolor\":\"#E5ECF6\",\"gridcolor\":\"white\",\"gridwidth\":2,\"linecolor\":\"white\",\"showbackground\":true,\"ticks\":\"\",\"zerolinecolor\":\"white\"}},\"shapedefaults\":{\"line\":{\"color\":\"#2a3f5f\"}},\"ternary\":{\"aaxis\":{\"gridcolor\":\"white\",\"linecolor\":\"white\",\"ticks\":\"\"},\"baxis\":{\"gridcolor\":\"white\",\"linecolor\":\"white\",\"ticks\":\"\"},\"bgcolor\":\"#E5ECF6\",\"caxis\":{\"gridcolor\":\"white\",\"linecolor\":\"white\",\"ticks\":\"\"}},\"title\":{\"x\":0.05},\"xaxis\":{\"automargin\":true,\"gridcolor\":\"white\",\"linecolor\":\"white\",\"ticks\":\"\",\"title\":{\"standoff\":15},\"zerolinecolor\":\"white\",\"zerolinewidth\":2},\"yaxis\":{\"automargin\":true,\"gridcolor\":\"white\",\"linecolor\":\"white\",\"ticks\":\"\",\"title\":{\"standoff\":15},\"zerolinecolor\":\"white\",\"zerolinewidth\":2}}},\"title\":{\"text\":\"Optimization History Plot\"},\"xaxis\":{\"title\":{\"text\":\"#Trials\"}},\"yaxis\":{\"title\":{\"text\":\"Objective Value\"}}},                        {\"responsive\": true}                    ).then(function(){\n",
       "                            \n",
       "var gd = document.getElementById('231f1663-cd4e-48e2-a7ee-8356a672ad97');\n",
       "var x = new MutationObserver(function (mutations, observer) {{\n",
       "        var display = window.getComputedStyle(gd).display;\n",
       "        if (!display || display === 'none') {{\n",
       "            console.log([gd, 'removed!']);\n",
       "            Plotly.purge(gd);\n",
       "            observer.disconnect();\n",
       "        }}\n",
       "}});\n",
       "\n",
       "// Listen for the removal of the full notebook cells\n",
       "var notebookContainer = gd.closest('#notebook-container');\n",
       "if (notebookContainer) {{\n",
       "    x.observe(notebookContainer, {childList: true});\n",
       "}}\n",
       "\n",
       "// Listen for the clearing of the current output cell\n",
       "var outputEl = gd.closest('.output');\n",
       "if (outputEl) {{\n",
       "    x.observe(outputEl, {childList: true});\n",
       "}}\n",
       "\n",
       "                        })                };                });            </script>        </div>"
      ]
     },
     "metadata": {},
     "output_type": "display_data"
    }
   ],
   "source": [
    "plot_optimization_history(study_xgb)"
   ]
  },
  {
   "cell_type": "code",
   "execution_count": 10,
   "metadata": {
    "execution": {
     "iopub.execute_input": "2021-08-13T12:49:53.414667Z",
     "iopub.status.busy": "2021-08-13T12:49:53.413825Z",
     "iopub.status.idle": "2021-08-13T12:49:53.493212Z",
     "shell.execute_reply": "2021-08-13T12:49:53.492582Z",
     "shell.execute_reply.started": "2021-08-12T04:42:22.253232Z"
    },
    "papermill": {
     "duration": 0.104438,
     "end_time": "2021-08-13T12:49:53.493348",
     "exception": false,
     "start_time": "2021-08-13T12:49:53.388910",
     "status": "completed"
    },
    "tags": []
   },
   "outputs": [
    {
     "data": {
      "text/html": [
       "<div>                            <div id=\"08cda711-9c93-48de-9c11-0b3cfda95dc6\" class=\"plotly-graph-div\" style=\"height:525px; width:100%;\"></div>            <script type=\"text/javascript\">                require([\"plotly\"], function(Plotly) {                    window.PLOTLYENV=window.PLOTLYENV || {};                                    if (document.getElementById(\"08cda711-9c93-48de-9c11-0b3cfda95dc6\")) {                    Plotly.newPlot(                        \"08cda711-9c93-48de-9c11-0b3cfda95dc6\",                        [{\"dimensions\":[{\"label\":\"Objective Value\",\"range\":[0.810478058500288,0.8841179034542879],\"values\":[0.8841179034542879,0.8805227354099535,0.8735308768816451,0.810478058500288]},{\"label\":\"alpha\",\"range\":[-7.7229844019915745,0.6604991978370446],\"ticktext\":[\"1.89e-08\",\"1e-07\",\"1e-06\",\"1e-05\",\"0.0001\",\"0.001\",\"0.01\",\"0.1\",\"1\",\"4.58\"],\"tickvals\":[-7.7229844019915745,-7,-6,-5,-4,-3,-2,-1,0,0.6604991978370446],\"values\":[-6.830986481729551,0.6604991978370446,-7.7229844019915745,-6.132956211334058]},{\"label\":\"booster\",\"range\":[0,1],\"ticktext\":[\"gbtree\",\"gblinear\"],\"tickvals\":[0,1],\"values\":[0,0,0,1]},{\"label\":\"colsample_bytree\",\"range\":[0.5829112402678774,0.9947986632299182],\"values\":[0.6407865653648729,0.5829112402678774,0.9947986632299182]},{\"label\":\"early_stopping_ro...\",\"range\":[50,150],\"values\":[50,50,50,150]},{\"label\":\"eta\",\"range\":[-1.5362589411855183,-1.1950564371320085],\"ticktext\":[\"0.0291\",\"0.0638\"],\"tickvals\":[-1.5362589411855183,-1.1950564371320085],\"values\":[-1.533061340138583,-1.5362589411855183,-1.1950564371320085]},{\"label\":\"gamma\",\"range\":[-4.917015609610893,-0.49978098319881215],\"ticktext\":[\"1.21e-05\",\"0.0001\",\"0.001\",\"0.01\",\"0.1\",\"0.316\"],\"tickvals\":[-4.917015609610893,-4,-3,-2,-1,-0.49978098319881215],\"values\":[-3.561865594439198,-0.49978098319881215,-4.917015609610893]},{\"label\":\"grow_policy\",\"range\":[0,1],\"ticktext\":[\"depthwise\",\"lossguide\"],\"tickvals\":[0,1],\"values\":[0,0,1]},{\"label\":\"lambda\",\"range\":[-3.9672083144332237,0.1393607788147395],\"ticktext\":[\"0.000108\",\"0.001\",\"0.01\",\"0.1\",\"1\",\"1.38\"],\"tickvals\":[-3.9672083144332237,-3,-2,-1,0,0.1393607788147395],\"values\":[-3.9672083144332237,-0.3491749661393252,-0.28995822200622745,0.1393607788147395]},{\"label\":\"max_delta_step\",\"range\":[5,10],\"values\":[10,7,5]},{\"label\":\"max_depth\",\"range\":[2,8],\"values\":[8,2,7]},{\"label\":\"min_child_weight\",\"range\":[9,20],\"values\":[20,14,9]},{\"label\":\"resample\",\"range\":[0,2],\"ticktext\":[\"tomek\",\"smote\",\"oss\"],\"tickvals\":[0,1,2],\"values\":[0,0,1,2]},{\"label\":\"subsample\",\"range\":[0.37586650872108396,0.9634918462856418],\"values\":[0.9634918462856418,0.8147328745066488,0.37586650872108396]}],\"labelangle\":30,\"labelside\":\"bottom\",\"line\":{\"color\":[0.8841179034542879,0.8805227354099535,0.8735308768816451,0.810478058500288],\"colorbar\":{\"title\":{\"text\":\"Objective Value\"}},\"colorscale\":[[0.0,\"rgb(247,251,255)\"],[0.125,\"rgb(222,235,247)\"],[0.25,\"rgb(198,219,239)\"],[0.375,\"rgb(158,202,225)\"],[0.5,\"rgb(107,174,214)\"],[0.625,\"rgb(66,146,198)\"],[0.75,\"rgb(33,113,181)\"],[0.875,\"rgb(8,81,156)\"],[1.0,\"rgb(8,48,107)\"]],\"reversescale\":false,\"showscale\":true},\"type\":\"parcoords\"}],                        {\"template\":{\"data\":{\"bar\":[{\"error_x\":{\"color\":\"#2a3f5f\"},\"error_y\":{\"color\":\"#2a3f5f\"},\"marker\":{\"line\":{\"color\":\"#E5ECF6\",\"width\":0.5},\"pattern\":{\"fillmode\":\"overlay\",\"size\":10,\"solidity\":0.2}},\"type\":\"bar\"}],\"barpolar\":[{\"marker\":{\"line\":{\"color\":\"#E5ECF6\",\"width\":0.5},\"pattern\":{\"fillmode\":\"overlay\",\"size\":10,\"solidity\":0.2}},\"type\":\"barpolar\"}],\"carpet\":[{\"aaxis\":{\"endlinecolor\":\"#2a3f5f\",\"gridcolor\":\"white\",\"linecolor\":\"white\",\"minorgridcolor\":\"white\",\"startlinecolor\":\"#2a3f5f\"},\"baxis\":{\"endlinecolor\":\"#2a3f5f\",\"gridcolor\":\"white\",\"linecolor\":\"white\",\"minorgridcolor\":\"white\",\"startlinecolor\":\"#2a3f5f\"},\"type\":\"carpet\"}],\"choropleth\":[{\"colorbar\":{\"outlinewidth\":0,\"ticks\":\"\"},\"type\":\"choropleth\"}],\"contour\":[{\"colorbar\":{\"outlinewidth\":0,\"ticks\":\"\"},\"colorscale\":[[0.0,\"#0d0887\"],[0.1111111111111111,\"#46039f\"],[0.2222222222222222,\"#7201a8\"],[0.3333333333333333,\"#9c179e\"],[0.4444444444444444,\"#bd3786\"],[0.5555555555555556,\"#d8576b\"],[0.6666666666666666,\"#ed7953\"],[0.7777777777777778,\"#fb9f3a\"],[0.8888888888888888,\"#fdca26\"],[1.0,\"#f0f921\"]],\"type\":\"contour\"}],\"contourcarpet\":[{\"colorbar\":{\"outlinewidth\":0,\"ticks\":\"\"},\"type\":\"contourcarpet\"}],\"heatmap\":[{\"colorbar\":{\"outlinewidth\":0,\"ticks\":\"\"},\"colorscale\":[[0.0,\"#0d0887\"],[0.1111111111111111,\"#46039f\"],[0.2222222222222222,\"#7201a8\"],[0.3333333333333333,\"#9c179e\"],[0.4444444444444444,\"#bd3786\"],[0.5555555555555556,\"#d8576b\"],[0.6666666666666666,\"#ed7953\"],[0.7777777777777778,\"#fb9f3a\"],[0.8888888888888888,\"#fdca26\"],[1.0,\"#f0f921\"]],\"type\":\"heatmap\"}],\"heatmapgl\":[{\"colorbar\":{\"outlinewidth\":0,\"ticks\":\"\"},\"colorscale\":[[0.0,\"#0d0887\"],[0.1111111111111111,\"#46039f\"],[0.2222222222222222,\"#7201a8\"],[0.3333333333333333,\"#9c179e\"],[0.4444444444444444,\"#bd3786\"],[0.5555555555555556,\"#d8576b\"],[0.6666666666666666,\"#ed7953\"],[0.7777777777777778,\"#fb9f3a\"],[0.8888888888888888,\"#fdca26\"],[1.0,\"#f0f921\"]],\"type\":\"heatmapgl\"}],\"histogram\":[{\"marker\":{\"pattern\":{\"fillmode\":\"overlay\",\"size\":10,\"solidity\":0.2}},\"type\":\"histogram\"}],\"histogram2d\":[{\"colorbar\":{\"outlinewidth\":0,\"ticks\":\"\"},\"colorscale\":[[0.0,\"#0d0887\"],[0.1111111111111111,\"#46039f\"],[0.2222222222222222,\"#7201a8\"],[0.3333333333333333,\"#9c179e\"],[0.4444444444444444,\"#bd3786\"],[0.5555555555555556,\"#d8576b\"],[0.6666666666666666,\"#ed7953\"],[0.7777777777777778,\"#fb9f3a\"],[0.8888888888888888,\"#fdca26\"],[1.0,\"#f0f921\"]],\"type\":\"histogram2d\"}],\"histogram2dcontour\":[{\"colorbar\":{\"outlinewidth\":0,\"ticks\":\"\"},\"colorscale\":[[0.0,\"#0d0887\"],[0.1111111111111111,\"#46039f\"],[0.2222222222222222,\"#7201a8\"],[0.3333333333333333,\"#9c179e\"],[0.4444444444444444,\"#bd3786\"],[0.5555555555555556,\"#d8576b\"],[0.6666666666666666,\"#ed7953\"],[0.7777777777777778,\"#fb9f3a\"],[0.8888888888888888,\"#fdca26\"],[1.0,\"#f0f921\"]],\"type\":\"histogram2dcontour\"}],\"mesh3d\":[{\"colorbar\":{\"outlinewidth\":0,\"ticks\":\"\"},\"type\":\"mesh3d\"}],\"parcoords\":[{\"line\":{\"colorbar\":{\"outlinewidth\":0,\"ticks\":\"\"}},\"type\":\"parcoords\"}],\"pie\":[{\"automargin\":true,\"type\":\"pie\"}],\"scatter\":[{\"marker\":{\"colorbar\":{\"outlinewidth\":0,\"ticks\":\"\"}},\"type\":\"scatter\"}],\"scatter3d\":[{\"line\":{\"colorbar\":{\"outlinewidth\":0,\"ticks\":\"\"}},\"marker\":{\"colorbar\":{\"outlinewidth\":0,\"ticks\":\"\"}},\"type\":\"scatter3d\"}],\"scattercarpet\":[{\"marker\":{\"colorbar\":{\"outlinewidth\":0,\"ticks\":\"\"}},\"type\":\"scattercarpet\"}],\"scattergeo\":[{\"marker\":{\"colorbar\":{\"outlinewidth\":0,\"ticks\":\"\"}},\"type\":\"scattergeo\"}],\"scattergl\":[{\"marker\":{\"colorbar\":{\"outlinewidth\":0,\"ticks\":\"\"}},\"type\":\"scattergl\"}],\"scattermapbox\":[{\"marker\":{\"colorbar\":{\"outlinewidth\":0,\"ticks\":\"\"}},\"type\":\"scattermapbox\"}],\"scatterpolar\":[{\"marker\":{\"colorbar\":{\"outlinewidth\":0,\"ticks\":\"\"}},\"type\":\"scatterpolar\"}],\"scatterpolargl\":[{\"marker\":{\"colorbar\":{\"outlinewidth\":0,\"ticks\":\"\"}},\"type\":\"scatterpolargl\"}],\"scatterternary\":[{\"marker\":{\"colorbar\":{\"outlinewidth\":0,\"ticks\":\"\"}},\"type\":\"scatterternary\"}],\"surface\":[{\"colorbar\":{\"outlinewidth\":0,\"ticks\":\"\"},\"colorscale\":[[0.0,\"#0d0887\"],[0.1111111111111111,\"#46039f\"],[0.2222222222222222,\"#7201a8\"],[0.3333333333333333,\"#9c179e\"],[0.4444444444444444,\"#bd3786\"],[0.5555555555555556,\"#d8576b\"],[0.6666666666666666,\"#ed7953\"],[0.7777777777777778,\"#fb9f3a\"],[0.8888888888888888,\"#fdca26\"],[1.0,\"#f0f921\"]],\"type\":\"surface\"}],\"table\":[{\"cells\":{\"fill\":{\"color\":\"#EBF0F8\"},\"line\":{\"color\":\"white\"}},\"header\":{\"fill\":{\"color\":\"#C8D4E3\"},\"line\":{\"color\":\"white\"}},\"type\":\"table\"}]},\"layout\":{\"annotationdefaults\":{\"arrowcolor\":\"#2a3f5f\",\"arrowhead\":0,\"arrowwidth\":1},\"autotypenumbers\":\"strict\",\"coloraxis\":{\"colorbar\":{\"outlinewidth\":0,\"ticks\":\"\"}},\"colorscale\":{\"diverging\":[[0,\"#8e0152\"],[0.1,\"#c51b7d\"],[0.2,\"#de77ae\"],[0.3,\"#f1b6da\"],[0.4,\"#fde0ef\"],[0.5,\"#f7f7f7\"],[0.6,\"#e6f5d0\"],[0.7,\"#b8e186\"],[0.8,\"#7fbc41\"],[0.9,\"#4d9221\"],[1,\"#276419\"]],\"sequential\":[[0.0,\"#0d0887\"],[0.1111111111111111,\"#46039f\"],[0.2222222222222222,\"#7201a8\"],[0.3333333333333333,\"#9c179e\"],[0.4444444444444444,\"#bd3786\"],[0.5555555555555556,\"#d8576b\"],[0.6666666666666666,\"#ed7953\"],[0.7777777777777778,\"#fb9f3a\"],[0.8888888888888888,\"#fdca26\"],[1.0,\"#f0f921\"]],\"sequentialminus\":[[0.0,\"#0d0887\"],[0.1111111111111111,\"#46039f\"],[0.2222222222222222,\"#7201a8\"],[0.3333333333333333,\"#9c179e\"],[0.4444444444444444,\"#bd3786\"],[0.5555555555555556,\"#d8576b\"],[0.6666666666666666,\"#ed7953\"],[0.7777777777777778,\"#fb9f3a\"],[0.8888888888888888,\"#fdca26\"],[1.0,\"#f0f921\"]]},\"colorway\":[\"#636efa\",\"#EF553B\",\"#00cc96\",\"#ab63fa\",\"#FFA15A\",\"#19d3f3\",\"#FF6692\",\"#B6E880\",\"#FF97FF\",\"#FECB52\"],\"font\":{\"color\":\"#2a3f5f\"},\"geo\":{\"bgcolor\":\"white\",\"lakecolor\":\"white\",\"landcolor\":\"#E5ECF6\",\"showlakes\":true,\"showland\":true,\"subunitcolor\":\"white\"},\"hoverlabel\":{\"align\":\"left\"},\"hovermode\":\"closest\",\"mapbox\":{\"style\":\"light\"},\"paper_bgcolor\":\"white\",\"plot_bgcolor\":\"#E5ECF6\",\"polar\":{\"angularaxis\":{\"gridcolor\":\"white\",\"linecolor\":\"white\",\"ticks\":\"\"},\"bgcolor\":\"#E5ECF6\",\"radialaxis\":{\"gridcolor\":\"white\",\"linecolor\":\"white\",\"ticks\":\"\"}},\"scene\":{\"xaxis\":{\"backgroundcolor\":\"#E5ECF6\",\"gridcolor\":\"white\",\"gridwidth\":2,\"linecolor\":\"white\",\"showbackground\":true,\"ticks\":\"\",\"zerolinecolor\":\"white\"},\"yaxis\":{\"backgroundcolor\":\"#E5ECF6\",\"gridcolor\":\"white\",\"gridwidth\":2,\"linecolor\":\"white\",\"showbackground\":true,\"ticks\":\"\",\"zerolinecolor\":\"white\"},\"zaxis\":{\"backgroundcolor\":\"#E5ECF6\",\"gridcolor\":\"white\",\"gridwidth\":2,\"linecolor\":\"white\",\"showbackground\":true,\"ticks\":\"\",\"zerolinecolor\":\"white\"}},\"shapedefaults\":{\"line\":{\"color\":\"#2a3f5f\"}},\"ternary\":{\"aaxis\":{\"gridcolor\":\"white\",\"linecolor\":\"white\",\"ticks\":\"\"},\"baxis\":{\"gridcolor\":\"white\",\"linecolor\":\"white\",\"ticks\":\"\"},\"bgcolor\":\"#E5ECF6\",\"caxis\":{\"gridcolor\":\"white\",\"linecolor\":\"white\",\"ticks\":\"\"}},\"title\":{\"x\":0.05},\"xaxis\":{\"automargin\":true,\"gridcolor\":\"white\",\"linecolor\":\"white\",\"ticks\":\"\",\"title\":{\"standoff\":15},\"zerolinecolor\":\"white\",\"zerolinewidth\":2},\"yaxis\":{\"automargin\":true,\"gridcolor\":\"white\",\"linecolor\":\"white\",\"ticks\":\"\",\"title\":{\"standoff\":15},\"zerolinecolor\":\"white\",\"zerolinewidth\":2}}},\"title\":{\"text\":\"Parallel Coordinate Plot\"}},                        {\"responsive\": true}                    ).then(function(){\n",
       "                            \n",
       "var gd = document.getElementById('08cda711-9c93-48de-9c11-0b3cfda95dc6');\n",
       "var x = new MutationObserver(function (mutations, observer) {{\n",
       "        var display = window.getComputedStyle(gd).display;\n",
       "        if (!display || display === 'none') {{\n",
       "            console.log([gd, 'removed!']);\n",
       "            Plotly.purge(gd);\n",
       "            observer.disconnect();\n",
       "        }}\n",
       "}});\n",
       "\n",
       "// Listen for the removal of the full notebook cells\n",
       "var notebookContainer = gd.closest('#notebook-container');\n",
       "if (notebookContainer) {{\n",
       "    x.observe(notebookContainer, {childList: true});\n",
       "}}\n",
       "\n",
       "// Listen for the clearing of the current output cell\n",
       "var outputEl = gd.closest('.output');\n",
       "if (outputEl) {{\n",
       "    x.observe(outputEl, {childList: true});\n",
       "}}\n",
       "\n",
       "                        })                };                });            </script>        </div>"
      ]
     },
     "metadata": {},
     "output_type": "display_data"
    }
   ],
   "source": [
    "optuna.visualization.plot_parallel_coordinate(study_xgb)"
   ]
  },
  {
   "cell_type": "code",
   "execution_count": 11,
   "metadata": {
    "execution": {
     "iopub.execute_input": "2021-08-13T12:49:53.538812Z",
     "iopub.status.busy": "2021-08-13T12:49:53.537959Z",
     "iopub.status.idle": "2021-08-13T12:49:53.759500Z",
     "shell.execute_reply": "2021-08-13T12:49:53.758922Z",
     "shell.execute_reply.started": "2021-08-12T04:42:25.245456Z"
    },
    "papermill": {
     "duration": 0.245956,
     "end_time": "2021-08-13T12:49:53.759648",
     "exception": false,
     "start_time": "2021-08-13T12:49:53.513692",
     "status": "completed"
    },
    "tags": []
   },
   "outputs": [
    {
     "data": {
      "text/html": [
       "<div>                            <div id=\"9e220f05-3dde-4d55-ad8c-073ed1b54444\" class=\"plotly-graph-div\" style=\"height:525px; width:100%;\"></div>            <script type=\"text/javascript\">                require([\"plotly\"], function(Plotly) {                    window.PLOTLYENV=window.PLOTLYENV || {};                                    if (document.getElementById(\"9e220f05-3dde-4d55-ad8c-073ed1b54444\")) {                    Plotly.newPlot(                        \"9e220f05-3dde-4d55-ad8c-073ed1b54444\",                        [{\"cliponaxis\":false,\"hovertemplate\":[\"alpha (LogUniformDistribution): 0.1126649793533378<extra></extra>\",\"early_stopping_rounds (IntUniformDistribution): 0.1429792250088049<extra></extra>\",\"booster (CategoricalDistribution): 0.2064996216358233<extra></extra>\",\"lambda (LogUniformDistribution): 0.2540891304729264<extra></extra>\",\"resample (CategoricalDistribution): 0.2837670435291077<extra></extra>\"],\"marker\":{\"color\":\"rgb(66,146,198)\"},\"orientation\":\"h\",\"text\":[\"0.1126649793533378\",\"0.1429792250088049\",\"0.2064996216358233\",\"0.2540891304729264\",\"0.2837670435291077\"],\"textposition\":\"outside\",\"texttemplate\":\"%{text:.2f}\",\"type\":\"bar\",\"x\":[0.1126649793533378,0.1429792250088049,0.2064996216358233,0.2540891304729264,0.2837670435291077],\"y\":[\"alpha\",\"early_stopping_rounds\",\"booster\",\"lambda\",\"resample\"]}],                        {\"showlegend\":false,\"template\":{\"data\":{\"bar\":[{\"error_x\":{\"color\":\"#2a3f5f\"},\"error_y\":{\"color\":\"#2a3f5f\"},\"marker\":{\"line\":{\"color\":\"#E5ECF6\",\"width\":0.5},\"pattern\":{\"fillmode\":\"overlay\",\"size\":10,\"solidity\":0.2}},\"type\":\"bar\"}],\"barpolar\":[{\"marker\":{\"line\":{\"color\":\"#E5ECF6\",\"width\":0.5},\"pattern\":{\"fillmode\":\"overlay\",\"size\":10,\"solidity\":0.2}},\"type\":\"barpolar\"}],\"carpet\":[{\"aaxis\":{\"endlinecolor\":\"#2a3f5f\",\"gridcolor\":\"white\",\"linecolor\":\"white\",\"minorgridcolor\":\"white\",\"startlinecolor\":\"#2a3f5f\"},\"baxis\":{\"endlinecolor\":\"#2a3f5f\",\"gridcolor\":\"white\",\"linecolor\":\"white\",\"minorgridcolor\":\"white\",\"startlinecolor\":\"#2a3f5f\"},\"type\":\"carpet\"}],\"choropleth\":[{\"colorbar\":{\"outlinewidth\":0,\"ticks\":\"\"},\"type\":\"choropleth\"}],\"contour\":[{\"colorbar\":{\"outlinewidth\":0,\"ticks\":\"\"},\"colorscale\":[[0.0,\"#0d0887\"],[0.1111111111111111,\"#46039f\"],[0.2222222222222222,\"#7201a8\"],[0.3333333333333333,\"#9c179e\"],[0.4444444444444444,\"#bd3786\"],[0.5555555555555556,\"#d8576b\"],[0.6666666666666666,\"#ed7953\"],[0.7777777777777778,\"#fb9f3a\"],[0.8888888888888888,\"#fdca26\"],[1.0,\"#f0f921\"]],\"type\":\"contour\"}],\"contourcarpet\":[{\"colorbar\":{\"outlinewidth\":0,\"ticks\":\"\"},\"type\":\"contourcarpet\"}],\"heatmap\":[{\"colorbar\":{\"outlinewidth\":0,\"ticks\":\"\"},\"colorscale\":[[0.0,\"#0d0887\"],[0.1111111111111111,\"#46039f\"],[0.2222222222222222,\"#7201a8\"],[0.3333333333333333,\"#9c179e\"],[0.4444444444444444,\"#bd3786\"],[0.5555555555555556,\"#d8576b\"],[0.6666666666666666,\"#ed7953\"],[0.7777777777777778,\"#fb9f3a\"],[0.8888888888888888,\"#fdca26\"],[1.0,\"#f0f921\"]],\"type\":\"heatmap\"}],\"heatmapgl\":[{\"colorbar\":{\"outlinewidth\":0,\"ticks\":\"\"},\"colorscale\":[[0.0,\"#0d0887\"],[0.1111111111111111,\"#46039f\"],[0.2222222222222222,\"#7201a8\"],[0.3333333333333333,\"#9c179e\"],[0.4444444444444444,\"#bd3786\"],[0.5555555555555556,\"#d8576b\"],[0.6666666666666666,\"#ed7953\"],[0.7777777777777778,\"#fb9f3a\"],[0.8888888888888888,\"#fdca26\"],[1.0,\"#f0f921\"]],\"type\":\"heatmapgl\"}],\"histogram\":[{\"marker\":{\"pattern\":{\"fillmode\":\"overlay\",\"size\":10,\"solidity\":0.2}},\"type\":\"histogram\"}],\"histogram2d\":[{\"colorbar\":{\"outlinewidth\":0,\"ticks\":\"\"},\"colorscale\":[[0.0,\"#0d0887\"],[0.1111111111111111,\"#46039f\"],[0.2222222222222222,\"#7201a8\"],[0.3333333333333333,\"#9c179e\"],[0.4444444444444444,\"#bd3786\"],[0.5555555555555556,\"#d8576b\"],[0.6666666666666666,\"#ed7953\"],[0.7777777777777778,\"#fb9f3a\"],[0.8888888888888888,\"#fdca26\"],[1.0,\"#f0f921\"]],\"type\":\"histogram2d\"}],\"histogram2dcontour\":[{\"colorbar\":{\"outlinewidth\":0,\"ticks\":\"\"},\"colorscale\":[[0.0,\"#0d0887\"],[0.1111111111111111,\"#46039f\"],[0.2222222222222222,\"#7201a8\"],[0.3333333333333333,\"#9c179e\"],[0.4444444444444444,\"#bd3786\"],[0.5555555555555556,\"#d8576b\"],[0.6666666666666666,\"#ed7953\"],[0.7777777777777778,\"#fb9f3a\"],[0.8888888888888888,\"#fdca26\"],[1.0,\"#f0f921\"]],\"type\":\"histogram2dcontour\"}],\"mesh3d\":[{\"colorbar\":{\"outlinewidth\":0,\"ticks\":\"\"},\"type\":\"mesh3d\"}],\"parcoords\":[{\"line\":{\"colorbar\":{\"outlinewidth\":0,\"ticks\":\"\"}},\"type\":\"parcoords\"}],\"pie\":[{\"automargin\":true,\"type\":\"pie\"}],\"scatter\":[{\"marker\":{\"colorbar\":{\"outlinewidth\":0,\"ticks\":\"\"}},\"type\":\"scatter\"}],\"scatter3d\":[{\"line\":{\"colorbar\":{\"outlinewidth\":0,\"ticks\":\"\"}},\"marker\":{\"colorbar\":{\"outlinewidth\":0,\"ticks\":\"\"}},\"type\":\"scatter3d\"}],\"scattercarpet\":[{\"marker\":{\"colorbar\":{\"outlinewidth\":0,\"ticks\":\"\"}},\"type\":\"scattercarpet\"}],\"scattergeo\":[{\"marker\":{\"colorbar\":{\"outlinewidth\":0,\"ticks\":\"\"}},\"type\":\"scattergeo\"}],\"scattergl\":[{\"marker\":{\"colorbar\":{\"outlinewidth\":0,\"ticks\":\"\"}},\"type\":\"scattergl\"}],\"scattermapbox\":[{\"marker\":{\"colorbar\":{\"outlinewidth\":0,\"ticks\":\"\"}},\"type\":\"scattermapbox\"}],\"scatterpolar\":[{\"marker\":{\"colorbar\":{\"outlinewidth\":0,\"ticks\":\"\"}},\"type\":\"scatterpolar\"}],\"scatterpolargl\":[{\"marker\":{\"colorbar\":{\"outlinewidth\":0,\"ticks\":\"\"}},\"type\":\"scatterpolargl\"}],\"scatterternary\":[{\"marker\":{\"colorbar\":{\"outlinewidth\":0,\"ticks\":\"\"}},\"type\":\"scatterternary\"}],\"surface\":[{\"colorbar\":{\"outlinewidth\":0,\"ticks\":\"\"},\"colorscale\":[[0.0,\"#0d0887\"],[0.1111111111111111,\"#46039f\"],[0.2222222222222222,\"#7201a8\"],[0.3333333333333333,\"#9c179e\"],[0.4444444444444444,\"#bd3786\"],[0.5555555555555556,\"#d8576b\"],[0.6666666666666666,\"#ed7953\"],[0.7777777777777778,\"#fb9f3a\"],[0.8888888888888888,\"#fdca26\"],[1.0,\"#f0f921\"]],\"type\":\"surface\"}],\"table\":[{\"cells\":{\"fill\":{\"color\":\"#EBF0F8\"},\"line\":{\"color\":\"white\"}},\"header\":{\"fill\":{\"color\":\"#C8D4E3\"},\"line\":{\"color\":\"white\"}},\"type\":\"table\"}]},\"layout\":{\"annotationdefaults\":{\"arrowcolor\":\"#2a3f5f\",\"arrowhead\":0,\"arrowwidth\":1},\"autotypenumbers\":\"strict\",\"coloraxis\":{\"colorbar\":{\"outlinewidth\":0,\"ticks\":\"\"}},\"colorscale\":{\"diverging\":[[0,\"#8e0152\"],[0.1,\"#c51b7d\"],[0.2,\"#de77ae\"],[0.3,\"#f1b6da\"],[0.4,\"#fde0ef\"],[0.5,\"#f7f7f7\"],[0.6,\"#e6f5d0\"],[0.7,\"#b8e186\"],[0.8,\"#7fbc41\"],[0.9,\"#4d9221\"],[1,\"#276419\"]],\"sequential\":[[0.0,\"#0d0887\"],[0.1111111111111111,\"#46039f\"],[0.2222222222222222,\"#7201a8\"],[0.3333333333333333,\"#9c179e\"],[0.4444444444444444,\"#bd3786\"],[0.5555555555555556,\"#d8576b\"],[0.6666666666666666,\"#ed7953\"],[0.7777777777777778,\"#fb9f3a\"],[0.8888888888888888,\"#fdca26\"],[1.0,\"#f0f921\"]],\"sequentialminus\":[[0.0,\"#0d0887\"],[0.1111111111111111,\"#46039f\"],[0.2222222222222222,\"#7201a8\"],[0.3333333333333333,\"#9c179e\"],[0.4444444444444444,\"#bd3786\"],[0.5555555555555556,\"#d8576b\"],[0.6666666666666666,\"#ed7953\"],[0.7777777777777778,\"#fb9f3a\"],[0.8888888888888888,\"#fdca26\"],[1.0,\"#f0f921\"]]},\"colorway\":[\"#636efa\",\"#EF553B\",\"#00cc96\",\"#ab63fa\",\"#FFA15A\",\"#19d3f3\",\"#FF6692\",\"#B6E880\",\"#FF97FF\",\"#FECB52\"],\"font\":{\"color\":\"#2a3f5f\"},\"geo\":{\"bgcolor\":\"white\",\"lakecolor\":\"white\",\"landcolor\":\"#E5ECF6\",\"showlakes\":true,\"showland\":true,\"subunitcolor\":\"white\"},\"hoverlabel\":{\"align\":\"left\"},\"hovermode\":\"closest\",\"mapbox\":{\"style\":\"light\"},\"paper_bgcolor\":\"white\",\"plot_bgcolor\":\"#E5ECF6\",\"polar\":{\"angularaxis\":{\"gridcolor\":\"white\",\"linecolor\":\"white\",\"ticks\":\"\"},\"bgcolor\":\"#E5ECF6\",\"radialaxis\":{\"gridcolor\":\"white\",\"linecolor\":\"white\",\"ticks\":\"\"}},\"scene\":{\"xaxis\":{\"backgroundcolor\":\"#E5ECF6\",\"gridcolor\":\"white\",\"gridwidth\":2,\"linecolor\":\"white\",\"showbackground\":true,\"ticks\":\"\",\"zerolinecolor\":\"white\"},\"yaxis\":{\"backgroundcolor\":\"#E5ECF6\",\"gridcolor\":\"white\",\"gridwidth\":2,\"linecolor\":\"white\",\"showbackground\":true,\"ticks\":\"\",\"zerolinecolor\":\"white\"},\"zaxis\":{\"backgroundcolor\":\"#E5ECF6\",\"gridcolor\":\"white\",\"gridwidth\":2,\"linecolor\":\"white\",\"showbackground\":true,\"ticks\":\"\",\"zerolinecolor\":\"white\"}},\"shapedefaults\":{\"line\":{\"color\":\"#2a3f5f\"}},\"ternary\":{\"aaxis\":{\"gridcolor\":\"white\",\"linecolor\":\"white\",\"ticks\":\"\"},\"baxis\":{\"gridcolor\":\"white\",\"linecolor\":\"white\",\"ticks\":\"\"},\"bgcolor\":\"#E5ECF6\",\"caxis\":{\"gridcolor\":\"white\",\"linecolor\":\"white\",\"ticks\":\"\"}},\"title\":{\"x\":0.05},\"xaxis\":{\"automargin\":true,\"gridcolor\":\"white\",\"linecolor\":\"white\",\"ticks\":\"\",\"title\":{\"standoff\":15},\"zerolinecolor\":\"white\",\"zerolinewidth\":2},\"yaxis\":{\"automargin\":true,\"gridcolor\":\"white\",\"linecolor\":\"white\",\"ticks\":\"\",\"title\":{\"standoff\":15},\"zerolinecolor\":\"white\",\"zerolinewidth\":2}}},\"title\":{\"text\":\"Hyperparameter Importances\"},\"xaxis\":{\"title\":{\"text\":\"Importance for Objective Value\"}},\"yaxis\":{\"title\":{\"text\":\"Hyperparameter\"}}},                        {\"responsive\": true}                    ).then(function(){\n",
       "                            \n",
       "var gd = document.getElementById('9e220f05-3dde-4d55-ad8c-073ed1b54444');\n",
       "var x = new MutationObserver(function (mutations, observer) {{\n",
       "        var display = window.getComputedStyle(gd).display;\n",
       "        if (!display || display === 'none') {{\n",
       "            console.log([gd, 'removed!']);\n",
       "            Plotly.purge(gd);\n",
       "            observer.disconnect();\n",
       "        }}\n",
       "}});\n",
       "\n",
       "// Listen for the removal of the full notebook cells\n",
       "var notebookContainer = gd.closest('#notebook-container');\n",
       "if (notebookContainer) {{\n",
       "    x.observe(notebookContainer, {childList: true});\n",
       "}}\n",
       "\n",
       "// Listen for the clearing of the current output cell\n",
       "var outputEl = gd.closest('.output');\n",
       "if (outputEl) {{\n",
       "    x.observe(outputEl, {childList: true});\n",
       "}}\n",
       "\n",
       "                        })                };                });            </script>        </div>"
      ]
     },
     "metadata": {},
     "output_type": "display_data"
    }
   ],
   "source": [
    "plot_param_importances(study_xgb)"
   ]
  },
  {
   "cell_type": "code",
   "execution_count": 12,
   "metadata": {
    "execution": {
     "iopub.execute_input": "2021-08-13T12:49:53.811189Z",
     "iopub.status.busy": "2021-08-13T12:49:53.810255Z",
     "iopub.status.idle": "2021-08-13T12:49:53.813450Z",
     "shell.execute_reply": "2021-08-13T12:49:53.812945Z",
     "shell.execute_reply.started": "2021-08-12T04:42:32.70126Z"
    },
    "papermill": {
     "duration": 0.032115,
     "end_time": "2021-08-13T12:49:53.813589",
     "exception": false,
     "start_time": "2021-08-13T12:49:53.781474",
     "status": "completed"
    },
    "tags": []
   },
   "outputs": [],
   "source": [
    "final_params_xgb = dict()\n",
    "final_params_xgb['clf']=dict(**fixed_params, **study_xgb.best_params)\n",
    "del final_params_xgb['clf']['resample']\n",
    "del final_params_xgb['clf']['early_stopping_rounds']\n",
    "\n",
    "final_params_xgb['pipe'] = dict()\n",
    "final_params_xgb['pipe']['resample'] = study_xgb.best_params['resample']\n",
    "\n",
    "final_params_xgb['fit'] = dict()\n",
    "final_params_xgb['fit']['early_stopping_rounds'] = study_xgb.best_params['early_stopping_rounds']\n",
    "\n",
    "# After long train.....\n",
    "final_params_xgb = {'clf': {'random_state': 314,\n",
    "  'objective': 'binary:logistic',\n",
    "  'eval_metric': 'logloss',\n",
    "  'use_label_encoder': False,\n",
    "  'n_estimators': 10000,\n",
    "  'booster': 'gbtree',\n",
    "  'lambda': 1.9245129630343058e-06,\n",
    "  'alpha': 0.17771161058308743,\n",
    "  'max_depth': 5,\n",
    "  'eta': 0.01122764320311446,\n",
    "  'gamma': 7.397134352580097e-06,\n",
    "  'grow_policy': 'lossguide',\n",
    "  'min_child_weight': 5,\n",
    "  'subsample': 0.8123753830625202,\n",
    "  'colsample_bytree': 0.19010362713896298,\n",
    "  'max_delta_step': 2},\n",
    " 'pipe': {'resample': 'tomek'},\n",
    " 'fit': {'early_stopping_rounds': 150}}"
   ]
  },
  {
   "cell_type": "markdown",
   "metadata": {
    "papermill": {
     "duration": 0.020802,
     "end_time": "2021-08-13T12:49:53.855331",
     "exception": false,
     "start_time": "2021-08-13T12:49:53.834529",
     "status": "completed"
    },
    "tags": []
   },
   "source": [
    "# Final Kfold prediction"
   ]
  },
  {
   "cell_type": "code",
   "execution_count": 13,
   "metadata": {
    "execution": {
     "iopub.execute_input": "2021-08-13T12:49:53.903748Z",
     "iopub.status.busy": "2021-08-13T12:49:53.903155Z",
     "iopub.status.idle": "2021-08-13T12:49:53.906063Z",
     "shell.execute_reply": "2021-08-13T12:49:53.905492Z",
     "shell.execute_reply.started": "2021-08-12T04:42:35.693079Z"
    },
    "papermill": {
     "duration": 0.029758,
     "end_time": "2021-08-13T12:49:53.906222",
     "exception": false,
     "start_time": "2021-08-13T12:49:53.876464",
     "status": "completed"
    },
    "tags": []
   },
   "outputs": [],
   "source": [
    "if final_params_xgb['pipe']['resample'] == 'adasyn':\n",
    "    res = ADASYN(random_state=42)\n",
    "elif final_params_xgb['pipe']['resample'] == 'smote':\n",
    "    res = SMOTE()\n",
    "elif final_params_xgb['pipe']['resample'] == 'tomek':\n",
    "    res = TomekLinks()\n",
    "elif final_params_xgb['pipe']['resample'] == 'ncr':\n",
    "    res = NeighbourhoodCleaningRule(n_neighbors=3,\n",
    "                                    threshold_cleaning=0.5)\n",
    "elif final_params_xgb['pipe']['resample'] == 'oss':\n",
    "    res = OneSidedSelection(n_neighbors=1, n_seeds_S=200)\n",
    "else:\n",
    "    res = None"
   ]
  },
  {
   "cell_type": "code",
   "execution_count": 14,
   "metadata": {
    "execution": {
     "iopub.execute_input": "2021-08-13T12:49:53.959227Z",
     "iopub.status.busy": "2021-08-13T12:49:53.958335Z",
     "iopub.status.idle": "2021-08-13T12:52:43.368868Z",
     "shell.execute_reply": "2021-08-13T12:52:43.369858Z",
     "shell.execute_reply.started": "2021-08-12T04:42:47.511901Z"
    },
    "papermill": {
     "duration": 169.442486,
     "end_time": "2021-08-13T12:52:43.370140",
     "exception": false,
     "start_time": "2021-08-13T12:49:53.927654",
     "status": "completed"
    },
    "tags": []
   },
   "outputs": [
    {
     "name": "stdout",
     "output_type": "stream",
     "text": [
      "➜ FOLD :0\n",
      "score: 0.653266 \n",
      "elapsed: 14.66 sec\n",
      "\n",
      "➜ FOLD :1\n",
      "score: 0.686222 \n",
      "elapsed: 18.53 sec\n",
      "\n",
      "➜ FOLD :2\n",
      "score: 0.697164 \n",
      "elapsed: 18.82 sec\n",
      "\n",
      "➜ FOLD :3\n",
      "score: 0.676198 \n",
      "elapsed: 15.60 sec\n",
      "\n",
      "➜ FOLD :4\n",
      "score: 0.680448 \n",
      "elapsed: 14.95 sec\n",
      "\n",
      "➜ FOLD :5\n",
      "score: 0.688333 \n",
      "elapsed: 19.69 sec\n",
      "\n",
      "➜ FOLD :6\n",
      "score: 0.692727 \n",
      "elapsed: 17.08 sec\n",
      "\n",
      "➜ FOLD :7\n",
      "score: 0.698630 \n",
      "elapsed: 20.15 sec\n",
      "\n",
      "➜ FOLD :8\n",
      "score: 0.675236 \n",
      "elapsed: 15.24 sec\n",
      "\n",
      "➜ FOLD :9\n",
      "score: 0.666667 \n",
      "elapsed: 13.17 sec\n",
      "\n",
      "Final f1 score: 0.6804621486463183 ✔️ \n"
     ]
    }
   ],
   "source": [
    "xgb_oof = np.zeros(X.shape[0])\n",
    "xgb_pred = np.zeros(X_test.shape[0])\n",
    "trs = []\n",
    "f1_trs = []\n",
    "\n",
    "for fold, (train_idx, val_idx) in enumerate(kf.split(X=X, y=y)):\n",
    "    print(f\"➜ FOLD :{fold}\")\n",
    "    X_train = X.iloc[train_idx]\n",
    "    y_train = y.iloc[train_idx]\n",
    "    X_val = X.iloc[val_idx]\n",
    "    y_val = y.iloc[val_idx]\n",
    "    \n",
    "    #print(\"N rows train:\", X_train.shape[0])\n",
    "\n",
    "    start = time.time()\n",
    "    \n",
    "    model = XGBClassifier(**final_params_xgb['clf'])\n",
    "    \n",
    "    pipe = Pipeline([('resample', res),\n",
    "                      ('clf', model) ])\n",
    "    \n",
    "    pipe.fit(X_train, y_train,\n",
    "             clf__eval_set=[(X_val, y_val)],\n",
    "             clf__early_stopping_rounds=final_params_xgb['fit']['early_stopping_rounds'],\n",
    "             clf__verbose=False)\n",
    "    \n",
    "    #print(\"Best Score:\", pipe[ 'clf'].best_score_['learn'])\n",
    "    #print(\"Best Interation:\", pipe[ 'clf'].best_iteration_)\n",
    "    \n",
    "    calib = CalibratedClassifierCV(base_estimator=pipe, cv='prefit')\n",
    "    \n",
    "    calib.fit(X_val, y_val)\n",
    "    \n",
    "    #print(f\"N trees: {calib.best_iteration_}\")\n",
    "    \n",
    "    xgb_oof[val_idx] += calib.predict_proba(X_val)[:,1] / N_REPEAT\n",
    "    \n",
    "    f1_after = custom_f1(y_val, xgb_oof[val_idx])\n",
    "    \n",
    "    f1_trs = f1_trs + [f1_after]\n",
    "    \n",
    "    xgb_pred += calib.predict_proba(X_test)[:, 1] / K / N_REPEAT\n",
    "    \n",
    "    print(f\"score: {f1_after:.6f} \")\n",
    "    print(f\"elapsed: {time.time()-start:.2f} sec\\n\")\n",
    "    \n",
    "    del calib\n",
    "    \n",
    "xgb_f1 = custom_f1(y, xgb_oof)\n",
    "print(f\"Final f1 score: {xgb_f1} ✔️ \")"
   ]
  },
  {
   "cell_type": "code",
   "execution_count": 15,
   "metadata": {
    "execution": {
     "iopub.execute_input": "2021-08-13T12:52:43.420924Z",
     "iopub.status.busy": "2021-08-13T12:52:43.420328Z",
     "iopub.status.idle": "2021-08-13T12:52:44.915858Z",
     "shell.execute_reply": "2021-08-13T12:52:44.915426Z",
     "shell.execute_reply.started": "2021-08-12T04:51:21.972859Z"
    },
    "papermill": {
     "duration": 1.521119,
     "end_time": "2021-08-13T12:52:44.915993",
     "exception": false,
     "start_time": "2021-08-13T12:52:43.394874",
     "status": "completed"
    },
    "tags": []
   },
   "outputs": [
    {
     "data": {
      "text/plain": [
       "0.25"
      ]
     },
     "execution_count": 15,
     "metadata": {},
     "output_type": "execute_result"
    }
   ],
   "source": [
    "final_threshold = get_threshold(train.y, xgb_oof)\n",
    "final_threshold"
   ]
  },
  {
   "cell_type": "code",
   "execution_count": 16,
   "metadata": {
    "execution": {
     "iopub.execute_input": "2021-08-13T12:52:44.977329Z",
     "iopub.status.busy": "2021-08-13T12:52:44.972206Z",
     "iopub.status.idle": "2021-08-13T12:52:48.924690Z",
     "shell.execute_reply": "2021-08-13T12:52:48.924199Z",
     "shell.execute_reply.started": "2021-08-12T04:51:24.886983Z"
    },
    "papermill": {
     "duration": 3.985065,
     "end_time": "2021-08-13T12:52:48.924819",
     "exception": false,
     "start_time": "2021-08-13T12:52:44.939754",
     "status": "completed"
    },
    "tags": []
   },
   "outputs": [
    {
     "data": {
      "text/plain": [
       "0.6804621486463183"
      ]
     },
     "execution_count": 16,
     "metadata": {},
     "output_type": "execute_result"
    }
   ],
   "source": [
    "custom_f1(train.y, np.where(xgb_oof>final_threshold, 1, 0))"
   ]
  },
  {
   "cell_type": "markdown",
   "metadata": {
    "papermill": {
     "duration": 0.023962,
     "end_time": "2021-08-13T12:52:48.972799",
     "exception": false,
     "start_time": "2021-08-13T12:52:48.948837",
     "status": "completed"
    },
    "tags": []
   },
   "source": [
    "# Sub\n",
    "---"
   ]
  },
  {
   "cell_type": "code",
   "execution_count": 17,
   "metadata": {
    "execution": {
     "iopub.execute_input": "2021-08-13T12:52:49.026236Z",
     "iopub.status.busy": "2021-08-13T12:52:49.025255Z",
     "iopub.status.idle": "2021-08-13T12:52:49.053604Z",
     "shell.execute_reply": "2021-08-13T12:52:49.054067Z",
     "shell.execute_reply.started": "2021-08-12T04:51:33.708544Z"
    },
    "papermill": {
     "duration": 0.057254,
     "end_time": "2021-08-13T12:52:49.054243",
     "exception": false,
     "start_time": "2021-08-13T12:52:48.996989",
     "status": "completed"
    },
    "tags": []
   },
   "outputs": [],
   "source": [
    "# Write predictions to sub\n",
    "sample_submission['predicted'] = np.where(xgb_pred>final_threshold, 1, 0).astype('int64')\n",
    "sample_submission.to_csv('xgb_sub.csv',index=False)"
   ]
  },
  {
   "cell_type": "code",
   "execution_count": 18,
   "metadata": {
    "execution": {
     "iopub.execute_input": "2021-08-13T12:52:49.104458Z",
     "iopub.status.busy": "2021-08-13T12:52:49.103904Z",
     "iopub.status.idle": "2021-08-13T12:52:49.194881Z",
     "shell.execute_reply": "2021-08-13T12:52:49.195361Z",
     "shell.execute_reply.started": "2021-08-12T04:51:35.255295Z"
    },
    "papermill": {
     "duration": 0.117433,
     "end_time": "2021-08-13T12:52:49.195554",
     "exception": false,
     "start_time": "2021-08-13T12:52:49.078121",
     "status": "completed"
    },
    "tags": []
   },
   "outputs": [],
   "source": [
    "# Write predictions to stack\n",
    "sample_submission['predicted'] = xgb_pred\n",
    "sample_submission.to_csv('xgb_sub_probs.csv',index=False)\n",
    "pd.DataFrame({'id':train.index, 'xgb_oof':xgb_oof}).to_csv('xgb_oof.csv',index=False)"
   ]
  },
  {
   "cell_type": "markdown",
   "metadata": {
    "papermill": {
     "duration": 0.023857,
     "end_time": "2021-08-13T12:52:49.243420",
     "exception": false,
     "start_time": "2021-08-13T12:52:49.219563",
     "status": "completed"
    },
    "tags": []
   },
   "source": [
    "# Reference\n",
    "\n",
    "https://github.com/optuna/optuna-examples/blob/main/xgboost/xgboost_cv_integration.py"
   ]
  }
 ],
 "metadata": {
  "kernelspec": {
   "display_name": "Python 3 (ipykernel)",
   "language": "python",
   "name": "python3"
  },
  "language_info": {
   "codemirror_mode": {
    "name": "ipython",
    "version": 3
   },
   "file_extension": ".py",
   "mimetype": "text/x-python",
   "name": "python",
   "nbconvert_exporter": "python",
   "pygments_lexer": "ipython3",
   "version": "3.8.5"
  },
  "papermill": {
   "default_parameters": {},
   "duration": 609.975612,
   "end_time": "2021-08-13T12:52:50.824247",
   "environment_variables": {},
   "exception": null,
   "input_path": "__notebook__.ipynb",
   "output_path": "__notebook__.ipynb",
   "parameters": {},
   "start_time": "2021-08-13T12:42:40.848635",
   "version": "2.3.3"
  }
 },
 "nbformat": 4,
 "nbformat_minor": 5
}
