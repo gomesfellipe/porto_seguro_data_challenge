{
 "cells": [
  {
   "cell_type": "markdown",
   "metadata": {
    "papermill": {
     "duration": 0.030145,
     "end_time": "2021-08-29T01:36:25.333395",
     "exception": false,
     "start_time": "2021-08-29T01:36:25.303250",
     "status": "completed"
    },
    "tags": []
   },
   "source": [
    "# Load dependencies\n",
    "---"
   ]
  },
  {
   "cell_type": "code",
   "execution_count": 1,
   "metadata": {
    "_cell_guid": "b1076dfc-b9ad-4769-8c92-a6c4dae69d19",
    "_uuid": "8f2839f25d086af736a60e9eeb907d3b93b6e0e5",
    "execution": {
     "iopub.execute_input": "2021-08-29T01:36:25.394081Z",
     "iopub.status.busy": "2021-08-29T01:36:25.388863Z",
     "iopub.status.idle": "2021-08-29T01:36:36.486436Z",
     "shell.execute_reply": "2021-08-29T01:36:36.485636Z",
     "shell.execute_reply.started": "2021-08-29T01:35:09.131499Z"
    },
    "papermill": {
     "duration": 11.128696,
     "end_time": "2021-08-29T01:36:36.486677",
     "exception": false,
     "start_time": "2021-08-29T01:36:25.357981",
     "status": "completed"
    },
    "tags": []
   },
   "outputs": [],
   "source": [
    "import pandas as pd\n",
    "import numpy as np\n",
    "import time\n",
    "from tqdm import tqdm\n",
    "\n",
    "from sklearn.metrics import f1_score, roc_auc_score, log_loss\n",
    "from sklearn.model_selection import StratifiedKFold, RepeatedStratifiedKFold, KFold\n",
    "from sklearn.calibration import CalibratedClassifierCV\n",
    "\n",
    "from xgboost import XGBClassifier\n",
    "from catboost import CatBoostClassifier\n",
    "import shap\n",
    "\n",
    "# imbalanced\n",
    "from imblearn.pipeline import Pipeline\n",
    "from imblearn.over_sampling import ADASYN, SMOTE\n",
    "from imblearn.under_sampling import OneSidedSelection, NeighbourhoodCleaningRule, TomekLinks\n",
    "\n",
    "import optuna\n",
    "from optuna.visualization import plot_optimization_history, plot_param_importances"
   ]
  },
  {
   "cell_type": "code",
   "execution_count": 2,
   "metadata": {
    "execution": {
     "iopub.execute_input": "2021-08-29T01:36:36.540998Z",
     "iopub.status.busy": "2021-08-29T01:36:36.540146Z",
     "iopub.status.idle": "2021-08-29T01:36:37.083427Z",
     "shell.execute_reply": "2021-08-29T01:36:37.082783Z",
     "shell.execute_reply.started": "2021-08-29T01:35:19.018347Z"
    },
    "papermill": {
     "duration": 0.574765,
     "end_time": "2021-08-29T01:36:37.083606",
     "exception": false,
     "start_time": "2021-08-29T01:36:36.508841",
     "status": "completed"
    },
    "tags": []
   },
   "outputs": [],
   "source": [
    "train = pd.read_csv('../input/porto-seguro-data-challenge/train.csv', index_col='id').reset_index(drop=True)\n",
    "test = pd.read_csv('../input/porto-seguro-data-challenge/test.csv', index_col='id').reset_index(drop=True)\n",
    "sample_submission = pd.read_csv('../input/porto-seguro-data-challenge/submission_sample.csv')\n",
    "meta = pd.read_csv('../input/porto-seguro-data-challenge/metadata.csv')\n",
    "\n",
    "cat_nom = [x for x in meta.iloc[1:-1, :].loc[(meta.iloc[:,1]==\"Qualitativo nominal\")].iloc[:,0]] \n",
    "cat_ord = [x for x in meta.iloc[1:-1, :].loc[(meta.iloc[:,1]==\"Qualitativo ordinal\")].iloc[:,0]] \n",
    "num_dis = [x for x in meta.iloc[1:-1, :].loc[(meta.iloc[:,1]==\"Quantitativo discreto\")].iloc[:,0]] \n",
    "num_con = [x for x in meta.iloc[1:-1, :].loc[(meta.iloc[:,1]==\"Quantitativo continua\")].iloc[:,0]] "
   ]
  },
  {
   "cell_type": "code",
   "execution_count": 3,
   "metadata": {
    "execution": {
     "iopub.execute_input": "2021-08-29T01:36:37.144364Z",
     "iopub.status.busy": "2021-08-29T01:36:37.143686Z",
     "iopub.status.idle": "2021-08-29T01:36:37.145875Z",
     "shell.execute_reply": "2021-08-29T01:36:37.146371Z",
     "shell.execute_reply.started": "2021-08-29T01:35:19.520774Z"
    },
    "papermill": {
     "duration": 0.04127,
     "end_time": "2021-08-29T01:36:37.146576",
     "exception": false,
     "start_time": "2021-08-29T01:36:37.105306",
     "status": "completed"
    },
    "tags": []
   },
   "outputs": [],
   "source": [
    "X_test = test[cat_nom+cat_ord+num_dis+num_con]\n",
    "X = train[cat_nom+cat_ord+num_dis+num_con]\n",
    "y = train.y\n",
    "\n",
    "K=10\n",
    "SEED=5\n",
    "kf = KFold(n_splits=K, random_state=SEED, shuffle=True)"
   ]
  },
  {
   "cell_type": "code",
   "execution_count": 4,
   "metadata": {
    "execution": {
     "iopub.execute_input": "2021-08-29T01:36:37.193862Z",
     "iopub.status.busy": "2021-08-29T01:36:37.191205Z",
     "iopub.status.idle": "2021-08-29T01:36:37.265644Z",
     "shell.execute_reply": "2021-08-29T01:36:37.265044Z",
     "shell.execute_reply.started": "2021-08-29T01:35:19.539240Z"
    },
    "papermill": {
     "duration": 0.098168,
     "end_time": "2021-08-29T01:36:37.265810",
     "exception": false,
     "start_time": "2021-08-29T01:36:37.167642",
     "status": "completed"
    },
    "tags": []
   },
   "outputs": [],
   "source": [
    "knn_feat_train = pd.read_csv('../input/porto-seguro-knn-feature-extraction-k-1/knn_feat_train.csv')\n",
    "knn_feat_test = pd.read_csv('../input/porto-seguro-knn-feature-extraction-k-1/knn_feat_test.csv')\n",
    "\n",
    "X = pd.concat([X, knn_feat_train], axis=1)\n",
    "X_test = pd.concat([X_test, knn_feat_test], axis=1)"
   ]
  },
  {
   "cell_type": "code",
   "execution_count": 5,
   "metadata": {
    "execution": {
     "iopub.execute_input": "2021-08-29T01:36:37.311415Z",
     "iopub.status.busy": "2021-08-29T01:36:37.310415Z",
     "iopub.status.idle": "2021-08-29T01:36:37.318773Z",
     "shell.execute_reply": "2021-08-29T01:36:37.319541Z",
     "shell.execute_reply.started": "2021-08-29T01:35:19.609630Z"
    },
    "papermill": {
     "duration": 0.033184,
     "end_time": "2021-08-29T01:36:37.319806",
     "exception": false,
     "start_time": "2021-08-29T01:36:37.286622",
     "status": "completed"
    },
    "tags": []
   },
   "outputs": [],
   "source": [
    "def get_threshold(y_true, y_pred):\n",
    "    # Moving threshold\n",
    "    thresholds = np.arange(0.0, 1.0, 0.01)\n",
    "    f1_scores = []\n",
    "    for thresh in thresholds:\n",
    "        f1_scores.append(\n",
    "            f1_score(y_true, [1 if m>thresh else 0 for m in y_pred]))\n",
    "    f1s = np.array(f1_scores)\n",
    "    return thresholds[f1s.argmax()]\n",
    "    \n",
    "    \n",
    "def custom_f1(y_true, y_pred):\n",
    "     \n",
    "    max_f1_threshold =  get_threshold(y_true, y_pred)\n",
    "\n",
    "    y_pred = np.where(y_pred>max_f1_threshold, 1, 0)\n",
    "    f1_after = f1_score(y_true, y_pred) \n",
    "    \n",
    "    return f1_after"
   ]
  },
  {
   "cell_type": "markdown",
   "metadata": {
    "papermill": {
     "duration": 0.030047,
     "end_time": "2021-08-29T01:36:37.381931",
     "exception": false,
     "start_time": "2021-08-29T01:36:37.351884",
     "status": "completed"
    },
    "tags": []
   },
   "source": [
    "# Stage 1: Calcule XGBoost Shap\n",
    "---\n",
    "\n",
    "from: https://www.kaggle.com/gomes555/porto-seguro-xgboost"
   ]
  },
  {
   "cell_type": "code",
   "execution_count": 6,
   "metadata": {
    "execution": {
     "iopub.execute_input": "2021-08-29T01:36:37.441325Z",
     "iopub.status.busy": "2021-08-29T01:36:37.440592Z",
     "iopub.status.idle": "2021-08-29T01:36:37.443987Z",
     "shell.execute_reply": "2021-08-29T01:36:37.443396Z",
     "shell.execute_reply.started": "2021-08-29T01:35:19.618471Z"
    },
    "papermill": {
     "duration": 0.036337,
     "end_time": "2021-08-29T01:36:37.444130",
     "exception": false,
     "start_time": "2021-08-29T01:36:37.407793",
     "status": "completed"
    },
    "tags": []
   },
   "outputs": [],
   "source": [
    "#X = X.replace(-999, np.nan)\n",
    "#X_test = X_test.replace(-999, np.nan)"
   ]
  },
  {
   "cell_type": "code",
   "execution_count": 7,
   "metadata": {
    "execution": {
     "iopub.execute_input": "2021-08-29T01:36:37.495763Z",
     "iopub.status.busy": "2021-08-29T01:36:37.494699Z",
     "iopub.status.idle": "2021-08-29T01:36:37.498167Z",
     "shell.execute_reply": "2021-08-29T01:36:37.497552Z",
     "shell.execute_reply.started": "2021-08-29T01:35:19.632441Z"
    },
    "papermill": {
     "duration": 0.031467,
     "end_time": "2021-08-29T01:36:37.498314",
     "exception": false,
     "start_time": "2021-08-29T01:36:37.466847",
     "status": "completed"
    },
    "tags": []
   },
   "outputs": [],
   "source": [
    "final_params_xgb = {'clf': {'random_state': 314,\n",
    "  'objective': 'binary:logistic',\n",
    "  'eval_metric': 'logloss',\n",
    "  'use_label_encoder': False,\n",
    "  'n_estimators': 10000,\n",
    "  'booster': 'gbtree',\n",
    "  'lambda': 1.9245129630343058e-06,\n",
    "  'alpha': 0.17771161058308743,\n",
    "  'max_depth': 5,\n",
    "  'eta': 0.01122764320311446,\n",
    "  'gamma': 7.397134352580097e-06,\n",
    "  'grow_policy': 'lossguide',\n",
    "  'min_child_weight': 5,\n",
    "  'subsample': 0.8123753830625202,\n",
    "  'colsample_bytree': 0.19010362713896298,\n",
    "  'max_delta_step': 2},\n",
    " 'pipe': {'resample': 'tomek'},\n",
    " 'fit': {'early_stopping_rounds': 150}}"
   ]
  },
  {
   "cell_type": "code",
   "execution_count": 8,
   "metadata": {
    "execution": {
     "iopub.execute_input": "2021-08-29T01:36:37.552353Z",
     "iopub.status.busy": "2021-08-29T01:36:37.551291Z",
     "iopub.status.idle": "2021-08-29T01:52:52.999298Z",
     "shell.execute_reply": "2021-08-29T01:52:52.998735Z"
    },
    "papermill": {
     "duration": 975.480173,
     "end_time": "2021-08-29T01:52:52.999446",
     "exception": false,
     "start_time": "2021-08-29T01:36:37.519273",
     "status": "completed"
    },
    "tags": []
   },
   "outputs": [
    {
     "name": "stdout",
     "output_type": "stream",
     "text": [
      "➜ FOLD :0\n",
      "F1 custom score: 0.713568 \n"
     ]
    },
    {
     "name": "stderr",
     "output_type": "stream",
     "text": [
      "ntree_limit is deprecated, use `iteration_range` or model slicing instead.\n"
     ]
    },
    {
     "name": "stdout",
     "output_type": "stream",
     "text": [
      "elapsed: 110.90 sec\n",
      "\n",
      "➜ FOLD :1\n",
      "F1 custom score: 0.679376 \n",
      "elapsed: 92.17 sec\n",
      "\n",
      "➜ FOLD :2\n",
      "F1 custom score: 0.703375 \n",
      "elapsed: 74.52 sec\n",
      "\n",
      "➜ FOLD :3\n",
      "F1 custom score: 0.677029 \n",
      "elapsed: 84.88 sec\n",
      "\n",
      "➜ FOLD :4\n",
      "F1 custom score: 0.713333 \n",
      "elapsed: 125.46 sec\n",
      "\n",
      "➜ FOLD :5\n",
      "F1 custom score: 0.673993 \n",
      "elapsed: 83.55 sec\n",
      "\n",
      "➜ FOLD :6\n",
      "F1 custom score: 0.665615 \n",
      "elapsed: 94.13 sec\n",
      "\n",
      "➜ FOLD :7\n",
      "F1 custom score: 0.684105 \n",
      "elapsed: 99.64 sec\n",
      "\n",
      "➜ FOLD :8\n",
      "F1 custom score: 0.700525 \n",
      "elapsed: 99.70 sec\n",
      "\n",
      "➜ FOLD :9\n",
      "F1 custom score: 0.681081 \n",
      "elapsed: 107.62 sec\n",
      "\n",
      "Final F1     : 0.6845084920226453\n",
      "Final AUC    : 0.8935149036433895\n",
      "Final LogLoss: 0.3048030363242558\n",
      "CPU times: user 1h 1min 45s, sys: 2.84 s, total: 1h 1min 48s\n",
      "Wall time: 16min 15s\n"
     ]
    }
   ],
   "source": [
    "%%time\n",
    "\n",
    "shap_oof = np.zeros((X.shape[0], X.shape[1]))\n",
    "shap_test = np.zeros((X_test.shape[0], X_test.shape[1]))\n",
    "model_shap_oof = np.zeros(X.shape[0])\n",
    "\n",
    "for fold, (train_idx, val_idx) in enumerate(kf.split(X=X, y=y)):\n",
    "    print(f\"➜ FOLD :{fold}\")\n",
    "    X_train = X.iloc[train_idx]\n",
    "    y_train = y.iloc[train_idx]\n",
    "    X_val = X.iloc[val_idx]\n",
    "    y_val = y.iloc[val_idx]\n",
    "    \n",
    "    start = time.time()\n",
    "    \n",
    "    model = XGBClassifier(**final_params_xgb['clf'])\n",
    "    \n",
    "    model.fit(X_train, y_train,\n",
    "              eval_set=[(X_val, y_val)],\n",
    "              early_stopping_rounds=final_params_xgb['fit']['early_stopping_rounds'],\n",
    "              verbose=False)\n",
    "    \n",
    "    model_shap_oof[val_idx] += model.predict_proba(X_val)[:,1]\n",
    "    \n",
    "    f1_after = custom_f1(y_val, model_shap_oof[val_idx])\n",
    "    \n",
    "    print(f\"F1 custom score: {f1_after:.6f} \")\n",
    "\n",
    "    explainer = shap.TreeExplainer(model)\n",
    "    \n",
    "    shap_oof[val_idx] = explainer.shap_values(X_val)\n",
    "\n",
    "    shap_test += explainer.shap_values(X_test) / K\n",
    "\n",
    "    print(f\"elapsed: {time.time()-start:.2f} sec\\n\")\n",
    "    \n",
    "shap_oof = pd.DataFrame(shap_oof, columns = [x+\"_shap\" for x in X.columns])\n",
    "shap_test = pd.DataFrame(shap_test, columns = [x+\"_shap\" for x in X_test.columns])\n",
    "\n",
    "print(\"Final F1     :\", custom_f1(y, model_shap_oof))\n",
    "print(\"Final AUC    :\", roc_auc_score(y, model_shap_oof))\n",
    "print(\"Final LogLoss:\", log_loss(y, model_shap_oof))"
   ]
  },
  {
   "cell_type": "code",
   "execution_count": 9,
   "metadata": {
    "execution": {
     "iopub.execute_input": "2021-08-29T01:52:53.061966Z",
     "iopub.status.busy": "2021-08-29T01:52:53.061247Z",
     "iopub.status.idle": "2021-08-29T01:52:53.084492Z",
     "shell.execute_reply": "2021-08-29T01:52:53.083927Z"
    },
    "papermill": {
     "duration": 0.057147,
     "end_time": "2021-08-29T01:52:53.084645",
     "exception": false,
     "start_time": "2021-08-29T01:52:53.027498",
     "status": "completed"
    },
    "tags": []
   },
   "outputs": [],
   "source": [
    "X = pd.concat([X, shap_oof], axis=1)\n",
    "X_test = pd.concat([X_test, shap_test], axis=1)"
   ]
  },
  {
   "cell_type": "markdown",
   "metadata": {
    "papermill": {
     "duration": 0.027559,
     "end_time": "2021-08-29T01:52:53.140737",
     "exception": false,
     "start_time": "2021-08-29T01:52:53.113178",
     "status": "completed"
    },
    "tags": []
   },
   "source": [
    "# Stage 2: CatBoost"
   ]
  },
  {
   "cell_type": "code",
   "execution_count": 10,
   "metadata": {
    "execution": {
     "iopub.execute_input": "2021-08-29T01:52:53.211648Z",
     "iopub.status.busy": "2021-08-29T01:52:53.210923Z",
     "iopub.status.idle": "2021-08-29T01:59:41.767751Z",
     "shell.execute_reply": "2021-08-29T01:59:41.766961Z"
    },
    "papermill": {
     "duration": 408.599308,
     "end_time": "2021-08-29T01:59:41.767948",
     "exception": false,
     "start_time": "2021-08-29T01:52:53.168640",
     "status": "completed"
    },
    "tags": []
   },
   "outputs": [
    {
     "name": "stdout",
     "output_type": "stream",
     "text": [
      "➜ FOLD :0\n",
      "score: 0.710018 \n",
      "elapsed: 24.39 sec\n",
      "\n",
      "➜ FOLD :1\n",
      "score: 0.679443 \n",
      "elapsed: 45.38 sec\n",
      "\n",
      "➜ FOLD :2\n",
      "score: 0.691312 \n",
      "elapsed: 33.49 sec\n",
      "\n",
      "➜ FOLD :3\n",
      "score: 0.676282 \n",
      "elapsed: 53.68 sec\n",
      "\n",
      "➜ FOLD :4\n",
      "score: 0.704944 \n",
      "elapsed: 40.96 sec\n",
      "\n",
      "➜ FOLD :5\n",
      "score: 0.677536 \n",
      "elapsed: 73.84 sec\n",
      "\n",
      "➜ FOLD :6\n",
      "score: 0.677852 \n",
      "elapsed: 18.44 sec\n",
      "\n",
      "➜ FOLD :7\n",
      "score: 0.685921 \n",
      "elapsed: 47.87 sec\n",
      "\n",
      "➜ FOLD :8\n",
      "score: 0.700917 \n",
      "elapsed: 33.04 sec\n",
      "\n",
      "➜ FOLD :9\n",
      "score: 0.685185 \n",
      "elapsed: 34.59 sec\n",
      "\n",
      "Final F1     : 0.682759863087732\n",
      "Final AUC    : 0.8888546301440641\n",
      "Final LogLoss: 0.3148028523691273\n"
     ]
    }
   ],
   "source": [
    "cat_oof = np.zeros(X.shape[0])\n",
    "cat_pred = np.zeros(X_test.shape[0])\n",
    "trs = []\n",
    "f1_trs = []\n",
    "\n",
    "for fold, (train_idx, val_idx) in enumerate(kf.split(X=X, y=y)):\n",
    "    print(f\"➜ FOLD :{fold}\")\n",
    "    X_train = X.iloc[train_idx]\n",
    "    y_train = y.iloc[train_idx]\n",
    "    X_val = X.iloc[val_idx]\n",
    "    y_val = y.iloc[val_idx]\n",
    "\n",
    "    start = time.time()\n",
    "    \n",
    "    res = TomekLinks()\n",
    "    \n",
    "    model = CatBoostClassifier(random_seed=SEED, \n",
    "                               verbose = 0,\n",
    "                               use_best_model=True,\n",
    "                               eval_metric=\"AUC\",\n",
    "                               iterations=10000,\n",
    "                               learning_rate=0.01,\n",
    "                               od_wait = 200)\n",
    "    \n",
    "    pipe = Pipeline([('resample', res),\n",
    "                      ('clf', model) ])\n",
    "    \n",
    "    pipe.fit(X_train, y_train,\n",
    "              clf__eval_set=[(X_val, y_val)])\n",
    "    \n",
    "    #print(f\"N trees: {model.best_iteration_}\")\n",
    "    \n",
    "    #print(\"Best Score:\", model.best_score_['learn'])\n",
    "    #print(\"Best Interation:\", model.best_iteration_)\n",
    "    \n",
    "    calib = CalibratedClassifierCV(base_estimator=pipe, cv='prefit')\n",
    "    calib.fit(X_val, y_val)\n",
    "    \n",
    "    cat_oof[val_idx] += calib.predict_proba(X_val)[:,1]\n",
    "    \n",
    "    f1_after = custom_f1(y_val, cat_oof[val_idx])\n",
    "    \n",
    "    f1_trs = f1_trs + [f1_after]\n",
    "    \n",
    "    cat_pred += calib.predict_proba(X_test)[:, 1] / K\n",
    "    \n",
    "    print(f\"score: {f1_after:.6f} \")\n",
    "    print(f\"elapsed: {time.time()-start:.2f} sec\\n\")\n",
    "    \n",
    "    del model\n",
    "    \n",
    "print(\"Final F1     :\", custom_f1(y, cat_oof))\n",
    "print(\"Final AUC    :\", roc_auc_score(y, cat_oof))\n",
    "print(\"Final LogLoss:\", log_loss(y, cat_oof))"
   ]
  },
  {
   "cell_type": "code",
   "execution_count": 11,
   "metadata": {
    "execution": {
     "iopub.execute_input": "2021-08-29T01:59:41.836377Z",
     "iopub.status.busy": "2021-08-29T01:59:41.835528Z",
     "iopub.status.idle": "2021-08-29T01:59:41.838887Z",
     "shell.execute_reply": "2021-08-29T01:59:41.838278Z"
    },
    "papermill": {
     "duration": 0.038809,
     "end_time": "2021-08-29T01:59:41.839023",
     "exception": false,
     "start_time": "2021-08-29T01:59:41.800214",
     "status": "completed"
    },
    "tags": []
   },
   "outputs": [],
   "source": [
    "#Final f1 score: 0.682759863087732 ✔️ "
   ]
  },
  {
   "cell_type": "markdown",
   "metadata": {
    "papermill": {
     "duration": 0.031252,
     "end_time": "2021-08-29T01:59:41.902843",
     "exception": false,
     "start_time": "2021-08-29T01:59:41.871591",
     "status": "completed"
    },
    "tags": []
   },
   "source": [
    "# Optuna\n",
    "---"
   ]
  },
  {
   "cell_type": "code",
   "execution_count": 12,
   "metadata": {
    "execution": {
     "iopub.execute_input": "2021-08-29T01:59:41.971776Z",
     "iopub.status.busy": "2021-08-29T01:59:41.971092Z",
     "iopub.status.idle": "2021-08-29T01:59:41.973858Z",
     "shell.execute_reply": "2021-08-29T01:59:41.974310Z"
    },
    "papermill": {
     "duration": 0.040119,
     "end_time": "2021-08-29T01:59:41.974511",
     "exception": false,
     "start_time": "2021-08-29T01:59:41.934392",
     "status": "completed"
    },
    "tags": []
   },
   "outputs": [],
   "source": [
    "#fixed_params = {\n",
    "#    'random_state':SEED,\n",
    "#    'verbose': 0\n",
    "#}\n",
    "#\n",
    "#def objective(trial):\n",
    "#    \n",
    "#    #max_depth = trial.suggest_int('max_depth', 3, 12)\n",
    "#    #max_num_leaves = (2 ** max_depth) - 1\n",
    "#\n",
    "#    hyperparams = {\n",
    "#        'clf':{\n",
    "#            'l2_leaf_reg': 3.0\n",
    "#        #    'learning_rate': trial.suggest_float('learning_rate', 0.001, 0.1), # 0.1\n",
    "#        #    #'max_iter': trial.suggest_int('max_iter', 100, 1000)\n",
    "#        #    'max_depth': max_depth, # None\n",
    "#        #    'max_leaf_nodes': trial.suggest_int('max_leaf_nodes', 7, max_num_leaves), # 31\n",
    "#        #    'min_samples_leaf' : trial.suggest_int('min_samples_leaf', 5, 50, 5), # 20\n",
    "#        #    'l2_regularization': trial.suggest_float(\"l2_regularization\", 1e-8, 10.0, log=True), # 0.0\n",
    "#        #    'warm_start': trial.suggest_categorical('warm_start',[True, False]), # False\n",
    "#        #    'n_iter_no_change': trial.suggest_int(\"n_iter_no_change\", 10, 100, 10), # 10\n",
    "#        },\n",
    "#        'pipe':{\n",
    "#            'resample': trial.suggest_categorical('resample',[None, 'adasyn', 'smote', 'tomek', 'ncr', 'oss'])\n",
    "#        }\n",
    "#\n",
    "#    }\n",
    "#    \n",
    "#    if hyperparams['pipe']['resample'] == 'adasyn':\n",
    "#        res = ADASYN(random_state=42)\n",
    "#    elif hyperparams['pipe']['resample'] == 'smote':\n",
    "#        res = SMOTE()\n",
    "#    elif hyperparams['pipe']['resample'] == 'tomek':\n",
    "#        res = TomekLinks()\n",
    "#    elif hyperparams['pipe']['resample'] == 'ncr':\n",
    "#        res = NeighbourhoodCleaningRule(n_neighbors=3,\n",
    "#                                        threshold_cleaning=0.5)\n",
    "#    elif hyperparams['pipe']['resample'] == 'oss':\n",
    "#        res = OneSidedSelection(n_neighbors=1, n_seeds_S=200)\n",
    "#    else:\n",
    "#        res = None\n",
    "#        \n",
    "#    params = dict(**fixed_params, **hyperparams['clf'])\n",
    "#    \n",
    "#    cat_oof = np.zeros(X.shape[0])\n",
    "#    cat_pred = pd.DataFrame()\n",
    "#    trs = []\n",
    "#    f1_trs = []\n",
    "#\n",
    "#    for fold, (train_idx, val_idx) in enumerate(kf.split(X=X, y=y)):\n",
    "#        X_train = X.iloc[train_idx]\n",
    "#        y_train = y.iloc[train_idx]\n",
    "#        X_val = X.iloc[val_idx]\n",
    "#        y_val = y.iloc[val_idx]\n",
    "#\n",
    "#        start = time.time()\n",
    "#        \n",
    "#        model = CatBoostClassifier(**params)\n",
    "#        \n",
    "#        pipe = Pipeline([('resample', res),\n",
    "#                          ('clf', model) ])\n",
    "#\n",
    "#        pipe.fit(X_train, y_train)\n",
    "#    \n",
    "#        cat_oof[val_idx] += pipe.predict_proba(X_val)[:,1] / N_REPEAT\n",
    "#\n",
    "#        del model\n",
    "#\n",
    "#    return roc_auc_score(y_val, cat_oof[val_idx])"
   ]
  },
  {
   "cell_type": "code",
   "execution_count": 13,
   "metadata": {
    "_kg_hide-output": true,
    "execution": {
     "iopub.execute_input": "2021-08-29T01:59:42.043333Z",
     "iopub.status.busy": "2021-08-29T01:59:42.042713Z",
     "iopub.status.idle": "2021-08-29T01:59:42.047055Z",
     "shell.execute_reply": "2021-08-29T01:59:42.047524Z"
    },
    "papermill": {
     "duration": 0.040812,
     "end_time": "2021-08-29T01:59:42.047697",
     "exception": false,
     "start_time": "2021-08-29T01:59:42.006885",
     "status": "completed"
    },
    "tags": []
   },
   "outputs": [],
   "source": [
    "#study_cat = optuna.create_study(direction='maximize')\n",
    "#\n",
    "#study_cat.optimize(objective, \n",
    "#               #timeout=60*60*7.5, \n",
    "#               n_trials=20, \n",
    "#               gc_after_trial=True)"
   ]
  },
  {
   "cell_type": "code",
   "execution_count": 14,
   "metadata": {
    "execution": {
     "iopub.execute_input": "2021-08-29T01:59:42.116291Z",
     "iopub.status.busy": "2021-08-29T01:59:42.115673Z",
     "iopub.status.idle": "2021-08-29T01:59:42.118605Z",
     "shell.execute_reply": "2021-08-29T01:59:42.117954Z"
    },
    "papermill": {
     "duration": 0.038676,
     "end_time": "2021-08-29T01:59:42.118745",
     "exception": false,
     "start_time": "2021-08-29T01:59:42.080069",
     "status": "completed"
    },
    "tags": []
   },
   "outputs": [],
   "source": [
    "#print('-> Number of finished trials: ', len(study_cat.trials))\n",
    "#print('-> Best trial:')\n",
    "#trial = study_cat.best_trial\n",
    "#print('\\tValue: {}'.format(trial.value))\n",
    "#print('-> Params: ')\n",
    "#trial.params"
   ]
  },
  {
   "cell_type": "code",
   "execution_count": 15,
   "metadata": {
    "execution": {
     "iopub.execute_input": "2021-08-29T01:59:42.188064Z",
     "iopub.status.busy": "2021-08-29T01:59:42.187395Z",
     "iopub.status.idle": "2021-08-29T01:59:42.189063Z",
     "shell.execute_reply": "2021-08-29T01:59:42.189657Z"
    },
    "papermill": {
     "duration": 0.038524,
     "end_time": "2021-08-29T01:59:42.189820",
     "exception": false,
     "start_time": "2021-08-29T01:59:42.151296",
     "status": "completed"
    },
    "tags": []
   },
   "outputs": [],
   "source": [
    "#plot_optimization_history(study_cat)"
   ]
  },
  {
   "cell_type": "code",
   "execution_count": 16,
   "metadata": {
    "execution": {
     "iopub.execute_input": "2021-08-29T01:59:42.258121Z",
     "iopub.status.busy": "2021-08-29T01:59:42.257502Z",
     "iopub.status.idle": "2021-08-29T01:59:42.261258Z",
     "shell.execute_reply": "2021-08-29T01:59:42.261840Z"
    },
    "papermill": {
     "duration": 0.039307,
     "end_time": "2021-08-29T01:59:42.262023",
     "exception": false,
     "start_time": "2021-08-29T01:59:42.222716",
     "status": "completed"
    },
    "tags": []
   },
   "outputs": [],
   "source": [
    "#optuna.visualization.plot_parallel_coordinate(study_cat)"
   ]
  },
  {
   "cell_type": "code",
   "execution_count": 17,
   "metadata": {
    "execution": {
     "iopub.execute_input": "2021-08-29T01:59:42.331592Z",
     "iopub.status.busy": "2021-08-29T01:59:42.330861Z",
     "iopub.status.idle": "2021-08-29T01:59:42.334159Z",
     "shell.execute_reply": "2021-08-29T01:59:42.334712Z"
    },
    "papermill": {
     "duration": 0.040021,
     "end_time": "2021-08-29T01:59:42.334896",
     "exception": false,
     "start_time": "2021-08-29T01:59:42.294875",
     "status": "completed"
    },
    "tags": []
   },
   "outputs": [],
   "source": [
    "#plot_param_importances(study_cat)"
   ]
  },
  {
   "cell_type": "code",
   "execution_count": 18,
   "metadata": {
    "execution": {
     "iopub.execute_input": "2021-08-29T01:59:42.403594Z",
     "iopub.status.busy": "2021-08-29T01:59:42.402883Z",
     "iopub.status.idle": "2021-08-29T01:59:42.405985Z",
     "shell.execute_reply": "2021-08-29T01:59:42.406533Z"
    },
    "papermill": {
     "duration": 0.039162,
     "end_time": "2021-08-29T01:59:42.406698",
     "exception": false,
     "start_time": "2021-08-29T01:59:42.367536",
     "status": "completed"
    },
    "tags": []
   },
   "outputs": [],
   "source": [
    "#final_params_cat = dict()\n",
    "#final_params_cat['clf']=dict(**fixed_params, **study_cat.best_params)\n",
    "#del final_params_cat['clf']['resample']\n",
    "#final_params_cat['pipe'] = dict()\n",
    "#final_params_cat['pipe']['resample'] = study_cat.best_params['resample']\n",
    "#\n",
    "#final_params_cat"
   ]
  },
  {
   "cell_type": "markdown",
   "metadata": {
    "papermill": {
     "duration": 0.032367,
     "end_time": "2021-08-29T01:59:42.471670",
     "exception": false,
     "start_time": "2021-08-29T01:59:42.439303",
     "status": "completed"
    },
    "tags": []
   },
   "source": [
    "# Final Kfold prediction"
   ]
  },
  {
   "cell_type": "code",
   "execution_count": 19,
   "metadata": {
    "execution": {
     "iopub.execute_input": "2021-08-29T01:59:42.540037Z",
     "iopub.status.busy": "2021-08-29T01:59:42.539353Z",
     "iopub.status.idle": "2021-08-29T01:59:42.543809Z",
     "shell.execute_reply": "2021-08-29T01:59:42.543275Z"
    },
    "papermill": {
     "duration": 0.039741,
     "end_time": "2021-08-29T01:59:42.543943",
     "exception": false,
     "start_time": "2021-08-29T01:59:42.504202",
     "status": "completed"
    },
    "tags": []
   },
   "outputs": [],
   "source": [
    "#if final_params_cat['pipe']['resample'] == 'adasyn':\n",
    "#    res = ADASYN(random_state=42)\n",
    "#elif final_params_cat['pipe']['resample'] == 'smote':\n",
    "#    res = SMOTE()\n",
    "#elif final_params_cat['pipe']['resample'] == 'tomek':\n",
    "#    res = TomekLinks()\n",
    "#elif final_params_cat['pipe']['resample'] == 'ncr':\n",
    "#    res = NeighbourhoodCleaningRule(n_neighbors=3,\n",
    "#                                    threshold_cleaning=0.5)\n",
    "#elif final_params_cat['pipe']['resample'] == 'oss':\n",
    "#    res = OneSidedSelection(n_neighbors=1, n_seeds_S=200)\n",
    "#else:\n",
    "#    res = None"
   ]
  },
  {
   "cell_type": "code",
   "execution_count": 20,
   "metadata": {
    "execution": {
     "iopub.execute_input": "2021-08-29T01:59:42.624543Z",
     "iopub.status.busy": "2021-08-29T01:59:42.623424Z",
     "iopub.status.idle": "2021-08-29T03:07:24.828530Z",
     "shell.execute_reply": "2021-08-29T03:07:24.827870Z"
    },
    "papermill": {
     "duration": 4062.252228,
     "end_time": "2021-08-29T03:07:24.828678",
     "exception": false,
     "start_time": "2021-08-29T01:59:42.576450",
     "status": "completed"
    },
    "tags": []
   },
   "outputs": [
    {
     "name": "stdout",
     "output_type": "stream",
     "text": [
      "\n",
      "RANDOM SEED: 0\n",
      "F1     : 0.6804638715432649\n",
      "AUC    : 0.8909232275223675\n",
      "LogLoss: 0.31335246615070295\n",
      "\n",
      "RANDOM SEED: 1\n",
      "F1     : 0.6825341267063354\n",
      "AUC    : 0.8906714537608101\n",
      "LogLoss: 0.314625477289244\n",
      "\n",
      "RANDOM SEED: 2\n",
      "F1     : 0.6825927163381224\n",
      "AUC    : 0.8915799433828073\n",
      "LogLoss: 0.3131188123499769\n",
      "\n",
      "RANDOM SEED: 3\n",
      "F1     : 0.6821732338135741\n",
      "AUC    : 0.8919287351706687\n",
      "LogLoss: 0.31355713757804177\n",
      "\n",
      "RANDOM SEED: 4\n",
      "F1     : 0.6820244328097731\n",
      "AUC    : 0.8900223013846157\n",
      "LogLoss: 0.31375306698595823\n",
      "\n",
      "RANDOM SEED: 5\n",
      "F1     : 0.682759863087732\n",
      "AUC    : 0.8888546301440641\n",
      "LogLoss: 0.3148028523691273\n",
      "\n",
      "RANDOM SEED: 6\n",
      "F1     : 0.6824324324324325\n",
      "AUC    : 0.8912646737041308\n",
      "LogLoss: 0.31321208232997305\n",
      "\n",
      "RANDOM SEED: 7\n",
      "F1     : 0.6821024167652527\n",
      "AUC    : 0.8912469944487761\n",
      "LogLoss: 0.31394152109765755\n",
      "\n",
      "RANDOM SEED: 8\n",
      "F1     : 0.6812960740613748\n",
      "AUC    : 0.8918468752383041\n",
      "LogLoss: 0.3141090733996057\n",
      "\n",
      "RANDOM SEED: 9\n",
      "F1     : 0.6836036036036035\n",
      "AUC    : 0.8919887761628859\n",
      "LogLoss: 0.3138241930832601\n",
      "-------------------------------------\n",
      "Final F1     : 0.6824324324324325\n",
      "Final AUC    : 0.8949246530679578\n",
      "Final LogLoss: 0.3123786157322199\n"
     ]
    }
   ],
   "source": [
    "n_seeds=10\n",
    "\n",
    "cat_oof = np.zeros((X.shape[0], len(list(range(n_seeds)))))\n",
    "cat_pred = np.zeros((X_test.shape[0], len(list(range(n_seeds)))))\n",
    "\n",
    "for seed in range(n_seeds):\n",
    "    \n",
    "    print(\"\\nRANDOM SEED:\", seed)\n",
    "\n",
    "    kf = KFold(n_splits=K, random_state=seed, shuffle=True)\n",
    "\n",
    "    for fold, (train_idx, val_idx) in enumerate(kf.split(X=X, y=y)):\n",
    "        #print(f\"➜ FOLD :{fold}\")\n",
    "        X_train = X.iloc[train_idx]\n",
    "        y_train = y.iloc[train_idx]\n",
    "        X_val = X.iloc[val_idx]\n",
    "        y_val = y.iloc[val_idx]\n",
    "\n",
    "        start = time.time()\n",
    "\n",
    "        res = TomekLinks()\n",
    "\n",
    "        model = CatBoostClassifier(random_seed=seed, \n",
    "                                   verbose = 0,\n",
    "                                   use_best_model=True,\n",
    "                                   eval_metric=\"AUC\",\n",
    "                                   iterations=10000,\n",
    "                                   learning_rate=0.01,\n",
    "                                   od_wait = 200)\n",
    "\n",
    "        pipe = Pipeline([('resample', res),\n",
    "                          ('clf', model) ])\n",
    "\n",
    "        pipe.fit(X_train, y_train,\n",
    "                  clf__eval_set=[(X_val, y_val)])\n",
    "\n",
    "        #print(f\"N trees: {model.best_iteration_}\")\n",
    "\n",
    "        #print(\"Best Score:\", model.best_score_['learn'])\n",
    "        #print(\"Best Interation:\", model.best_iteration_)\n",
    "\n",
    "        calib = CalibratedClassifierCV(base_estimator=pipe, cv='prefit')\n",
    "        calib.fit(X_val, y_val)\n",
    "\n",
    "        cat_oof[val_idx, seed] += calib.predict_proba(X_val)[:,1]\n",
    "\n",
    "        cat_pred[:, seed] += calib.predict_proba(X_test)[:, 1] / K\n",
    "\n",
    "    print(\"F1     :\", custom_f1(y, pd.Series(cat_oof[:, seed])))\n",
    "    print(\"AUC    :\", roc_auc_score(y, pd.Series(cat_oof[:, seed])))\n",
    "    print(\"LogLoss:\", log_loss(y, pd.Series(cat_oof[:, seed])))\n",
    "    \n",
    "cat_oof = np.mean(cat_oof, axis=1)\n",
    "cat_pred = np.mean(cat_pred, axis=1)\n",
    "print(\"-------------------------------------\")\n",
    "print(\"Final F1     :\", custom_f1(y, pd.Series(cat_oof)))\n",
    "print(\"Final AUC    :\", roc_auc_score(y, pd.Series(cat_oof)))\n",
    "print(\"Final LogLoss:\", log_loss(y, pd.Series(cat_oof)))"
   ]
  },
  {
   "cell_type": "code",
   "execution_count": 21,
   "metadata": {
    "execution": {
     "iopub.execute_input": "2021-08-29T03:07:24.912626Z",
     "iopub.status.busy": "2021-08-29T03:07:24.911924Z",
     "iopub.status.idle": "2021-08-29T03:07:27.679632Z",
     "shell.execute_reply": "2021-08-29T03:07:27.680323Z"
    },
    "papermill": {
     "duration": 2.814757,
     "end_time": "2021-08-29T03:07:27.680532",
     "exception": false,
     "start_time": "2021-08-29T03:07:24.865775",
     "status": "completed"
    },
    "tags": []
   },
   "outputs": [
    {
     "data": {
      "text/plain": [
       "0.29"
      ]
     },
     "execution_count": 21,
     "metadata": {},
     "output_type": "execute_result"
    }
   ],
   "source": [
    "final_threshold = get_threshold(train.y, cat_oof)\n",
    "final_threshold"
   ]
  },
  {
   "cell_type": "code",
   "execution_count": 22,
   "metadata": {
    "execution": {
     "iopub.execute_input": "2021-08-29T03:07:27.791091Z",
     "iopub.status.busy": "2021-08-29T03:07:27.775558Z",
     "iopub.status.idle": "2021-08-29T03:07:34.763553Z",
     "shell.execute_reply": "2021-08-29T03:07:34.762988Z"
    },
    "papermill": {
     "duration": 7.045358,
     "end_time": "2021-08-29T03:07:34.763697",
     "exception": false,
     "start_time": "2021-08-29T03:07:27.718339",
     "status": "completed"
    },
    "tags": []
   },
   "outputs": [
    {
     "data": {
      "text/plain": [
       "0.6824324324324325"
      ]
     },
     "execution_count": 22,
     "metadata": {},
     "output_type": "execute_result"
    }
   ],
   "source": [
    "custom_f1(train.y, np.where(cat_oof>final_threshold, 1, 0))"
   ]
  },
  {
   "cell_type": "markdown",
   "metadata": {
    "papermill": {
     "duration": 0.038756,
     "end_time": "2021-08-29T03:07:34.842797",
     "exception": false,
     "start_time": "2021-08-29T03:07:34.804041",
     "status": "completed"
    },
    "tags": []
   },
   "source": [
    "# Sub\n",
    "---"
   ]
  },
  {
   "cell_type": "code",
   "execution_count": 23,
   "metadata": {
    "execution": {
     "iopub.execute_input": "2021-08-29T03:07:34.923763Z",
     "iopub.status.busy": "2021-08-29T03:07:34.923074Z",
     "iopub.status.idle": "2021-08-29T03:07:34.970153Z",
     "shell.execute_reply": "2021-08-29T03:07:34.969399Z"
    },
    "papermill": {
     "duration": 0.08942,
     "end_time": "2021-08-29T03:07:34.970299",
     "exception": false,
     "start_time": "2021-08-29T03:07:34.880879",
     "status": "completed"
    },
    "tags": []
   },
   "outputs": [],
   "source": [
    "# Write predictions to sub\n",
    "sample_submission['predicted'] = np.where(cat_pred>final_threshold, 1, 0).astype('int64')\n",
    "sample_submission.to_csv('cat_shap_sub.csv',index=False)"
   ]
  },
  {
   "cell_type": "code",
   "execution_count": 24,
   "metadata": {
    "execution": {
     "iopub.execute_input": "2021-08-29T03:07:35.052543Z",
     "iopub.status.busy": "2021-08-29T03:07:35.051902Z",
     "iopub.status.idle": "2021-08-29T03:07:35.190746Z",
     "shell.execute_reply": "2021-08-29T03:07:35.190137Z"
    },
    "papermill": {
     "duration": 0.182907,
     "end_time": "2021-08-29T03:07:35.190905",
     "exception": false,
     "start_time": "2021-08-29T03:07:35.007998",
     "status": "completed"
    },
    "tags": []
   },
   "outputs": [],
   "source": [
    "# Write predictions to stack\n",
    "sample_submission['predicted'] = cat_pred\n",
    "sample_submission.to_csv('cat_shap_sub_probs.csv',index=False)\n",
    "pd.DataFrame({'id':train.index, 'cat_shap_oof':cat_oof}).to_csv('cat_oof.csv',index=False)"
   ]
  }
 ],
 "metadata": {
  "kernelspec": {
   "display_name": "Python 3 (ipykernel)",
   "language": "python",
   "name": "python3"
  },
  "language_info": {
   "codemirror_mode": {
    "name": "ipython",
    "version": 3
   },
   "file_extension": ".py",
   "mimetype": "text/x-python",
   "name": "python",
   "nbconvert_exporter": "python",
   "pygments_lexer": "ipython3",
   "version": "3.8.5"
  },
  "papermill": {
   "default_parameters": {},
   "duration": 5480.408703,
   "end_time": "2021-08-29T03:07:37.080240",
   "environment_variables": {},
   "exception": null,
   "input_path": "__notebook__.ipynb",
   "output_path": "__notebook__.ipynb",
   "parameters": {},
   "start_time": "2021-08-29T01:36:16.671537",
   "version": "2.3.3"
  }
 },
 "nbformat": 4,
 "nbformat_minor": 5
}
