{
 "cells": [
  {
   "cell_type": "code",
   "execution_count": 1,
   "metadata": {
    "_cell_guid": "b1076dfc-b9ad-4769-8c92-a6c4dae69d19",
    "_uuid": "8f2839f25d086af736a60e9eeb907d3b93b6e0e5",
    "execution": {
     "iopub.execute_input": "2021-10-04T01:07:29.030704Z",
     "iopub.status.busy": "2021-10-04T01:07:29.025295Z",
     "iopub.status.idle": "2021-10-04T01:07:33.123835Z",
     "shell.execute_reply": "2021-10-04T01:07:33.124385Z",
     "shell.execute_reply.started": "2021-10-04T00:44:55.473284Z"
    },
    "papermill": {
     "duration": 4.140749,
     "end_time": "2021-10-04T01:07:33.124742",
     "exception": false,
     "start_time": "2021-10-04T01:07:28.983993",
     "status": "completed"
    },
    "tags": []
   },
   "outputs": [],
   "source": [
    "import numpy as np \n",
    "import pandas as pd\n",
    "import seaborn as sns\n",
    "import time\n",
    "from tqdm import tqdm\n",
    "\n",
    "from sklearn.metrics import f1_score, roc_auc_score, log_loss\n",
    "from sklearn.model_selection import KFold\n",
    "from sklearn.calibration import CalibratedClassifierCV\n",
    "from scipy.optimize import minimize\n",
    "\n",
    "import matplotlib.pyplot as plt\n",
    "import plotly.figure_factory as ff\n",
    "import plotly.express as px\n",
    "\n",
    "%matplotlib inline"
   ]
  },
  {
   "cell_type": "code",
   "execution_count": 2,
   "metadata": {
    "execution": {
     "iopub.execute_input": "2021-10-04T01:07:33.191241Z",
     "iopub.status.busy": "2021-10-04T01:07:33.190224Z",
     "iopub.status.idle": "2021-10-04T01:07:33.192835Z",
     "shell.execute_reply": "2021-10-04T01:07:33.193302Z",
     "shell.execute_reply.started": "2021-10-04T00:44:59.40029Z"
    },
    "papermill": {
     "duration": 0.039575,
     "end_time": "2021-10-04T01:07:33.193475",
     "exception": false,
     "start_time": "2021-10-04T01:07:33.153900",
     "status": "completed"
    },
    "tags": []
   },
   "outputs": [],
   "source": [
    "def get_threshold(y_true, y_pred):\n",
    "    # Moving threshold\n",
    "    thresholds = np.arange(0.0, 1.0, 0.01)\n",
    "    f1_scores = []\n",
    "    for thresh in thresholds:\n",
    "        f1_scores.append(\n",
    "            f1_score(y_true, [1 if m>thresh else 0 for m in y_pred]))\n",
    "    f1s = np.array(f1_scores)\n",
    "    return thresholds[f1s.argmax()]\n",
    "    \n",
    "    \n",
    "def custom_f1(y_true, y_pred):\n",
    "     \n",
    "    max_f1_threshold =  get_threshold(y_true, y_pred)\n",
    "\n",
    "    y_pred = np.where(y_pred>max_f1_threshold, 1, 0)\n",
    "    f1_after = f1_score(y_true, y_pred) \n",
    "    \n",
    "    return f1_after"
   ]
  },
  {
   "cell_type": "code",
   "execution_count": 3,
   "metadata": {
    "execution": {
     "iopub.execute_input": "2021-10-04T01:07:33.253167Z",
     "iopub.status.busy": "2021-10-04T01:07:33.251963Z",
     "iopub.status.idle": "2021-10-04T01:07:33.264811Z",
     "shell.execute_reply": "2021-10-04T01:07:33.265281Z",
     "shell.execute_reply.started": "2021-10-04T00:44:59.408573Z"
    },
    "papermill": {
     "duration": 0.044331,
     "end_time": "2021-10-04T01:07:33.265464",
     "exception": false,
     "start_time": "2021-10-04T01:07:33.221133",
     "status": "completed"
    },
    "tags": []
   },
   "outputs": [],
   "source": [
    "def ensembling(main, support, coeff): \n",
    "    \n",
    "    suba  = main.copy() \n",
    "    subav = suba.values\n",
    "       \n",
    "    subb  = support.copy()\n",
    "    subbv = subb.values    \n",
    "           \n",
    "    ense  = main.copy()    \n",
    "    ensev = ense.values  \n",
    " \n",
    "    for i in range (len(main)):\n",
    "        \n",
    "        pera = subav[i, 1]\n",
    "        perb = subbv[i, 1]\n",
    "        per = (pera * coeff) + (perb * (1.0 - coeff))   \n",
    "        ensev[i, 1] = per\n",
    "        \n",
    "    ense.iloc[:, 1] = ensev[:, 1]  \n",
    "    \n",
    "    ###############################    \n",
    "    X  = suba.iloc[:, 1]\n",
    "    Y1 = subb.iloc[:, 1]\n",
    "    Y2 = ense.iloc[:, 1]\n",
    "    \n",
    "    plt.style.use('seaborn-whitegrid') \n",
    "    plt.figure(figsize=(9, 9), facecolor='lightgray')\n",
    "    plt.title(f'\\nE N S E M B L I N G\\n')   \n",
    "      \n",
    "    plt.scatter(X, Y1, s=1.5, label='Support')    \n",
    "    plt.scatter(X, Y2, s=1.5, label='Generated')\n",
    "    plt.scatter(X, X , s=0.1, label='Main(X=Y)')\n",
    "    \n",
    "    plt.legend(fontsize=12, loc=2)\n",
    "    #plt.savefig('Ensembling_1.png')\n",
    "    plt.show()     \n",
    "    ###############################   \n",
    "    ense.iloc[:, 1] = ense.iloc[:, 1].astype(float)\n",
    "    hist_data = [subb.iloc[:, 1], ense.iloc[:, 1], suba.iloc[:, 1]] \n",
    "    group_labels = ['Support', 'Ensembling', 'Main']\n",
    "    \n",
    "    fig = ff.create_distplot(hist_data, group_labels, bin_size=.2, show_hist=False, show_rug=False)\n",
    "    fig.show()   \n",
    "    ###############################       \n",
    "    \n",
    "    return ense   "
   ]
  },
  {
   "cell_type": "code",
   "execution_count": 4,
   "metadata": {
    "execution": {
     "iopub.execute_input": "2021-10-04T01:07:33.329786Z",
     "iopub.status.busy": "2021-10-04T01:07:33.329075Z",
     "iopub.status.idle": "2021-10-04T01:07:33.332447Z",
     "shell.execute_reply": "2021-10-04T01:07:33.331964Z",
     "shell.execute_reply.started": "2021-10-04T00:44:59.428276Z"
    },
    "papermill": {
     "duration": 0.038621,
     "end_time": "2021-10-04T01:07:33.332602",
     "exception": false,
     "start_time": "2021-10-04T01:07:33.293981",
     "status": "completed"
    },
    "tags": []
   },
   "outputs": [],
   "source": [
    "def vote(r, columns):\n",
    "    \"\"\"https://www.kaggle.com/belov38/catboost-lb/\"\"\"\n",
    "    ones = 0\n",
    "    zeros = 0\n",
    "    for i in columns:\n",
    "        if r[i]==0:\n",
    "            zeros+=1\n",
    "        else:\n",
    "            ones+=1\n",
    "    if ones>zeros:\n",
    "        return 1\n",
    "    else:\n",
    "        return 0"
   ]
  },
  {
   "cell_type": "code",
   "execution_count": 5,
   "metadata": {
    "execution": {
     "iopub.execute_input": "2021-10-04T01:07:33.393767Z",
     "iopub.status.busy": "2021-10-04T01:07:33.393087Z",
     "iopub.status.idle": "2021-10-04T01:07:33.904960Z",
     "shell.execute_reply": "2021-10-04T01:07:33.903517Z",
     "shell.execute_reply.started": "2021-10-04T00:44:59.444715Z"
    },
    "papermill": {
     "duration": 0.545107,
     "end_time": "2021-10-04T01:07:33.905153",
     "exception": false,
     "start_time": "2021-10-04T01:07:33.360046",
     "status": "completed"
    },
    "tags": []
   },
   "outputs": [],
   "source": [
    "train = pd.read_csv('../input/porto-seguro-data-challenge/train.csv')\n",
    "test = pd.read_csv('../input/porto-seguro-data-challenge/test.csv')\n",
    "sample_submission = pd.read_csv('../input/porto-seguro-data-challenge/submission_sample.csv')\n",
    "meta = pd.read_csv('../input/porto-seguro-data-challenge/metadata.csv')"
   ]
  },
  {
   "cell_type": "code",
   "execution_count": 6,
   "metadata": {
    "execution": {
     "iopub.execute_input": "2021-10-04T01:07:33.983977Z",
     "iopub.status.busy": "2021-10-04T01:07:33.983272Z",
     "iopub.status.idle": "2021-10-04T01:07:33.986587Z",
     "shell.execute_reply": "2021-10-04T01:07:33.985996Z",
     "shell.execute_reply.started": "2021-10-04T00:44:59.933661Z"
    },
    "papermill": {
     "duration": 0.052459,
     "end_time": "2021-10-04T01:07:33.986762",
     "exception": false,
     "start_time": "2021-10-04T01:07:33.934303",
     "status": "completed"
    },
    "tags": []
   },
   "outputs": [],
   "source": [
    "cat_nom = [x for x in meta.iloc[1:-1, :].loc[(meta.iloc[:,1]==\"Qualitativo nominal\")].iloc[:,0]] # 0.66 / 0.56\n",
    "cat_ord = [x for x in meta.iloc[1:-1, :].loc[(meta.iloc[:,1]==\"Qualitativo ordinal\")].iloc[:,0]] # 0.36 / 0.36\n",
    "num_dis = [x for x in meta.iloc[1:-1, :].loc[(meta.iloc[:,1]==\"Quantitativo discreto\")].iloc[:,0]] # 0.40\n",
    "num_con = [x for x in meta.iloc[1:-1, :].loc[(meta.iloc[:,1]==\"Quantitativo continua\")].iloc[:,0]] # 0.38"
   ]
  },
  {
   "cell_type": "code",
   "execution_count": 7,
   "metadata": {
    "execution": {
     "iopub.execute_input": "2021-10-04T01:07:34.058935Z",
     "iopub.status.busy": "2021-10-04T01:07:34.058248Z",
     "iopub.status.idle": "2021-10-04T01:07:34.077579Z",
     "shell.execute_reply": "2021-10-04T01:07:34.078064Z",
     "shell.execute_reply.started": "2021-10-04T00:44:59.953946Z"
    },
    "papermill": {
     "duration": 0.06215,
     "end_time": "2021-10-04T01:07:34.078268",
     "exception": false,
     "start_time": "2021-10-04T01:07:34.016118",
     "status": "completed"
    },
    "tags": []
   },
   "outputs": [],
   "source": [
    "X_test = test[cat_nom+cat_ord+num_dis+num_con]\n",
    "X = train[cat_nom+cat_ord+num_dis+num_con]\n",
    "y = train.y\n",
    "\n",
    "K=10\n",
    "SEED=314\n",
    "kf = KFold(n_splits=K, shuffle=True, random_state=SEED)"
   ]
  },
  {
   "cell_type": "code",
   "execution_count": 8,
   "metadata": {
    "execution": {
     "iopub.execute_input": "2021-10-04T01:07:34.137326Z",
     "iopub.status.busy": "2021-10-04T01:07:34.136704Z",
     "iopub.status.idle": "2021-10-04T01:07:34.140182Z",
     "shell.execute_reply": "2021-10-04T01:07:34.140969Z",
     "shell.execute_reply.started": "2021-10-04T00:44:59.981422Z"
    },
    "papermill": {
     "duration": 0.035038,
     "end_time": "2021-10-04T01:07:34.141157",
     "exception": false,
     "start_time": "2021-10-04T01:07:34.106119",
     "status": "completed"
    },
    "tags": []
   },
   "outputs": [],
   "source": [
    "#to_stack = pd.concat([\n",
    "#    pd.read_csv('../input/porto-seguro-lightautoml-knn-pseudolabel/lightautoml_pseudo_oof.csv', index_col='id').reset_index(drop=True),\n",
    "#    pd.read_csv('../input/porto-seguro-lightautoml-pseudolabel/lightautoml_pseudo_oof.csv', index_col='id').reset_index(drop=True),\n",
    "#    pd.read_csv('../input/fork-of-porto-seguro-knn-autogluon-pseudolabel/autogluon_pseudo_oof.csv', index_col='id').reset_index(drop=True)\n",
    "#], axis=1)\n",
    "#\n",
    "#to_pred = pd.concat([\n",
    "#    pd.read_csv('../input/porto-seguro-lightautoml-knn-pseudolabel/lightautoml_pseudo_sub_probs.csv', index_col='id').reset_index(drop=True),\n",
    "#    pd.read_csv('../input/porto-seguro-lightautoml-pseudolabel/lightautoml_pseudo_sub_probs.csv', index_col='id').reset_index(drop=True),\n",
    "#    pd.read_csv('../input/fork-of-porto-seguro-knn-autogluon-pseudolabel/autogluon_pseudo_sub_probs.csv', index_col='id').reset_index(drop=True)\n",
    "#], axis=1)"
   ]
  },
  {
   "cell_type": "code",
   "execution_count": 9,
   "metadata": {
    "execution": {
     "iopub.execute_input": "2021-10-04T01:07:34.199911Z",
     "iopub.status.busy": "2021-10-04T01:07:34.199273Z",
     "iopub.status.idle": "2021-10-04T01:07:34.203072Z",
     "shell.execute_reply": "2021-10-04T01:07:34.203650Z",
     "shell.execute_reply.started": "2021-10-04T00:44:59.986682Z"
    },
    "papermill": {
     "duration": 0.034992,
     "end_time": "2021-10-04T01:07:34.203820",
     "exception": false,
     "start_time": "2021-10-04T01:07:34.168828",
     "status": "completed"
    },
    "tags": []
   },
   "outputs": [],
   "source": [
    "#to_pred = pd.concat([\n",
    "#    pd.read_csv('../input/porto-seguro-lightgbm-shap-sequencial-tun/lgb_seq_sub.csv', index_col='id').reset_index(drop=True),\n",
    "#    pd.read_csv('../input/porto-seguro-catboost-knn-shap/cat_shap_sub.csv', index_col='id').reset_index(drop=True),\n",
    "#    pd.read_csv('../input/porto-seguro-catboost-shap/cat_shap_sub.csv', index_col='id').reset_index(drop=True)\n",
    "#], axis=1)"
   ]
  },
  {
   "cell_type": "code",
   "execution_count": 10,
   "metadata": {
    "execution": {
     "iopub.execute_input": "2021-10-04T01:07:34.262396Z",
     "iopub.status.busy": "2021-10-04T01:07:34.261780Z",
     "iopub.status.idle": "2021-10-04T01:07:34.265657Z",
     "shell.execute_reply": "2021-10-04T01:07:34.266258Z",
     "shell.execute_reply.started": "2021-10-04T00:45:00.000451Z"
    },
    "papermill": {
     "duration": 0.035078,
     "end_time": "2021-10-04T01:07:34.266452",
     "exception": false,
     "start_time": "2021-10-04T01:07:34.231374",
     "status": "completed"
    },
    "tags": []
   },
   "outputs": [],
   "source": [
    "#def simplex(w, *args):\n",
    "#    yp_stacked = np.sum(to_stack * [w[0], w[1], w[2]], 1) / np.sum(w)\n",
    "#    return -custom_f1(y, yp_stacked)"
   ]
  },
  {
   "cell_type": "code",
   "execution_count": 11,
   "metadata": {
    "execution": {
     "iopub.execute_input": "2021-10-04T01:07:34.325721Z",
     "iopub.status.busy": "2021-10-04T01:07:34.325100Z",
     "iopub.status.idle": "2021-10-04T01:07:34.328573Z",
     "shell.execute_reply": "2021-10-04T01:07:34.329149Z",
     "shell.execute_reply.started": "2021-10-04T00:45:00.016253Z"
    },
    "papermill": {
     "duration": 0.035221,
     "end_time": "2021-10-04T01:07:34.329321",
     "exception": false,
     "start_time": "2021-10-04T01:07:34.294100",
     "status": "completed"
    },
    "tags": []
   },
   "outputs": [],
   "source": [
    "#w0 =  [1, 1, 1]\n",
    "#res1 = minimize(simplex, w0, method='nelder-mead')\n",
    "#res1"
   ]
  },
  {
   "cell_type": "code",
   "execution_count": 12,
   "metadata": {
    "execution": {
     "iopub.execute_input": "2021-10-04T01:07:34.387461Z",
     "iopub.status.busy": "2021-10-04T01:07:34.386861Z",
     "iopub.status.idle": "2021-10-04T01:07:34.390187Z",
     "shell.execute_reply": "2021-10-04T01:07:34.390785Z",
     "shell.execute_reply.started": "2021-10-04T00:45:00.229542Z"
    },
    "papermill": {
     "duration": 0.034152,
     "end_time": "2021-10-04T01:07:34.390946",
     "exception": false,
     "start_time": "2021-10-04T01:07:34.356794",
     "status": "completed"
    },
    "tags": []
   },
   "outputs": [],
   "source": [
    "#y_stacked = np.sum(to_stack * res1.x, 1) / np.sum(res1.x)\n",
    "#y_pred = np.sum(to_pred * res1.x, 1) / np.sum(res1.x)"
   ]
  },
  {
   "cell_type": "code",
   "execution_count": 13,
   "metadata": {
    "execution": {
     "iopub.execute_input": "2021-10-04T01:07:34.449059Z",
     "iopub.status.busy": "2021-10-04T01:07:34.448431Z",
     "iopub.status.idle": "2021-10-04T01:07:34.742755Z",
     "shell.execute_reply": "2021-10-04T01:07:34.742008Z",
     "shell.execute_reply.started": "2021-10-04T00:45:00.448755Z"
    },
    "papermill": {
     "duration": 0.324628,
     "end_time": "2021-10-04T01:07:34.742921",
     "exception": false,
     "start_time": "2021-10-04T01:07:34.418293",
     "status": "completed"
    },
    "tags": []
   },
   "outputs": [],
   "source": [
    "oof2 = pd.read_csv('../input/porto-seguro-lightautoml-pseudolabel/lightautoml_pseudo_oof.csv').iloc[:, 1]\n",
    "oof4 = pd.read_csv('../input/porto-seguro-autogluon-pseudolabel/autogluon_pseudo_oof.csv').iloc[:, 1]\n",
    "oof1 = pd.read_csv('../input/porto-seguro-lightautoml-knn-pseudolabel/lightautoml_pseudo_oof.csv').iloc[:, 1]\n",
    "oof3 = pd.read_csv('../input/fork-of-porto-seguro-knn-autogluon-pseudolabel/autogluon_pseudo_oof.csv').iloc[:, 1]\n",
    "oof6 = pd.read_csv('../input/porto-seguro-fork-of-lightautoml-pseudolabel/lightautoml_pseudo_oof.csv').iloc[:, 1]\n",
    "\n",
    "sub_prob2 = pd.read_csv('../input/porto-seguro-lightautoml-pseudolabel/lightautoml_pseudo_sub_probs.csv').iloc[:, 1]\n",
    "sub_prob4 = pd.read_csv('../input/porto-seguro-autogluon-pseudolabel/autogluon_pseudo_sub_probs.csv').iloc[:, 1]\n",
    "sub_prob1 = pd.read_csv('../input/porto-seguro-lightautoml-knn-pseudolabel/lightautoml_pseudo_sub_probs.csv').iloc[:, 1]\n",
    "sub_prob3 = pd.read_csv('../input/fork-of-porto-seguro-knn-autogluon-pseudolabel/autogluon_pseudo_sub_probs.csv').iloc[:, 1]\n",
    "sub_prob6 = pd.read_csv('../input/porto-seguro-fork-of-lightautoml-pseudolabel/lightautoml_pseudo_sub_probs.csv').iloc[:, 1]\n",
    "\n",
    "sub2 = pd.read_csv('../input/porto-seguro-lightautoml-pseudolabel/lightautoml_pseudo_sub.csv').predicted\n",
    "sub4 = pd.read_csv('../input/porto-seguro-autogluon-pseudolabel/autogluon_pseudo_sub.csv').predicted\n",
    "sub1 = pd.read_csv('../input/porto-seguro-lightautoml-knn-pseudolabel/lightautoml_pseudo_sub.csv').predicted\n",
    "sub3 = pd.read_csv('../input/fork-of-porto-seguro-knn-autogluon-pseudolabel/autogluon_pseudo_sub.csv').predicted\n",
    "sub6 = pd.read_csv('../input/porto-seguro-fork-of-lightautoml-pseudolabel/lightautoml_pseudo_sub.csv').predicted"
   ]
  },
  {
   "cell_type": "code",
   "execution_count": 14,
   "metadata": {
    "execution": {
     "iopub.execute_input": "2021-10-04T01:07:34.807150Z",
     "iopub.status.busy": "2021-10-04T01:07:34.806206Z",
     "iopub.status.idle": "2021-10-04T01:07:34.809792Z",
     "shell.execute_reply": "2021-10-04T01:07:34.810264Z",
     "shell.execute_reply.started": "2021-10-04T00:45:19.880623Z"
    },
    "papermill": {
     "duration": 0.038809,
     "end_time": "2021-10-04T01:07:34.810442",
     "exception": false,
     "start_time": "2021-10-04T01:07:34.771633",
     "status": "completed"
    },
    "tags": []
   },
   "outputs": [],
   "source": [
    "#to_ens = pd.concat([sub1.predicted, sub2.predicted, sub3.predicted, sub4.predicted, sub5.predicted], axis=1)\n",
    "to_ens = pd.concat([sub1, sub2, sub3, sub4, sub6], axis=1)\n",
    "to_ens.columns = ['sub1', 'sub2', 'sub3', 'sub4','sub6']"
   ]
  },
  {
   "cell_type": "code",
   "execution_count": 15,
   "metadata": {
    "execution": {
     "iopub.execute_input": "2021-10-04T01:07:34.869905Z",
     "iopub.status.busy": "2021-10-04T01:07:34.868983Z",
     "iopub.status.idle": "2021-10-04T01:07:48.947763Z",
     "shell.execute_reply": "2021-10-04T01:07:48.948253Z",
     "shell.execute_reply.started": "2021-10-04T00:52:30.179821Z"
    },
    "papermill": {
     "duration": 14.110075,
     "end_time": "2021-10-04T01:07:48.948479",
     "exception": false,
     "start_time": "2021-10-04T01:07:34.838404",
     "status": "completed"
    },
    "tags": []
   },
   "outputs": [],
   "source": [
    "trs=[]\n",
    "oofs = [oof1, oof2, oof3, oof4, oof6]\n",
    "preds = [sub_prob1, sub_prob2, sub_prob3, sub_prob4, sub_prob6]\n",
    "for oof in oofs:\n",
    "    trs = trs + [get_threshold(y, oof)]"
   ]
  },
  {
   "cell_type": "code",
   "execution_count": 16,
   "metadata": {
    "execution": {
     "iopub.execute_input": "2021-10-04T01:07:49.007865Z",
     "iopub.status.busy": "2021-10-04T01:07:49.007141Z",
     "iopub.status.idle": "2021-10-04T01:07:49.047838Z",
     "shell.execute_reply": "2021-10-04T01:07:49.047250Z",
     "shell.execute_reply.started": "2021-10-04T00:59:07.463859Z"
    },
    "papermill": {
     "duration": 0.071663,
     "end_time": "2021-10-04T01:07:49.047979",
     "exception": false,
     "start_time": "2021-10-04T01:07:48.976316",
     "status": "completed"
    },
    "tags": []
   },
   "outputs": [],
   "source": [
    "oof_class = pd.DataFrame(np.zeros((X.shape[0], len(oofs))))\n",
    "pred_class = pd.DataFrame(np.zeros((X_test.shape[0], len(oofs))))\n",
    "\n",
    "for i in range(len(oofs)):\n",
    "    oof_class.iloc[:, i] = np.where(oofs[i]>trs[i], 1, 0)\n",
    "    pred_class.iloc[:, i] = np.where(preds[i]>trs[i], 1, 0)"
   ]
  },
  {
   "cell_type": "code",
   "execution_count": 17,
   "metadata": {
    "execution": {
     "iopub.execute_input": "2021-10-04T01:07:49.109290Z",
     "iopub.status.busy": "2021-10-04T01:07:49.108361Z",
     "iopub.status.idle": "2021-10-04T01:07:49.111689Z",
     "shell.execute_reply": "2021-10-04T01:07:49.111173Z",
     "shell.execute_reply.started": "2021-09-28T01:03:46.142928Z"
    },
    "papermill": {
     "duration": 0.036275,
     "end_time": "2021-10-04T01:07:49.111832",
     "exception": false,
     "start_time": "2021-10-04T01:07:49.075557",
     "status": "completed"
    },
    "tags": []
   },
   "outputs": [],
   "source": [
    "#to_ens.groupby(['sub1', 'sub2', 'sub3', 'sub4', 'sub5']).size()"
   ]
  },
  {
   "cell_type": "code",
   "execution_count": 18,
   "metadata": {
    "execution": {
     "iopub.execute_input": "2021-10-04T01:07:49.172173Z",
     "iopub.status.busy": "2021-10-04T01:07:49.171420Z",
     "iopub.status.idle": "2021-10-04T01:07:49.174362Z",
     "shell.execute_reply": "2021-10-04T01:07:49.174884Z",
     "shell.execute_reply.started": "2021-09-28T01:03:46.157686Z"
    },
    "papermill": {
     "duration": 0.03581,
     "end_time": "2021-10-04T01:07:49.175059",
     "exception": false,
     "start_time": "2021-10-04T01:07:49.139249",
     "status": "completed"
    },
    "tags": []
   },
   "outputs": [],
   "source": [
    "#pd.crosstab(to_ens.sub1, to_ens.sub2)"
   ]
  },
  {
   "cell_type": "code",
   "execution_count": 19,
   "metadata": {
    "execution": {
     "iopub.execute_input": "2021-10-04T01:07:49.234516Z",
     "iopub.status.busy": "2021-10-04T01:07:49.233864Z",
     "iopub.status.idle": "2021-10-04T01:07:49.237929Z",
     "shell.execute_reply": "2021-10-04T01:07:49.237405Z",
     "shell.execute_reply.started": "2021-09-28T01:03:46.173633Z"
    },
    "papermill": {
     "duration": 0.035387,
     "end_time": "2021-10-04T01:07:49.238071",
     "exception": false,
     "start_time": "2021-10-04T01:07:49.202684",
     "status": "completed"
    },
    "tags": []
   },
   "outputs": [],
   "source": [
    "#pd.crosstab(to_ens.sub1, to_ens.sub3)"
   ]
  },
  {
   "cell_type": "code",
   "execution_count": 20,
   "metadata": {
    "execution": {
     "iopub.execute_input": "2021-10-04T01:07:49.298647Z",
     "iopub.status.busy": "2021-10-04T01:07:49.297956Z",
     "iopub.status.idle": "2021-10-04T01:07:49.301152Z",
     "shell.execute_reply": "2021-10-04T01:07:49.300553Z",
     "shell.execute_reply.started": "2021-09-28T01:03:46.184389Z"
    },
    "papermill": {
     "duration": 0.035476,
     "end_time": "2021-10-04T01:07:49.301283",
     "exception": false,
     "start_time": "2021-10-04T01:07:49.265807",
     "status": "completed"
    },
    "tags": []
   },
   "outputs": [],
   "source": [
    "#pd.crosstab(to_ens.sub2, to_ens.sub3)"
   ]
  },
  {
   "cell_type": "code",
   "execution_count": 21,
   "metadata": {
    "execution": {
     "iopub.execute_input": "2021-10-04T01:07:49.361328Z",
     "iopub.status.busy": "2021-10-04T01:07:49.360739Z",
     "iopub.status.idle": "2021-10-04T01:07:49.364405Z",
     "shell.execute_reply": "2021-10-04T01:07:49.364911Z",
     "shell.execute_reply.started": "2021-09-28T01:03:46.197465Z"
    },
    "papermill": {
     "duration": 0.035305,
     "end_time": "2021-10-04T01:07:49.365074",
     "exception": false,
     "start_time": "2021-10-04T01:07:49.329769",
     "status": "completed"
    },
    "tags": []
   },
   "outputs": [],
   "source": [
    "## numero de instancias que tera desempate\n",
    "#n = to_ens[((to_ens.sub1==0)&(to_ens.sub2==1))|((to_ens.sub1==1)&(to_ens.sub2==0))].shape[0]\n",
    "#prop = to_ens[((to_ens.sub1==0)&(to_ens.sub2==1))|((to_ens.sub1==1)&(to_ens.sub2==0))].shape[0] / to_ens.shape[0]\n",
    "#\n",
    "#print(f\"{n} ({np.round(prop*100, 2)}%) instancias onde os dois melhores scores precisarao de um desempate\")"
   ]
  },
  {
   "cell_type": "code",
   "execution_count": 22,
   "metadata": {
    "execution": {
     "iopub.execute_input": "2021-10-04T01:07:49.424547Z",
     "iopub.status.busy": "2021-10-04T01:07:49.423915Z",
     "iopub.status.idle": "2021-10-04T01:07:49.427450Z",
     "shell.execute_reply": "2021-10-04T01:07:49.427987Z",
     "shell.execute_reply.started": "2021-09-28T01:03:46.20978Z"
    },
    "papermill": {
     "duration": 0.035244,
     "end_time": "2021-10-04T01:07:49.428146",
     "exception": false,
     "start_time": "2021-10-04T01:07:49.392902",
     "status": "completed"
    },
    "tags": []
   },
   "outputs": [],
   "source": [
    "# ----------------------"
   ]
  },
  {
   "cell_type": "code",
   "execution_count": 23,
   "metadata": {
    "execution": {
     "iopub.execute_input": "2021-10-04T01:07:49.487425Z",
     "iopub.status.busy": "2021-10-04T01:07:49.486824Z",
     "iopub.status.idle": "2021-10-04T01:07:49.489797Z",
     "shell.execute_reply": "2021-10-04T01:07:49.490267Z",
     "shell.execute_reply.started": "2021-09-28T01:03:46.226942Z"
    },
    "papermill": {
     "duration": 0.034525,
     "end_time": "2021-10-04T01:07:49.490424",
     "exception": false,
     "start_time": "2021-10-04T01:07:49.455899",
     "status": "completed"
    },
    "tags": []
   },
   "outputs": [],
   "source": [
    "#ens_oof1 = ensembling(oof1, oof3, 0.80)\n",
    "#ens1 = ensembling(sub1, sub3, 0.80)"
   ]
  },
  {
   "cell_type": "code",
   "execution_count": 24,
   "metadata": {
    "execution": {
     "iopub.execute_input": "2021-10-04T01:07:49.549431Z",
     "iopub.status.busy": "2021-10-04T01:07:49.548823Z",
     "iopub.status.idle": "2021-10-04T01:07:49.553396Z",
     "shell.execute_reply": "2021-10-04T01:07:49.552861Z",
     "shell.execute_reply.started": "2021-09-28T01:03:46.239509Z"
    },
    "papermill": {
     "duration": 0.035551,
     "end_time": "2021-10-04T01:07:49.553573",
     "exception": false,
     "start_time": "2021-10-04T01:07:49.518022",
     "status": "completed"
    },
    "tags": []
   },
   "outputs": [],
   "source": [
    "#ens_oof2 = ensembling(ens_oof1, oof3, 0.80)\n",
    "#ens2 = ensembling(ens1, sub3, 0.80)"
   ]
  },
  {
   "cell_type": "code",
   "execution_count": 25,
   "metadata": {
    "execution": {
     "iopub.execute_input": "2021-10-04T01:07:49.614257Z",
     "iopub.status.busy": "2021-10-04T01:07:49.613575Z",
     "iopub.status.idle": "2021-10-04T01:07:49.617345Z",
     "shell.execute_reply": "2021-10-04T01:07:49.616677Z",
     "shell.execute_reply.started": "2021-09-28T01:03:46.251887Z"
    },
    "papermill": {
     "duration": 0.036214,
     "end_time": "2021-10-04T01:07:49.617509",
     "exception": false,
     "start_time": "2021-10-04T01:07:49.581295",
     "status": "completed"
    },
    "tags": []
   },
   "outputs": [],
   "source": [
    "# -------------------"
   ]
  },
  {
   "cell_type": "code",
   "execution_count": 26,
   "metadata": {
    "execution": {
     "iopub.execute_input": "2021-10-04T01:07:49.677829Z",
     "iopub.status.busy": "2021-10-04T01:07:49.677148Z",
     "iopub.status.idle": "2021-10-04T01:07:49.680737Z",
     "shell.execute_reply": "2021-10-04T01:07:49.680140Z",
     "shell.execute_reply.started": "2021-09-28T01:03:46.263858Z"
    },
    "papermill": {
     "duration": 0.035623,
     "end_time": "2021-10-04T01:07:49.680882",
     "exception": false,
     "start_time": "2021-10-04T01:07:49.645259",
     "status": "completed"
    },
    "tags": []
   },
   "outputs": [],
   "source": [
    "#w1=0.8\n",
    "#w2=0.2\n",
    "#y_stacked = (w1*to_stack.iloc[:, 0]) + (w2*to_stack.iloc[:, 1]) / (w1+w2)\n",
    "#y_pred = (w1*to_pred.iloc[:, 0]) + (w2*to_pred.iloc[:, 1]) / (w1+w2)"
   ]
  },
  {
   "cell_type": "code",
   "execution_count": 27,
   "metadata": {
    "execution": {
     "iopub.execute_input": "2021-10-04T01:07:49.741551Z",
     "iopub.status.busy": "2021-10-04T01:07:49.740849Z",
     "iopub.status.idle": "2021-10-04T01:07:49.744544Z",
     "shell.execute_reply": "2021-10-04T01:07:49.744038Z",
     "shell.execute_reply.started": "2021-09-28T01:03:46.277741Z"
    },
    "papermill": {
     "duration": 0.036219,
     "end_time": "2021-10-04T01:07:49.744688",
     "exception": false,
     "start_time": "2021-10-04T01:07:49.708469",
     "status": "completed"
    },
    "tags": []
   },
   "outputs": [],
   "source": [
    "#y_stacked = np.mean(to_stack, axis=1)\n",
    "#y_pred = np.mean(to_pred, axis=1)"
   ]
  },
  {
   "cell_type": "code",
   "execution_count": 28,
   "metadata": {
    "execution": {
     "iopub.execute_input": "2021-10-04T01:07:49.803969Z",
     "iopub.status.busy": "2021-10-04T01:07:49.803323Z",
     "iopub.status.idle": "2021-10-04T01:07:49.806280Z",
     "shell.execute_reply": "2021-10-04T01:07:49.806801Z",
     "shell.execute_reply.started": "2021-09-28T01:03:46.290421Z"
    },
    "papermill": {
     "duration": 0.034458,
     "end_time": "2021-10-04T01:07:49.806965",
     "exception": false,
     "start_time": "2021-10-04T01:07:49.772507",
     "status": "completed"
    },
    "tags": []
   },
   "outputs": [],
   "source": [
    "#y_stacked = ens_oof1.lightautoml_pseudo_oof\n",
    "#y_pred = ens1.predicted"
   ]
  },
  {
   "cell_type": "code",
   "execution_count": 29,
   "metadata": {
    "execution": {
     "iopub.execute_input": "2021-10-04T01:07:49.866753Z",
     "iopub.status.busy": "2021-10-04T01:07:49.866059Z",
     "iopub.status.idle": "2021-10-04T01:07:49.869374Z",
     "shell.execute_reply": "2021-10-04T01:07:49.868884Z",
     "shell.execute_reply.started": "2021-09-28T01:03:46.301208Z"
    },
    "papermill": {
     "duration": 0.035163,
     "end_time": "2021-10-04T01:07:49.869541",
     "exception": false,
     "start_time": "2021-10-04T01:07:49.834378",
     "status": "completed"
    },
    "tags": []
   },
   "outputs": [],
   "source": [
    "#final_threshold = get_threshold(y, y_stacked)\n",
    "#final_threshold"
   ]
  },
  {
   "cell_type": "code",
   "execution_count": 30,
   "metadata": {
    "execution": {
     "iopub.execute_input": "2021-10-04T01:07:49.929476Z",
     "iopub.status.busy": "2021-10-04T01:07:49.928792Z",
     "iopub.status.idle": "2021-10-04T01:07:49.931680Z",
     "shell.execute_reply": "2021-10-04T01:07:49.932223Z",
     "shell.execute_reply.started": "2021-09-28T01:03:46.312949Z"
    },
    "papermill": {
     "duration": 0.03553,
     "end_time": "2021-10-04T01:07:49.932476",
     "exception": false,
     "start_time": "2021-10-04T01:07:49.896946",
     "status": "completed"
    },
    "tags": []
   },
   "outputs": [],
   "source": [
    "#print(\"Final F1     :\", custom_f1(y, y_stacked))\n",
    "#print(\"Final AUC    :\", roc_auc_score(y, y_stacked))\n",
    "#print(\"Final LogLoss:\", log_loss(y, y_stacked))"
   ]
  },
  {
   "cell_type": "code",
   "execution_count": 31,
   "metadata": {
    "execution": {
     "iopub.execute_input": "2021-10-04T01:07:49.993918Z",
     "iopub.status.busy": "2021-10-04T01:07:49.993269Z",
     "iopub.status.idle": "2021-10-04T01:07:51.374959Z",
     "shell.execute_reply": "2021-10-04T01:07:51.374286Z"
    },
    "papermill": {
     "duration": 1.413054,
     "end_time": "2021-10-04T01:07:51.375131",
     "exception": false,
     "start_time": "2021-10-04T01:07:49.962077",
     "status": "completed"
    },
    "tags": []
   },
   "outputs": [],
   "source": [
    "ens = to_ens.apply(lambda x:vote(x, to_ens.columns.tolist()),axis=1)\n",
    "\n",
    "oof_class = oof_class.apply(lambda x:vote(x, oof_class.columns.tolist()),axis=1)"
   ]
  },
  {
   "cell_type": "code",
   "execution_count": 32,
   "metadata": {
    "execution": {
     "iopub.execute_input": "2021-10-04T01:07:51.438510Z",
     "iopub.status.busy": "2021-10-04T01:07:51.437813Z",
     "iopub.status.idle": "2021-10-04T01:07:51.509965Z",
     "shell.execute_reply": "2021-10-04T01:07:51.509283Z",
     "shell.execute_reply.started": "2021-09-28T01:03:46.323751Z"
    },
    "papermill": {
     "duration": 0.106482,
     "end_time": "2021-10-04T01:07:51.510147",
     "exception": false,
     "start_time": "2021-10-04T01:07:51.403665",
     "status": "completed"
    },
    "tags": []
   },
   "outputs": [],
   "source": [
    "# Get predictions\n",
    "sample_submission['predicted'] = ens.astype('int64')\n",
    "sample_submission.to_csv('stck2_sub.csv',index=False)\n",
    "\n",
    "pd.DataFrame({'id':train.id, 'stck2_oof':oof_class}).to_csv('stck2_oof.csv',index=False)"
   ]
  },
  {
   "cell_type": "code",
   "execution_count": null,
   "metadata": {
    "execution": {
     "iopub.execute_input": "2021-09-28T01:03:46.335558Z",
     "iopub.status.busy": "2021-09-28T01:03:46.335068Z",
     "iopub.status.idle": "2021-09-28T01:03:46.919255Z",
     "shell.execute_reply": "2021-09-28T01:03:46.918228Z",
     "shell.execute_reply.started": "2021-09-28T01:03:46.33551Z"
    },
    "papermill": {
     "duration": 0.027688,
     "end_time": "2021-10-04T01:07:51.568231",
     "exception": false,
     "start_time": "2021-10-04T01:07:51.540543",
     "status": "completed"
    },
    "tags": []
   },
   "outputs": [],
   "source": []
  },
  {
   "cell_type": "code",
   "execution_count": 33,
   "metadata": {
    "execution": {
     "iopub.execute_input": "2021-10-04T01:07:51.628319Z",
     "iopub.status.busy": "2021-10-04T01:07:51.627687Z",
     "iopub.status.idle": "2021-10-04T01:07:51.630731Z",
     "shell.execute_reply": "2021-10-04T01:07:51.631187Z",
     "shell.execute_reply.started": "2021-09-28T01:03:46.920701Z"
    },
    "papermill": {
     "duration": 0.035172,
     "end_time": "2021-10-04T01:07:51.631395",
     "exception": false,
     "start_time": "2021-10-04T01:07:51.596223",
     "status": "completed"
    },
    "tags": []
   },
   "outputs": [],
   "source": [
    "#sample_submission['predicted'] = np.where(y_pred>final_threshold, 1, 0).astype('int64')\n"
   ]
  }
 ],
 "metadata": {
  "kernelspec": {
   "display_name": "Python 3",
   "language": "python",
   "name": "python3"
  },
  "language_info": {
   "codemirror_mode": {
    "name": "ipython",
    "version": 3
   },
   "file_extension": ".py",
   "mimetype": "text/x-python",
   "name": "python",
   "nbconvert_exporter": "python",
   "pygments_lexer": "ipython3",
   "version": "3.8.5"
  },
  "papermill": {
   "default_parameters": {},
   "duration": 32.879153,
   "end_time": "2021-10-04T01:07:53.312262",
   "environment_variables": {},
   "exception": null,
   "input_path": "__notebook__.ipynb",
   "output_path": "__notebook__.ipynb",
   "parameters": {},
   "start_time": "2021-10-04T01:07:20.433109",
   "version": "2.3.3"
  }
 },
 "nbformat": 4,
 "nbformat_minor": 5
}
